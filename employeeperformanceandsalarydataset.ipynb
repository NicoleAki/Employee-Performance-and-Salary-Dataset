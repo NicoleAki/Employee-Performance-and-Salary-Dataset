{
 "cells": [
  {
   "cell_type": "code",
   "execution_count": 1,
   "id": "3239cf9a",
   "metadata": {
    "_cell_guid": "b1076dfc-b9ad-4769-8c92-a6c4dae69d19",
    "_uuid": "8f2839f25d086af736a60e9eeb907d3b93b6e0e5",
    "execution": {
     "iopub.execute_input": "2024-12-11T07:39:39.691358Z",
     "iopub.status.busy": "2024-12-11T07:39:39.690843Z",
     "iopub.status.idle": "2024-12-11T07:39:40.648823Z",
     "shell.execute_reply": "2024-12-11T07:39:40.647666Z"
    },
    "papermill": {
     "duration": 0.966356,
     "end_time": "2024-12-11T07:39:40.651218",
     "exception": false,
     "start_time": "2024-12-11T07:39:39.684862",
     "status": "completed"
    },
    "tags": []
   },
   "outputs": [
    {
     "name": "stdout",
     "output_type": "stream",
     "text": [
      "/kaggle/input/employee-performance-and-salary-dataset/50_Tasks_to_perform_on_dataset.pdf\n",
      "/kaggle/input/employee-performance-and-salary-dataset/Employe_Performance_dataset.csv\n"
     ]
    }
   ],
   "source": [
    "# This Python 3 environment comes with many helpful analytics libraries installed\n",
    "# It is defined by the kaggle/python Docker image: https://github.com/kaggle/docker-python\n",
    "# For example, here's several helpful packages to load\n",
    "\n",
    "import numpy as np # linear algebra\n",
    "import pandas as pd # data processing, CSV file I/O (e.g. pd.read_csv)\n",
    "\n",
    "# Input data files are available in the read-only \"../input/\" directory\n",
    "# For example, running this (by clicking run or pressing Shift+Enter) will list all files under the input directory\n",
    "\n",
    "import os\n",
    "for dirname, _, filenames in os.walk('/kaggle/input'):\n",
    "    for filename in filenames:\n",
    "        print(os.path.join(dirname, filename))\n",
    "\n",
    "# You can write up to 20GB to the current directory (/kaggle/working/) that gets preserved as output when you create a version using \"Save & Run All\" \n",
    "# You can also write temporary files to /kaggle/temp/, but they won't be saved outside of the current session"
   ]
  },
  {
   "cell_type": "code",
   "execution_count": 2,
   "id": "14215417",
   "metadata": {
    "execution": {
     "iopub.execute_input": "2024-12-11T07:39:40.659802Z",
     "iopub.status.busy": "2024-12-11T07:39:40.659290Z",
     "iopub.status.idle": "2024-12-11T07:39:40.695072Z",
     "shell.execute_reply": "2024-12-11T07:39:40.693791Z"
    },
    "papermill": {
     "duration": 0.042859,
     "end_time": "2024-12-11T07:39:40.697740",
     "exception": false,
     "start_time": "2024-12-11T07:39:40.654881",
     "status": "completed"
    },
    "tags": []
   },
   "outputs": [
    {
     "name": "stdout",
     "output_type": "stream",
     "text": [
      "   ID                Name  Age  Gender Department  Salary Joining Date  \\\n",
      "0   1        Cory Escobar   48  Female         HR    5641   2015-05-03   \n",
      "1   2     Timothy Sanchez   25   Other      Sales    4249   2020-11-09   \n",
      "2   3        Chad Nichols   57   Other      Sales    3058   2019-02-12   \n",
      "3   4  Christine Williams   58  Female         IT    5895   2017-09-08   \n",
      "4   5        Amber Harris   35   Other         IT    4317   2020-02-15   \n",
      "5   6         Ashley Howe   29  Female         HR    2591   2016-06-24   \n",
      "6   7         David Olson   39  Female      Sales    6826   2023-05-11   \n",
      "7   8        Amanda Baker   52   Other         HR    6285   2015-04-01   \n",
      "8   9       Jeremy Wright   63  Female      Sales    9862   2024-02-07   \n",
      "9  10      Brian Faulkner   30    Male         IT    8202   2018-05-26   \n",
      "\n",
      "   Performance Score  Experience    Status     Location  Session  \n",
      "0                2.0          16    Active     New York    Night  \n",
      "1                2.0          11  Inactive  Los Angeles  Evening  \n",
      "2                NaN           1  Inactive     New York  Morning  \n",
      "3                2.0          13  Inactive  Los Angeles  Evening  \n",
      "4                5.0          16  Inactive     New York  Evening  \n",
      "5                1.0           6    Active      Chicago  Evening  \n",
      "6                NaN           4    Active     New York    Night  \n",
      "7                NaN           8  Inactive      Chicago  Evening  \n",
      "8                NaN           3  Inactive     New York    Night  \n",
      "9                1.0           9    Active  Los Angeles  Morning  \n"
     ]
    }
   ],
   "source": [
    "#Load the dataset into a Pandas DataFrame and display the first 10 rows.\n",
    "df = pd.read_csv('/kaggle/input/employee-performance-and-salary-dataset/Employe_Performance_dataset.csv') \n",
    "print(df.head(10))"
   ]
  },
  {
   "cell_type": "code",
   "execution_count": 3,
   "id": "eb377eac",
   "metadata": {
    "execution": {
     "iopub.execute_input": "2024-12-11T07:39:40.707122Z",
     "iopub.status.busy": "2024-12-11T07:39:40.706399Z",
     "iopub.status.idle": "2024-12-11T07:39:40.713114Z",
     "shell.execute_reply": "2024-12-11T07:39:40.712000Z"
    },
    "papermill": {
     "duration": 0.013625,
     "end_time": "2024-12-11T07:39:40.715061",
     "exception": false,
     "start_time": "2024-12-11T07:39:40.701436",
     "status": "completed"
    },
    "tags": []
   },
   "outputs": [
    {
     "name": "stdout",
     "output_type": "stream",
     "text": [
      "ID                     int64\n",
      "Name                  object\n",
      "Age                    int64\n",
      "Gender                object\n",
      "Department            object\n",
      "Salary                 int64\n",
      "Joining Date          object\n",
      "Performance Score    float64\n",
      "Experience             int64\n",
      "Status                object\n",
      "Location              object\n",
      "Session               object\n",
      "dtype: object\n"
     ]
    }
   ],
   "source": [
    "#What are the column names and their respective data types in the dataset?\n",
    "print(df.dtypes)"
   ]
  },
  {
   "cell_type": "code",
   "execution_count": 4,
   "id": "937a8b72",
   "metadata": {
    "execution": {
     "iopub.execute_input": "2024-12-11T07:39:40.723552Z",
     "iopub.status.busy": "2024-12-11T07:39:40.723218Z",
     "iopub.status.idle": "2024-12-11T07:39:40.728426Z",
     "shell.execute_reply": "2024-12-11T07:39:40.727500Z"
    },
    "papermill": {
     "duration": 0.011775,
     "end_time": "2024-12-11T07:39:40.730429",
     "exception": false,
     "start_time": "2024-12-11T07:39:40.718654",
     "status": "completed"
    },
    "tags": []
   },
   "outputs": [
    {
     "name": "stdout",
     "output_type": "stream",
     "text": [
      "The dataset has 1000 rows and 12 columns.\n"
     ]
    }
   ],
   "source": [
    "# How many rows and columns are there in the dataset?\n",
    "rows, columns = df.shape\n",
    "print(f\"The dataset has {rows} rows and {columns} columns.\")"
   ]
  },
  {
   "cell_type": "code",
   "execution_count": 5,
   "id": "e6b4e140",
   "metadata": {
    "execution": {
     "iopub.execute_input": "2024-12-11T07:39:40.739065Z",
     "iopub.status.busy": "2024-12-11T07:39:40.738699Z",
     "iopub.status.idle": "2024-12-11T07:39:40.755906Z",
     "shell.execute_reply": "2024-12-11T07:39:40.754868Z"
    },
    "papermill": {
     "duration": 0.024131,
     "end_time": "2024-12-11T07:39:40.758161",
     "exception": false,
     "start_time": "2024-12-11T07:39:40.734030",
     "status": "completed"
    },
    "tags": []
   },
   "outputs": [
    {
     "name": "stdout",
     "output_type": "stream",
     "text": [
      "                   Name  Age  Salary\n",
      "0          Cory Escobar   48    5641\n",
      "1       Timothy Sanchez   25    4249\n",
      "2          Chad Nichols   57    3058\n",
      "3    Christine Williams   58    5895\n",
      "4          Amber Harris   35    4317\n",
      "..                  ...  ...     ...\n",
      "995       Pamela Reeves   49    7652\n",
      "996        Todd Johnson   29    6754\n",
      "997     Michael Sanchez   18    5278\n",
      "998       Ashley Taylor   51    5437\n",
      "999         Shawn Scott   45    7364\n",
      "\n",
      "[1000 rows x 3 columns]\n"
     ]
    }
   ],
   "source": [
    "#Select the Name, Age, and Salary columns using df[]. \n",
    "selected_columns = df[['Name', 'Age', 'Salary']]\n",
    "print(selected_columns)"
   ]
  },
  {
   "cell_type": "code",
   "execution_count": 6,
   "id": "57b5fcf7",
   "metadata": {
    "execution": {
     "iopub.execute_input": "2024-12-11T07:39:40.766935Z",
     "iopub.status.busy": "2024-12-11T07:39:40.766542Z",
     "iopub.status.idle": "2024-12-11T07:39:40.775750Z",
     "shell.execute_reply": "2024-12-11T07:39:40.774784Z"
    },
    "papermill": {
     "duration": 0.015991,
     "end_time": "2024-12-11T07:39:40.777889",
     "exception": false,
     "start_time": "2024-12-11T07:39:40.761898",
     "status": "completed"
    },
    "tags": []
   },
   "outputs": [
    {
     "name": "stdout",
     "output_type": "stream",
     "text": [
      "   ID                Name  Age  Gender Department  Salary Joining Date  \\\n",
      "0   1        Cory Escobar   48  Female         HR    5641   2015-05-03   \n",
      "1   2     Timothy Sanchez   25   Other      Sales    4249   2020-11-09   \n",
      "2   3        Chad Nichols   57   Other      Sales    3058   2019-02-12   \n",
      "3   4  Christine Williams   58  Female         IT    5895   2017-09-08   \n",
      "4   5        Amber Harris   35   Other         IT    4317   2020-02-15   \n",
      "\n",
      "   Performance Score  Experience    Status     Location  Session  \n",
      "0                2.0          16    Active     New York    Night  \n",
      "1                2.0          11  Inactive  Los Angeles  Evening  \n",
      "2                NaN           1  Inactive     New York  Morning  \n",
      "3                2.0          13  Inactive  Los Angeles  Evening  \n",
      "4                5.0          16  Inactive     New York  Evening  \n"
     ]
    }
   ],
   "source": [
    "# Select the first 5 rows of the DataFrame using the iloc method.\n",
    "#one can use the loc method as well that includes a range or the .head() or slicing.\n",
    "first_five_rows = df.iloc[:5]\n",
    "print(first_five_rows)"
   ]
  },
  {
   "cell_type": "code",
   "execution_count": 7,
   "id": "8ef3e065",
   "metadata": {
    "execution": {
     "iopub.execute_input": "2024-12-11T07:39:40.787341Z",
     "iopub.status.busy": "2024-12-11T07:39:40.786452Z",
     "iopub.status.idle": "2024-12-11T07:39:40.798735Z",
     "shell.execute_reply": "2024-12-11T07:39:40.797615Z"
    },
    "papermill": {
     "duration": 0.019123,
     "end_time": "2024-12-11T07:39:40.800816",
     "exception": false,
     "start_time": "2024-12-11T07:39:40.781693",
     "status": "completed"
    },
    "tags": []
   },
   "outputs": [
    {
     "name": "stdout",
     "output_type": "stream",
     "text": [
      "      ID             Name  Age  Gender Department  Salary Joining Date  \\\n",
      "1      2  Timothy Sanchez   25   Other      Sales    4249   2020-11-09   \n",
      "2      3     Chad Nichols   57   Other      Sales    3058   2019-02-12   \n",
      "6      7      David Olson   39  Female      Sales    6826   2023-05-11   \n",
      "8      9    Jeremy Wright   63  Female      Sales    9862   2024-02-07   \n",
      "10    11      Nicole Bell   42  Female      Sales    5336   2015-01-28   \n",
      "..   ...              ...  ...     ...        ...     ...          ...   \n",
      "991  992  William Schultz   23   Other      Sales    4311   2019-08-17   \n",
      "992  993   Ashley Daniels   25   Other      Sales    5524   2022-11-24   \n",
      "995  996    Pamela Reeves   49  Female      Sales    7652   2024-06-23   \n",
      "996  997     Todd Johnson   29  Female      Sales    6754   2018-07-20   \n",
      "997  998  Michael Sanchez   18    Male      Sales    5278   2023-07-05   \n",
      "\n",
      "     Performance Score  Experience    Status     Location  Session  \n",
      "1                  2.0          11  Inactive  Los Angeles  Evening  \n",
      "2                  NaN           1  Inactive     New York  Morning  \n",
      "6                  NaN           4    Active     New York    Night  \n",
      "8                  NaN           3  Inactive     New York    Night  \n",
      "10                 3.0           7    Active  Los Angeles  Evening  \n",
      "..                 ...         ...       ...          ...      ...  \n",
      "991                NaN          10  Inactive  Los Angeles  Evening  \n",
      "992                NaN           8  Inactive     New York  Morning  \n",
      "995                4.0           3    Active  Los Angeles  Evening  \n",
      "996                NaN          12  Inactive     New York  Morning  \n",
      "997                5.0           3    Active     New York  Morning  \n",
      "\n",
      "[338 rows x 12 columns]\n"
     ]
    }
   ],
   "source": [
    "# Select all rows where the Department is \"Sales\" using the loc method. \n",
    "#otherwise you can use Boolean Masking or query method.\n",
    "sales_department = df.loc[df['Department'] == \"Sales\"]\n",
    "print(sales_department)"
   ]
  },
  {
   "cell_type": "code",
   "execution_count": 8,
   "id": "9cb3e309",
   "metadata": {
    "execution": {
     "iopub.execute_input": "2024-12-11T07:39:40.811403Z",
     "iopub.status.busy": "2024-12-11T07:39:40.810523Z",
     "iopub.status.idle": "2024-12-11T07:39:40.822003Z",
     "shell.execute_reply": "2024-12-11T07:39:40.820916Z"
    },
    "papermill": {
     "duration": 0.018544,
     "end_time": "2024-12-11T07:39:40.824277",
     "exception": false,
     "start_time": "2024-12-11T07:39:40.805733",
     "status": "completed"
    },
    "tags": []
   },
   "outputs": [
    {
     "name": "stdout",
     "output_type": "stream",
     "text": [
      "      ID             Name  Age  Gender Department  Salary Joining Date  \\\n",
      "9     10   Brian Faulkner   30    Male         IT    8202   2018-05-26   \n",
      "24    25    Tracy Carlson   21    Male         HR    9275   2022-04-09   \n",
      "38    39     Jordan Scott   33   Other      Sales    8678   2016-05-15   \n",
      "39    40      Lisa Wagner   36    Male         HR    8870   2024-08-12   \n",
      "60    61   Andrew Shannon   51   Other      Sales    8544   2020-02-08   \n",
      "..   ...              ...  ...     ...        ...     ...          ...   \n",
      "976  977    Kimberly Ross   19    Male      Sales    9331   2018-07-03   \n",
      "982  983    Stephen Ponce   46   Other      Sales    8696   2022-10-14   \n",
      "986  987  Melissa Bradley   39  Female         IT    9618   2015-07-05   \n",
      "988  989   Hannah Hickman   36  Female         IT    9118   2022-07-02   \n",
      "989  990    Shannon Meyer   18   Other         HR    9985   2022-11-05   \n",
      "\n",
      "     Performance Score  Experience  Status     Location  Session  \n",
      "9                  1.0           9  Active  Los Angeles  Morning  \n",
      "24                 4.0          12  Active     New York  Morning  \n",
      "38                 5.0           9  Active  Los Angeles  Evening  \n",
      "39                 4.0          17  Active  Los Angeles  Evening  \n",
      "60                 NaN           6  Active     New York  Evening  \n",
      "..                 ...         ...     ...          ...      ...  \n",
      "976                5.0          12  Active     New York  Morning  \n",
      "982                4.0           1  Active     New York  Evening  \n",
      "986                1.0          13  Active     New York  Morning  \n",
      "988                5.0           5  Active     New York    Night  \n",
      "989                4.0          18  Active      Chicago    Night  \n",
      "\n",
      "[112 rows x 12 columns]\n"
     ]
    }
   ],
   "source": [
    "#Select rows where the Salary is greater than 8000 and Status is \"Active\".\n",
    "\n",
    "filtered_rows = df.loc[(df['Salary'] > 8000) & (df['Status'] == \"Active\")]\n",
    "print(filtered_rows)"
   ]
  },
  {
   "cell_type": "code",
   "execution_count": 9,
   "id": "b0e48395",
   "metadata": {
    "execution": {
     "iopub.execute_input": "2024-12-11T07:39:40.833516Z",
     "iopub.status.busy": "2024-12-11T07:39:40.833185Z",
     "iopub.status.idle": "2024-12-11T07:39:40.845171Z",
     "shell.execute_reply": "2024-12-11T07:39:40.844134Z"
    },
    "papermill": {
     "duration": 0.019081,
     "end_time": "2024-12-11T07:39:40.847279",
     "exception": false,
     "start_time": "2024-12-11T07:39:40.828198",
     "status": "completed"
    },
    "tags": []
   },
   "outputs": [
    {
     "name": "stdout",
     "output_type": "stream",
     "text": [
      "      ID                Name  Age  Gender Department  Salary Joining Date  \\\n",
      "4      5        Amber Harris   35   Other         IT    4317   2020-02-15   \n",
      "11    12   Rodney Richardson   60   Other         HR    6908   2015-03-14   \n",
      "17    18  Jacqueline Randall   31  Female         HR    3519   2018-05-18   \n",
      "18    19      Nancy Stephens   38    Male         HR    9061   2017-07-16   \n",
      "24    25       Tracy Carlson   21    Male         HR    9275   2022-04-09   \n",
      "..   ...                 ...  ...     ...        ...     ...          ...   \n",
      "978  979         Michael Lee   18  Female         IT    6086   2019-05-30   \n",
      "989  990       Shannon Meyer   18   Other         HR    9985   2022-11-05   \n",
      "990  991        Amy Johnston   53  Female         HR    3991   2024-09-03   \n",
      "993  994       Brandon Bruce   31  Female         HR    3371   2018-09-25   \n",
      "998  999       Ashley Taylor   51  Female         IT    5437   2022-02-18   \n",
      "\n",
      "     Performance Score  Experience    Status     Location  Session  \n",
      "4                  5.0          16  Inactive     New York  Evening  \n",
      "11                 4.0          19    Active      Chicago    Night  \n",
      "17                 4.0           6    Active     New York  Morning  \n",
      "18                 5.0          16  Inactive      Chicago    Night  \n",
      "24                 4.0          12    Active     New York  Morning  \n",
      "..                 ...         ...       ...          ...      ...  \n",
      "978                4.0           7  Inactive  Los Angeles  Evening  \n",
      "989                4.0          18    Active      Chicago    Night  \n",
      "990                4.0           8    Active      Chicago  Morning  \n",
      "993                5.0          12  Inactive      Chicago    Night  \n",
      "998                4.0           9  Inactive  Los Angeles  Evening  \n",
      "\n",
      "[137 rows x 12 columns]\n"
     ]
    }
   ],
   "source": [
    "#Extract the rows where the employee has been with the company for more than 5 years and has a \n",
    "#Performance Score of at least 4.\n",
    "#if all employees started their experience journey at the company.\n",
    "filter_rows=df.loc[(df['Experience']>5) &(df['Performance Score']>=4.0)]\n",
    "print(filter_rows)"
   ]
  },
  {
   "cell_type": "code",
   "execution_count": 10,
   "id": "64257a9d",
   "metadata": {
    "execution": {
     "iopub.execute_input": "2024-12-11T07:39:40.857213Z",
     "iopub.status.busy": "2024-12-11T07:39:40.856324Z",
     "iopub.status.idle": "2024-12-11T07:39:40.876204Z",
     "shell.execute_reply": "2024-12-11T07:39:40.874991Z"
    },
    "papermill": {
     "duration": 0.02712,
     "end_time": "2024-12-11T07:39:40.878376",
     "exception": false,
     "start_time": "2024-12-11T07:39:40.851256",
     "status": "completed"
    },
    "tags": []
   },
   "outputs": [
    {
     "name": "stdout",
     "output_type": "stream",
     "text": [
      "      ID                Name  Age  Gender Department  Salary Joining Date  \\\n",
      "11    12   Rodney Richardson   60   Other         HR    6908   2015-03-14   \n",
      "17    18  Jacqueline Randall   31  Female         HR    3519   2018-05-18   \n",
      "18    19      Nancy Stephens   38    Male         HR    9061   2017-07-16   \n",
      "22    23        Bryce Carter   35  Female      Sales    9598   2015-12-16   \n",
      "34    35            Lisa Fry   51  Female         IT    9259   2017-09-26   \n",
      "..   ...                 ...  ...     ...        ...     ...          ...   \n",
      "918  919     Tammy Schneider   22   Other         IT    3625   2016-10-24   \n",
      "937  938       Gary Mitchell   52  Female      Sales    9963   2016-09-22   \n",
      "972  973       James Mendoza   23   Other      Sales    6871   2016-04-11   \n",
      "976  977       Kimberly Ross   19    Male      Sales    9331   2018-07-03   \n",
      "993  994       Brandon Bruce   31  Female         HR    3371   2018-09-25   \n",
      "\n",
      "     Performance Score  Experience    Status     Location  Session  \\\n",
      "11                 4.0          19    Active      Chicago    Night   \n",
      "17                 4.0           6    Active     New York  Morning   \n",
      "18                 5.0          16  Inactive      Chicago    Night   \n",
      "22                 4.0           4  Inactive     New York    Night   \n",
      "34                 4.0          17  Inactive  Los Angeles    Night   \n",
      "..                 ...         ...       ...          ...      ...   \n",
      "918                4.0          14    Active      Chicago  Morning   \n",
      "937                5.0          20  Inactive  Los Angeles  Morning   \n",
      "972                4.0          15  Inactive     New York  Morning   \n",
      "976                5.0          12    Active     New York  Morning   \n",
      "993                5.0          12  Inactive      Chicago    Night   \n",
      "\n",
      "     Years With Company  \n",
      "11                    9  \n",
      "17                    6  \n",
      "18                    7  \n",
      "22                    8  \n",
      "34                    7  \n",
      "..                  ...  \n",
      "918                   8  \n",
      "937                   8  \n",
      "972                   8  \n",
      "976                   6  \n",
      "993                   6  \n",
      "\n",
      "[69 rows x 13 columns]\n"
     ]
    }
   ],
   "source": [
    "#Calculate years of being with the company from the joining date till present.\n",
    "df['Joining Date'] = pd.to_datetime(df['Joining Date'])\n",
    "\n",
    "current_date = pd.Timestamp.now()\n",
    "df['Years With Company'] = (current_date - df['Joining Date']).dt.days // 365\n",
    "\n",
    "filtered_rows = df.loc[(df['Years With Company'] > 5) & (df['Performance Score'] >= 4)]\n",
    "\n",
    "print(filtered_rows)"
   ]
  },
  {
   "cell_type": "code",
   "execution_count": 11,
   "id": "3db735cc",
   "metadata": {
    "execution": {
     "iopub.execute_input": "2024-12-11T07:39:40.888129Z",
     "iopub.status.busy": "2024-12-11T07:39:40.887725Z",
     "iopub.status.idle": "2024-12-11T07:39:40.898902Z",
     "shell.execute_reply": "2024-12-11T07:39:40.897833Z"
    },
    "papermill": {
     "duration": 0.018666,
     "end_time": "2024-12-11T07:39:40.901200",
     "exception": false,
     "start_time": "2024-12-11T07:39:40.882534",
     "status": "completed"
    },
    "tags": []
   },
   "outputs": [
    {
     "name": "stdout",
     "output_type": "stream",
     "text": [
      "      ID             Name  Age  Gender Department  Salary Joining Date  \\\n",
      "0      1     Cory Escobar   48  Female         HR    5641   2015-05-03   \n",
      "2      3     Chad Nichols   57   Other      Sales    3058   2019-02-12   \n",
      "4      5     Amber Harris   35   Other         IT    4317   2020-02-15   \n",
      "6      7      David Olson   39  Female      Sales    6826   2023-05-11   \n",
      "8      9    Jeremy Wright   63  Female      Sales    9862   2024-02-07   \n",
      "..   ...              ...  ...     ...        ...     ...          ...   \n",
      "990  991     Amy Johnston   53  Female         HR    3991   2024-09-03   \n",
      "992  993   Ashley Daniels   25   Other      Sales    5524   2022-11-24   \n",
      "994  995  Rachel Phillips   22    Male         IT    3096   2018-10-27   \n",
      "996  997     Todd Johnson   29  Female      Sales    6754   2018-07-20   \n",
      "998  999    Ashley Taylor   51  Female         IT    5437   2022-02-18   \n",
      "\n",
      "     Performance Score  Experience    Status     Location  Session  \\\n",
      "0                  2.0          16    Active     New York    Night   \n",
      "2                  NaN           1  Inactive     New York  Morning   \n",
      "4                  5.0          16  Inactive     New York  Evening   \n",
      "6                  NaN           4    Active     New York    Night   \n",
      "8                  NaN           3  Inactive     New York    Night   \n",
      "..                 ...         ...       ...          ...      ...   \n",
      "990                4.0           8    Active      Chicago  Morning   \n",
      "992                NaN           8  Inactive     New York  Morning   \n",
      "994                2.0           7  Inactive      Chicago  Evening   \n",
      "996                NaN          12  Inactive     New York  Morning   \n",
      "998                4.0           9  Inactive  Los Angeles  Evening   \n",
      "\n",
      "     Years With Company  \n",
      "0                     9  \n",
      "2                     5  \n",
      "4                     4  \n",
      "6                     1  \n",
      "8                     0  \n",
      "..                  ...  \n",
      "990                   0  \n",
      "992                   2  \n",
      "994                   6  \n",
      "996                   6  \n",
      "998                   2  \n",
      "\n",
      "[500 rows x 13 columns]\n"
     ]
    }
   ],
   "source": [
    "# Select every alternate row from the DataFrame using slicing with iloc. \n",
    "#starting from index 0, the sellecting every second row.\n",
    "alternate=df.iloc[::2]\n",
    "print(alternate)"
   ]
  },
  {
   "cell_type": "code",
   "execution_count": 12,
   "id": "374c892e",
   "metadata": {
    "execution": {
     "iopub.execute_input": "2024-12-11T07:39:40.911686Z",
     "iopub.status.busy": "2024-12-11T07:39:40.911292Z",
     "iopub.status.idle": "2024-12-11T07:39:40.922402Z",
     "shell.execute_reply": "2024-12-11T07:39:40.921413Z"
    },
    "papermill": {
     "duration": 0.019104,
     "end_time": "2024-12-11T07:39:40.924584",
     "exception": false,
     "start_time": "2024-12-11T07:39:40.905480",
     "status": "completed"
    },
    "tags": []
   },
   "outputs": [
    {
     "name": "stdout",
     "output_type": "stream",
     "text": [
      "       ID                Name  Age  Gender Department  Salary Joining Date  \\\n",
      "1       2     Timothy Sanchez   25   Other      Sales    4249   2020-11-09   \n",
      "3       4  Christine Williams   58  Female         IT    5895   2017-09-08   \n",
      "5       6         Ashley Howe   29  Female         HR    2591   2016-06-24   \n",
      "7       8        Amanda Baker   52   Other         HR    6285   2015-04-01   \n",
      "9      10      Brian Faulkner   30    Male         IT    8202   2018-05-26   \n",
      "..    ...                 ...  ...     ...        ...     ...          ...   \n",
      "991   992     William Schultz   23   Other      Sales    4311   2019-08-17   \n",
      "993   994       Brandon Bruce   31  Female         HR    3371   2018-09-25   \n",
      "995   996       Pamela Reeves   49  Female      Sales    7652   2024-06-23   \n",
      "997   998     Michael Sanchez   18    Male      Sales    5278   2023-07-05   \n",
      "999  1000         Shawn Scott   45    Male         IT    7364   2022-07-31   \n",
      "\n",
      "     Performance Score  Experience    Status     Location  Session  \\\n",
      "1                  2.0          11  Inactive  Los Angeles  Evening   \n",
      "3                  2.0          13  Inactive  Los Angeles  Evening   \n",
      "5                  1.0           6    Active      Chicago  Evening   \n",
      "7                  NaN           8  Inactive      Chicago  Evening   \n",
      "9                  1.0           9    Active  Los Angeles  Morning   \n",
      "..                 ...         ...       ...          ...      ...   \n",
      "991                NaN          10  Inactive  Los Angeles  Evening   \n",
      "993                5.0          12  Inactive      Chicago    Night   \n",
      "995                4.0           3    Active  Los Angeles  Evening   \n",
      "997                5.0           3    Active     New York  Morning   \n",
      "999                2.0           4    Active     New York  Morning   \n",
      "\n",
      "     Years With Company  \n",
      "1                     4  \n",
      "3                     7  \n",
      "5                     8  \n",
      "7                     9  \n",
      "9                     6  \n",
      "..                  ...  \n",
      "991                   5  \n",
      "993                   6  \n",
      "995                   0  \n",
      "997                   1  \n",
      "999                   2  \n",
      "\n",
      "[500 rows x 13 columns]\n"
     ]
    }
   ],
   "source": [
    "# Select every alternate row from the DataFrame using slicing with iloc. # Select every alternate row from the DataFrame using slicing with iloc. \n",
    "#starting from index 1 instead of index 0.\n",
    "#can also be implemented for a specific range of alternates using df.iloc[1:99:2] (from index 1 to 99)\n",
    "alternate_rows_from_second = df.iloc[1::2]\n",
    "print(alternate_rows_from_second)"
   ]
  },
  {
   "cell_type": "code",
   "execution_count": null,
   "id": "26b14bba",
   "metadata": {
    "papermill": {
     "duration": 0.004112,
     "end_time": "2024-12-11T07:39:40.933256",
     "exception": false,
     "start_time": "2024-12-11T07:39:40.929144",
     "status": "completed"
    },
    "tags": []
   },
   "outputs": [],
   "source": []
  }
 ],
 "metadata": {
  "kaggle": {
   "accelerator": "none",
   "dataSources": [
    {
     "datasetId": 6273583,
     "sourceId": 10160144,
     "sourceType": "datasetVersion"
    }
   ],
   "dockerImageVersionId": 30804,
   "isGpuEnabled": false,
   "isInternetEnabled": false,
   "language": "python",
   "sourceType": "notebook"
  },
  "kernelspec": {
   "display_name": "Python 3",
   "language": "python",
   "name": "python3"
  },
  "language_info": {
   "codemirror_mode": {
    "name": "ipython",
    "version": 3
   },
   "file_extension": ".py",
   "mimetype": "text/x-python",
   "name": "python",
   "nbconvert_exporter": "python",
   "pygments_lexer": "ipython3",
   "version": "3.10.14"
  },
  "papermill": {
   "default_parameters": {},
   "duration": 4.537988,
   "end_time": "2024-12-11T07:39:41.457851",
   "environment_variables": {},
   "exception": null,
   "input_path": "__notebook__.ipynb",
   "output_path": "__notebook__.ipynb",
   "parameters": {},
   "start_time": "2024-12-11T07:39:36.919863",
   "version": "2.6.0"
  }
 },
 "nbformat": 4,
 "nbformat_minor": 5
}
