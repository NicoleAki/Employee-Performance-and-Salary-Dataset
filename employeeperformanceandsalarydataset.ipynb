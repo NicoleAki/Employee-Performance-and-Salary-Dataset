{
 "cells": [
  {
   "cell_type": "code",
   "execution_count": 1,
   "id": "7559f7ee",
   "metadata": {
    "_cell_guid": "b1076dfc-b9ad-4769-8c92-a6c4dae69d19",
    "_uuid": "8f2839f25d086af736a60e9eeb907d3b93b6e0e5",
    "execution": {
     "iopub.execute_input": "2024-12-30T18:16:13.996397Z",
     "iopub.status.busy": "2024-12-30T18:16:13.995410Z",
     "iopub.status.idle": "2024-12-30T18:16:14.908304Z",
     "shell.execute_reply": "2024-12-30T18:16:14.907152Z"
    },
    "papermill": {
     "duration": 0.927028,
     "end_time": "2024-12-30T18:16:14.910469",
     "exception": false,
     "start_time": "2024-12-30T18:16:13.983441",
     "status": "completed"
    },
    "tags": []
   },
   "outputs": [
    {
     "name": "stdout",
     "output_type": "stream",
     "text": [
      "/kaggle/input/employee-performance-and-salary-dataset/50_Tasks_to_perform_on_dataset.pdf\n",
      "/kaggle/input/employee-performance-and-salary-dataset/Employe_Performance_dataset.csv\n"
     ]
    }
   ],
   "source": [
    "# This Python 3 environment comes with many helpful analytics libraries installed\n",
    "# It is defined by the kaggle/python Docker image: https://github.com/kaggle/docker-python\n",
    "# For example, here's several helpful packages to load\n",
    "\n",
    "import numpy as np # linear algebra\n",
    "import pandas as pd # data processing, CSV file I/O (e.g. pd.read_csv)\n",
    "\n",
    "# Input data files are available in the read-only \"../input/\" directory\n",
    "# For example, running this (by clicking run or pressing Shift+Enter) will list all files under the input directory\n",
    "\n",
    "import os\n",
    "for dirname, _, filenames in os.walk('/kaggle/input'):\n",
    "    for filename in filenames:\n",
    "        print(os.path.join(dirname, filename))\n",
    "\n",
    "# You can write up to 20GB to the current directory (/kaggle/working/) that gets preserved as output when you create a version using \"Save & Run All\" \n",
    "# You can also write temporary files to /kaggle/temp/, but they won't be saved outside of the current session"
   ]
  },
  {
   "cell_type": "code",
   "execution_count": 2,
   "id": "19629d98",
   "metadata": {
    "execution": {
     "iopub.execute_input": "2024-12-30T18:16:14.932028Z",
     "iopub.status.busy": "2024-12-30T18:16:14.931507Z",
     "iopub.status.idle": "2024-12-30T18:16:14.965915Z",
     "shell.execute_reply": "2024-12-30T18:16:14.964855Z"
    },
    "papermill": {
     "duration": 0.047206,
     "end_time": "2024-12-30T18:16:14.968308",
     "exception": false,
     "start_time": "2024-12-30T18:16:14.921102",
     "status": "completed"
    },
    "tags": []
   },
   "outputs": [
    {
     "name": "stdout",
     "output_type": "stream",
     "text": [
      "   ID                Name  Age  Gender Department  Salary Joining Date  \\\n",
      "0   1        Cory Escobar   48  Female         HR    5641   2015-05-03   \n",
      "1   2     Timothy Sanchez   25   Other      Sales    4249   2020-11-09   \n",
      "2   3        Chad Nichols   57   Other      Sales    3058   2019-02-12   \n",
      "3   4  Christine Williams   58  Female         IT    5895   2017-09-08   \n",
      "4   5        Amber Harris   35   Other         IT    4317   2020-02-15   \n",
      "5   6         Ashley Howe   29  Female         HR    2591   2016-06-24   \n",
      "6   7         David Olson   39  Female      Sales    6826   2023-05-11   \n",
      "7   8        Amanda Baker   52   Other         HR    6285   2015-04-01   \n",
      "8   9       Jeremy Wright   63  Female      Sales    9862   2024-02-07   \n",
      "9  10      Brian Faulkner   30    Male         IT    8202   2018-05-26   \n",
      "\n",
      "   Performance Score  Experience    Status     Location  Session  \n",
      "0                2.0          16    Active     New York    Night  \n",
      "1                2.0          11  Inactive  Los Angeles  Evening  \n",
      "2                NaN           1  Inactive     New York  Morning  \n",
      "3                2.0          13  Inactive  Los Angeles  Evening  \n",
      "4                5.0          16  Inactive     New York  Evening  \n",
      "5                1.0           6    Active      Chicago  Evening  \n",
      "6                NaN           4    Active     New York    Night  \n",
      "7                NaN           8  Inactive      Chicago  Evening  \n",
      "8                NaN           3  Inactive     New York    Night  \n",
      "9                1.0           9    Active  Los Angeles  Morning  \n"
     ]
    }
   ],
   "source": [
    "#Load the dataset into a Pandas DataFrame and display the first 10 rows.\n",
    "df = pd.read_csv('/kaggle/input/employee-performance-and-salary-dataset/Employe_Performance_dataset.csv') \n",
    "print(df.head(10))"
   ]
  },
  {
   "cell_type": "code",
   "execution_count": 3,
   "id": "38a483e3",
   "metadata": {
    "execution": {
     "iopub.execute_input": "2024-12-30T18:16:14.988853Z",
     "iopub.status.busy": "2024-12-30T18:16:14.988471Z",
     "iopub.status.idle": "2024-12-30T18:16:14.994704Z",
     "shell.execute_reply": "2024-12-30T18:16:14.993750Z"
    },
    "papermill": {
     "duration": 0.019205,
     "end_time": "2024-12-30T18:16:14.996962",
     "exception": false,
     "start_time": "2024-12-30T18:16:14.977757",
     "status": "completed"
    },
    "tags": []
   },
   "outputs": [
    {
     "name": "stdout",
     "output_type": "stream",
     "text": [
      "ID                     int64\n",
      "Name                  object\n",
      "Age                    int64\n",
      "Gender                object\n",
      "Department            object\n",
      "Salary                 int64\n",
      "Joining Date          object\n",
      "Performance Score    float64\n",
      "Experience             int64\n",
      "Status                object\n",
      "Location              object\n",
      "Session               object\n",
      "dtype: object\n"
     ]
    }
   ],
   "source": [
    "#What are the column names and their respective data types in the dataset?\n",
    "print(df.dtypes)"
   ]
  },
  {
   "cell_type": "code",
   "execution_count": 4,
   "id": "1b005ad3",
   "metadata": {
    "execution": {
     "iopub.execute_input": "2024-12-30T18:16:15.017361Z",
     "iopub.status.busy": "2024-12-30T18:16:15.017019Z",
     "iopub.status.idle": "2024-12-30T18:16:15.022590Z",
     "shell.execute_reply": "2024-12-30T18:16:15.021488Z"
    },
    "papermill": {
     "duration": 0.01804,
     "end_time": "2024-12-30T18:16:15.024425",
     "exception": false,
     "start_time": "2024-12-30T18:16:15.006385",
     "status": "completed"
    },
    "tags": []
   },
   "outputs": [
    {
     "name": "stdout",
     "output_type": "stream",
     "text": [
      "The dataset has 1000 rows and 12 columns.\n"
     ]
    }
   ],
   "source": [
    "# How many rows and columns are there in the dataset?\n",
    "rows, columns = df.shape\n",
    "print(f\"The dataset has {rows} rows and {columns} columns.\")"
   ]
  },
  {
   "cell_type": "code",
   "execution_count": 5,
   "id": "8339dc42",
   "metadata": {
    "execution": {
     "iopub.execute_input": "2024-12-30T18:16:15.044708Z",
     "iopub.status.busy": "2024-12-30T18:16:15.044324Z",
     "iopub.status.idle": "2024-12-30T18:16:15.060584Z",
     "shell.execute_reply": "2024-12-30T18:16:15.059390Z"
    },
    "papermill": {
     "duration": 0.028717,
     "end_time": "2024-12-30T18:16:15.062542",
     "exception": false,
     "start_time": "2024-12-30T18:16:15.033825",
     "status": "completed"
    },
    "tags": []
   },
   "outputs": [
    {
     "name": "stdout",
     "output_type": "stream",
     "text": [
      "                   Name  Age  Salary\n",
      "0          Cory Escobar   48    5641\n",
      "1       Timothy Sanchez   25    4249\n",
      "2          Chad Nichols   57    3058\n",
      "3    Christine Williams   58    5895\n",
      "4          Amber Harris   35    4317\n",
      "..                  ...  ...     ...\n",
      "995       Pamela Reeves   49    7652\n",
      "996        Todd Johnson   29    6754\n",
      "997     Michael Sanchez   18    5278\n",
      "998       Ashley Taylor   51    5437\n",
      "999         Shawn Scott   45    7364\n",
      "\n",
      "[1000 rows x 3 columns]\n"
     ]
    }
   ],
   "source": [
    "#Select the Name, Age, and Salary columns using df[]. \n",
    "selected_columns = df[['Name', 'Age', 'Salary']]\n",
    "print(selected_columns)"
   ]
  },
  {
   "cell_type": "code",
   "execution_count": 6,
   "id": "2b5a7684",
   "metadata": {
    "execution": {
     "iopub.execute_input": "2024-12-30T18:16:15.083420Z",
     "iopub.status.busy": "2024-12-30T18:16:15.082797Z",
     "iopub.status.idle": "2024-12-30T18:16:15.092752Z",
     "shell.execute_reply": "2024-12-30T18:16:15.091539Z"
    },
    "papermill": {
     "duration": 0.023006,
     "end_time": "2024-12-30T18:16:15.095186",
     "exception": false,
     "start_time": "2024-12-30T18:16:15.072180",
     "status": "completed"
    },
    "tags": []
   },
   "outputs": [
    {
     "name": "stdout",
     "output_type": "stream",
     "text": [
      "   ID                Name  Age  Gender Department  Salary Joining Date  \\\n",
      "0   1        Cory Escobar   48  Female         HR    5641   2015-05-03   \n",
      "1   2     Timothy Sanchez   25   Other      Sales    4249   2020-11-09   \n",
      "2   3        Chad Nichols   57   Other      Sales    3058   2019-02-12   \n",
      "3   4  Christine Williams   58  Female         IT    5895   2017-09-08   \n",
      "4   5        Amber Harris   35   Other         IT    4317   2020-02-15   \n",
      "\n",
      "   Performance Score  Experience    Status     Location  Session  \n",
      "0                2.0          16    Active     New York    Night  \n",
      "1                2.0          11  Inactive  Los Angeles  Evening  \n",
      "2                NaN           1  Inactive     New York  Morning  \n",
      "3                2.0          13  Inactive  Los Angeles  Evening  \n",
      "4                5.0          16  Inactive     New York  Evening  \n"
     ]
    }
   ],
   "source": [
    "# Select the first 5 rows of the DataFrame using the iloc method.\n",
    "#one can use the loc method as well that includes a range or the .head() or slicing.\n",
    "first_five_rows = df.iloc[:5]\n",
    "print(first_five_rows)"
   ]
  },
  {
   "cell_type": "code",
   "execution_count": 7,
   "id": "9c04b5b7",
   "metadata": {
    "execution": {
     "iopub.execute_input": "2024-12-30T18:16:15.116845Z",
     "iopub.status.busy": "2024-12-30T18:16:15.116455Z",
     "iopub.status.idle": "2024-12-30T18:16:15.128624Z",
     "shell.execute_reply": "2024-12-30T18:16:15.127517Z"
    },
    "papermill": {
     "duration": 0.025567,
     "end_time": "2024-12-30T18:16:15.130909",
     "exception": false,
     "start_time": "2024-12-30T18:16:15.105342",
     "status": "completed"
    },
    "tags": []
   },
   "outputs": [
    {
     "name": "stdout",
     "output_type": "stream",
     "text": [
      "      ID             Name  Age  Gender Department  Salary Joining Date  \\\n",
      "1      2  Timothy Sanchez   25   Other      Sales    4249   2020-11-09   \n",
      "2      3     Chad Nichols   57   Other      Sales    3058   2019-02-12   \n",
      "6      7      David Olson   39  Female      Sales    6826   2023-05-11   \n",
      "8      9    Jeremy Wright   63  Female      Sales    9862   2024-02-07   \n",
      "10    11      Nicole Bell   42  Female      Sales    5336   2015-01-28   \n",
      "..   ...              ...  ...     ...        ...     ...          ...   \n",
      "991  992  William Schultz   23   Other      Sales    4311   2019-08-17   \n",
      "992  993   Ashley Daniels   25   Other      Sales    5524   2022-11-24   \n",
      "995  996    Pamela Reeves   49  Female      Sales    7652   2024-06-23   \n",
      "996  997     Todd Johnson   29  Female      Sales    6754   2018-07-20   \n",
      "997  998  Michael Sanchez   18    Male      Sales    5278   2023-07-05   \n",
      "\n",
      "     Performance Score  Experience    Status     Location  Session  \n",
      "1                  2.0          11  Inactive  Los Angeles  Evening  \n",
      "2                  NaN           1  Inactive     New York  Morning  \n",
      "6                  NaN           4    Active     New York    Night  \n",
      "8                  NaN           3  Inactive     New York    Night  \n",
      "10                 3.0           7    Active  Los Angeles  Evening  \n",
      "..                 ...         ...       ...          ...      ...  \n",
      "991                NaN          10  Inactive  Los Angeles  Evening  \n",
      "992                NaN           8  Inactive     New York  Morning  \n",
      "995                4.0           3    Active  Los Angeles  Evening  \n",
      "996                NaN          12  Inactive     New York  Morning  \n",
      "997                5.0           3    Active     New York  Morning  \n",
      "\n",
      "[338 rows x 12 columns]\n"
     ]
    }
   ],
   "source": [
    "# Select all rows where the Department is \"Sales\" using the loc method. \n",
    "#otherwise you can use Boolean Masking or query method.\n",
    "sales_department = df.loc[df['Department'] == \"Sales\"]\n",
    "print(sales_department)"
   ]
  },
  {
   "cell_type": "code",
   "execution_count": 8,
   "id": "f708aa8c",
   "metadata": {
    "execution": {
     "iopub.execute_input": "2024-12-30T18:16:15.153084Z",
     "iopub.status.busy": "2024-12-30T18:16:15.152641Z",
     "iopub.status.idle": "2024-12-30T18:16:15.165092Z",
     "shell.execute_reply": "2024-12-30T18:16:15.164010Z"
    },
    "papermill": {
     "duration": 0.026117,
     "end_time": "2024-12-30T18:16:15.167320",
     "exception": false,
     "start_time": "2024-12-30T18:16:15.141203",
     "status": "completed"
    },
    "tags": []
   },
   "outputs": [
    {
     "name": "stdout",
     "output_type": "stream",
     "text": [
      "      ID             Name  Age  Gender Department  Salary Joining Date  \\\n",
      "9     10   Brian Faulkner   30    Male         IT    8202   2018-05-26   \n",
      "24    25    Tracy Carlson   21    Male         HR    9275   2022-04-09   \n",
      "38    39     Jordan Scott   33   Other      Sales    8678   2016-05-15   \n",
      "39    40      Lisa Wagner   36    Male         HR    8870   2024-08-12   \n",
      "60    61   Andrew Shannon   51   Other      Sales    8544   2020-02-08   \n",
      "..   ...              ...  ...     ...        ...     ...          ...   \n",
      "976  977    Kimberly Ross   19    Male      Sales    9331   2018-07-03   \n",
      "982  983    Stephen Ponce   46   Other      Sales    8696   2022-10-14   \n",
      "986  987  Melissa Bradley   39  Female         IT    9618   2015-07-05   \n",
      "988  989   Hannah Hickman   36  Female         IT    9118   2022-07-02   \n",
      "989  990    Shannon Meyer   18   Other         HR    9985   2022-11-05   \n",
      "\n",
      "     Performance Score  Experience  Status     Location  Session  \n",
      "9                  1.0           9  Active  Los Angeles  Morning  \n",
      "24                 4.0          12  Active     New York  Morning  \n",
      "38                 5.0           9  Active  Los Angeles  Evening  \n",
      "39                 4.0          17  Active  Los Angeles  Evening  \n",
      "60                 NaN           6  Active     New York  Evening  \n",
      "..                 ...         ...     ...          ...      ...  \n",
      "976                5.0          12  Active     New York  Morning  \n",
      "982                4.0           1  Active     New York  Evening  \n",
      "986                1.0          13  Active     New York  Morning  \n",
      "988                5.0           5  Active     New York    Night  \n",
      "989                4.0          18  Active      Chicago    Night  \n",
      "\n",
      "[112 rows x 12 columns]\n"
     ]
    }
   ],
   "source": [
    "#Select rows where the Salary is greater than 8000 and Status is \"Active\".\n",
    "\n",
    "filtered_rows = df.loc[(df['Salary'] > 8000) & (df['Status'] == \"Active\")]\n",
    "print(filtered_rows)"
   ]
  },
  {
   "cell_type": "code",
   "execution_count": 9,
   "id": "7ed72e3b",
   "metadata": {
    "execution": {
     "iopub.execute_input": "2024-12-30T18:16:15.190051Z",
     "iopub.status.busy": "2024-12-30T18:16:15.189628Z",
     "iopub.status.idle": "2024-12-30T18:16:15.200921Z",
     "shell.execute_reply": "2024-12-30T18:16:15.199876Z"
    },
    "papermill": {
     "duration": 0.026729,
     "end_time": "2024-12-30T18:16:15.203918",
     "exception": false,
     "start_time": "2024-12-30T18:16:15.177189",
     "status": "completed"
    },
    "tags": []
   },
   "outputs": [
    {
     "name": "stdout",
     "output_type": "stream",
     "text": [
      "      ID                Name  Age  Gender Department  Salary Joining Date  \\\n",
      "4      5        Amber Harris   35   Other         IT    4317   2020-02-15   \n",
      "11    12   Rodney Richardson   60   Other         HR    6908   2015-03-14   \n",
      "17    18  Jacqueline Randall   31  Female         HR    3519   2018-05-18   \n",
      "18    19      Nancy Stephens   38    Male         HR    9061   2017-07-16   \n",
      "24    25       Tracy Carlson   21    Male         HR    9275   2022-04-09   \n",
      "..   ...                 ...  ...     ...        ...     ...          ...   \n",
      "978  979         Michael Lee   18  Female         IT    6086   2019-05-30   \n",
      "989  990       Shannon Meyer   18   Other         HR    9985   2022-11-05   \n",
      "990  991        Amy Johnston   53  Female         HR    3991   2024-09-03   \n",
      "993  994       Brandon Bruce   31  Female         HR    3371   2018-09-25   \n",
      "998  999       Ashley Taylor   51  Female         IT    5437   2022-02-18   \n",
      "\n",
      "     Performance Score  Experience    Status     Location  Session  \n",
      "4                  5.0          16  Inactive     New York  Evening  \n",
      "11                 4.0          19    Active      Chicago    Night  \n",
      "17                 4.0           6    Active     New York  Morning  \n",
      "18                 5.0          16  Inactive      Chicago    Night  \n",
      "24                 4.0          12    Active     New York  Morning  \n",
      "..                 ...         ...       ...          ...      ...  \n",
      "978                4.0           7  Inactive  Los Angeles  Evening  \n",
      "989                4.0          18    Active      Chicago    Night  \n",
      "990                4.0           8    Active      Chicago  Morning  \n",
      "993                5.0          12  Inactive      Chicago    Night  \n",
      "998                4.0           9  Inactive  Los Angeles  Evening  \n",
      "\n",
      "[137 rows x 12 columns]\n"
     ]
    }
   ],
   "source": [
    "#Extract the rows where the employee has been with the company for more than 5 years and has a \n",
    "#Performance Score of at least 4.\n",
    "#if all employees started their experience journey at the company.\n",
    "filter_rows=df.loc[(df['Experience']>5) &(df['Performance Score']>=4.0)]\n",
    "print(filter_rows)"
   ]
  },
  {
   "cell_type": "code",
   "execution_count": 10,
   "id": "5b33485b",
   "metadata": {
    "execution": {
     "iopub.execute_input": "2024-12-30T18:16:15.225384Z",
     "iopub.status.busy": "2024-12-30T18:16:15.225036Z",
     "iopub.status.idle": "2024-12-30T18:16:15.245119Z",
     "shell.execute_reply": "2024-12-30T18:16:15.244162Z"
    },
    "papermill": {
     "duration": 0.033475,
     "end_time": "2024-12-30T18:16:15.247392",
     "exception": false,
     "start_time": "2024-12-30T18:16:15.213917",
     "status": "completed"
    },
    "tags": []
   },
   "outputs": [
    {
     "name": "stdout",
     "output_type": "stream",
     "text": [
      "      ID                Name  Age  Gender Department  Salary Joining Date  \\\n",
      "11    12   Rodney Richardson   60   Other         HR    6908   2015-03-14   \n",
      "17    18  Jacqueline Randall   31  Female         HR    3519   2018-05-18   \n",
      "18    19      Nancy Stephens   38    Male         HR    9061   2017-07-16   \n",
      "22    23        Bryce Carter   35  Female      Sales    9598   2015-12-16   \n",
      "34    35            Lisa Fry   51  Female         IT    9259   2017-09-26   \n",
      "..   ...                 ...  ...     ...        ...     ...          ...   \n",
      "918  919     Tammy Schneider   22   Other         IT    3625   2016-10-24   \n",
      "937  938       Gary Mitchell   52  Female      Sales    9963   2016-09-22   \n",
      "972  973       James Mendoza   23   Other      Sales    6871   2016-04-11   \n",
      "976  977       Kimberly Ross   19    Male      Sales    9331   2018-07-03   \n",
      "993  994       Brandon Bruce   31  Female         HR    3371   2018-09-25   \n",
      "\n",
      "     Performance Score  Experience    Status     Location  Session  \\\n",
      "11                 4.0          19    Active      Chicago    Night   \n",
      "17                 4.0           6    Active     New York  Morning   \n",
      "18                 5.0          16  Inactive      Chicago    Night   \n",
      "22                 4.0           4  Inactive     New York    Night   \n",
      "34                 4.0          17  Inactive  Los Angeles    Night   \n",
      "..                 ...         ...       ...          ...      ...   \n",
      "918                4.0          14    Active      Chicago  Morning   \n",
      "937                5.0          20  Inactive  Los Angeles  Morning   \n",
      "972                4.0          15  Inactive     New York  Morning   \n",
      "976                5.0          12    Active     New York  Morning   \n",
      "993                5.0          12  Inactive      Chicago    Night   \n",
      "\n",
      "     Years With Company  \n",
      "11                    9  \n",
      "17                    6  \n",
      "18                    7  \n",
      "22                    9  \n",
      "34                    7  \n",
      "..                  ...  \n",
      "918                   8  \n",
      "937                   8  \n",
      "972                   8  \n",
      "976                   6  \n",
      "993                   6  \n",
      "\n",
      "[69 rows x 13 columns]\n"
     ]
    }
   ],
   "source": [
    "#Calculate years of being with the company from the joining date till present.\n",
    "df['Joining Date'] = pd.to_datetime(df['Joining Date'])\n",
    "\n",
    "current_date = pd.Timestamp.now()\n",
    "df['Years With Company'] = (current_date - df['Joining Date']).dt.days // 365\n",
    "\n",
    "filtered_rows = df.loc[(df['Years With Company'] > 5) & (df['Performance Score'] >= 4)]\n",
    "\n",
    "print(filtered_rows)"
   ]
  },
  {
   "cell_type": "code",
   "execution_count": 11,
   "id": "7718a59d",
   "metadata": {
    "execution": {
     "iopub.execute_input": "2024-12-30T18:16:15.269861Z",
     "iopub.status.busy": "2024-12-30T18:16:15.269423Z",
     "iopub.status.idle": "2024-12-30T18:16:15.280679Z",
     "shell.execute_reply": "2024-12-30T18:16:15.279644Z"
    },
    "papermill": {
     "duration": 0.025647,
     "end_time": "2024-12-30T18:16:15.283726",
     "exception": false,
     "start_time": "2024-12-30T18:16:15.258079",
     "status": "completed"
    },
    "tags": []
   },
   "outputs": [
    {
     "name": "stdout",
     "output_type": "stream",
     "text": [
      "      ID             Name  Age  Gender Department  Salary Joining Date  \\\n",
      "0      1     Cory Escobar   48  Female         HR    5641   2015-05-03   \n",
      "2      3     Chad Nichols   57   Other      Sales    3058   2019-02-12   \n",
      "4      5     Amber Harris   35   Other         IT    4317   2020-02-15   \n",
      "6      7      David Olson   39  Female      Sales    6826   2023-05-11   \n",
      "8      9    Jeremy Wright   63  Female      Sales    9862   2024-02-07   \n",
      "..   ...              ...  ...     ...        ...     ...          ...   \n",
      "990  991     Amy Johnston   53  Female         HR    3991   2024-09-03   \n",
      "992  993   Ashley Daniels   25   Other      Sales    5524   2022-11-24   \n",
      "994  995  Rachel Phillips   22    Male         IT    3096   2018-10-27   \n",
      "996  997     Todd Johnson   29  Female      Sales    6754   2018-07-20   \n",
      "998  999    Ashley Taylor   51  Female         IT    5437   2022-02-18   \n",
      "\n",
      "     Performance Score  Experience    Status     Location  Session  \\\n",
      "0                  2.0          16    Active     New York    Night   \n",
      "2                  NaN           1  Inactive     New York  Morning   \n",
      "4                  5.0          16  Inactive     New York  Evening   \n",
      "6                  NaN           4    Active     New York    Night   \n",
      "8                  NaN           3  Inactive     New York    Night   \n",
      "..                 ...         ...       ...          ...      ...   \n",
      "990                4.0           8    Active      Chicago  Morning   \n",
      "992                NaN           8  Inactive     New York  Morning   \n",
      "994                2.0           7  Inactive      Chicago  Evening   \n",
      "996                NaN          12  Inactive     New York  Morning   \n",
      "998                4.0           9  Inactive  Los Angeles  Evening   \n",
      "\n",
      "     Years With Company  \n",
      "0                     9  \n",
      "2                     5  \n",
      "4                     4  \n",
      "6                     1  \n",
      "8                     0  \n",
      "..                  ...  \n",
      "990                   0  \n",
      "992                   2  \n",
      "994                   6  \n",
      "996                   6  \n",
      "998                   2  \n",
      "\n",
      "[500 rows x 13 columns]\n"
     ]
    }
   ],
   "source": [
    "# Select every alternate row from the DataFrame using slicing with iloc. \n",
    "#starting from index 0, the sellecting every second row.\n",
    "alternate=df.iloc[::2]\n",
    "print(alternate)"
   ]
  },
  {
   "cell_type": "code",
   "execution_count": 12,
   "id": "b858e6c9",
   "metadata": {
    "execution": {
     "iopub.execute_input": "2024-12-30T18:16:15.305677Z",
     "iopub.status.busy": "2024-12-30T18:16:15.305269Z",
     "iopub.status.idle": "2024-12-30T18:16:15.316360Z",
     "shell.execute_reply": "2024-12-30T18:16:15.315352Z"
    },
    "papermill": {
     "duration": 0.02485,
     "end_time": "2024-12-30T18:16:15.318734",
     "exception": false,
     "start_time": "2024-12-30T18:16:15.293884",
     "status": "completed"
    },
    "tags": []
   },
   "outputs": [
    {
     "name": "stdout",
     "output_type": "stream",
     "text": [
      "       ID                Name  Age  Gender Department  Salary Joining Date  \\\n",
      "1       2     Timothy Sanchez   25   Other      Sales    4249   2020-11-09   \n",
      "3       4  Christine Williams   58  Female         IT    5895   2017-09-08   \n",
      "5       6         Ashley Howe   29  Female         HR    2591   2016-06-24   \n",
      "7       8        Amanda Baker   52   Other         HR    6285   2015-04-01   \n",
      "9      10      Brian Faulkner   30    Male         IT    8202   2018-05-26   \n",
      "..    ...                 ...  ...     ...        ...     ...          ...   \n",
      "991   992     William Schultz   23   Other      Sales    4311   2019-08-17   \n",
      "993   994       Brandon Bruce   31  Female         HR    3371   2018-09-25   \n",
      "995   996       Pamela Reeves   49  Female      Sales    7652   2024-06-23   \n",
      "997   998     Michael Sanchez   18    Male      Sales    5278   2023-07-05   \n",
      "999  1000         Shawn Scott   45    Male         IT    7364   2022-07-31   \n",
      "\n",
      "     Performance Score  Experience    Status     Location  Session  \\\n",
      "1                  2.0          11  Inactive  Los Angeles  Evening   \n",
      "3                  2.0          13  Inactive  Los Angeles  Evening   \n",
      "5                  1.0           6    Active      Chicago  Evening   \n",
      "7                  NaN           8  Inactive      Chicago  Evening   \n",
      "9                  1.0           9    Active  Los Angeles  Morning   \n",
      "..                 ...         ...       ...          ...      ...   \n",
      "991                NaN          10  Inactive  Los Angeles  Evening   \n",
      "993                5.0          12  Inactive      Chicago    Night   \n",
      "995                4.0           3    Active  Los Angeles  Evening   \n",
      "997                5.0           3    Active     New York  Morning   \n",
      "999                2.0           4    Active     New York  Morning   \n",
      "\n",
      "     Years With Company  \n",
      "1                     4  \n",
      "3                     7  \n",
      "5                     8  \n",
      "7                     9  \n",
      "9                     6  \n",
      "..                  ...  \n",
      "991                   5  \n",
      "993                   6  \n",
      "995                   0  \n",
      "997                   1  \n",
      "999                   2  \n",
      "\n",
      "[500 rows x 13 columns]\n"
     ]
    }
   ],
   "source": [
    "# Select every alternate row from the DataFrame using slicing with iloc. \n",
    "#starting from index 1 instead of index 0.\n",
    "#can also be implemented for a specific range of alternates using df.iloc[1:99:2] (from index 1 to 99)\n",
    "alternate_rows_from_second = df.iloc[1::2]\n",
    "print(alternate_rows_from_second)"
   ]
  },
  {
   "cell_type": "code",
   "execution_count": 13,
   "id": "9c0f6a8a",
   "metadata": {
    "execution": {
     "iopub.execute_input": "2024-12-30T18:16:15.341792Z",
     "iopub.status.busy": "2024-12-30T18:16:15.340716Z",
     "iopub.status.idle": "2024-12-30T18:16:15.357543Z",
     "shell.execute_reply": "2024-12-30T18:16:15.356433Z"
    },
    "papermill": {
     "duration": 0.031169,
     "end_time": "2024-12-30T18:16:15.360234",
     "exception": false,
     "start_time": "2024-12-30T18:16:15.329065",
     "status": "completed"
    },
    "tags": []
   },
   "outputs": [
    {
     "name": "stdout",
     "output_type": "stream",
     "text": [
      "      ID                     Name  Age  Gender Department  Salary  \\\n",
      "8      9            Jeremy Wright   63  Female      Sales    9862   \n",
      "22    23             Bryce Carter   35  Female      Sales    9598   \n",
      "29    30            Rachel Ramsey   22    Male      Sales    9661   \n",
      "215  216               Sara Jones   50  Female      Sales    9377   \n",
      "228  229          Christie Warren   51  Female      Sales    9139   \n",
      "239  240      Christina Gutierrez   37    Male      Sales    9356   \n",
      "250  251           Joshua Bullock   38    Male      Sales    9924   \n",
      "263  264          Gabriela Wilson   40   Other      Sales    9455   \n",
      "275  276          Harry Alexander   22    Male      Sales    9749   \n",
      "299  300              Terry Smith   38  Female      Sales    9375   \n",
      "379  380                Dustin Le   29    Male      Sales    9726   \n",
      "381  382           David Marshall   43   Other      Sales    9269   \n",
      "405  406            Heather Scott   57    Male      Sales    9505   \n",
      "442  443          Kimberly Sparks   26   Other      Sales    9146   \n",
      "491  492  Dr. Jacob Castaneda DVM   53   Other      Sales    9181   \n",
      "516  517           Christina Lowe   35  Female      Sales    9630   \n",
      "552  553          Amanda Griffith   26    Male      Sales    9704   \n",
      "591  592          Jonathan Rangel   49   Other      Sales    9323   \n",
      "594  595           Michelle Smith   35   Other      Sales    9906   \n",
      "629  630           Patricia Scott   52   Other      Sales    9364   \n",
      "742  743           Timothy Guzman   41  Female      Sales    9409   \n",
      "756  757              James James   38    Male      Sales    9666   \n",
      "758  759          Matthew Roberts   53    Male      Sales    9917   \n",
      "778  779             David Nelson   39   Other      Sales    9653   \n",
      "796  797            Jacob Shannon   35   Other      Sales    9926   \n",
      "844  845             Gerald Cooke   33   Other      Sales    9693   \n",
      "898  899           Tiffany Jordan   44    Male      Sales    9819   \n",
      "903  904             Leslie Mason   42   Other      Sales    9658   \n",
      "932  933             Kristin Cole   50    Male      Sales    9616   \n",
      "937  938            Gary Mitchell   52  Female      Sales    9963   \n",
      "976  977            Kimberly Ross   19    Male      Sales    9331   \n",
      "\n",
      "    Joining Date  Performance Score  Experience    Status     Location  \\\n",
      "8     2024-02-07                NaN           3  Inactive     New York   \n",
      "22    2015-12-16                4.0           4  Inactive     New York   \n",
      "29    2016-08-18                2.0          17  Inactive      Chicago   \n",
      "215   2019-10-16                NaN           3    Active  Los Angeles   \n",
      "228   2020-08-16                5.0           1    Active      Chicago   \n",
      "239   2018-01-02                3.0           3    Active      Chicago   \n",
      "250   2019-01-10                4.0          20  Inactive      Chicago   \n",
      "263   2023-11-19                1.0          14    Active  Los Angeles   \n",
      "275   2019-05-15                NaN           5    Active  Los Angeles   \n",
      "299   2022-12-23                NaN           2  Inactive     New York   \n",
      "379   2015-04-13                1.0           2  Inactive      Chicago   \n",
      "381   2018-10-05                2.0          13  Inactive  Los Angeles   \n",
      "405   2024-08-18                3.0           6  Inactive     New York   \n",
      "442   2024-07-29                3.0           3  Inactive     New York   \n",
      "491   2024-02-17                5.0           1  Inactive  Los Angeles   \n",
      "516   2018-07-03                NaN           1    Active  Los Angeles   \n",
      "552   2019-05-30                NaN           9    Active     New York   \n",
      "591   2021-01-19                NaN          18  Inactive      Chicago   \n",
      "594   2018-12-18                NaN           9    Active  Los Angeles   \n",
      "629   2019-11-05                NaN           5    Active     New York   \n",
      "742   2023-09-17                NaN          16  Inactive     New York   \n",
      "756   2016-04-14                NaN          15    Active  Los Angeles   \n",
      "758   2017-07-07                1.0          16    Active  Los Angeles   \n",
      "778   2021-08-08                NaN          19  Inactive     New York   \n",
      "796   2016-09-04                NaN           7    Active      Chicago   \n",
      "844   2017-08-29                NaN          17  Inactive     New York   \n",
      "898   2022-07-15                NaN          13    Active     New York   \n",
      "903   2019-10-31                1.0          14  Inactive     New York   \n",
      "932   2017-02-03                2.0          13  Inactive  Los Angeles   \n",
      "937   2016-09-22                5.0          20  Inactive  Los Angeles   \n",
      "976   2018-07-03                5.0          12    Active     New York   \n",
      "\n",
      "     Session  Years With Company  \n",
      "8      Night                   0  \n",
      "22     Night                   9  \n",
      "29     Night                   8  \n",
      "215  Morning                   5  \n",
      "228    Night                   4  \n",
      "239  Morning                   6  \n",
      "250    Night                   5  \n",
      "263  Morning                   1  \n",
      "275  Morning                   5  \n",
      "299  Morning                   2  \n",
      "379  Evening                   9  \n",
      "381  Evening                   6  \n",
      "405    Night                   0  \n",
      "442  Evening                   0  \n",
      "491  Morning                   0  \n",
      "516    Night                   6  \n",
      "552  Evening                   5  \n",
      "591  Evening                   3  \n",
      "594  Evening                   6  \n",
      "629  Evening                   5  \n",
      "742  Morning                   1  \n",
      "756  Morning                   8  \n",
      "758  Evening                   7  \n",
      "778  Morning                   3  \n",
      "796    Night                   8  \n",
      "844  Morning                   7  \n",
      "898  Morning                   2  \n",
      "903  Evening                   5  \n",
      "932    Night                   7  \n",
      "937  Morning                   8  \n",
      "976  Morning                   6  \n"
     ]
    }
   ],
   "source": [
    "# Retrieve rows where the employee belongs to \"Sales\" and has a Salary in the top 10% of all salaries.\n",
    "top10perc_salary = df['Salary'].quantile(0.9)\n",
    "\n",
    "high_paid_sales = df.loc[(df['Department'] == \"Sales\") & (df['Salary'] >= top10perc_salary)]\n",
    "\n",
    "print(high_paid_sales)"
   ]
  },
  {
   "cell_type": "code",
   "execution_count": 14,
   "id": "a638d570",
   "metadata": {
    "execution": {
     "iopub.execute_input": "2024-12-30T18:16:15.382824Z",
     "iopub.status.busy": "2024-12-30T18:16:15.382426Z",
     "iopub.status.idle": "2024-12-30T18:16:15.395265Z",
     "shell.execute_reply": "2024-12-30T18:16:15.393971Z"
    },
    "papermill": {
     "duration": 0.026768,
     "end_time": "2024-12-30T18:16:15.397515",
     "exception": false,
     "start_time": "2024-12-30T18:16:15.370747",
     "status": "completed"
    },
    "tags": []
   },
   "outputs": [
    {
     "name": "stdout",
     "output_type": "stream",
     "text": [
      "       ID                Name  Age  Gender Department  Salary Joining Date  \\\n",
      "0       1        Cory Escobar   48  Female         HR    5641   2015-05-03   \n",
      "1       2     Timothy Sanchez   25   Other      Sales    4249   2020-11-09   \n",
      "2       3        Chad Nichols   57   Other      Sales    3058   2019-02-12   \n",
      "3       4  Christine Williams   58  Female         IT    5895   2017-09-08   \n",
      "4       5        Amber Harris   35   Other         IT    4317   2020-02-15   \n",
      "..    ...                 ...  ...     ...        ...     ...          ...   \n",
      "995   996       Pamela Reeves   49  Female      Sales    7652   2024-06-23   \n",
      "996   997        Todd Johnson   29  Female      Sales    6754   2018-07-20   \n",
      "997   998     Michael Sanchez   18    Male      Sales    5278   2023-07-05   \n",
      "998   999       Ashley Taylor   51  Female         IT    5437   2022-02-18   \n",
      "999  1000         Shawn Scott   45    Male         IT    7364   2022-07-31   \n",
      "\n",
      "     Performance Score  Experience   Status     Location  Session  \\\n",
      "0                  2.0          16   Active     New York    Night   \n",
      "1                  2.0          11  Retired  Los Angeles  Evening   \n",
      "2                  NaN           1  Retired     New York  Morning   \n",
      "3                  2.0          13  Retired  Los Angeles  Evening   \n",
      "4                  5.0          16  Retired     New York  Evening   \n",
      "..                 ...         ...      ...          ...      ...   \n",
      "995                4.0           3   Active  Los Angeles  Evening   \n",
      "996                NaN          12  Retired     New York  Morning   \n",
      "997                5.0           3   Active     New York  Morning   \n",
      "998                4.0           9  Retired  Los Angeles  Evening   \n",
      "999                2.0           4   Active     New York  Morning   \n",
      "\n",
      "     Years With Company  \n",
      "0                     9  \n",
      "1                     4  \n",
      "2                     5  \n",
      "3                     7  \n",
      "4                     4  \n",
      "..                  ...  \n",
      "995                   0  \n",
      "996                   6  \n",
      "997                   1  \n",
      "998                   2  \n",
      "999                   2  \n",
      "\n",
      "[1000 rows x 13 columns]\n"
     ]
    }
   ],
   "source": [
    "# Replace all \"Inactive\" values in the Status column with \"Retired\".\n",
    "df['Status'] = df['Status'].replace('Inactive', 'Retired')\n",
    "\n",
    "print(df)"
   ]
  },
  {
   "cell_type": "code",
   "execution_count": 15,
   "id": "07aeba61",
   "metadata": {
    "execution": {
     "iopub.execute_input": "2024-12-30T18:16:15.420247Z",
     "iopub.status.busy": "2024-12-30T18:16:15.419454Z",
     "iopub.status.idle": "2024-12-30T18:16:15.431604Z",
     "shell.execute_reply": "2024-12-30T18:16:15.430525Z"
    },
    "papermill": {
     "duration": 0.02645,
     "end_time": "2024-12-30T18:16:15.434431",
     "exception": false,
     "start_time": "2024-12-30T18:16:15.407981",
     "status": "completed"
    },
    "tags": []
   },
   "outputs": [
    {
     "name": "stdout",
     "output_type": "stream",
     "text": [
      "       ID                Name  Age  Gender Department  Salary Joining Date  \\\n",
      "0       1        Cory Escobar   48  Female         HR    5641   2015-05-03   \n",
      "1       2     Timothy Sanchez   25   Other      Sales    4249   2020-11-09   \n",
      "2       3        Chad Nichols   57   Other      Sales    3058   2019-02-12   \n",
      "3       4  Christine Williams   58  Female         IT    5895   2017-09-08   \n",
      "4       5        Amber Harris   35   Other         IT    4317   2020-02-15   \n",
      "..    ...                 ...  ...     ...        ...     ...          ...   \n",
      "995   996       Pamela Reeves   49  Female      Sales    7652   2024-06-23   \n",
      "996   997        Todd Johnson   29  Female      Sales    6754   2018-07-20   \n",
      "997   998     Michael Sanchez   18    Male      Sales    5278   2023-07-05   \n",
      "998   999       Ashley Taylor   51  Female         IT    5437   2022-02-18   \n",
      "999  1000         Shawn Scott   45    Male         IT    7364   2022-07-31   \n",
      "\n",
      "     Performance Score  Experience   Status     Location  Session  \\\n",
      "0                  2.0          16   Active     New York    Night   \n",
      "1                  2.0          11  Retired  Los Angeles  Evening   \n",
      "2                  NaN           1  Retired     New York  Morning   \n",
      "3                  2.0          13  Retired  Los Angeles  Evening   \n",
      "4                  5.0          16  Retired     New York  Evening   \n",
      "..                 ...         ...      ...          ...      ...   \n",
      "995                4.0           3   Active  Los Angeles  Evening   \n",
      "996                NaN          12  Retired     New York  Morning   \n",
      "997                5.0           3   Active     New York  Morning   \n",
      "998                4.0           9  Retired  Los Angeles  Evening   \n",
      "999                2.0           4   Active     New York  Morning   \n",
      "\n",
      "     Years With Company  Bonus  \n",
      "0                     9  564.1  \n",
      "1                     4  424.9  \n",
      "2                     5  305.8  \n",
      "3                     7  589.5  \n",
      "4                     4  431.7  \n",
      "..                  ...    ...  \n",
      "995                   0  765.2  \n",
      "996                   6  675.4  \n",
      "997                   1  527.8  \n",
      "998                   2  543.7  \n",
      "999                   2  736.4  \n",
      "\n",
      "[1000 rows x 14 columns]\n"
     ]
    }
   ],
   "source": [
    "#Add a new column Bonus where values are 10% of the Salary column.\n",
    "df['Bonus'] = df['Salary'] * 0.10\n",
    "print(df)"
   ]
  },
  {
   "cell_type": "code",
   "execution_count": 16,
   "id": "5ff777da",
   "metadata": {
    "execution": {
     "iopub.execute_input": "2024-12-30T18:16:15.457669Z",
     "iopub.status.busy": "2024-12-30T18:16:15.456821Z",
     "iopub.status.idle": "2024-12-30T18:16:15.469081Z",
     "shell.execute_reply": "2024-12-30T18:16:15.468064Z"
    },
    "papermill": {
     "duration": 0.026821,
     "end_time": "2024-12-30T18:16:15.471957",
     "exception": false,
     "start_time": "2024-12-30T18:16:15.445136",
     "status": "completed"
    },
    "tags": []
   },
   "outputs": [
    {
     "name": "stdout",
     "output_type": "stream",
     "text": [
      "       ID                Name  Age  Gender Department  Salary Joining Date  \\\n",
      "0       1        Cory Escobar   48  Female         HR    5641   2015-05-03   \n",
      "1       2     Timothy Sanchez   25   Other      Sales    4249   2020-11-09   \n",
      "2       3        Chad Nichols   57   Other      Sales    3058   2019-02-12   \n",
      "3       4  Christine Williams   58  Female         IT    5895   2017-09-08   \n",
      "4       5        Amber Harris   35   Other         IT    4317   2020-02-15   \n",
      "..    ...                 ...  ...     ...        ...     ...          ...   \n",
      "995   996       Pamela Reeves   49  Female      Sales    7652   2024-06-23   \n",
      "996   997        Todd Johnson   29  Female      Sales    6754   2018-07-20   \n",
      "997   998     Michael Sanchez   18    Male      Sales    5278   2023-07-05   \n",
      "998   999       Ashley Taylor   51  Female         IT    5437   2022-02-18   \n",
      "999  1000         Shawn Scott   45    Male         IT    7364   2022-07-31   \n",
      "\n",
      "     Performance Score  Experience   Status     Location  Session  \\\n",
      "0                  2.0          16   Active     New York    Night   \n",
      "1                  2.0          11  Retired  Los Angeles  Evening   \n",
      "2                  NaN           1  Retired     New York  Morning   \n",
      "3                  2.0          13  Retired  Los Angeles  Evening   \n",
      "4                  5.0          16  Retired     New York  Evening   \n",
      "..                 ...         ...      ...          ...      ...   \n",
      "995                4.0           3   Active  Los Angeles  Evening   \n",
      "996                NaN          12  Retired     New York  Morning   \n",
      "997                5.0           3   Active     New York  Morning   \n",
      "998                4.0           9  Retired  Los Angeles  Evening   \n",
      "999                2.0           4   Active     New York  Morning   \n",
      "\n",
      "     Years With Company  Bonus  \n",
      "0                     9  564.1  \n",
      "1                     4  424.9  \n",
      "2                     5  305.8  \n",
      "3                     7  589.5  \n",
      "4                     4  431.7  \n",
      "..                  ...    ...  \n",
      "995                   0  765.2  \n",
      "996                   6  675.4  \n",
      "997                   1  527.8  \n",
      "998                   2  543.7  \n",
      "999                   2  736.4  \n",
      "\n",
      "[1000 rows x 14 columns]\n"
     ]
    }
   ],
   "source": [
    "#Update the Performance Score of employees in the \"IT\" department to 5 if it is NaN\n",
    "df.loc[(df['Department'] == 'IT') & (df['Performance Score'].isna()), 'Performance Score'] = 5\n",
    "\n",
    "print(df)"
   ]
  },
  {
   "cell_type": "code",
   "execution_count": 17,
   "id": "410da9d6",
   "metadata": {
    "execution": {
     "iopub.execute_input": "2024-12-30T18:16:15.495739Z",
     "iopub.status.busy": "2024-12-30T18:16:15.495357Z",
     "iopub.status.idle": "2024-12-30T18:16:15.507546Z",
     "shell.execute_reply": "2024-12-30T18:16:15.506503Z"
    },
    "papermill": {
     "duration": 0.027486,
     "end_time": "2024-12-30T18:16:15.510392",
     "exception": false,
     "start_time": "2024-12-30T18:16:15.482906",
     "status": "completed"
    },
    "tags": []
   },
   "outputs": [
    {
     "name": "stdout",
     "output_type": "stream",
     "text": [
      "       ID                Name  Age  Gender Department  Salary Joining Date  \\\n",
      "0       1        Cory Escobar   48  Female         HR    5641   2015-05-03   \n",
      "1       2     Timothy Sanchez   25   Other      Sales    4249   2020-11-09   \n",
      "2       3        Chad Nichols   57   Other      Sales    3058   2019-02-12   \n",
      "3       4  Christine Williams   58  Female         IT    5895   2017-09-08   \n",
      "4       5        Amber Harris   35   Other         IT    4317   2020-02-15   \n",
      "..    ...                 ...  ...     ...        ...     ...          ...   \n",
      "995   996       Pamela Reeves   49  Female      Sales    7652   2024-06-23   \n",
      "996   997        Todd Johnson   29  Female      Sales    6754   2018-07-20   \n",
      "997   998     Michael Sanchez   18    Male      Sales    5278   2023-07-05   \n",
      "998   999       Ashley Taylor   51  Female         IT    5437   2022-02-18   \n",
      "999  1000         Shawn Scott   45    Male         IT    7364   2022-07-31   \n",
      "\n",
      "     Performance Score  Experience   Status     Location  Session  \\\n",
      "0                  2.0          16   Active     New York    Night   \n",
      "1                  2.0          11  Retired  Los Angeles  Evening   \n",
      "2                  NaN           2  Retired     New York  Morning   \n",
      "3                  2.0          13  Retired  Los Angeles  Evening   \n",
      "4                  5.0          16  Retired     New York  Evening   \n",
      "..                 ...         ...      ...          ...      ...   \n",
      "995                4.0           3   Active  Los Angeles  Evening   \n",
      "996                NaN          12  Retired     New York  Morning   \n",
      "997                5.0           3   Active     New York  Morning   \n",
      "998                4.0           9  Retired  Los Angeles  Evening   \n",
      "999                2.0           4   Active     New York  Morning   \n",
      "\n",
      "     Years With Company  Bonus  \n",
      "0                     9  564.1  \n",
      "1                     4  424.9  \n",
      "2                     5  305.8  \n",
      "3                     7  589.5  \n",
      "4                     4  431.7  \n",
      "..                  ...    ...  \n",
      "995                   0  765.2  \n",
      "996                   6  675.4  \n",
      "997                   1  527.8  \n",
      "998                   2  543.7  \n",
      "999                   2  736.4  \n",
      "\n",
      "[1000 rows x 14 columns]\n"
     ]
    }
   ],
   "source": [
    "# Modify the Experience of employees with less than 2 years to 2. \n",
    "\n",
    "df.loc[df['Experience'] < 2, 'Experience'] = 2\n",
    "\n",
    "print(df)"
   ]
  },
  {
   "cell_type": "code",
   "execution_count": 18,
   "id": "c0d26ca0",
   "metadata": {
    "execution": {
     "iopub.execute_input": "2024-12-30T18:16:15.534177Z",
     "iopub.status.busy": "2024-12-30T18:16:15.533280Z",
     "iopub.status.idle": "2024-12-30T18:16:15.545961Z",
     "shell.execute_reply": "2024-12-30T18:16:15.544953Z"
    },
    "papermill": {
     "duration": 0.027301,
     "end_time": "2024-12-30T18:16:15.548578",
     "exception": false,
     "start_time": "2024-12-30T18:16:15.521277",
     "status": "completed"
    },
    "tags": []
   },
   "outputs": [
    {
     "name": "stdout",
     "output_type": "stream",
     "text": [
      "       ID                Name  Age  Gender Department  Salary Joining Date  \\\n",
      "0       1        Cory Escobar   48  Female         HR    5641   2015-05-03   \n",
      "1       2     Timothy Sanchez   25   Other      Sales    4249   2020-11-09   \n",
      "2       3        Chad Nichols   57   Other      Sales    3058   2019-02-12   \n",
      "3       4  Christine Williams   58  Female         IT    5895   2017-09-08   \n",
      "4       5        Amber Harris   35   Other         IT    4317   2020-02-15   \n",
      "..    ...                 ...  ...     ...        ...     ...          ...   \n",
      "995   996       Pamela Reeves   49  Female      Sales    7652   2024-06-23   \n",
      "996   997        Todd Johnson   29  Female      Sales    6754   2018-07-20   \n",
      "997   998     Michael Sanchez   18    Male      Sales    5278   2023-07-05   \n",
      "998   999       Ashley Taylor   51  Female         IT    5437   2022-02-18   \n",
      "999  1000         Shawn Scott   45    Male         IT    7364   2022-07-31   \n",
      "\n",
      "     Performance Score  Experience   Status     Location  Session  \\\n",
      "0                  2.0          16   Active     New York    Night   \n",
      "1                  2.0          11  Retired  Los Angeles  Evening   \n",
      "2                  NaN           2  Retired     New York  Morning   \n",
      "3                  2.0          13  Retired  Los Angeles  Evening   \n",
      "4                  5.0          16  Retired     New York  Evening   \n",
      "..                 ...         ...      ...          ...      ...   \n",
      "995                4.0           3   Active  Los Angeles  Evening   \n",
      "996                NaN          12  Retired     New York  Morning   \n",
      "997                5.0           3   Active     New York  Morning   \n",
      "998                4.0           9  Retired  Los Angeles  Evening   \n",
      "999                2.0           4   Active     New York  Morning   \n",
      "\n",
      "     Years With Company  Bonus  Normalized Salary  \n",
      "0                     9  564.1           0.454500  \n",
      "1                     4  424.9           0.280020  \n",
      "2                     5  305.8           0.130735  \n",
      "3                     7  589.5           0.486337  \n",
      "4                     4  431.7           0.288543  \n",
      "..                  ...    ...                ...  \n",
      "995                   0  765.2           0.706568  \n",
      "996                   6  675.4           0.594009  \n",
      "997                   1  527.8           0.409000  \n",
      "998                   2  543.7           0.428930  \n",
      "999                   2  736.4           0.670469  \n",
      "\n",
      "[1000 rows x 15 columns]\n"
     ]
    }
   ],
   "source": [
    "#Normalize the Salary column so that all values are between 0 and 1\n",
    "#perform normalization using salary-salary.min()//(salary.max()-salary.min()): feature scaling\n",
    "\n",
    "df['Normalized Salary'] = (df['Salary'] - df['Salary'].min()) / (df['Salary'].max() - df['Salary'].min())\n",
    "\n",
    "print(df)"
   ]
  },
  {
   "cell_type": "code",
   "execution_count": 19,
   "id": "aba4ee8e",
   "metadata": {
    "execution": {
     "iopub.execute_input": "2024-12-30T18:16:15.572489Z",
     "iopub.status.busy": "2024-12-30T18:16:15.571518Z",
     "iopub.status.idle": "2024-12-30T18:16:15.584146Z",
     "shell.execute_reply": "2024-12-30T18:16:15.583143Z"
    },
    "papermill": {
     "duration": 0.027248,
     "end_time": "2024-12-30T18:16:15.586781",
     "exception": false,
     "start_time": "2024-12-30T18:16:15.559533",
     "status": "completed"
    },
    "tags": []
   },
   "outputs": [
    {
     "name": "stdout",
     "output_type": "stream",
     "text": [
      "       ID                Name  Age  Gender Department  Salary Joining Date  \\\n",
      "0       1        Cory Escobar   48  Female         HR    5641   2015-05-03   \n",
      "1       2     Timothy Sanchez   25   Other      Sales    4249   2020-11-09   \n",
      "2       3        Chad Nichols   57   Other      Sales    3058   2019-02-12   \n",
      "3       4  Christine Williams   58  Female         IT    5895   2017-09-08   \n",
      "4       5        Amber Harris   35   Other         IT    4317   2020-02-15   \n",
      "..    ...                 ...  ...     ...        ...     ...          ...   \n",
      "995   996       Pamela Reeves   49  Female      Sales    7652   2024-06-23   \n",
      "996   997        Todd Johnson   29  Female      Sales    6754   2018-07-20   \n",
      "997   998     Michael Sanchez   18    Male      Sales    5278   2023-07-05   \n",
      "998   999       Ashley Taylor   51  Female         IT    5437   2022-02-18   \n",
      "999  1000         Shawn Scott   45    Male         IT    7364   2022-07-31   \n",
      "\n",
      "     Performance Score  Experience   Status     Location  Session  \\\n",
      "0                  2.0          16   Active       Remote    Night   \n",
      "1                  2.0          11  Retired       Remote  Evening   \n",
      "2                  NaN           2  Retired     New York  Morning   \n",
      "3                  2.0          13  Retired       Remote  Evening   \n",
      "4                  5.0          16  Retired     New York  Evening   \n",
      "..                 ...         ...      ...          ...      ...   \n",
      "995                4.0           3   Active  Los Angeles  Evening   \n",
      "996                NaN          12  Retired     New York  Morning   \n",
      "997                5.0           3   Active     New York  Morning   \n",
      "998                4.0           9  Retired  Los Angeles  Evening   \n",
      "999                2.0           4   Active       Remote  Morning   \n",
      "\n",
      "     Years With Company  Bonus  Normalized Salary  \n",
      "0                     9  564.1           0.454500  \n",
      "1                     4  424.9           0.280020  \n",
      "2                     5  305.8           0.130735  \n",
      "3                     7  589.5           0.486337  \n",
      "4                     4  431.7           0.288543  \n",
      "..                  ...    ...                ...  \n",
      "995                   0  765.2           0.706568  \n",
      "996                   6  675.4           0.594009  \n",
      "997                   1  527.8           0.409000  \n",
      "998                   2  543.7           0.428930  \n",
      "999                   2  736.4           0.670469  \n",
      "\n",
      "[1000 rows x 15 columns]\n"
     ]
    }
   ],
   "source": [
    "# Replace all Location values with \"Remote\" for employees with a Performance Score below 3.\n",
    "df.loc[df['Performance Score'] < 3, 'Location'] = 'Remote'\n",
    "\n",
    "print(df)"
   ]
  },
  {
   "cell_type": "code",
   "execution_count": 20,
   "id": "e5f79774",
   "metadata": {
    "execution": {
     "iopub.execute_input": "2024-12-30T18:16:15.611158Z",
     "iopub.status.busy": "2024-12-30T18:16:15.610418Z",
     "iopub.status.idle": "2024-12-30T18:16:15.627569Z",
     "shell.execute_reply": "2024-12-30T18:16:15.626461Z"
    },
    "papermill": {
     "duration": 0.032218,
     "end_time": "2024-12-30T18:16:15.630004",
     "exception": false,
     "start_time": "2024-12-30T18:16:15.597786",
     "status": "completed"
    },
    "tags": []
   },
   "outputs": [
    {
     "name": "stdout",
     "output_type": "stream",
     "text": [
      "       ID                Name  Age  Gender Department  Salary Joining Date  \\\n",
      "0       1        Cory Escobar   48  Female         HR    5641   2015-05-03   \n",
      "1       2     Timothy Sanchez   25   Other      Sales    4249   2020-11-09   \n",
      "2       3        Chad Nichols   57   Other      Sales    3058   2019-02-12   \n",
      "3       4  Christine Williams   58  Female         IT    5895   2017-09-08   \n",
      "4       5        Amber Harris   35   Other         IT    4317   2020-02-15   \n",
      "..    ...                 ...  ...     ...        ...     ...          ...   \n",
      "995   996       Pamela Reeves   49  Female      Sales    7652   2024-06-23   \n",
      "996   997        Todd Johnson   29  Female      Sales    6754   2018-07-20   \n",
      "997   998     Michael Sanchez   18    Male      Sales    5278   2023-07-05   \n",
      "998   999       Ashley Taylor   51  Female         IT    5437   2022-02-18   \n",
      "999  1000         Shawn Scott   45    Male         IT    7364   2022-07-31   \n",
      "\n",
      "     Performance Score  Experience    Status     Location  Session  \n",
      "0                  2.0          16    Active     New York    Night  \n",
      "1                  2.0          11  Inactive  Los Angeles  Evening  \n",
      "2                  NaN           1  Inactive     New York  Morning  \n",
      "3                  2.0          13  Inactive  Los Angeles  Evening  \n",
      "4                  5.0          16  Inactive     New York  Evening  \n",
      "..                 ...         ...       ...          ...      ...  \n",
      "995                4.0           3    Active  Los Angeles  Evening  \n",
      "996                NaN          12  Inactive     New York  Morning  \n",
      "997                5.0           3    Active     New York  Morning  \n",
      "998                4.0           9  Inactive  Los Angeles  Evening  \n",
      "999                2.0           4    Active     New York  Morning  \n",
      "\n",
      "[1000 rows x 12 columns]\n"
     ]
    }
   ],
   "source": [
    "#Original Dataset\n",
    "original = pd.read_csv('/kaggle/input/employee-performance-and-salary-dataset/Employe_Performance_dataset.csv')\n",
    "print(original)"
   ]
  },
  {
   "cell_type": "code",
   "execution_count": 21,
   "id": "bfef00a5",
   "metadata": {
    "execution": {
     "iopub.execute_input": "2024-12-30T18:16:15.653875Z",
     "iopub.status.busy": "2024-12-30T18:16:15.653250Z",
     "iopub.status.idle": "2024-12-30T18:16:15.668130Z",
     "shell.execute_reply": "2024-12-30T18:16:15.666824Z"
    },
    "papermill": {
     "duration": 0.029213,
     "end_time": "2024-12-30T18:16:15.670186",
     "exception": false,
     "start_time": "2024-12-30T18:16:15.640973",
     "status": "completed"
    },
    "tags": []
   },
   "outputs": [
    {
     "name": "stdout",
     "output_type": "stream",
     "text": [
      "       ID                Name  Age  Gender Department  Salary Joining Date  \\\n",
      "0       1        Cory Escobar   48  Female         HR    5641   2015-05-03   \n",
      "1       2     Timothy Sanchez   25   Other      Sales    4249   2020-11-09   \n",
      "2       3        Chad Nichols   57   Other      Sales    3058   2019-02-12   \n",
      "3       4  Christine Williams   58  Female         IT    5895   2017-09-08   \n",
      "4       5        Amber Harris   35   Other         IT    4317   2020-02-15   \n",
      "..    ...                 ...  ...     ...        ...     ...          ...   \n",
      "995   996       Pamela Reeves   49  Female      Sales    7652   2024-06-23   \n",
      "996   997        Todd Johnson   29  Female      Sales    6754   2018-07-20   \n",
      "997   998     Michael Sanchez   18    Male      Sales    5278   2023-07-05   \n",
      "998   999       Ashley Taylor   51  Female         IT    5437   2022-02-18   \n",
      "999  1000         Shawn Scott   45    Male         IT    7364   2022-07-31   \n",
      "\n",
      "     Performance Score  Experience   Status     Location  Session  \\\n",
      "0                  2.0          16   Active       Remote    Night   \n",
      "1                  2.0          11  Retired       Remote  Evening   \n",
      "2                  NaN           2  Retired     New York  Morning   \n",
      "3                  2.0          13  Retired       Remote  Evening   \n",
      "4                  5.0          16  Retired     New York  Evening   \n",
      "..                 ...         ...      ...          ...      ...   \n",
      "995                4.0           3   Active  Los Angeles  Evening   \n",
      "996                NaN          12  Retired     New York  Morning   \n",
      "997                5.0           3   Active     New York  Morning   \n",
      "998                4.0           9  Retired  Los Angeles  Evening   \n",
      "999                2.0           4   Active       Remote  Morning   \n",
      "\n",
      "     Years With Company  Bonus  Normalized Salary Experience Level  \n",
      "0                     9  564.1           0.454500           Senior  \n",
      "1                     4  424.9           0.280020           Senior  \n",
      "2                     5  305.8           0.130735           Junior  \n",
      "3                     7  589.5           0.486337           Senior  \n",
      "4                     4  431.7           0.288543           Senior  \n",
      "..                  ...    ...                ...              ...  \n",
      "995                   0  765.2           0.706568           Junior  \n",
      "996                   6  675.4           0.594009           Senior  \n",
      "997                   1  527.8           0.409000           Junior  \n",
      "998                   2  543.7           0.428930              Mid  \n",
      "999                   2  736.4           0.670469           Junior  \n",
      "\n",
      "[1000 rows x 16 columns]\n"
     ]
    }
   ],
   "source": [
    "#. Create a new column Experience Level with values \"Junior\", \"Mid\", or \"Senior\" based on the \n",
    "#Experience.\n",
    "conditions = [\n",
    "    (df['Experience'] < 5),  \n",
    "    (df['Experience'] >= 5) & (df['Experience'] < 10), \n",
    "    (df['Experience'] >= 10)]\n",
    "\n",
    "experience_levels = ['Junior', 'Mid', 'Senior']\n",
    "\n",
    "df['Experience Level'] = np.select(conditions, experience_levels, default='Unknown')\n",
    "\n",
    "print(df)\n",
    "\n",
    "    "
   ]
  },
  {
   "cell_type": "code",
   "execution_count": 22,
   "id": "61cf16e7",
   "metadata": {
    "execution": {
     "iopub.execute_input": "2024-12-30T18:16:15.694622Z",
     "iopub.status.busy": "2024-12-30T18:16:15.693684Z",
     "iopub.status.idle": "2024-12-30T18:16:15.705064Z",
     "shell.execute_reply": "2024-12-30T18:16:15.703922Z"
    },
    "papermill": {
     "duration": 0.026184,
     "end_time": "2024-12-30T18:16:15.707429",
     "exception": false,
     "start_time": "2024-12-30T18:16:15.681245",
     "status": "completed"
    },
    "tags": []
   },
   "outputs": [
    {
     "name": "stdout",
     "output_type": "stream",
     "text": [
      "                Name Joining Date\n",
      "995    Pamela Reeves   2024-06-23\n",
      "996     Todd Johnson   2018-07-20\n",
      "997  Michael Sanchez   2023-07-05\n",
      "998    Ashley Taylor   2022-02-18\n",
      "999      Shawn Scott   2022-07-31\n"
     ]
    }
   ],
   "source": [
    "# Convert the 'Joining Date' column to datetime format\n",
    "df['Joining Date'] = pd.to_datetime(df['Joining Date'])\n",
    "\n",
    "# Reformat the 'Joining Date' column to 'YYYY-MM-DD' format\n",
    "df['Joining Date'] = df['Joining Date'].dt.strftime('%Y-%m-%d')\n",
    "\n",
    "print(df[['Name', 'Joining Date']].tail()) \n"
   ]
  },
  {
   "cell_type": "code",
   "execution_count": 23,
   "id": "0cbdac11",
   "metadata": {
    "execution": {
     "iopub.execute_input": "2024-12-30T18:16:15.732218Z",
     "iopub.status.busy": "2024-12-30T18:16:15.731473Z",
     "iopub.status.idle": "2024-12-30T18:16:15.748012Z",
     "shell.execute_reply": "2024-12-30T18:16:15.746799Z"
    },
    "papermill": {
     "duration": 0.031483,
     "end_time": "2024-12-30T18:16:15.750077",
     "exception": false,
     "start_time": "2024-12-30T18:16:15.718594",
     "status": "completed"
    },
    "tags": []
   },
   "outputs": [
    {
     "name": "stdout",
     "output_type": "stream",
     "text": [
      "        ID                Name  Age  Gender Department  Salary Joining Date  \\\n",
      "0        1        Cory Escobar   48  Female         HR    5641   2015-05-03   \n",
      "1        2     Timothy Sanchez   25   Other      Sales    4249   2020-11-09   \n",
      "2        3        Chad Nichols   57   Other      Sales    3058   2019-02-12   \n",
      "3        4  Christine Williams   58  Female         IT    5895   2017-09-08   \n",
      "4        5        Amber Harris   35   Other         IT    4317   2020-02-15   \n",
      "...    ...                 ...  ...     ...        ...     ...          ...   \n",
      "996    997        Todd Johnson   29  Female      Sales    6754   2018-07-20   \n",
      "997    998     Michael Sanchez   18    Male      Sales    5278   2023-07-05   \n",
      "998    999       Ashley Taylor   51  Female         IT    5437   2022-02-18   \n",
      "999   1000         Shawn Scott   45    Male         IT    7364   2022-07-31   \n",
      "1000  1001       Nicole Otieno   28  Female         IT    5500   2024-12-11   \n",
      "\n",
      "      Performance Score  Experience   Status     Location  Session  \\\n",
      "0                   2.0          16   Active       Remote    Night   \n",
      "1                   2.0          11  Retired       Remote  Evening   \n",
      "2                   NaN           2  Retired     New York  Morning   \n",
      "3                   2.0          13  Retired       Remote  Evening   \n",
      "4                   5.0          16  Retired     New York  Evening   \n",
      "...                 ...         ...      ...          ...      ...   \n",
      "996                 NaN          12  Retired     New York  Morning   \n",
      "997                 5.0           3   Active     New York  Morning   \n",
      "998                 4.0           9  Retired  Los Angeles  Evening   \n",
      "999                 2.0           4   Active       Remote  Morning   \n",
      "1000                4.5           3   Active     New York    Night   \n",
      "\n",
      "      Years With Company  Bonus  Normalized Salary Experience Level  \n",
      "0                      9  564.1           0.454500           Senior  \n",
      "1                      4  424.9           0.280020           Senior  \n",
      "2                      5  305.8           0.130735           Junior  \n",
      "3                      7  589.5           0.486337           Senior  \n",
      "4                      4  431.7           0.288543           Senior  \n",
      "...                  ...    ...                ...              ...  \n",
      "996                    6  675.4           0.594009           Senior  \n",
      "997                    1  527.8           0.409000           Junior  \n",
      "998                    2  543.7           0.428930              Mid  \n",
      "999                    2  736.4           0.670469           Junior  \n",
      "1000                   1  550.0                NaN           Junior  \n",
      "\n",
      "[1001 rows x 16 columns]\n"
     ]
    }
   ],
   "source": [
    "# Add a new row with specific values using the append() method. \n",
    "#since the DataFrame object has no value append , I would use concatenation\n",
    "\n",
    "new_row = {\n",
    "    'ID': 1001,\n",
    "    'Name': 'Nicole Otieno',\n",
    "    'Age': 28,\n",
    "    'Gender': 'Female',\n",
    "    'Department': 'IT',\n",
    "    'Salary': 5500,\n",
    "    'Joining Date': '2024-12-11',\n",
    "    'Performance Score': 4.5,\n",
    "    'Experience': 3,\n",
    "    'Status': 'Active',\n",
    "    'Location': 'New York',\n",
    "    'Session': 'Night',\n",
    "    'Years With Company': 1,\n",
    "    'Bonus': 550.0,\n",
    "    'Experience Level': 'Junior'\n",
    "}\n",
    "\n",
    "new_row_df = pd.DataFrame([new_row])\n",
    "\n",
    "\n",
    "df = pd.concat([df, new_row_df], ignore_index=True)\n",
    "# To check the last rows after \n",
    "print(df)\n",
    "\n",
    "\n",
    "\n",
    "\n"
   ]
  },
  {
   "cell_type": "code",
   "execution_count": 24,
   "id": "fe5c234f",
   "metadata": {
    "execution": {
     "iopub.execute_input": "2024-12-30T18:16:15.775523Z",
     "iopub.status.busy": "2024-12-30T18:16:15.775161Z",
     "iopub.status.idle": "2024-12-30T18:16:15.788230Z",
     "shell.execute_reply": "2024-12-30T18:16:15.787132Z"
    },
    "papermill": {
     "duration": 0.028997,
     "end_time": "2024-12-30T18:16:15.790429",
     "exception": false,
     "start_time": "2024-12-30T18:16:15.761432",
     "status": "completed"
    },
    "tags": []
   },
   "outputs": [
    {
     "name": "stdout",
     "output_type": "stream",
     "text": [
      "   ID                Name  Age  Gender Department  Salary Joining Date  \\\n",
      "0   1        Cory Escobar   48  Female         HR    5641   2015-05-03   \n",
      "1   2     Timothy Sanchez   25   Other      Sales    4249   2020-11-09   \n",
      "2   3        Chad Nichols   57   Other      Sales    3058   2019-02-12   \n",
      "3   4  Christine Williams   58  Female         IT    5895   2017-09-08   \n",
      "4   5        Amber Harris   35   Other         IT    4317   2020-02-15   \n",
      "\n",
      "   Performance Score  Experience   Status  Location  Years With Company  \\\n",
      "0                2.0          16   Active    Remote                   9   \n",
      "1                2.0          11  Retired    Remote                   4   \n",
      "2                NaN           2  Retired  New York                   5   \n",
      "3                2.0          13  Retired    Remote                   7   \n",
      "4                5.0          16  Retired  New York                   4   \n",
      "\n",
      "   Bonus  Normalized Salary Experience Level  \n",
      "0  564.1           0.454500           Senior  \n",
      "1  424.9           0.280020           Senior  \n",
      "2  305.8           0.130735           Junior  \n",
      "3  589.5           0.486337           Senior  \n",
      "4  431.7           0.288543           Senior  \n",
      "0      Night\n",
      "1    Evening\n",
      "2    Morning\n",
      "3    Evening\n",
      "4    Evening\n",
      "Name: Session, dtype: object\n"
     ]
    }
   ],
   "source": [
    "# Delete the column Session from the DataFrame.\n",
    "#First save the session data for easy retrieval.\n",
    "session_data = df['Session'].copy()\n",
    "df = df.drop(columns=['Session'])\n",
    "\n",
    "print(df.head())\n",
    "#check if the session copy has been saved.\n",
    "print(session_data.head())"
   ]
  },
  {
   "cell_type": "code",
   "execution_count": 25,
   "id": "f406b3ce",
   "metadata": {
    "execution": {
     "iopub.execute_input": "2024-12-30T18:16:15.815158Z",
     "iopub.status.busy": "2024-12-30T18:16:15.814773Z",
     "iopub.status.idle": "2024-12-30T18:16:15.829360Z",
     "shell.execute_reply": "2024-12-30T18:16:15.828073Z"
    },
    "papermill": {
     "duration": 0.029389,
     "end_time": "2024-12-30T18:16:15.831430",
     "exception": false,
     "start_time": "2024-12-30T18:16:15.802041",
     "status": "completed"
    },
    "tags": []
   },
   "outputs": [
    {
     "name": "stdout",
     "output_type": "stream",
     "text": [
      "        ID                Name  Age  Gender Department  Salary Joining Date  \\\n",
      "0        1        Cory Escobar   48  Female         HR    5641   2015-05-03   \n",
      "1        2     Timothy Sanchez   25   Other      Sales    4249   2020-11-09   \n",
      "2        3        Chad Nichols   57   Other      Sales    3058   2019-02-12   \n",
      "3        4  Christine Williams   58  Female         IT    5895   2017-09-08   \n",
      "4        5        Amber Harris   35   Other         IT    4317   2020-02-15   \n",
      "...    ...                 ...  ...     ...        ...     ...          ...   \n",
      "996    997        Todd Johnson   29  Female      Sales    6754   2018-07-20   \n",
      "997    998     Michael Sanchez   18    Male      Sales    5278   2023-07-05   \n",
      "998    999       Ashley Taylor   51  Female         IT    5437   2022-02-18   \n",
      "999   1000         Shawn Scott   45    Male         IT    7364   2022-07-31   \n",
      "1000  1001       Nicole Otieno   28  Female         IT    5500   2024-12-11   \n",
      "\n",
      "      Performance Score  Experience   Status     Location  Years With Company  \\\n",
      "0                   2.0          16   Active       Remote                   9   \n",
      "1                   2.0          11  Retired       Remote                   4   \n",
      "2                   NaN           2  Retired     New York                   5   \n",
      "3                   2.0          13  Retired       Remote                   7   \n",
      "4                   5.0          16  Retired     New York                   4   \n",
      "...                 ...         ...      ...          ...                 ...   \n",
      "996                 NaN          12  Retired     New York                   6   \n",
      "997                 5.0           3   Active     New York                   1   \n",
      "998                 4.0           9  Retired  Los Angeles                   2   \n",
      "999                 2.0           4   Active       Remote                   2   \n",
      "1000                4.5           3   Active     New York                   1   \n",
      "\n",
      "      Bonus  Normalized Salary Experience Level  \n",
      "0     564.1           0.454500           Senior  \n",
      "1     424.9           0.280020           Senior  \n",
      "2     305.8           0.130735           Junior  \n",
      "3     589.5           0.486337           Senior  \n",
      "4     431.7           0.288543           Senior  \n",
      "...     ...                ...              ...  \n",
      "996   675.4           0.594009           Senior  \n",
      "997   527.8           0.409000           Junior  \n",
      "998   543.7           0.428930              Mid  \n",
      "999   736.4           0.670469           Junior  \n",
      "1000  550.0                NaN           Junior  \n",
      "\n",
      "[894 rows x 15 columns]\n"
     ]
    }
   ],
   "source": [
    "# Delete rows where the Age is greater than 60.\n",
    "#Filter.\n",
    "df = df[df['Age'] <= 60]\n",
    "\n",
    "print(df)"
   ]
  },
  {
   "cell_type": "code",
   "execution_count": 26,
   "id": "82ceeb51",
   "metadata": {
    "execution": {
     "iopub.execute_input": "2024-12-30T18:16:15.856330Z",
     "iopub.status.busy": "2024-12-30T18:16:15.855960Z",
     "iopub.status.idle": "2024-12-30T18:16:15.870874Z",
     "shell.execute_reply": "2024-12-30T18:16:15.869720Z"
    },
    "papermill": {
     "duration": 0.030415,
     "end_time": "2024-12-30T18:16:15.873758",
     "exception": false,
     "start_time": "2024-12-30T18:16:15.843343",
     "status": "completed"
    },
    "tags": []
   },
   "outputs": [
    {
     "name": "stdout",
     "output_type": "stream",
     "text": [
      "        ID                Name  Age  Gender Department  Salary Joining Date  \\\n",
      "0        1        Cory Escobar   48  Female         HR    5641   2015-05-03   \n",
      "1        2     Timothy Sanchez   25   Other      Sales    4249   2020-11-09   \n",
      "2        3        Chad Nichols   57   Other      Sales    3058   2019-02-12   \n",
      "3        4  Christine Williams   58  Female         IT    5895   2017-09-08   \n",
      "4        5        Amber Harris   35   Other         IT    4317   2020-02-15   \n",
      "...    ...                 ...  ...     ...        ...     ...          ...   \n",
      "996    997        Todd Johnson   29  Female      Sales    6754   2018-07-20   \n",
      "997    998     Michael Sanchez   18    Male      Sales    5278   2023-07-05   \n",
      "998    999       Ashley Taylor   51  Female         IT    5437   2022-02-18   \n",
      "999   1000         Shawn Scott   45    Male         IT    7364   2022-07-31   \n",
      "1000  1001       Nicole Otieno   28  Female         IT    5500   2024-12-11   \n",
      "\n",
      "      Performance Score  Experience   Status     Location  Years With Company  \\\n",
      "0                   2.0          16   Active       Remote                   9   \n",
      "1                   2.0          11  Retired       Remote                   4   \n",
      "2                   NaN           2  Retired     New York                   5   \n",
      "3                   2.0          13  Retired       Remote                   7   \n",
      "4                   5.0          16  Retired     New York                   4   \n",
      "...                 ...         ...      ...          ...                 ...   \n",
      "996                 NaN          12  Retired     New York                   6   \n",
      "997                 5.0           3   Active     New York                   1   \n",
      "998                 4.0           9  Retired  Los Angeles                   2   \n",
      "999                 2.0           4   Active       Remote                   2   \n",
      "1000                4.5           3   Active     New York                   1   \n",
      "\n",
      "      Bonus  Normalized Salary Experience Level    Age Group  \n",
      "0     564.1           0.454500           Senior       Senior  \n",
      "1     424.9           0.280020           Senior        Young  \n",
      "2     305.8           0.130735           Junior       Senior  \n",
      "3     589.5           0.486337           Senior       Senior  \n",
      "4     431.7           0.288543           Senior  Middle-aged  \n",
      "...     ...                ...              ...          ...  \n",
      "996   675.4           0.594009           Senior        Young  \n",
      "997   527.8           0.409000           Junior        Young  \n",
      "998   543.7           0.428930              Mid       Senior  \n",
      "999   736.4           0.670469           Junior       Senior  \n",
      "1000  550.0                NaN           Junior        Young  \n",
      "\n",
      "[894 rows x 16 columns]\n"
     ]
    }
   ],
   "source": [
    " #Add a new column Age Group with values \"Young\", \"Middle-aged\", or \"Senior\" based on Age.\n",
    "conditions=[\n",
    "    (df['Age']<30),\n",
    "    (df['Age']>=30) & (df['Age']<45),\n",
    "    (df['Age']>=45)\n",
    "]\n",
    "age_group=['Young','Middle-aged','Senior']\n",
    "\n",
    "df['Age Group'] = np.select(conditions, age_group, default='Unknown')\n",
    "\n",
    "print(df)\n"
   ]
  },
  {
   "cell_type": "code",
   "execution_count": 27,
   "id": "2a74e056",
   "metadata": {
    "execution": {
     "iopub.execute_input": "2024-12-30T18:16:15.899096Z",
     "iopub.status.busy": "2024-12-30T18:16:15.898737Z",
     "iopub.status.idle": "2024-12-30T18:16:15.906901Z",
     "shell.execute_reply": "2024-12-30T18:16:15.905740Z"
    },
    "papermill": {
     "duration": 0.023422,
     "end_time": "2024-12-30T18:16:15.908934",
     "exception": false,
     "start_time": "2024-12-30T18:16:15.885512",
     "status": "completed"
    },
    "tags": []
   },
   "outputs": [
    {
     "name": "stdout",
     "output_type": "stream",
     "text": [
      "['Performance Score', 'Normalized Salary']\n"
     ]
    }
   ],
   "source": [
    "# Identify all columns with missing values using the isna() method. \n",
    "missing_columns = df.isna().any()\n",
    "\n",
    "print(missing_columns[missing_columns == True].index.tolist())"
   ]
  },
  {
   "cell_type": "code",
   "execution_count": 28,
   "id": "2a001149",
   "metadata": {
    "execution": {
     "iopub.execute_input": "2024-12-30T18:16:15.935049Z",
     "iopub.status.busy": "2024-12-30T18:16:15.934082Z",
     "iopub.status.idle": "2024-12-30T18:16:15.948234Z",
     "shell.execute_reply": "2024-12-30T18:16:15.946969Z"
    },
    "papermill": {
     "duration": 0.029359,
     "end_time": "2024-12-30T18:16:15.950329",
     "exception": false,
     "start_time": "2024-12-30T18:16:15.920970",
     "status": "completed"
    },
    "tags": []
   },
   "outputs": [
    {
     "name": "stdout",
     "output_type": "stream",
     "text": [
      "        ID                Name  Age  Gender Department  Salary Joining Date  \\\n",
      "0        1        Cory Escobar   48  Female         HR    5641   2015-05-03   \n",
      "1        2     Timothy Sanchez   25   Other      Sales    4249   2020-11-09   \n",
      "2        3        Chad Nichols   57   Other      Sales    3058   2019-02-12   \n",
      "3        4  Christine Williams   58  Female         IT    5895   2017-09-08   \n",
      "4        5        Amber Harris   35   Other         IT    4317   2020-02-15   \n",
      "...    ...                 ...  ...     ...        ...     ...          ...   \n",
      "996    997        Todd Johnson   29  Female      Sales    6754   2018-07-20   \n",
      "997    998     Michael Sanchez   18    Male      Sales    5278   2023-07-05   \n",
      "998    999       Ashley Taylor   51  Female         IT    5437   2022-02-18   \n",
      "999   1000         Shawn Scott   45    Male         IT    7364   2022-07-31   \n",
      "1000  1001       Nicole Otieno   28  Female         IT    5500   2024-12-11   \n",
      "\n",
      "      Performance Score  Experience   Status     Location  Years With Company  \\\n",
      "0              2.000000          16   Active       Remote                   9   \n",
      "1              2.000000          11  Retired       Remote                   4   \n",
      "2              3.443615           2  Retired     New York                   5   \n",
      "3              2.000000          13  Retired       Remote                   7   \n",
      "4              5.000000          16  Retired     New York                   4   \n",
      "...                 ...         ...      ...          ...                 ...   \n",
      "996            3.443615          12  Retired     New York                   6   \n",
      "997            5.000000           3   Active     New York                   1   \n",
      "998            4.000000           9  Retired  Los Angeles                   2   \n",
      "999            2.000000           4   Active       Remote                   2   \n",
      "1000           4.500000           3   Active     New York                   1   \n",
      "\n",
      "      Bonus  Normalized Salary Experience Level    Age Group  \n",
      "0     564.1           0.454500           Senior       Senior  \n",
      "1     424.9           0.280020           Senior        Young  \n",
      "2     305.8           0.130735           Junior       Senior  \n",
      "3     589.5           0.486337           Senior       Senior  \n",
      "4     431.7           0.288543           Senior  Middle-aged  \n",
      "...     ...                ...              ...          ...  \n",
      "996   675.4           0.594009           Senior        Young  \n",
      "997   527.8           0.409000           Junior        Young  \n",
      "998   543.7           0.428930              Mid       Senior  \n",
      "999   736.4           0.670469           Junior       Senior  \n",
      "1000  550.0                NaN           Junior        Young  \n",
      "\n",
      "[894 rows x 16 columns]\n"
     ]
    }
   ],
   "source": [
    "#Fill the missing values in Performance Score with the average score of that column.\n",
    "#Todd Johnson, index 996 had a missing value at Perfomence Score\n",
    "average_score = df['Performance Score'].mean()\n",
    "\n",
    "df['Performance Score'] = df['Performance Score'].fillna(average_score)\n",
    "\n",
    "print(df)\n"
   ]
  },
  {
   "cell_type": "code",
   "execution_count": 29,
   "id": "c5895d08",
   "metadata": {
    "execution": {
     "iopub.execute_input": "2024-12-30T18:16:15.976852Z",
     "iopub.status.busy": "2024-12-30T18:16:15.976067Z",
     "iopub.status.idle": "2024-12-30T18:16:15.990934Z",
     "shell.execute_reply": "2024-12-30T18:16:15.989727Z"
    },
    "papermill": {
     "duration": 0.030522,
     "end_time": "2024-12-30T18:16:15.993270",
     "exception": false,
     "start_time": "2024-12-30T18:16:15.962748",
     "status": "completed"
    },
    "tags": []
   },
   "outputs": [
    {
     "name": "stdout",
     "output_type": "stream",
     "text": [
      "       ID                Name  Age  Gender Department  Salary Joining Date  \\\n",
      "0       1        Cory Escobar   48  Female         HR    5641   2015-05-03   \n",
      "1       2     Timothy Sanchez   25   Other      Sales    4249   2020-11-09   \n",
      "2       3        Chad Nichols   57   Other      Sales    3058   2019-02-12   \n",
      "3       4  Christine Williams   58  Female         IT    5895   2017-09-08   \n",
      "4       5        Amber Harris   35   Other         IT    4317   2020-02-15   \n",
      "..    ...                 ...  ...     ...        ...     ...          ...   \n",
      "995   996       Pamela Reeves   49  Female      Sales    7652   2024-06-23   \n",
      "996   997        Todd Johnson   29  Female      Sales    6754   2018-07-20   \n",
      "997   998     Michael Sanchez   18    Male      Sales    5278   2023-07-05   \n",
      "998   999       Ashley Taylor   51  Female         IT    5437   2022-02-18   \n",
      "999  1000         Shawn Scott   45    Male         IT    7364   2022-07-31   \n",
      "\n",
      "     Performance Score  Experience   Status     Location  Years With Company  \\\n",
      "0             2.000000          16   Active       Remote                   9   \n",
      "1             2.000000          11  Retired       Remote                   4   \n",
      "2             3.443615           2  Retired     New York                   5   \n",
      "3             2.000000          13  Retired       Remote                   7   \n",
      "4             5.000000          16  Retired     New York                   4   \n",
      "..                 ...         ...      ...          ...                 ...   \n",
      "995           4.000000           3   Active  Los Angeles                   0   \n",
      "996           3.443615          12  Retired     New York                   6   \n",
      "997           5.000000           3   Active     New York                   1   \n",
      "998           4.000000           9  Retired  Los Angeles                   2   \n",
      "999           2.000000           4   Active       Remote                   2   \n",
      "\n",
      "     Bonus  Normalized Salary Experience Level    Age Group  \n",
      "0    564.1           0.454500           Senior       Senior  \n",
      "1    424.9           0.280020           Senior        Young  \n",
      "2    305.8           0.130735           Junior       Senior  \n",
      "3    589.5           0.486337           Senior       Senior  \n",
      "4    431.7           0.288543           Senior  Middle-aged  \n",
      "..     ...                ...              ...          ...  \n",
      "995  765.2           0.706568           Junior       Senior  \n",
      "996  675.4           0.594009           Senior        Young  \n",
      "997  527.8           0.409000           Junior        Young  \n",
      "998  543.7           0.428930              Mid       Senior  \n",
      "999  736.4           0.670469           Junior       Senior  \n",
      "\n",
      "[893 rows x 16 columns]\n"
     ]
    }
   ],
   "source": [
    "# Drop all rows with missing values using the dropna() method.\n",
    "#Nicole still has a missing value at Normalized salary hence will be dropped.\n",
    "#Drops rows with NaN but keeps the original dataframe intact.\n",
    "df_cleaned = df.dropna()\n",
    "\n",
    "print(df_cleaned)"
   ]
  },
  {
   "cell_type": "code",
   "execution_count": 30,
   "id": "601f5cd4",
   "metadata": {
    "execution": {
     "iopub.execute_input": "2024-12-30T18:16:16.019378Z",
     "iopub.status.busy": "2024-12-30T18:16:16.019005Z",
     "iopub.status.idle": "2024-12-30T18:16:16.053849Z",
     "shell.execute_reply": "2024-12-30T18:16:16.052780Z"
    },
    "papermill": {
     "duration": 0.050911,
     "end_time": "2024-12-30T18:16:16.056134",
     "exception": false,
     "start_time": "2024-12-30T18:16:16.005223",
     "status": "completed"
    },
    "tags": []
   },
   "outputs": [
    {
     "name": "stdout",
     "output_type": "stream",
     "text": [
      "Rows that had missing values and were re-manipulated:\n",
      "Empty DataFrame\n",
      "Columns: [ID, Name, Age, Gender, Department, Salary, Joining Date, Performance Score, Experience, Status, Location, Years With Company, Bonus, Normalized Salary, Experience Level, Age Group]\n",
      "Index: []\n",
      "\n",
      "Updated DataFrame:\n",
      "         ID                Name  Age  Gender Department  Salary Joining Date  \\\n",
      "0        1        Cory Escobar   48  Female         HR    5641   2015-05-03   \n",
      "1        2     Timothy Sanchez   25   Other      Sales    4249   2020-11-09   \n",
      "2        3        Chad Nichols   57   Other      Sales    3058   2019-02-12   \n",
      "3        4  Christine Williams   58  Female         IT    5895   2017-09-08   \n",
      "4        5        Amber Harris   35   Other         IT    4317   2020-02-15   \n",
      "...    ...                 ...  ...     ...        ...     ...          ...   \n",
      "996    997        Todd Johnson   29  Female      Sales    6754   2018-07-20   \n",
      "997    998     Michael Sanchez   18    Male      Sales    5278   2023-07-05   \n",
      "998    999       Ashley Taylor   51  Female         IT    5437   2022-02-18   \n",
      "999   1000         Shawn Scott   45    Male         IT    7364   2022-07-31   \n",
      "1000  1001       Nicole Otieno   28  Female         IT    5500   2024-12-11   \n",
      "\n",
      "      Performance Score  Experience   Status     Location  Years With Company  \\\n",
      "0              2.000000          16   Active       Remote                   9   \n",
      "1              2.000000          11  Retired       Remote                   4   \n",
      "2              3.443615           2  Retired     New York                   5   \n",
      "3              2.000000          13  Retired       Remote                   7   \n",
      "4              5.000000          16  Retired     New York                   4   \n",
      "...                 ...         ...      ...          ...                 ...   \n",
      "996            3.443615          12  Retired     New York                   6   \n",
      "997            5.000000           3   Active     New York                   1   \n",
      "998            4.000000           9  Retired  Los Angeles                   2   \n",
      "999            2.000000           4   Active       Remote                   2   \n",
      "1000           4.500000           3   Active     New York                   1   \n",
      "\n",
      "      Bonus  Normalized Salary Experience Level    Age Group  \n",
      "0     564.1           0.454500           Senior       Senior  \n",
      "1     424.9           0.280020           Senior        Young  \n",
      "2     305.8           0.130735           Junior       Senior  \n",
      "3     589.5           0.486337           Senior       Senior  \n",
      "4     431.7           0.288543           Senior  Middle-aged  \n",
      "...     ...                ...              ...          ...  \n",
      "996   675.4           0.594009           Senior        Young  \n",
      "997   527.8           0.409000           Junior        Young  \n",
      "998   543.7           0.428930              Mid       Senior  \n",
      "999   736.4           0.670469           Junior       Senior  \n",
      "1000  550.0                NaN           Junior        Young  \n",
      "\n",
      "[894 rows x 16 columns]\n"
     ]
    }
   ],
   "source": [
    "# Replace missing values in Performance Score with the median of the scores, grouped by Department.\n",
    "missing_rows_before = df[df['Performance Score'].isna()]\n",
    "median_scores = df.groupby('Department')['Performance Score'].median()\n",
    "# Step 3: Replace missing values with the department's median\n",
    "df['Performance Score'] = df.apply(\n",
    "    lambda row: median_scores[row['Department']] if pd.isna(row['Performance Score']) else row['Performance Score'], \n",
    "    axis=1\n",
    ")\n",
    "\n",
    "# Step 4: Identify rows that were previously missing and are now filled\n",
    "missing_rows_after = df[df.index.isin(missing_rows_before.index)]\n",
    "\n",
    "print(f\"Rows that had missing values and were re-manipulated:\\n{missing_rows_after}\")\n",
    "print(\"\\nUpdated DataFrame:\\n\", df)\n"
   ]
  },
  {
   "cell_type": "code",
   "execution_count": 31,
   "id": "16540fb5",
   "metadata": {
    "execution": {
     "iopub.execute_input": "2024-12-30T18:16:16.082590Z",
     "iopub.status.busy": "2024-12-30T18:16:16.081900Z",
     "iopub.status.idle": "2024-12-30T18:16:16.097060Z",
     "shell.execute_reply": "2024-12-30T18:16:16.095723Z"
    },
    "papermill": {
     "duration": 0.030979,
     "end_time": "2024-12-30T18:16:16.099396",
     "exception": false,
     "start_time": "2024-12-30T18:16:16.068417",
     "status": "completed"
    },
    "tags": []
   },
   "outputs": [
    {
     "name": "stdout",
     "output_type": "stream",
     "text": [
      "       ID                Name  Age  Gender Department  Salary Joining Date  \\\n",
      "3       4  Christine Williams   58  Female         IT    5895   2017-09-08   \n",
      "33     34    Mr. Brian Nelson   42  Female         IT    5207   2017-08-17   \n",
      "34     35            Lisa Fry   51  Female         IT    9259   2017-09-26   \n",
      "41     42      Charles Mccall   58   Other         IT    9512   2024-11-10   \n",
      "47     48        Jake Johnson   48   Other         IT    5848   2017-02-03   \n",
      "..    ...                 ...  ...     ...        ...     ...          ...   \n",
      "979   980    Crystal Espinoza   55  Female         IT    4952   2023-09-04   \n",
      "984   985        Jeffrey Hall   41   Other         IT    8768   2018-08-27   \n",
      "986   987     Melissa Bradley   39  Female         IT    9618   2015-07-05   \n",
      "998   999       Ashley Taylor   51  Female         IT    5437   2022-02-18   \n",
      "999  1000         Shawn Scott   45    Male         IT    7364   2022-07-31   \n",
      "\n",
      "     Performance Score  Experience   Status     Location  Years With Company  \\\n",
      "3                  2.0          13  Retired       Remote                   7   \n",
      "33                 1.0           4   Active       Remote                   7   \n",
      "34                 4.0          17  Retired  Los Angeles                   7   \n",
      "41                 5.0           8  Retired  Los Angeles                   0   \n",
      "47                 3.0           2   Active  Los Angeles                   7   \n",
      "..                 ...         ...      ...          ...                 ...   \n",
      "979                2.0           5   Active       Remote                   1   \n",
      "984                3.0          16  Retired  Los Angeles                   6   \n",
      "986                1.0          13   Active       Remote                   9   \n",
      "998                4.0           9  Retired  Los Angeles                   2   \n",
      "999                2.0           4   Active       Remote                   2   \n",
      "\n",
      "     Bonus  Normalized Salary Experience Level    Age Group  \n",
      "3    589.5           0.486337           Senior       Senior  \n",
      "33   520.7           0.400100           Junior  Middle-aged  \n",
      "34   925.9           0.907997           Senior       Senior  \n",
      "41   951.2           0.939709              Mid       Senior  \n",
      "47   584.8           0.480446           Junior       Senior  \n",
      "..     ...                ...              ...          ...  \n",
      "979  495.2           0.368137              Mid       Senior  \n",
      "984  876.8           0.846453           Senior  Middle-aged  \n",
      "986  961.8           0.952996           Senior  Middle-aged  \n",
      "998  543.7           0.428930              Mid       Senior  \n",
      "999  736.4           0.670469           Junior       Senior  \n",
      "\n",
      "[150 rows x 16 columns]\n"
     ]
    }
   ],
   "source": [
    "#26 Identify rows where the employee is in the \"IT\" department and their Age is above the average Age \n",
    "#of \"IT\" employees\n",
    "average_age_it = df[df['Department'] == 'IT']['Age'].mean()\n",
    "it_dept_above_average_age= df[(df['Department']=='IT') & (df['Age'] >average_age_it)]\n",
    "print(it_dept_above_average_age)"
   ]
  },
  {
   "cell_type": "code",
   "execution_count": 32,
   "id": "0b1976b5",
   "metadata": {
    "execution": {
     "iopub.execute_input": "2024-12-30T18:16:16.125948Z",
     "iopub.status.busy": "2024-12-30T18:16:16.125400Z",
     "iopub.status.idle": "2024-12-30T18:16:16.142574Z",
     "shell.execute_reply": "2024-12-30T18:16:16.141455Z"
    },
    "papermill": {
     "duration": 0.033018,
     "end_time": "2024-12-30T18:16:16.144795",
     "exception": false,
     "start_time": "2024-12-30T18:16:16.111777",
     "status": "completed"
    },
    "tags": []
   },
   "outputs": [
    {
     "name": "stdout",
     "output_type": "stream",
     "text": [
      "       ID                Name  Age  Gender Department  Salary Joining Date  \\\n",
      "0       1        Cory Escobar   48  Female         HR    5641   2015-05-03   \n",
      "1       2     Timothy Sanchez   25   Other      Sales    4249   2020-11-09   \n",
      "2       3        Chad Nichols   57   Other      Sales    3058   2019-02-12   \n",
      "3       4  Christine Williams   58  Female         IT    5895   2017-09-08   \n",
      "4       5        Amber Harris   35   Other         IT    4317   2020-02-15   \n",
      "..    ...                 ...  ...     ...        ...     ...          ...   \n",
      "890   998     Michael Sanchez   18    Male      Sales    5278   2023-07-05   \n",
      "891   999       Ashley Taylor   51  Female         IT    5437   2022-02-18   \n",
      "892  1000         Shawn Scott   45    Male         IT    7364   2022-07-31   \n",
      "893  1001       Nicole Otieno   28  Female         IT    5500   2024-12-11   \n",
      "894  1001       Nicole Otieno   28  Female         IT    5500   2024-12-11   \n",
      "\n",
      "     Performance Score  Experience   Status     Location  Years With Company  \\\n",
      "0             2.000000          16   Active       Remote                   9   \n",
      "1             2.000000          11  Retired       Remote                   4   \n",
      "2             3.443615           2  Retired     New York                   5   \n",
      "3             2.000000          13  Retired       Remote                   7   \n",
      "4             5.000000          16  Retired     New York                   4   \n",
      "..                 ...         ...      ...          ...                 ...   \n",
      "890           5.000000           3   Active     New York                   1   \n",
      "891           4.000000           9  Retired  Los Angeles                   2   \n",
      "892           2.000000           4   Active       Remote                   2   \n",
      "893           4.500000           3   Active     New York                   1   \n",
      "894           4.500000           3   Active     New York                   1   \n",
      "\n",
      "     Bonus  Normalized Salary Experience Level    Age Group Session  \n",
      "0    564.1           0.454500           Senior       Senior     NaN  \n",
      "1    424.9           0.280020           Senior        Young     NaN  \n",
      "2    305.8           0.130735           Junior       Senior     NaN  \n",
      "3    589.5           0.486337           Senior       Senior     NaN  \n",
      "4    431.7           0.288543           Senior  Middle-aged     NaN  \n",
      "..     ...                ...              ...          ...     ...  \n",
      "890  527.8           0.409000           Junior        Young     NaN  \n",
      "891  543.7           0.428930              Mid       Senior     NaN  \n",
      "892  736.4           0.670469           Junior       Senior     NaN  \n",
      "893  550.0                NaN           Junior        Young     NaN  \n",
      "894  550.0                NaN           Junior          NaN   Night  \n",
      "\n",
      "[895 rows x 17 columns]\n"
     ]
    }
   ],
   "source": [
    "# add a duplicate row\n",
    "new_row = {\n",
    "    'ID': 1001,\n",
    "    'Name': 'Nicole Otieno',\n",
    "    'Age': 28,\n",
    "    'Gender': 'Female',\n",
    "    'Department': 'IT',\n",
    "    'Salary': 5500,\n",
    "    'Joining Date': '2024-12-11',\n",
    "    'Performance Score': 4.5,\n",
    "    'Experience': 3,\n",
    "    'Status': 'Active',\n",
    "    'Location': 'New York',\n",
    "    'Session': 'Night',\n",
    "    'Years With Company': 1,\n",
    "    'Bonus': 550.0,\n",
    "    'Experience Level': 'Junior'\n",
    "}\n",
    "\n",
    "new_row_df = pd.DataFrame([new_row])\n",
    "\n",
    "\n",
    "df = pd.concat([df, new_row_df], ignore_index=True)\n",
    "# To check the last rows after \n",
    "print(df)"
   ]
  },
  {
   "cell_type": "code",
   "execution_count": 33,
   "id": "2c9578ef",
   "metadata": {
    "execution": {
     "iopub.execute_input": "2024-12-30T18:16:16.171639Z",
     "iopub.status.busy": "2024-12-30T18:16:16.171271Z",
     "iopub.status.idle": "2024-12-30T18:16:16.186015Z",
     "shell.execute_reply": "2024-12-30T18:16:16.184758Z"
    },
    "papermill": {
     "duration": 0.030924,
     "end_time": "2024-12-30T18:16:16.188180",
     "exception": false,
     "start_time": "2024-12-30T18:16:16.157256",
     "status": "completed"
    },
    "tags": []
   },
   "outputs": [
    {
     "name": "stdout",
     "output_type": "stream",
     "text": [
      "Duplicate rows:\n",
      "       ID           Name  Age  Gender Department  Salary Joining Date  \\\n",
      "893  1001  Nicole Otieno   28  Female         IT    5500   2024-12-11   \n",
      "894  1001  Nicole Otieno   28  Female         IT    5500   2024-12-11   \n",
      "\n",
      "     Performance Score  Experience  Status  Location  Years With Company  \\\n",
      "893                4.5           3  Active  New York                   1   \n",
      "894                4.5           3  Active  New York                   1   \n",
      "\n",
      "     Bonus  Normalized Salary Experience Level Age Group Session  \n",
      "893  550.0                NaN           Junior     Young     NaN  \n",
      "894  550.0                NaN           Junior       NaN   Night  \n"
     ]
    }
   ],
   "source": [
    "#27 . Identify rows with duplicate Name and Joining Date combinations, and remove duplicates. \n",
    "#a)step 1: identify duplicatees there is a duplicate because I added another row with Nicole, initially it was an empty dataframe.\n",
    "duplicates = df[df.duplicated(subset=['Name', 'Joining Date'], keep=False)]\n",
    "\n",
    "print(\"Duplicate rows:\")\n",
    "print(duplicates)"
   ]
  },
  {
   "cell_type": "code",
   "execution_count": 34,
   "id": "3d13bca8",
   "metadata": {
    "execution": {
     "iopub.execute_input": "2024-12-30T18:16:16.214536Z",
     "iopub.status.busy": "2024-12-30T18:16:16.214164Z",
     "iopub.status.idle": "2024-12-30T18:16:16.228606Z",
     "shell.execute_reply": "2024-12-30T18:16:16.227602Z"
    },
    "papermill": {
     "duration": 0.030427,
     "end_time": "2024-12-30T18:16:16.231062",
     "exception": false,
     "start_time": "2024-12-30T18:16:16.200635",
     "status": "completed"
    },
    "tags": []
   },
   "outputs": [
    {
     "name": "stdout",
     "output_type": "stream",
     "text": [
      "       ID                Name  Age  Gender Department  Salary Joining Date  \\\n",
      "0       1        Cory Escobar   48  Female         HR    5641   2015-05-03   \n",
      "1       2     Timothy Sanchez   25   Other      Sales    4249   2020-11-09   \n",
      "2       3        Chad Nichols   57   Other      Sales    3058   2019-02-12   \n",
      "3       4  Christine Williams   58  Female         IT    5895   2017-09-08   \n",
      "4       5        Amber Harris   35   Other         IT    4317   2020-02-15   \n",
      "..    ...                 ...  ...     ...        ...     ...          ...   \n",
      "889   997        Todd Johnson   29  Female      Sales    6754   2018-07-20   \n",
      "890   998     Michael Sanchez   18    Male      Sales    5278   2023-07-05   \n",
      "891   999       Ashley Taylor   51  Female         IT    5437   2022-02-18   \n",
      "892  1000         Shawn Scott   45    Male         IT    7364   2022-07-31   \n",
      "893  1001       Nicole Otieno   28  Female         IT    5500   2024-12-11   \n",
      "\n",
      "     Performance Score  Experience   Status     Location  Years With Company  \\\n",
      "0             2.000000          16   Active       Remote                   9   \n",
      "1             2.000000          11  Retired       Remote                   4   \n",
      "2             3.443615           2  Retired     New York                   5   \n",
      "3             2.000000          13  Retired       Remote                   7   \n",
      "4             5.000000          16  Retired     New York                   4   \n",
      "..                 ...         ...      ...          ...                 ...   \n",
      "889           3.443615          12  Retired     New York                   6   \n",
      "890           5.000000           3   Active     New York                   1   \n",
      "891           4.000000           9  Retired  Los Angeles                   2   \n",
      "892           2.000000           4   Active       Remote                   2   \n",
      "893           4.500000           3   Active     New York                   1   \n",
      "\n",
      "     Bonus  Normalized Salary Experience Level    Age Group Session  \n",
      "0    564.1           0.454500           Senior       Senior     NaN  \n",
      "1    424.9           0.280020           Senior        Young     NaN  \n",
      "2    305.8           0.130735           Junior       Senior     NaN  \n",
      "3    589.5           0.486337           Senior       Senior     NaN  \n",
      "4    431.7           0.288543           Senior  Middle-aged     NaN  \n",
      "..     ...                ...              ...          ...     ...  \n",
      "889  675.4           0.594009           Senior        Young     NaN  \n",
      "890  527.8           0.409000           Junior        Young     NaN  \n",
      "891  543.7           0.428930              Mid       Senior     NaN  \n",
      "892  736.4           0.670469           Junior       Senior     NaN  \n",
      "893  550.0                NaN           Junior        Young     NaN  \n",
      "\n",
      "[894 rows x 17 columns]\n"
     ]
    }
   ],
   "source": [
    "#b)Remove duplicates.\n",
    "df_cleaned = df.drop_duplicates(subset=['Name', 'Joining Date'], keep='first')\n",
    "print(df_cleaned)"
   ]
  },
  {
   "cell_type": "code",
   "execution_count": 35,
   "id": "68059c43",
   "metadata": {
    "execution": {
     "iopub.execute_input": "2024-12-30T18:16:16.257790Z",
     "iopub.status.busy": "2024-12-30T18:16:16.257375Z",
     "iopub.status.idle": "2024-12-30T18:16:16.280682Z",
     "shell.execute_reply": "2024-12-30T18:16:16.279558Z"
    },
    "papermill": {
     "duration": 0.039673,
     "end_time": "2024-12-30T18:16:16.283234",
     "exception": false,
     "start_time": "2024-12-30T18:16:16.243561",
     "status": "completed"
    },
    "tags": []
   },
   "outputs": [
    {
     "name": "stdout",
     "output_type": "stream",
     "text": [
      "      ID                Name  Age  Gender Department  Salary Joining Date  \\\n",
      "1      2     Timothy Sanchez   25   Other      Sales    4249   2020-11-09   \n",
      "12    15  Matthew Collins MD   31  Female      Sales    8568   2020-06-01   \n",
      "20    25       Tracy Carlson   21    Male         HR    9275   2022-04-09   \n",
      "22    27         Austin Long   20  Female         IT    4899   2024-05-01   \n",
      "24    30       Rachel Ramsey   22    Male      Sales    9661   2016-08-18   \n",
      "..   ...                 ...  ...     ...        ...     ...          ...   \n",
      "884  992     William Schultz   23   Other      Sales    4311   2019-08-17   \n",
      "885  993      Ashley Daniels   25   Other      Sales    5524   2022-11-24   \n",
      "887  995     Rachel Phillips   22    Male         IT    3096   2018-10-27   \n",
      "889  997        Todd Johnson   29  Female      Sales    6754   2018-07-20   \n",
      "890  998     Michael Sanchez   18    Male      Sales    5278   2023-07-05   \n",
      "\n",
      "     Performance Score  Experience   Status     Location  Years With Company  \\\n",
      "1             2.000000          11  Retired       Remote                   4   \n",
      "12            3.443615          20  Retired  Los Angeles                   4   \n",
      "20            4.000000          12   Active     New York                   2   \n",
      "22            5.000000           8  Retired      Chicago                   0   \n",
      "24            2.000000          17  Retired       Remote                   8   \n",
      "..                 ...         ...      ...          ...                 ...   \n",
      "884           3.443615          10  Retired  Los Angeles                   5   \n",
      "885           3.443615           8  Retired     New York                   2   \n",
      "887           2.000000           7  Retired       Remote                   6   \n",
      "889           3.443615          12  Retired     New York                   6   \n",
      "890           5.000000           3   Active     New York                   1   \n",
      "\n",
      "     Bonus  Normalized Salary Experience Level    Age Group Session  \n",
      "1    424.9           0.280020           Senior        Young     NaN  \n",
      "12   856.8           0.821384           Senior  Middle-aged     NaN  \n",
      "20   927.5           0.910003           Senior        Young     NaN  \n",
      "22   489.9           0.361494              Mid        Young     NaN  \n",
      "24   966.1           0.958386           Senior        Young     NaN  \n",
      "..     ...                ...              ...          ...     ...  \n",
      "884  431.1           0.287791           Senior        Young     NaN  \n",
      "885  552.4           0.439835              Mid        Young     NaN  \n",
      "887  309.6           0.135498              Mid        Young     NaN  \n",
      "889  675.4           0.594009           Senior        Young     NaN  \n",
      "890  527.8           0.409000           Junior        Young     NaN  \n",
      "\n",
      "[234 rows x 17 columns]\n",
      "       ID                Name  Age  Gender Department  Salary Joining Date  \\\n",
      "0       1        Cory Escobar   48  Female         HR    5641   2015-05-03   \n",
      "2       3        Chad Nichols   57   Other      Sales    3058   2019-02-12   \n",
      "3       4  Christine Williams   58  Female         IT    5895   2017-09-08   \n",
      "4       5        Amber Harris   35   Other         IT    4317   2020-02-15   \n",
      "5       6         Ashley Howe   29  Female         HR    2591   2016-06-24   \n",
      "..    ...                 ...  ...     ...        ...     ...          ...   \n",
      "888   996       Pamela Reeves   49  Female      Sales    7652   2024-06-23   \n",
      "891   999       Ashley Taylor   51  Female         IT    5437   2022-02-18   \n",
      "892  1000         Shawn Scott   45    Male         IT    7364   2022-07-31   \n",
      "893  1001       Nicole Otieno   28  Female         IT    5500   2024-12-11   \n",
      "894  1001       Nicole Otieno   28  Female         IT    5500   2024-12-11   \n",
      "\n",
      "     Performance Score  Experience   Status     Location  Years With Company  \\\n",
      "0             2.000000          16   Active       Remote                   9   \n",
      "2             3.443615           2  Retired     New York                   5   \n",
      "3             2.000000          13  Retired       Remote                   7   \n",
      "4             5.000000          16  Retired     New York                   4   \n",
      "5             1.000000           6   Active       Remote                   8   \n",
      "..                 ...         ...      ...          ...                 ...   \n",
      "888           4.000000           3   Active  Los Angeles                   0   \n",
      "891           4.000000           9  Retired  Los Angeles                   2   \n",
      "892           2.000000           4   Active       Remote                   2   \n",
      "893           4.500000           3   Active     New York                   1   \n",
      "894           4.500000           3   Active     New York                   1   \n",
      "\n",
      "     Bonus  Normalized Salary Experience Level    Age Group Session  \n",
      "0    564.1           0.454500           Senior       Senior     NaN  \n",
      "2    305.8           0.130735           Junior       Senior     NaN  \n",
      "3    589.5           0.486337           Senior       Senior     NaN  \n",
      "4    431.7           0.288543           Senior  Middle-aged     NaN  \n",
      "5    259.1           0.072199              Mid        Young     NaN  \n",
      "..     ...                ...              ...          ...     ...  \n",
      "888  765.2           0.706568           Junior       Senior     NaN  \n",
      "891  543.7           0.428930              Mid       Senior     NaN  \n",
      "892  736.4           0.670469           Junior       Senior     NaN  \n",
      "893  550.0                NaN           Junior        Young     NaN  \n",
      "894  550.0                NaN           Junior          NaN   Night  \n",
      "\n",
      "[661 rows x 17 columns]\n"
     ]
    }
   ],
   "source": [
    "#. Remove rows where the Experience value is inconsistent with the Age (e.g., Experience > Age - 18). \n",
    "#a)find inconsistent rows\n",
    "inconsistent_condition = df['Experience'] > (df['Age'] - 18)\n",
    "inconsistent_rows = df[inconsistent_condition]\n",
    "print(inconsistent_rows)\n",
    "\n",
    "#b)remove inconsistent rows\n",
    "df_cleaned1 = df[~inconsistent_condition] #dataframe excluding inconsistent rows\n",
    "print(df_cleaned1 )\n"
   ]
  },
  {
   "cell_type": "code",
   "execution_count": 36,
   "id": "996ed3b6",
   "metadata": {
    "execution": {
     "iopub.execute_input": "2024-12-30T18:16:16.310915Z",
     "iopub.status.busy": "2024-12-30T18:16:16.310069Z",
     "iopub.status.idle": "2024-12-30T18:16:16.325534Z",
     "shell.execute_reply": "2024-12-30T18:16:16.324378Z"
    },
    "papermill": {
     "duration": 0.031764,
     "end_time": "2024-12-30T18:16:16.327800",
     "exception": false,
     "start_time": "2024-12-30T18:16:16.296036",
     "status": "completed"
    },
    "tags": []
   },
   "outputs": [
    {
     "name": "stdout",
     "output_type": "stream",
     "text": [
      "      ID                Name  Age  Gender Department  Salary Joining Date  \\\n",
      "721  812        Jesse Miller   52    Male         HR    9993   2020-11-27   \n",
      "471  532  Jeffrey Williamson   54   Other         IT    9988   2015-12-08   \n",
      "882  990       Shannon Meyer   18   Other         HR    9985   2022-11-05   \n",
      "837  938       Gary Mitchell   52  Female      Sales    9963   2016-09-22   \n",
      "811  909       Sara Martinez   34   Other         HR    9951   2024-02-18   \n",
      "..   ...                 ...  ...     ...        ...     ...          ...   \n",
      "379  427      Patricia Scott   52    Male         HR    2041   2022-11-22   \n",
      "786  883      Jaclyn Collins   47    Male         IT    2029   2019-12-05   \n",
      "64    77       Victor Nelson   47  Female      Sales    2025   2015-05-14   \n",
      "420  474        David Potter   56    Male         IT    2016   2020-07-13   \n",
      "809  907   Christina Carlson   42  Female      Sales    2015   2020-05-08   \n",
      "\n",
      "     Performance Score  Experience   Status     Location  Years With Company  \\\n",
      "721           3.443615          12   Active      Chicago                   4   \n",
      "471           5.000000          16  Retired      Chicago                   9   \n",
      "882           4.000000          18   Active      Chicago                   2   \n",
      "837           5.000000          20  Retired  Los Angeles                   8   \n",
      "811           3.443615           6  Retired     New York                   0   \n",
      "..                 ...         ...      ...          ...                 ...   \n",
      "379           1.000000           8  Retired       Remote                   2   \n",
      "786           5.000000          17   Active  Los Angeles                   5   \n",
      "64            1.000000           5   Active       Remote                   9   \n",
      "420           5.000000          18   Active     New York                   4   \n",
      "809           1.000000          14  Retired       Remote                   4   \n",
      "\n",
      "     Bonus  Normalized Salary Experience Level    Age Group Session  \n",
      "721  999.3           1.000000           Senior       Senior     NaN  \n",
      "471  998.8           0.999373           Senior       Senior     NaN  \n",
      "882  998.5           0.998997           Senior        Young     NaN  \n",
      "837  996.3           0.996240           Senior       Senior     NaN  \n",
      "811  995.1           0.994736              Mid  Middle-aged     NaN  \n",
      "..     ...                ...              ...          ...     ...  \n",
      "379  204.1           0.003259              Mid       Senior     NaN  \n",
      "786  202.9           0.001755           Senior       Senior     NaN  \n",
      "64   202.5           0.001253              Mid       Senior     NaN  \n",
      "420  201.6           0.000125           Senior       Senior     NaN  \n",
      "809  201.5           0.000000           Senior  Middle-aged     NaN  \n",
      "\n",
      "[895 rows x 17 columns]\n"
     ]
    }
   ],
   "source": [
    "#29 Sort the DataFrame by Salary in descending order. \n",
    "df_sorted = df.sort_values(by='Salary', ascending=False) # to sort in ascending set ascending to True.\n",
    "print(df_sorted)"
   ]
  },
  {
   "cell_type": "code",
   "execution_count": 37,
   "id": "8e0928a7",
   "metadata": {
    "execution": {
     "iopub.execute_input": "2024-12-30T18:16:16.354939Z",
     "iopub.status.busy": "2024-12-30T18:16:16.354544Z",
     "iopub.status.idle": "2024-12-30T18:16:16.370383Z",
     "shell.execute_reply": "2024-12-30T18:16:16.369246Z"
    },
    "papermill": {
     "duration": 0.0322,
     "end_time": "2024-12-30T18:16:16.372635",
     "exception": false,
     "start_time": "2024-12-30T18:16:16.340435",
     "status": "completed"
    },
    "tags": []
   },
   "outputs": [
    {
     "name": "stdout",
     "output_type": "stream",
     "text": [
      "      ID               Name  Age  Gender Department  Salary Joining Date  \\\n",
      "425  480          Jay Scott   28   Other         HR    5496   2015-01-21   \n",
      "157  181   Sharon Patterson   33    Male         HR    6833   2015-02-04   \n",
      "263  296   Jennifer Nichols   21   Other         HR    4009   2015-02-22   \n",
      "454  515  Taylor Williamson   48    Male         HR    9293   2015-03-10   \n",
      "764  861     Jennifer Smith   23   Other         HR    7176   2015-03-13   \n",
      "..   ...                ...  ...     ...        ...     ...          ...   \n",
      "727  820         Amber Ward   54  Female      Sales    7880   2024-09-19   \n",
      "246  278        Sheryl Gray   22   Other      Sales    4226   2024-10-01   \n",
      "120  142  Matthew Gutierrez   38   Other      Sales    5883   2024-10-22   \n",
      "423  478         Mary Arias   19    Male      Sales    8893   2024-11-14   \n",
      "147  170      George Bowers   24   Other      Sales    6041   2024-12-07   \n",
      "\n",
      "     Performance Score  Experience   Status     Location  Years With Company  \\\n",
      "425           3.443615          18   Active      Chicago                   9   \n",
      "157           3.443615          16   Active     New York                   9   \n",
      "263           2.000000          13  Retired       Remote                   9   \n",
      "454           3.443615          17  Retired      Chicago                   9   \n",
      "764           4.000000           6   Active  Los Angeles                   9   \n",
      "..                 ...         ...      ...          ...                 ...   \n",
      "727           3.000000           6   Active     New York                   0   \n",
      "246           3.443615           8   Active      Chicago                   0   \n",
      "120           4.000000          14  Retired      Chicago                   0   \n",
      "423           3.443615           7   Active      Chicago                   0   \n",
      "147           2.000000           4   Active       Remote                   0   \n",
      "\n",
      "     Bonus  Normalized Salary Experience Level    Age Group Session  \n",
      "425  549.6           0.436325           Senior        Young     NaN  \n",
      "157  683.3           0.603911           Senior  Middle-aged     NaN  \n",
      "263  400.9           0.249937           Senior        Young     NaN  \n",
      "454  929.3           0.912259           Senior       Senior     NaN  \n",
      "764  717.6           0.646904              Mid        Young     NaN  \n",
      "..     ...                ...              ...          ...     ...  \n",
      "727  788.0           0.735147              Mid       Senior     NaN  \n",
      "246  422.6           0.277137              Mid        Young     NaN  \n",
      "120  588.3           0.484833           Senior  Middle-aged     NaN  \n",
      "423  889.3           0.862121              Mid        Young     NaN  \n",
      "147  604.1           0.504638           Junior        Young     NaN  \n",
      "\n",
      "[895 rows x 17 columns]\n"
     ]
    }
   ],
   "source": [
    "#30.  Sort the DataFrame by Department and then by Joining Date in ascending order.\n",
    "\n",
    "df_sorted = df.sort_values(by=['Department', 'Joining Date'], ascending=[True, True])\n",
    "print(df_sorted)"
   ]
  },
  {
   "cell_type": "code",
   "execution_count": 38,
   "id": "2871e6d9",
   "metadata": {
    "execution": {
     "iopub.execute_input": "2024-12-30T18:16:16.400486Z",
     "iopub.status.busy": "2024-12-30T18:16:16.399555Z",
     "iopub.status.idle": "2024-12-30T18:16:16.419859Z",
     "shell.execute_reply": "2024-12-30T18:16:16.418361Z"
    },
    "papermill": {
     "duration": 0.036441,
     "end_time": "2024-12-30T18:16:16.422124",
     "exception": false,
     "start_time": "2024-12-30T18:16:16.385683",
     "status": "completed"
    },
    "tags": []
   },
   "outputs": [
    {
     "name": "stdout",
     "output_type": "stream",
     "text": [
      "       ID                Name  Age  Gender Department  Salary Joining Date  \\\n",
      "0       1        Cory Escobar   48  Female         HR    5641   2015-05-03   \n",
      "1       2     Timothy Sanchez   25   Other      Sales    4249   2020-11-09   \n",
      "2       3        Chad Nichols   57   Other      Sales    3058   2019-02-12   \n",
      "3       4  Christine Williams   58  Female         IT    5895   2017-09-08   \n",
      "4       5        Amber Harris   35   Other         IT    4317   2020-02-15   \n",
      "..    ...                 ...  ...     ...        ...     ...          ...   \n",
      "890   998     Michael Sanchez   18    Male      Sales    5278   2023-07-05   \n",
      "891   999       Ashley Taylor   51  Female         IT    5437   2022-02-18   \n",
      "892  1000         Shawn Scott   45    Male         IT    7364   2022-07-31   \n",
      "893  1001       Nicole Otieno   28  Female         IT    5500   2024-12-11   \n",
      "894  1001       Nicole Otieno   28  Female         IT    5500   2024-12-11   \n",
      "\n",
      "     Performance Score  Experience   Status     Location  Years With Company  \\\n",
      "0             2.000000          16   Active       Remote                   9   \n",
      "1             2.000000          11  Retired       Remote                   4   \n",
      "2             3.443615           2  Retired     New York                   5   \n",
      "3             2.000000          13  Retired       Remote                   7   \n",
      "4             5.000000          16  Retired     New York                   4   \n",
      "..                 ...         ...      ...          ...                 ...   \n",
      "890           5.000000           3   Active     New York                   1   \n",
      "891           4.000000           9  Retired  Los Angeles                   2   \n",
      "892           2.000000           4   Active       Remote                   2   \n",
      "893           4.500000           3   Active     New York                   1   \n",
      "894           4.500000           3   Active     New York                   1   \n",
      "\n",
      "     Bonus  Normalized Salary Experience Level    Age Group Session  \\\n",
      "0    564.1           0.454500           Senior       Senior     NaN   \n",
      "1    424.9           0.280020           Senior        Young     NaN   \n",
      "2    305.8           0.130735           Junior       Senior     NaN   \n",
      "3    589.5           0.486337           Senior       Senior     NaN   \n",
      "4    431.7           0.288543           Senior  Middle-aged     NaN   \n",
      "..     ...                ...              ...          ...     ...   \n",
      "890  527.8           0.409000           Junior        Young     NaN   \n",
      "891  543.7           0.428930              Mid       Senior     NaN   \n",
      "892  736.4           0.670469           Junior       Senior     NaN   \n",
      "893  550.0                NaN           Junior        Young     NaN   \n",
      "894  550.0                NaN           Junior          NaN   Night   \n",
      "\n",
      "     Salary Rank  \n",
      "0          164.0  \n",
      "1          201.0  \n",
      "2          252.0  \n",
      "3          148.0  \n",
      "4          209.0  \n",
      "..           ...  \n",
      "890        159.0  \n",
      "891        167.0  \n",
      "892        108.0  \n",
      "893        161.0  \n",
      "894        161.0  \n",
      "\n",
      "[895 rows x 18 columns]\n"
     ]
    }
   ],
   "source": [
    "# 31. Rank all employees by Salary within their Department and add the rank as a new column.\n",
    "df['Salary Rank'] = df.groupby('Department')['Salary'].rank(ascending=False, method='dense') # dense assigns ranks in a consecutive manner without gaps.\n",
    "print(df)"
   ]
  },
  {
   "cell_type": "code",
   "execution_count": 39,
   "id": "48d429a1",
   "metadata": {
    "execution": {
     "iopub.execute_input": "2024-12-30T18:16:16.449748Z",
     "iopub.status.busy": "2024-12-30T18:16:16.449351Z",
     "iopub.status.idle": "2024-12-30T18:16:16.465676Z",
     "shell.execute_reply": "2024-12-30T18:16:16.464204Z"
    },
    "papermill": {
     "duration": 0.032954,
     "end_time": "2024-12-30T18:16:16.467974",
     "exception": false,
     "start_time": "2024-12-30T18:16:16.435020",
     "status": "completed"
    },
    "tags": []
   },
   "outputs": [
    {
     "name": "stdout",
     "output_type": "stream",
     "text": [
      "      ID            Name  Age  Gender Department  Salary Joining Date  \\\n",
      "318  356  Laura Castillo   41    Male         IT    2392   2024-03-15   \n",
      "344  388     Corey Smith   27   Other      Sales    2593   2017-07-27   \n",
      "357  403   Briana Martin   59    Male      Sales    4496   2023-05-22   \n",
      "477  539  Brandon Church   38    Male         HR    8388   2021-08-02   \n",
      "735  829  Michael Snyder   55   Other      Sales    7497   2024-02-03   \n",
      "..   ...             ...  ...     ...        ...     ...          ...   \n",
      "650  733       Jay Evans   21    Male         HR    8147   2022-03-29   \n",
      "709  798   Melanie Casey   44   Other         HR    4713   2017-10-09   \n",
      "715  804   Jacob Aguilar   23    Male         IT    2372   2020-06-01   \n",
      "783  880    Sarah Thomas   54    Male         IT    6185   2016-10-29   \n",
      "880  988  Danielle Brown   31  Female         IT    5605   2024-06-28   \n",
      "\n",
      "     Performance Score  Experience   Status  Location  Years With Company  \\\n",
      "318                1.0          20  Retired    Remote                   0   \n",
      "344                1.0          20   Active    Remote                   7   \n",
      "357                1.0          20  Retired    Remote                   1   \n",
      "477                1.0          20  Retired    Remote                   3   \n",
      "735                1.0          20  Retired    Remote                   0   \n",
      "..                 ...         ...      ...       ...                 ...   \n",
      "650                5.0           2  Retired   Chicago                   2   \n",
      "709                5.0           2   Active  New York                   7   \n",
      "715                5.0           2  Retired   Chicago                   4   \n",
      "783                5.0           2   Active  New York                   8   \n",
      "880                5.0           2   Active   Chicago                   0   \n",
      "\n",
      "     Bonus  Normalized Salary Experience Level    Age Group Session  \\\n",
      "318  239.2           0.047255           Senior  Middle-aged     NaN   \n",
      "344  259.3           0.072449           Senior        Young     NaN   \n",
      "357  449.6           0.310980           Senior       Senior     NaN   \n",
      "477  838.8           0.798822           Senior  Middle-aged     NaN   \n",
      "735  749.7           0.687140           Senior       Senior     NaN   \n",
      "..     ...                ...              ...          ...     ...   \n",
      "650  814.7           0.768614           Junior        Young     NaN   \n",
      "709  471.3           0.338180           Junior  Middle-aged     NaN   \n",
      "715  237.2           0.044748           Junior        Young     NaN   \n",
      "783  618.5           0.522687           Junior       Senior     NaN   \n",
      "880  560.5           0.449987           Junior  Middle-aged     NaN   \n",
      "\n",
      "     Salary Rank  \n",
      "318        284.0  \n",
      "344        269.0  \n",
      "357        192.0  \n",
      "477         44.0  \n",
      "735         90.0  \n",
      "..           ...  \n",
      "650         59.0  \n",
      "709        188.0  \n",
      "715        286.0  \n",
      "783        136.0  \n",
      "880        156.0  \n",
      "\n",
      "[895 rows x 18 columns]\n"
     ]
    }
   ],
   "source": [
    "#32. Sort the dataset by Experience in descending order, but break ties using Performance Score in \n",
    "#ascending order. \n",
    "df_sorted = df.sort_values(by=['Experience', 'Performance Score'], ascending=[False, True])\n",
    "print(df_sorted)"
   ]
  },
  {
   "cell_type": "code",
   "execution_count": 40,
   "id": "51b541ed",
   "metadata": {
    "execution": {
     "iopub.execute_input": "2024-12-30T18:16:16.495714Z",
     "iopub.status.busy": "2024-12-30T18:16:16.495306Z",
     "iopub.status.idle": "2024-12-30T18:16:16.509725Z",
     "shell.execute_reply": "2024-12-30T18:16:16.508712Z"
    },
    "papermill": {
     "duration": 0.031557,
     "end_time": "2024-12-30T18:16:16.512671",
     "exception": false,
     "start_time": "2024-12-30T18:16:16.481114",
     "status": "completed"
    },
    "tags": []
   },
   "outputs": [
    {
     "name": "stdout",
     "output_type": "stream",
     "text": [
      "      ID               Name  Age  Gender Department  Salary Joining Date  \\\n",
      "0      1       Cory Escobar   48  Female         HR    5641   2015-05-03   \n",
      "7      8       Amanda Baker   52   Other         HR    6285   2015-04-01   \n",
      "10    12  Rodney Richardson   60   Other         HR    6908   2015-03-14   \n",
      "13    17     Jonathan Perez   59    Male         HR    6586   2019-02-19   \n",
      "15    19     Nancy Stephens   38    Male         HR    9061   2017-07-16   \n",
      "..   ...                ...  ...     ...        ...     ...          ...   \n",
      "844  945     Mary Armstrong   29  Female         HR    9402   2017-12-13   \n",
      "852  954       Ruth Osborne   53    Male         HR    5616   2022-07-31   \n",
      "857  959     Morgan Coleman   51  Female         HR    6415   2022-03-20   \n",
      "877  984        David Moody   43    Male         HR    8830   2021-09-10   \n",
      "882  990      Shannon Meyer   18   Other         HR    9985   2022-11-05   \n",
      "\n",
      "     Performance Score  Experience   Status     Location  Years With Company  \\\n",
      "0             2.000000          16   Active       Remote                   9   \n",
      "7             3.443615           8  Retired      Chicago                   9   \n",
      "10            4.000000          19   Active      Chicago                   9   \n",
      "13            3.000000           7  Retired  Los Angeles                   5   \n",
      "15            5.000000          16  Retired      Chicago                   7   \n",
      "..                 ...         ...      ...          ...                 ...   \n",
      "844           3.443615           2   Active     New York                   7   \n",
      "852           4.000000          16   Active  Los Angeles                   2   \n",
      "857           1.000000           8  Retired       Remote                   2   \n",
      "877           3.443615          19  Retired      Chicago                   3   \n",
      "882           4.000000          18   Active      Chicago                   2   \n",
      "\n",
      "     Bonus  Normalized Salary Experience Level    Age Group Session  \\\n",
      "0    564.1           0.454500           Senior       Senior     NaN   \n",
      "7    628.5           0.535222              Mid       Senior     NaN   \n",
      "10   690.8           0.613312           Senior       Senior     NaN   \n",
      "13   658.6           0.572951              Mid       Senior     NaN   \n",
      "15   906.1           0.883179           Senior  Middle-aged     NaN   \n",
      "..     ...                ...              ...          ...     ...   \n",
      "844  940.2           0.925921           Junior        Young     NaN   \n",
      "852  561.6           0.451366           Senior       Senior     NaN   \n",
      "857  641.5           0.551517              Mid       Senior     NaN   \n",
      "877  883.0           0.854224           Senior  Middle-aged     NaN   \n",
      "882  998.5           0.998997           Senior        Young     NaN   \n",
      "\n",
      "     Salary Rank  \n",
      "0          164.0  \n",
      "7          146.0  \n",
      "10         113.0  \n",
      "13         134.0  \n",
      "15          26.0  \n",
      "..           ...  \n",
      "844         14.0  \n",
      "852        165.0  \n",
      "857        142.0  \n",
      "877         33.0  \n",
      "882          2.0  \n",
      "\n",
      "[184 rows x 18 columns]\n"
     ]
    }
   ],
   "source": [
    "#33.  Create a new DataFrame containing only employees in \"HR\" with a Salary above 5000.\n",
    "hr_salary_above= df[(df['Department']=='HR') & (df['Salary']>5000)]\n",
    "print(hr_salary_above)"
   ]
  },
  {
   "cell_type": "code",
   "execution_count": 41,
   "id": "1c589e64",
   "metadata": {
    "execution": {
     "iopub.execute_input": "2024-12-30T18:16:16.540608Z",
     "iopub.status.busy": "2024-12-30T18:16:16.540250Z",
     "iopub.status.idle": "2024-12-30T18:16:16.555082Z",
     "shell.execute_reply": "2024-12-30T18:16:16.554024Z"
    },
    "papermill": {
     "duration": 0.031649,
     "end_time": "2024-12-30T18:16:16.557416",
     "exception": false,
     "start_time": "2024-12-30T18:16:16.525767",
     "status": "completed"
    },
    "tags": []
   },
   "outputs": [
    {
     "name": "stdout",
     "output_type": "stream",
     "text": [
      "       ID                Name  Age  Gender Department  Salary Joining Date  \\\n",
      "0       1        Cory Escobar   48  Female         HR    5641   2015-05-03   \n",
      "1       2     Timothy Sanchez   25   Other      Sales    4249   2020-11-09   \n",
      "2       3        Chad Nichols   57   Other      Sales    3058   2019-02-12   \n",
      "3       4  Christine Williams   58  Female         IT    5895   2017-09-08   \n",
      "4       5        Amber Harris   35   Other         IT    4317   2020-02-15   \n",
      "..    ...                 ...  ...     ...        ...     ...          ...   \n",
      "890   998     Michael Sanchez   18    Male      Sales    5278   2023-07-05   \n",
      "891   999       Ashley Taylor   51  Female         IT    5437   2022-02-18   \n",
      "892  1000         Shawn Scott   45    Male         IT    7364   2022-07-31   \n",
      "893  1001       Nicole Otieno   28  Female         IT    5500   2024-12-11   \n",
      "894  1001       Nicole Otieno   28  Female         IT    5500   2024-12-11   \n",
      "\n",
      "     Performance Score  Experience   Status     Location  Years With Company  \\\n",
      "0             2.000000          16   Active       Remote                   9   \n",
      "1             2.000000          11  Retired       Remote                   4   \n",
      "2             3.443615           2  Retired     New York                   5   \n",
      "3             2.000000          13  Retired       Remote                   7   \n",
      "4             5.000000          16  Retired     New York                   4   \n",
      "..                 ...         ...      ...          ...                 ...   \n",
      "890           5.000000           3   Active     New York                   1   \n",
      "891           4.000000           9  Retired  Los Angeles                   2   \n",
      "892           2.000000           4   Active       Remote                   2   \n",
      "893           4.500000           3   Active     New York                   1   \n",
      "894           4.500000           3   Active     New York                   1   \n",
      "\n",
      "     Bonus  Normalized Salary Experience Level    Age Group Session  \\\n",
      "0    564.1           0.454500           Senior       Senior     NaN   \n",
      "1    424.9           0.280020           Senior        Young     NaN   \n",
      "2    305.8           0.130735           Junior       Senior     NaN   \n",
      "3    589.5           0.486337           Senior       Senior     NaN   \n",
      "4    431.7           0.288543           Senior  Middle-aged     NaN   \n",
      "..     ...                ...              ...          ...     ...   \n",
      "890  527.8           0.409000           Junior        Young     NaN   \n",
      "891  543.7           0.428930              Mid       Senior     NaN   \n",
      "892  736.4           0.670469           Junior       Senior     NaN   \n",
      "893  550.0                NaN           Junior        Young     NaN   \n",
      "894  550.0                NaN           Junior          NaN   Night   \n",
      "\n",
      "     Salary Rank  \n",
      "0          164.0  \n",
      "1          201.0  \n",
      "2          252.0  \n",
      "3          148.0  \n",
      "4          209.0  \n",
      "..           ...  \n",
      "890        159.0  \n",
      "891        167.0  \n",
      "892        108.0  \n",
      "893        161.0  \n",
      "894        161.0  \n",
      "\n",
      "[661 rows x 18 columns]\n"
     ]
    }
   ],
   "source": [
    "#34. . Filter out all rows where the Location is \"Chicago\". \n",
    "df_filtered = df[~df['Location'].isin(['Chicago'])] #negate isin()\n",
    "print(df_filtered)"
   ]
  },
  {
   "cell_type": "code",
   "execution_count": 42,
   "id": "754ad889",
   "metadata": {
    "execution": {
     "iopub.execute_input": "2024-12-30T18:16:16.585185Z",
     "iopub.status.busy": "2024-12-30T18:16:16.584817Z",
     "iopub.status.idle": "2024-12-30T18:16:16.599221Z",
     "shell.execute_reply": "2024-12-30T18:16:16.598147Z"
    },
    "papermill": {
     "duration": 0.031151,
     "end_time": "2024-12-30T18:16:16.601636",
     "exception": false,
     "start_time": "2024-12-30T18:16:16.570485",
     "status": "completed"
    },
    "tags": []
   },
   "outputs": [
    {
     "name": "stdout",
     "output_type": "stream",
     "text": [
      "       ID                Name  Age  Gender Department  Salary Joining Date  \\\n",
      "0       1        Cory Escobar   48  Female         HR    5641   2015-05-03   \n",
      "1       2     Timothy Sanchez   25   Other      Sales    4249   2020-11-09   \n",
      "2       3        Chad Nichols   57   Other      Sales    3058   2019-02-12   \n",
      "3       4  Christine Williams   58  Female         IT    5895   2017-09-08   \n",
      "4       5        Amber Harris   35   Other         IT    4317   2020-02-15   \n",
      "..    ...                 ...  ...     ...        ...     ...          ...   \n",
      "890   998     Michael Sanchez   18    Male      Sales    5278   2023-07-05   \n",
      "891   999       Ashley Taylor   51  Female         IT    5437   2022-02-18   \n",
      "892  1000         Shawn Scott   45    Male         IT    7364   2022-07-31   \n",
      "893  1001       Nicole Otieno   28  Female         IT    5500   2024-12-11   \n",
      "894  1001       Nicole Otieno   28  Female         IT    5500   2024-12-11   \n",
      "\n",
      "     Performance Score  Experience   Status     Location  Years With Company  \\\n",
      "0             2.000000          16   Active       Remote                   9   \n",
      "1             2.000000          11  Retired       Remote                   4   \n",
      "2             3.443615           2  Retired     New York                   5   \n",
      "3             2.000000          13  Retired       Remote                   7   \n",
      "4             5.000000          16  Retired     New York                   4   \n",
      "..                 ...         ...      ...          ...                 ...   \n",
      "890           5.000000           3   Active     New York                   1   \n",
      "891           4.000000           9  Retired  Los Angeles                   2   \n",
      "892           2.000000           4   Active       Remote                   2   \n",
      "893           4.500000           3   Active     New York                   1   \n",
      "894           4.500000           3   Active     New York                   1   \n",
      "\n",
      "     Bonus  Normalized Salary Experience Level    Age Group Session  \\\n",
      "0    564.1           0.454500           Senior       Senior     NaN   \n",
      "1    424.9           0.280020           Senior        Young     NaN   \n",
      "2    305.8           0.130735           Junior       Senior     NaN   \n",
      "3    589.5           0.486337           Senior       Senior     NaN   \n",
      "4    431.7           0.288543           Senior  Middle-aged     NaN   \n",
      "..     ...                ...              ...          ...     ...   \n",
      "890  527.8           0.409000           Junior        Young     NaN   \n",
      "891  543.7           0.428930              Mid       Senior     NaN   \n",
      "892  736.4           0.670469           Junior       Senior     NaN   \n",
      "893  550.0                NaN           Junior        Young     NaN   \n",
      "894  550.0                NaN           Junior          NaN   Night   \n",
      "\n",
      "     Salary Rank  \n",
      "0          164.0  \n",
      "1          201.0  \n",
      "2          252.0  \n",
      "3          148.0  \n",
      "4          209.0  \n",
      "..           ...  \n",
      "890        159.0  \n",
      "891        167.0  \n",
      "892        108.0  \n",
      "893        161.0  \n",
      "894        161.0  \n",
      "\n",
      "[800 rows x 18 columns]\n"
     ]
    }
   ],
   "source": [
    "#35. . Delete all rows where the Performance Score is below 2. \n",
    "df_filtered = df[df['Performance Score'] >= 2]\n",
    "print(df_filtered)"
   ]
  },
  {
   "cell_type": "code",
   "execution_count": 43,
   "id": "42949dc8",
   "metadata": {
    "execution": {
     "iopub.execute_input": "2024-12-30T18:16:16.630554Z",
     "iopub.status.busy": "2024-12-30T18:16:16.630191Z",
     "iopub.status.idle": "2024-12-30T18:16:16.639222Z",
     "shell.execute_reply": "2024-12-30T18:16:16.638030Z"
    },
    "papermill": {
     "duration": 0.025661,
     "end_time": "2024-12-30T18:16:16.641380",
     "exception": false,
     "start_time": "2024-12-30T18:16:16.615719",
     "status": "completed"
    },
    "tags": []
   },
   "outputs": [
    {
     "name": "stdout",
     "output_type": "stream",
     "text": [
      "Department\n",
      "HR       5979.931507\n",
      "IT       5970.266234\n",
      "Sales    5820.688136\n",
      "Name: Salary, dtype: float64\n"
     ]
    }
   ],
   "source": [
    "#36.  Find the average Salary for each Department.\n",
    "df_average_by_dept= df.groupby('Department')['Salary'].mean()\n",
    "print(df_average_by_dept)"
   ]
  },
  {
   "cell_type": "code",
   "execution_count": 44,
   "id": "8cb08e84",
   "metadata": {
    "execution": {
     "iopub.execute_input": "2024-12-30T18:16:16.670261Z",
     "iopub.status.busy": "2024-12-30T18:16:16.669496Z",
     "iopub.status.idle": "2024-12-30T18:16:16.679537Z",
     "shell.execute_reply": "2024-12-30T18:16:16.678474Z"
    },
    "papermill": {
     "duration": 0.026719,
     "end_time": "2024-12-30T18:16:16.681494",
     "exception": false,
     "start_time": "2024-12-30T18:16:16.654775",
     "status": "completed"
    },
    "tags": []
   },
   "outputs": [
    {
     "name": "stdout",
     "output_type": "stream",
     "text": [
      "Status\n",
      "Active     2578104\n",
      "Retired    2723981\n",
      "Name: Salary, dtype: int64\n"
     ]
    }
   ],
   "source": [
    "#37.  Calculate the total Salary of all employees grouped by Status. \n",
    "df_total_salary_by_status = df.groupby('Status')['Salary'].sum()\n",
    "print(df_total_salary_by_status)\n"
   ]
  },
  {
   "cell_type": "code",
   "execution_count": 45,
   "id": "932aa798",
   "metadata": {
    "execution": {
     "iopub.execute_input": "2024-12-30T18:16:16.710234Z",
     "iopub.status.busy": "2024-12-30T18:16:16.709889Z",
     "iopub.status.idle": "2024-12-30T18:16:16.719548Z",
     "shell.execute_reply": "2024-12-30T18:16:16.718472Z"
    },
    "papermill": {
     "duration": 0.026731,
     "end_time": "2024-12-30T18:16:16.722023",
     "exception": false,
     "start_time": "2024-12-30T18:16:16.695292",
     "status": "completed"
    },
    "tags": []
   },
   "outputs": [
    {
     "name": "stdout",
     "output_type": "stream",
     "text": [
      "Location\n",
      "Chicago        5.0\n",
      "Los Angeles    5.0\n",
      "New York       5.0\n",
      "Remote         2.0\n",
      "Name: Performance Score, dtype: float64\n"
     ]
    }
   ],
   "source": [
    "#38.  Find the maximum Performance Score for employees in each Location. \n",
    "df_maximum_by_location = df.groupby('Location')['Performance Score'].max()\n",
    "print(df_maximum_by_location)"
   ]
  },
  {
   "cell_type": "code",
   "execution_count": 46,
   "id": "d776953a",
   "metadata": {
    "execution": {
     "iopub.execute_input": "2024-12-30T18:16:16.751548Z",
     "iopub.status.busy": "2024-12-30T18:16:16.751180Z",
     "iopub.status.idle": "2024-12-30T18:16:16.761540Z",
     "shell.execute_reply": "2024-12-30T18:16:16.760642Z"
    },
    "papermill": {
     "duration": 0.02732,
     "end_time": "2024-12-30T18:16:16.763718",
     "exception": false,
     "start_time": "2024-12-30T18:16:16.736398",
     "status": "completed"
    },
    "tags": []
   },
   "outputs": [
    {
     "name": "stdout",
     "output_type": "stream",
     "text": [
      "Joining Year\n",
      "2014     22480\n",
      "2015    427283\n",
      "2016    585839\n",
      "2017    496484\n",
      "2018    548329\n",
      "2019    511319\n",
      "2020    584179\n",
      "2021    597338\n",
      "2022    461868\n",
      "2023    574651\n",
      "2024    492315\n",
      "Name: Salary, dtype: int64\n"
     ]
    }
   ],
   "source": [
    "#39. . Calculate the total Salary paid to employees who joined in each year. \n",
    "#find the year of joining\n",
    "#convert joining date to datetime , in form of year, month then day\n",
    "df['Joining Date'] = pd.to_datetime(df['Joining Date'])\n",
    "df['Joining Year'] = df['Joining Date'].dt.year\n",
    "df_tt_salarypaid= df.groupby('Joining Year')['Salary'].sum()\n",
    "print(df_tt_salarypaid)"
   ]
  },
  {
   "cell_type": "code",
   "execution_count": 47,
   "id": "ce8eafa1",
   "metadata": {
    "execution": {
     "iopub.execute_input": "2024-12-30T18:16:16.793508Z",
     "iopub.status.busy": "2024-12-30T18:16:16.793136Z",
     "iopub.status.idle": "2024-12-30T18:16:16.802642Z",
     "shell.execute_reply": "2024-12-30T18:16:16.801441Z"
    },
    "papermill": {
     "duration": 0.027097,
     "end_time": "2024-12-30T18:16:16.804806",
     "exception": false,
     "start_time": "2024-12-30T18:16:16.777709",
     "status": "completed"
    },
    "tags": []
   },
   "outputs": [
    {
     "name": "stdout",
     "output_type": "stream",
     "text": [
      "Department\n",
      "HR       3.130114\n",
      "IT       4.009740\n",
      "Sales    3.166436\n",
      "Name: Performance Score, dtype: float64\n",
      "Highest Performance Score is: 4.009740259740259\n",
      "Department with highest Performance Score is :IT\n"
     ]
    }
   ],
   "source": [
    "#40.  Find the department with the highest average Performance Score.\n",
    "df_average_by_department = df.groupby('Department')['Performance Score'].mean()\n",
    "print(df_average_by_department)\n",
    "\n",
    "#highest average score\n",
    "df_highest_average = df_average_by_department.max()\n",
    "print(f\"Highest Performance Score is: {df_highest_average}\")\n",
    "\n",
    "#highest average department\n",
    "df_highest_average_dept = df_average_by_department.idxmax()\n",
    "print(f\"Department with highest Performance Score is :{df_highest_average_dept}\")"
   ]
  },
  {
   "cell_type": "code",
   "execution_count": 48,
   "id": "3608a569",
   "metadata": {
    "execution": {
     "iopub.execute_input": "2024-12-30T18:16:16.833876Z",
     "iopub.status.busy": "2024-12-30T18:16:16.833122Z",
     "iopub.status.idle": "2024-12-30T18:16:16.843518Z",
     "shell.execute_reply": "2024-12-30T18:16:16.842420Z"
    },
    "papermill": {
     "duration": 0.02691,
     "end_time": "2024-12-30T18:16:16.845601",
     "exception": false,
     "start_time": "2024-12-30T18:16:16.818691",
     "status": "completed"
    },
    "tags": []
   },
   "outputs": [
    {
     "name": "stdout",
     "output_type": "stream",
     "text": [
      "  Session  Location  Count\n",
      "0   Night  New York      1\n"
     ]
    }
   ],
   "source": [
    "#41. * Count the number of employees in each Location grouped by their Session.  (Not Complete)\n",
    "df_employee_no_location_by_session = df.groupby(['Session','Location']).size().reset_index(name='Count')\n",
    "\n",
    "print(df_employee_no_location_by_session)\n"
   ]
  },
  {
   "cell_type": "code",
   "execution_count": 49,
   "id": "bca65458",
   "metadata": {
    "execution": {
     "iopub.execute_input": "2024-12-30T18:16:16.875499Z",
     "iopub.status.busy": "2024-12-30T18:16:16.874235Z",
     "iopub.status.idle": "2024-12-30T18:16:16.888760Z",
     "shell.execute_reply": "2024-12-30T18:16:16.887567Z"
    },
    "papermill": {
     "duration": 0.03169,
     "end_time": "2024-12-30T18:16:16.890946",
     "exception": false,
     "start_time": "2024-12-30T18:16:16.859256",
     "status": "completed"
    },
    "tags": []
   },
   "outputs": [
    {
     "name": "stdout",
     "output_type": "stream",
     "text": [
      "Employee by status size: Status\n",
      "Active     439\n",
      "Retired    456\n",
      "dtype: int64\n",
      "Employee by status sum salary : Status\n",
      "Active     2578104\n",
      "Retired    2723981\n",
      "Name: Salary, dtype: int64\n",
      "Employee by status mean salary : Status\n",
      "Active     5872.674260\n",
      "Retired    5973.642544\n",
      "Name: Salary, dtype: float64\n",
      "Employee by status standard deviation salary : Status\n",
      "Active     2329.507276\n",
      "Retired    2309.554184\n",
      "Name: Salary, dtype: float64\n"
     ]
    }
   ],
   "source": [
    "#42. Group employees by Status and calculate the sum, mean, and standard deviation of their Salary.\n",
    "employee_by_status = df.groupby('Status').size() #size\n",
    "print(f'Employee by status size: {employee_by_status}')\n",
    "employee_by_status_salary_sum = df.groupby('Status')['Salary'].sum()\n",
    "print(f'Employee by status sum salary : {employee_by_status_salary_sum}')\n",
    "employee_by_status_salary_mean = df.groupby('Status')['Salary'].mean()\n",
    "print(f'Employee by status mean salary : {employee_by_status_salary_mean}')\n",
    "employee_by_status_salary_sd = df.groupby('Status')['Salary'].std()\n",
    "print(f'Employee by status standard deviation salary : {employee_by_status_salary_sd}')\n"
   ]
  },
  {
   "cell_type": "code",
   "execution_count": 50,
   "id": "043f53f0",
   "metadata": {
    "execution": {
     "iopub.execute_input": "2024-12-30T18:16:16.920704Z",
     "iopub.status.busy": "2024-12-30T18:16:16.920289Z",
     "iopub.status.idle": "2024-12-30T18:16:16.936040Z",
     "shell.execute_reply": "2024-12-30T18:16:16.934914Z"
    },
    "papermill": {
     "duration": 0.033388,
     "end_time": "2024-12-30T18:16:16.938526",
     "exception": false,
     "start_time": "2024-12-30T18:16:16.905138",
     "status": "completed"
    },
    "tags": []
   },
   "outputs": [
    {
     "name": "stdout",
     "output_type": "stream",
     "text": [
      "       ID                Name  Age  Gender Department  Salary Joining Date  \\\n",
      "0       1        Cory Escobar   48  Female         HR    5641   2015-05-03   \n",
      "1       2     Timothy Sanchez   25   Other      Sales    4249   2020-11-09   \n",
      "2       3        Chad Nichols   57   Other      Sales    3058   2019-02-12   \n",
      "3       4  Christine Williams   58  Female         IT    5895   2017-09-08   \n",
      "4       5        Amber Harris   35   Other         IT    4317   2020-02-15   \n",
      "..    ...                 ...  ...     ...        ...     ...          ...   \n",
      "890   998     Michael Sanchez   18    Male      Sales    5278   2023-07-05   \n",
      "891   999       Ashley Taylor   51  Female         IT    5437   2022-02-18   \n",
      "892  1000         Shawn Scott   45    Male         IT    7364   2022-07-31   \n",
      "893  1001       Nicole Otieno   28  Female         IT    5500   2024-12-11   \n",
      "894  1001       Nicole Otieno   28  Female         IT    5500   2024-12-11   \n",
      "\n",
      "     Performance Score  Experience   Status     Location  Years With Company  \\\n",
      "0             2.000000          16   Active       Remote                   9   \n",
      "1             2.000000          11  Retired       Remote                   4   \n",
      "2             3.443615           2  Retired     New York                   5   \n",
      "3             2.000000          13  Retired       Remote                   7   \n",
      "4             5.000000          16  Retired     New York                   4   \n",
      "..                 ...         ...      ...          ...                 ...   \n",
      "890           5.000000           3   Active     New York                   1   \n",
      "891           4.000000           9  Retired  Los Angeles                   2   \n",
      "892           2.000000           4   Active       Remote                   2   \n",
      "893           4.500000           3   Active     New York                   1   \n",
      "894           4.500000           3   Active     New York                   1   \n",
      "\n",
      "     Bonus  Normalized Salary Experience Level    Age Group Session  \\\n",
      "0    564.1           0.454500           Senior       Senior     NaN   \n",
      "1    424.9           0.280020           Senior        Young     NaN   \n",
      "2    305.8           0.130735           Junior       Senior     NaN   \n",
      "3    589.5           0.486337           Senior       Senior     NaN   \n",
      "4    431.7           0.288543           Senior  Middle-aged     NaN   \n",
      "..     ...                ...              ...          ...     ...   \n",
      "890  527.8           0.409000           Junior        Young     NaN   \n",
      "891  543.7           0.428930              Mid       Senior     NaN   \n",
      "892  736.4           0.670469           Junior       Senior     NaN   \n",
      "893  550.0                NaN           Junior        Young     NaN   \n",
      "894  550.0                NaN           Junior          NaN   Night   \n",
      "\n",
      "     Salary Rank  Joining Year  Monthly Salary  \n",
      "0          164.0          2015      470.083333  \n",
      "1          201.0          2020      354.083333  \n",
      "2          252.0          2019      254.833333  \n",
      "3          148.0          2017      491.250000  \n",
      "4          209.0          2020      359.750000  \n",
      "..           ...           ...             ...  \n",
      "890        159.0          2023      439.833333  \n",
      "891        167.0          2022      453.083333  \n",
      "892        108.0          2022      613.666667  \n",
      "893        161.0          2024      458.333333  \n",
      "894        161.0          2024      458.333333  \n",
      "\n",
      "[895 rows x 20 columns]\n"
     ]
    }
   ],
   "source": [
    "#43.  Use the apply() method to create a new column Monthly Salary by dividing the Salary by 12.\n",
    "df['Monthly Salary'] = df['Salary'].apply(lambda x:x/12)\n",
    "print(df)"
   ]
  },
  {
   "cell_type": "code",
   "execution_count": 51,
   "id": "8affbf05",
   "metadata": {
    "execution": {
     "iopub.execute_input": "2024-12-30T18:16:16.968257Z",
     "iopub.status.busy": "2024-12-30T18:16:16.967901Z",
     "iopub.status.idle": "2024-12-30T18:16:16.972505Z",
     "shell.execute_reply": "2024-12-30T18:16:16.971618Z"
    },
    "papermill": {
     "duration": 0.022063,
     "end_time": "2024-12-30T18:16:16.974733",
     "exception": false,
     "start_time": "2024-12-30T18:16:16.952670",
     "status": "completed"
    },
    "tags": []
   },
   "outputs": [],
   "source": [
    "#44. . Use the applymap() method to convert all string values in the DataFrame to uppercase. "
   ]
  }
 ],
 "metadata": {
  "kaggle": {
   "accelerator": "none",
   "dataSources": [
    {
     "datasetId": 6273583,
     "sourceId": 10160144,
     "sourceType": "datasetVersion"
    }
   ],
   "dockerImageVersionId": 30804,
   "isGpuEnabled": false,
   "isInternetEnabled": false,
   "language": "python",
   "sourceType": "notebook"
  },
  "kernelspec": {
   "display_name": "Python 3",
   "language": "python",
   "name": "python3"
  },
  "language_info": {
   "codemirror_mode": {
    "name": "ipython",
    "version": 3
   },
   "file_extension": ".py",
   "mimetype": "text/x-python",
   "name": "python",
   "nbconvert_exporter": "python",
   "pygments_lexer": "ipython3",
   "version": "3.10.14"
  },
  "papermill": {
   "default_parameters": {},
   "duration": 6.657212,
   "end_time": "2024-12-30T18:16:17.509530",
   "environment_variables": {},
   "exception": null,
   "input_path": "__notebook__.ipynb",
   "output_path": "__notebook__.ipynb",
   "parameters": {},
   "start_time": "2024-12-30T18:16:10.852318",
   "version": "2.6.0"
  }
 },
 "nbformat": 4,
 "nbformat_minor": 5
}
