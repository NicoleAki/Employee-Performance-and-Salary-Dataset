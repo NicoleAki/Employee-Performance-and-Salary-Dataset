{
 "cells": [
  {
   "cell_type": "code",
   "execution_count": 1,
   "id": "597e5ea2",
   "metadata": {
    "_cell_guid": "b1076dfc-b9ad-4769-8c92-a6c4dae69d19",
    "_uuid": "8f2839f25d086af736a60e9eeb907d3b93b6e0e5",
    "execution": {
     "iopub.execute_input": "2024-12-11T11:03:28.581260Z",
     "iopub.status.busy": "2024-12-11T11:03:28.580857Z",
     "iopub.status.idle": "2024-12-11T11:03:29.632470Z",
     "shell.execute_reply": "2024-12-11T11:03:29.631226Z"
    },
    "papermill": {
     "duration": 1.062163,
     "end_time": "2024-12-11T11:03:29.634851",
     "exception": false,
     "start_time": "2024-12-11T11:03:28.572688",
     "status": "completed"
    },
    "tags": []
   },
   "outputs": [
    {
     "name": "stdout",
     "output_type": "stream",
     "text": [
      "/kaggle/input/employee-performance-and-salary-dataset/50_Tasks_to_perform_on_dataset.pdf\n",
      "/kaggle/input/employee-performance-and-salary-dataset/Employe_Performance_dataset.csv\n"
     ]
    }
   ],
   "source": [
    "# This Python 3 environment comes with many helpful analytics libraries installed\n",
    "# It is defined by the kaggle/python Docker image: https://github.com/kaggle/docker-python\n",
    "# For example, here's several helpful packages to load\n",
    "\n",
    "import numpy as np # linear algebra\n",
    "import pandas as pd # data processing, CSV file I/O (e.g. pd.read_csv)\n",
    "\n",
    "# Input data files are available in the read-only \"../input/\" directory\n",
    "# For example, running this (by clicking run or pressing Shift+Enter) will list all files under the input directory\n",
    "\n",
    "import os\n",
    "for dirname, _, filenames in os.walk('/kaggle/input'):\n",
    "    for filename in filenames:\n",
    "        print(os.path.join(dirname, filename))\n",
    "\n",
    "# You can write up to 20GB to the current directory (/kaggle/working/) that gets preserved as output when you create a version using \"Save & Run All\" \n",
    "# You can also write temporary files to /kaggle/temp/, but they won't be saved outside of the current session"
   ]
  },
  {
   "cell_type": "code",
   "execution_count": 2,
   "id": "581a8bcd",
   "metadata": {
    "execution": {
     "iopub.execute_input": "2024-12-11T11:03:29.649941Z",
     "iopub.status.busy": "2024-12-11T11:03:29.649411Z",
     "iopub.status.idle": "2024-12-11T11:03:29.687189Z",
     "shell.execute_reply": "2024-12-11T11:03:29.686102Z"
    },
    "papermill": {
     "duration": 0.047846,
     "end_time": "2024-12-11T11:03:29.689604",
     "exception": false,
     "start_time": "2024-12-11T11:03:29.641758",
     "status": "completed"
    },
    "tags": []
   },
   "outputs": [
    {
     "name": "stdout",
     "output_type": "stream",
     "text": [
      "   ID                Name  Age  Gender Department  Salary Joining Date  \\\n",
      "0   1        Cory Escobar   48  Female         HR    5641   2015-05-03   \n",
      "1   2     Timothy Sanchez   25   Other      Sales    4249   2020-11-09   \n",
      "2   3        Chad Nichols   57   Other      Sales    3058   2019-02-12   \n",
      "3   4  Christine Williams   58  Female         IT    5895   2017-09-08   \n",
      "4   5        Amber Harris   35   Other         IT    4317   2020-02-15   \n",
      "5   6         Ashley Howe   29  Female         HR    2591   2016-06-24   \n",
      "6   7         David Olson   39  Female      Sales    6826   2023-05-11   \n",
      "7   8        Amanda Baker   52   Other         HR    6285   2015-04-01   \n",
      "8   9       Jeremy Wright   63  Female      Sales    9862   2024-02-07   \n",
      "9  10      Brian Faulkner   30    Male         IT    8202   2018-05-26   \n",
      "\n",
      "   Performance Score  Experience    Status     Location  Session  \n",
      "0                2.0          16    Active     New York    Night  \n",
      "1                2.0          11  Inactive  Los Angeles  Evening  \n",
      "2                NaN           1  Inactive     New York  Morning  \n",
      "3                2.0          13  Inactive  Los Angeles  Evening  \n",
      "4                5.0          16  Inactive     New York  Evening  \n",
      "5                1.0           6    Active      Chicago  Evening  \n",
      "6                NaN           4    Active     New York    Night  \n",
      "7                NaN           8  Inactive      Chicago  Evening  \n",
      "8                NaN           3  Inactive     New York    Night  \n",
      "9                1.0           9    Active  Los Angeles  Morning  \n"
     ]
    }
   ],
   "source": [
    "#Load the dataset into a Pandas DataFrame and display the first 10 rows.\n",
    "df = pd.read_csv('/kaggle/input/employee-performance-and-salary-dataset/Employe_Performance_dataset.csv') \n",
    "print(df.head(10))"
   ]
  },
  {
   "cell_type": "code",
   "execution_count": 3,
   "id": "5d59ea10",
   "metadata": {
    "execution": {
     "iopub.execute_input": "2024-12-11T11:03:29.705546Z",
     "iopub.status.busy": "2024-12-11T11:03:29.705154Z",
     "iopub.status.idle": "2024-12-11T11:03:29.711455Z",
     "shell.execute_reply": "2024-12-11T11:03:29.710376Z"
    },
    "papermill": {
     "duration": 0.016102,
     "end_time": "2024-12-11T11:03:29.713739",
     "exception": false,
     "start_time": "2024-12-11T11:03:29.697637",
     "status": "completed"
    },
    "tags": []
   },
   "outputs": [
    {
     "name": "stdout",
     "output_type": "stream",
     "text": [
      "ID                     int64\n",
      "Name                  object\n",
      "Age                    int64\n",
      "Gender                object\n",
      "Department            object\n",
      "Salary                 int64\n",
      "Joining Date          object\n",
      "Performance Score    float64\n",
      "Experience             int64\n",
      "Status                object\n",
      "Location              object\n",
      "Session               object\n",
      "dtype: object\n"
     ]
    }
   ],
   "source": [
    "#What are the column names and their respective data types in the dataset?\n",
    "print(df.dtypes)"
   ]
  },
  {
   "cell_type": "code",
   "execution_count": 4,
   "id": "f2ac2e54",
   "metadata": {
    "execution": {
     "iopub.execute_input": "2024-12-11T11:03:29.727683Z",
     "iopub.status.busy": "2024-12-11T11:03:29.727313Z",
     "iopub.status.idle": "2024-12-11T11:03:29.733114Z",
     "shell.execute_reply": "2024-12-11T11:03:29.731906Z"
    },
    "papermill": {
     "duration": 0.015398,
     "end_time": "2024-12-11T11:03:29.735348",
     "exception": false,
     "start_time": "2024-12-11T11:03:29.719950",
     "status": "completed"
    },
    "tags": []
   },
   "outputs": [
    {
     "name": "stdout",
     "output_type": "stream",
     "text": [
      "The dataset has 1000 rows and 12 columns.\n"
     ]
    }
   ],
   "source": [
    "# How many rows and columns are there in the dataset?\n",
    "rows, columns = df.shape\n",
    "print(f\"The dataset has {rows} rows and {columns} columns.\")"
   ]
  },
  {
   "cell_type": "code",
   "execution_count": 5,
   "id": "2c09d506",
   "metadata": {
    "execution": {
     "iopub.execute_input": "2024-12-11T11:03:29.749437Z",
     "iopub.status.busy": "2024-12-11T11:03:29.749055Z",
     "iopub.status.idle": "2024-12-11T11:03:29.770444Z",
     "shell.execute_reply": "2024-12-11T11:03:29.769093Z"
    },
    "papermill": {
     "duration": 0.031299,
     "end_time": "2024-12-11T11:03:29.772984",
     "exception": false,
     "start_time": "2024-12-11T11:03:29.741685",
     "status": "completed"
    },
    "tags": []
   },
   "outputs": [
    {
     "name": "stdout",
     "output_type": "stream",
     "text": [
      "                   Name  Age  Salary\n",
      "0          Cory Escobar   48    5641\n",
      "1       Timothy Sanchez   25    4249\n",
      "2          Chad Nichols   57    3058\n",
      "3    Christine Williams   58    5895\n",
      "4          Amber Harris   35    4317\n",
      "..                  ...  ...     ...\n",
      "995       Pamela Reeves   49    7652\n",
      "996        Todd Johnson   29    6754\n",
      "997     Michael Sanchez   18    5278\n",
      "998       Ashley Taylor   51    5437\n",
      "999         Shawn Scott   45    7364\n",
      "\n",
      "[1000 rows x 3 columns]\n"
     ]
    }
   ],
   "source": [
    "#Select the Name, Age, and Salary columns using df[]. \n",
    "selected_columns = df[['Name', 'Age', 'Salary']]\n",
    "print(selected_columns)"
   ]
  },
  {
   "cell_type": "code",
   "execution_count": 6,
   "id": "e9c7d18d",
   "metadata": {
    "execution": {
     "iopub.execute_input": "2024-12-11T11:03:29.787920Z",
     "iopub.status.busy": "2024-12-11T11:03:29.787161Z",
     "iopub.status.idle": "2024-12-11T11:03:29.797087Z",
     "shell.execute_reply": "2024-12-11T11:03:29.795881Z"
    },
    "papermill": {
     "duration": 0.020577,
     "end_time": "2024-12-11T11:03:29.800067",
     "exception": false,
     "start_time": "2024-12-11T11:03:29.779490",
     "status": "completed"
    },
    "tags": []
   },
   "outputs": [
    {
     "name": "stdout",
     "output_type": "stream",
     "text": [
      "   ID                Name  Age  Gender Department  Salary Joining Date  \\\n",
      "0   1        Cory Escobar   48  Female         HR    5641   2015-05-03   \n",
      "1   2     Timothy Sanchez   25   Other      Sales    4249   2020-11-09   \n",
      "2   3        Chad Nichols   57   Other      Sales    3058   2019-02-12   \n",
      "3   4  Christine Williams   58  Female         IT    5895   2017-09-08   \n",
      "4   5        Amber Harris   35   Other         IT    4317   2020-02-15   \n",
      "\n",
      "   Performance Score  Experience    Status     Location  Session  \n",
      "0                2.0          16    Active     New York    Night  \n",
      "1                2.0          11  Inactive  Los Angeles  Evening  \n",
      "2                NaN           1  Inactive     New York  Morning  \n",
      "3                2.0          13  Inactive  Los Angeles  Evening  \n",
      "4                5.0          16  Inactive     New York  Evening  \n"
     ]
    }
   ],
   "source": [
    "# Select the first 5 rows of the DataFrame using the iloc method.\n",
    "#one can use the loc method as well that includes a range or the .head() or slicing.\n",
    "first_five_rows = df.iloc[:5]\n",
    "print(first_five_rows)"
   ]
  },
  {
   "cell_type": "code",
   "execution_count": 7,
   "id": "0ca65416",
   "metadata": {
    "execution": {
     "iopub.execute_input": "2024-12-11T11:03:29.815775Z",
     "iopub.status.busy": "2024-12-11T11:03:29.815417Z",
     "iopub.status.idle": "2024-12-11T11:03:29.828232Z",
     "shell.execute_reply": "2024-12-11T11:03:29.826918Z"
    },
    "papermill": {
     "duration": 0.023605,
     "end_time": "2024-12-11T11:03:29.830964",
     "exception": false,
     "start_time": "2024-12-11T11:03:29.807359",
     "status": "completed"
    },
    "tags": []
   },
   "outputs": [
    {
     "name": "stdout",
     "output_type": "stream",
     "text": [
      "      ID             Name  Age  Gender Department  Salary Joining Date  \\\n",
      "1      2  Timothy Sanchez   25   Other      Sales    4249   2020-11-09   \n",
      "2      3     Chad Nichols   57   Other      Sales    3058   2019-02-12   \n",
      "6      7      David Olson   39  Female      Sales    6826   2023-05-11   \n",
      "8      9    Jeremy Wright   63  Female      Sales    9862   2024-02-07   \n",
      "10    11      Nicole Bell   42  Female      Sales    5336   2015-01-28   \n",
      "..   ...              ...  ...     ...        ...     ...          ...   \n",
      "991  992  William Schultz   23   Other      Sales    4311   2019-08-17   \n",
      "992  993   Ashley Daniels   25   Other      Sales    5524   2022-11-24   \n",
      "995  996    Pamela Reeves   49  Female      Sales    7652   2024-06-23   \n",
      "996  997     Todd Johnson   29  Female      Sales    6754   2018-07-20   \n",
      "997  998  Michael Sanchez   18    Male      Sales    5278   2023-07-05   \n",
      "\n",
      "     Performance Score  Experience    Status     Location  Session  \n",
      "1                  2.0          11  Inactive  Los Angeles  Evening  \n",
      "2                  NaN           1  Inactive     New York  Morning  \n",
      "6                  NaN           4    Active     New York    Night  \n",
      "8                  NaN           3  Inactive     New York    Night  \n",
      "10                 3.0           7    Active  Los Angeles  Evening  \n",
      "..                 ...         ...       ...          ...      ...  \n",
      "991                NaN          10  Inactive  Los Angeles  Evening  \n",
      "992                NaN           8  Inactive     New York  Morning  \n",
      "995                4.0           3    Active  Los Angeles  Evening  \n",
      "996                NaN          12  Inactive     New York  Morning  \n",
      "997                5.0           3    Active     New York  Morning  \n",
      "\n",
      "[338 rows x 12 columns]\n"
     ]
    }
   ],
   "source": [
    "# Select all rows where the Department is \"Sales\" using the loc method. \n",
    "#otherwise you can use Boolean Masking or query method.\n",
    "sales_department = df.loc[df['Department'] == \"Sales\"]\n",
    "print(sales_department)"
   ]
  },
  {
   "cell_type": "code",
   "execution_count": 8,
   "id": "e2109518",
   "metadata": {
    "execution": {
     "iopub.execute_input": "2024-12-11T11:03:29.845877Z",
     "iopub.status.busy": "2024-12-11T11:03:29.845504Z",
     "iopub.status.idle": "2024-12-11T11:03:29.857605Z",
     "shell.execute_reply": "2024-12-11T11:03:29.856456Z"
    },
    "papermill": {
     "duration": 0.022498,
     "end_time": "2024-12-11T11:03:29.860240",
     "exception": false,
     "start_time": "2024-12-11T11:03:29.837742",
     "status": "completed"
    },
    "tags": []
   },
   "outputs": [
    {
     "name": "stdout",
     "output_type": "stream",
     "text": [
      "      ID             Name  Age  Gender Department  Salary Joining Date  \\\n",
      "9     10   Brian Faulkner   30    Male         IT    8202   2018-05-26   \n",
      "24    25    Tracy Carlson   21    Male         HR    9275   2022-04-09   \n",
      "38    39     Jordan Scott   33   Other      Sales    8678   2016-05-15   \n",
      "39    40      Lisa Wagner   36    Male         HR    8870   2024-08-12   \n",
      "60    61   Andrew Shannon   51   Other      Sales    8544   2020-02-08   \n",
      "..   ...              ...  ...     ...        ...     ...          ...   \n",
      "976  977    Kimberly Ross   19    Male      Sales    9331   2018-07-03   \n",
      "982  983    Stephen Ponce   46   Other      Sales    8696   2022-10-14   \n",
      "986  987  Melissa Bradley   39  Female         IT    9618   2015-07-05   \n",
      "988  989   Hannah Hickman   36  Female         IT    9118   2022-07-02   \n",
      "989  990    Shannon Meyer   18   Other         HR    9985   2022-11-05   \n",
      "\n",
      "     Performance Score  Experience  Status     Location  Session  \n",
      "9                  1.0           9  Active  Los Angeles  Morning  \n",
      "24                 4.0          12  Active     New York  Morning  \n",
      "38                 5.0           9  Active  Los Angeles  Evening  \n",
      "39                 4.0          17  Active  Los Angeles  Evening  \n",
      "60                 NaN           6  Active     New York  Evening  \n",
      "..                 ...         ...     ...          ...      ...  \n",
      "976                5.0          12  Active     New York  Morning  \n",
      "982                4.0           1  Active     New York  Evening  \n",
      "986                1.0          13  Active     New York  Morning  \n",
      "988                5.0           5  Active     New York    Night  \n",
      "989                4.0          18  Active      Chicago    Night  \n",
      "\n",
      "[112 rows x 12 columns]\n"
     ]
    }
   ],
   "source": [
    "#Select rows where the Salary is greater than 8000 and Status is \"Active\".\n",
    "\n",
    "filtered_rows = df.loc[(df['Salary'] > 8000) & (df['Status'] == \"Active\")]\n",
    "print(filtered_rows)"
   ]
  },
  {
   "cell_type": "code",
   "execution_count": 9,
   "id": "6458c2dc",
   "metadata": {
    "execution": {
     "iopub.execute_input": "2024-12-11T11:03:29.876252Z",
     "iopub.status.busy": "2024-12-11T11:03:29.875556Z",
     "iopub.status.idle": "2024-12-11T11:03:29.887688Z",
     "shell.execute_reply": "2024-12-11T11:03:29.886678Z"
    },
    "papermill": {
     "duration": 0.02306,
     "end_time": "2024-12-11T11:03:29.890061",
     "exception": false,
     "start_time": "2024-12-11T11:03:29.867001",
     "status": "completed"
    },
    "tags": []
   },
   "outputs": [
    {
     "name": "stdout",
     "output_type": "stream",
     "text": [
      "      ID                Name  Age  Gender Department  Salary Joining Date  \\\n",
      "4      5        Amber Harris   35   Other         IT    4317   2020-02-15   \n",
      "11    12   Rodney Richardson   60   Other         HR    6908   2015-03-14   \n",
      "17    18  Jacqueline Randall   31  Female         HR    3519   2018-05-18   \n",
      "18    19      Nancy Stephens   38    Male         HR    9061   2017-07-16   \n",
      "24    25       Tracy Carlson   21    Male         HR    9275   2022-04-09   \n",
      "..   ...                 ...  ...     ...        ...     ...          ...   \n",
      "978  979         Michael Lee   18  Female         IT    6086   2019-05-30   \n",
      "989  990       Shannon Meyer   18   Other         HR    9985   2022-11-05   \n",
      "990  991        Amy Johnston   53  Female         HR    3991   2024-09-03   \n",
      "993  994       Brandon Bruce   31  Female         HR    3371   2018-09-25   \n",
      "998  999       Ashley Taylor   51  Female         IT    5437   2022-02-18   \n",
      "\n",
      "     Performance Score  Experience    Status     Location  Session  \n",
      "4                  5.0          16  Inactive     New York  Evening  \n",
      "11                 4.0          19    Active      Chicago    Night  \n",
      "17                 4.0           6    Active     New York  Morning  \n",
      "18                 5.0          16  Inactive      Chicago    Night  \n",
      "24                 4.0          12    Active     New York  Morning  \n",
      "..                 ...         ...       ...          ...      ...  \n",
      "978                4.0           7  Inactive  Los Angeles  Evening  \n",
      "989                4.0          18    Active      Chicago    Night  \n",
      "990                4.0           8    Active      Chicago  Morning  \n",
      "993                5.0          12  Inactive      Chicago    Night  \n",
      "998                4.0           9  Inactive  Los Angeles  Evening  \n",
      "\n",
      "[137 rows x 12 columns]\n"
     ]
    }
   ],
   "source": [
    "#Extract the rows where the employee has been with the company for more than 5 years and has a \n",
    "#Performance Score of at least 4.\n",
    "#if all employees started their experience journey at the company.\n",
    "filter_rows=df.loc[(df['Experience']>5) &(df['Performance Score']>=4.0)]\n",
    "print(filter_rows)"
   ]
  },
  {
   "cell_type": "code",
   "execution_count": 10,
   "id": "64919da9",
   "metadata": {
    "execution": {
     "iopub.execute_input": "2024-12-11T11:03:29.905740Z",
     "iopub.status.busy": "2024-12-11T11:03:29.904614Z",
     "iopub.status.idle": "2024-12-11T11:03:29.926496Z",
     "shell.execute_reply": "2024-12-11T11:03:29.925188Z"
    },
    "papermill": {
     "duration": 0.032687,
     "end_time": "2024-12-11T11:03:29.929325",
     "exception": false,
     "start_time": "2024-12-11T11:03:29.896638",
     "status": "completed"
    },
    "tags": []
   },
   "outputs": [
    {
     "name": "stdout",
     "output_type": "stream",
     "text": [
      "      ID                Name  Age  Gender Department  Salary Joining Date  \\\n",
      "11    12   Rodney Richardson   60   Other         HR    6908   2015-03-14   \n",
      "17    18  Jacqueline Randall   31  Female         HR    3519   2018-05-18   \n",
      "18    19      Nancy Stephens   38    Male         HR    9061   2017-07-16   \n",
      "22    23        Bryce Carter   35  Female      Sales    9598   2015-12-16   \n",
      "34    35            Lisa Fry   51  Female         IT    9259   2017-09-26   \n",
      "..   ...                 ...  ...     ...        ...     ...          ...   \n",
      "918  919     Tammy Schneider   22   Other         IT    3625   2016-10-24   \n",
      "937  938       Gary Mitchell   52  Female      Sales    9963   2016-09-22   \n",
      "972  973       James Mendoza   23   Other      Sales    6871   2016-04-11   \n",
      "976  977       Kimberly Ross   19    Male      Sales    9331   2018-07-03   \n",
      "993  994       Brandon Bruce   31  Female         HR    3371   2018-09-25   \n",
      "\n",
      "     Performance Score  Experience    Status     Location  Session  \\\n",
      "11                 4.0          19    Active      Chicago    Night   \n",
      "17                 4.0           6    Active     New York  Morning   \n",
      "18                 5.0          16  Inactive      Chicago    Night   \n",
      "22                 4.0           4  Inactive     New York    Night   \n",
      "34                 4.0          17  Inactive  Los Angeles    Night   \n",
      "..                 ...         ...       ...          ...      ...   \n",
      "918                4.0          14    Active      Chicago  Morning   \n",
      "937                5.0          20  Inactive  Los Angeles  Morning   \n",
      "972                4.0          15  Inactive     New York  Morning   \n",
      "976                5.0          12    Active     New York  Morning   \n",
      "993                5.0          12  Inactive      Chicago    Night   \n",
      "\n",
      "     Years With Company  \n",
      "11                    9  \n",
      "17                    6  \n",
      "18                    7  \n",
      "22                    8  \n",
      "34                    7  \n",
      "..                  ...  \n",
      "918                   8  \n",
      "937                   8  \n",
      "972                   8  \n",
      "976                   6  \n",
      "993                   6  \n",
      "\n",
      "[69 rows x 13 columns]\n"
     ]
    }
   ],
   "source": [
    "#Calculate years of being with the company from the joining date till present.\n",
    "df['Joining Date'] = pd.to_datetime(df['Joining Date'])\n",
    "\n",
    "current_date = pd.Timestamp.now()\n",
    "df['Years With Company'] = (current_date - df['Joining Date']).dt.days // 365\n",
    "\n",
    "filtered_rows = df.loc[(df['Years With Company'] > 5) & (df['Performance Score'] >= 4)]\n",
    "\n",
    "print(filtered_rows)"
   ]
  },
  {
   "cell_type": "code",
   "execution_count": 11,
   "id": "e61483ae",
   "metadata": {
    "execution": {
     "iopub.execute_input": "2024-12-11T11:03:29.945409Z",
     "iopub.status.busy": "2024-12-11T11:03:29.945004Z",
     "iopub.status.idle": "2024-12-11T11:03:29.957067Z",
     "shell.execute_reply": "2024-12-11T11:03:29.955820Z"
    },
    "papermill": {
     "duration": 0.024057,
     "end_time": "2024-12-11T11:03:29.960469",
     "exception": false,
     "start_time": "2024-12-11T11:03:29.936412",
     "status": "completed"
    },
    "tags": []
   },
   "outputs": [
    {
     "name": "stdout",
     "output_type": "stream",
     "text": [
      "      ID             Name  Age  Gender Department  Salary Joining Date  \\\n",
      "0      1     Cory Escobar   48  Female         HR    5641   2015-05-03   \n",
      "2      3     Chad Nichols   57   Other      Sales    3058   2019-02-12   \n",
      "4      5     Amber Harris   35   Other         IT    4317   2020-02-15   \n",
      "6      7      David Olson   39  Female      Sales    6826   2023-05-11   \n",
      "8      9    Jeremy Wright   63  Female      Sales    9862   2024-02-07   \n",
      "..   ...              ...  ...     ...        ...     ...          ...   \n",
      "990  991     Amy Johnston   53  Female         HR    3991   2024-09-03   \n",
      "992  993   Ashley Daniels   25   Other      Sales    5524   2022-11-24   \n",
      "994  995  Rachel Phillips   22    Male         IT    3096   2018-10-27   \n",
      "996  997     Todd Johnson   29  Female      Sales    6754   2018-07-20   \n",
      "998  999    Ashley Taylor   51  Female         IT    5437   2022-02-18   \n",
      "\n",
      "     Performance Score  Experience    Status     Location  Session  \\\n",
      "0                  2.0          16    Active     New York    Night   \n",
      "2                  NaN           1  Inactive     New York  Morning   \n",
      "4                  5.0          16  Inactive     New York  Evening   \n",
      "6                  NaN           4    Active     New York    Night   \n",
      "8                  NaN           3  Inactive     New York    Night   \n",
      "..                 ...         ...       ...          ...      ...   \n",
      "990                4.0           8    Active      Chicago  Morning   \n",
      "992                NaN           8  Inactive     New York  Morning   \n",
      "994                2.0           7  Inactive      Chicago  Evening   \n",
      "996                NaN          12  Inactive     New York  Morning   \n",
      "998                4.0           9  Inactive  Los Angeles  Evening   \n",
      "\n",
      "     Years With Company  \n",
      "0                     9  \n",
      "2                     5  \n",
      "4                     4  \n",
      "6                     1  \n",
      "8                     0  \n",
      "..                  ...  \n",
      "990                   0  \n",
      "992                   2  \n",
      "994                   6  \n",
      "996                   6  \n",
      "998                   2  \n",
      "\n",
      "[500 rows x 13 columns]\n"
     ]
    }
   ],
   "source": [
    "# Select every alternate row from the DataFrame using slicing with iloc. \n",
    "#starting from index 0, the sellecting every second row.\n",
    "alternate=df.iloc[::2]\n",
    "print(alternate)"
   ]
  },
  {
   "cell_type": "code",
   "execution_count": 12,
   "id": "c2a9a8c1",
   "metadata": {
    "execution": {
     "iopub.execute_input": "2024-12-11T11:03:29.977473Z",
     "iopub.status.busy": "2024-12-11T11:03:29.977083Z",
     "iopub.status.idle": "2024-12-11T11:03:29.989504Z",
     "shell.execute_reply": "2024-12-11T11:03:29.988119Z"
    },
    "papermill": {
     "duration": 0.02387,
     "end_time": "2024-12-11T11:03:29.992098",
     "exception": false,
     "start_time": "2024-12-11T11:03:29.968228",
     "status": "completed"
    },
    "tags": []
   },
   "outputs": [
    {
     "name": "stdout",
     "output_type": "stream",
     "text": [
      "       ID                Name  Age  Gender Department  Salary Joining Date  \\\n",
      "1       2     Timothy Sanchez   25   Other      Sales    4249   2020-11-09   \n",
      "3       4  Christine Williams   58  Female         IT    5895   2017-09-08   \n",
      "5       6         Ashley Howe   29  Female         HR    2591   2016-06-24   \n",
      "7       8        Amanda Baker   52   Other         HR    6285   2015-04-01   \n",
      "9      10      Brian Faulkner   30    Male         IT    8202   2018-05-26   \n",
      "..    ...                 ...  ...     ...        ...     ...          ...   \n",
      "991   992     William Schultz   23   Other      Sales    4311   2019-08-17   \n",
      "993   994       Brandon Bruce   31  Female         HR    3371   2018-09-25   \n",
      "995   996       Pamela Reeves   49  Female      Sales    7652   2024-06-23   \n",
      "997   998     Michael Sanchez   18    Male      Sales    5278   2023-07-05   \n",
      "999  1000         Shawn Scott   45    Male         IT    7364   2022-07-31   \n",
      "\n",
      "     Performance Score  Experience    Status     Location  Session  \\\n",
      "1                  2.0          11  Inactive  Los Angeles  Evening   \n",
      "3                  2.0          13  Inactive  Los Angeles  Evening   \n",
      "5                  1.0           6    Active      Chicago  Evening   \n",
      "7                  NaN           8  Inactive      Chicago  Evening   \n",
      "9                  1.0           9    Active  Los Angeles  Morning   \n",
      "..                 ...         ...       ...          ...      ...   \n",
      "991                NaN          10  Inactive  Los Angeles  Evening   \n",
      "993                5.0          12  Inactive      Chicago    Night   \n",
      "995                4.0           3    Active  Los Angeles  Evening   \n",
      "997                5.0           3    Active     New York  Morning   \n",
      "999                2.0           4    Active     New York  Morning   \n",
      "\n",
      "     Years With Company  \n",
      "1                     4  \n",
      "3                     7  \n",
      "5                     8  \n",
      "7                     9  \n",
      "9                     6  \n",
      "..                  ...  \n",
      "991                   5  \n",
      "993                   6  \n",
      "995                   0  \n",
      "997                   1  \n",
      "999                   2  \n",
      "\n",
      "[500 rows x 13 columns]\n"
     ]
    }
   ],
   "source": [
    "# Select every alternate row from the DataFrame using slicing with iloc. \n",
    "#starting from index 1 instead of index 0.\n",
    "#can also be implemented for a specific range of alternates using df.iloc[1:99:2] (from index 1 to 99)\n",
    "alternate_rows_from_second = df.iloc[1::2]\n",
    "print(alternate_rows_from_second)"
   ]
  },
  {
   "cell_type": "code",
   "execution_count": 13,
   "id": "c22db588",
   "metadata": {
    "execution": {
     "iopub.execute_input": "2024-12-11T11:03:30.008531Z",
     "iopub.status.busy": "2024-12-11T11:03:30.008015Z",
     "iopub.status.idle": "2024-12-11T11:03:30.026819Z",
     "shell.execute_reply": "2024-12-11T11:03:30.025535Z"
    },
    "papermill": {
     "duration": 0.029792,
     "end_time": "2024-12-11T11:03:30.029143",
     "exception": false,
     "start_time": "2024-12-11T11:03:29.999351",
     "status": "completed"
    },
    "tags": []
   },
   "outputs": [
    {
     "name": "stdout",
     "output_type": "stream",
     "text": [
      "      ID                     Name  Age  Gender Department  Salary  \\\n",
      "8      9            Jeremy Wright   63  Female      Sales    9862   \n",
      "22    23             Bryce Carter   35  Female      Sales    9598   \n",
      "29    30            Rachel Ramsey   22    Male      Sales    9661   \n",
      "215  216               Sara Jones   50  Female      Sales    9377   \n",
      "228  229          Christie Warren   51  Female      Sales    9139   \n",
      "239  240      Christina Gutierrez   37    Male      Sales    9356   \n",
      "250  251           Joshua Bullock   38    Male      Sales    9924   \n",
      "263  264          Gabriela Wilson   40   Other      Sales    9455   \n",
      "275  276          Harry Alexander   22    Male      Sales    9749   \n",
      "299  300              Terry Smith   38  Female      Sales    9375   \n",
      "379  380                Dustin Le   29    Male      Sales    9726   \n",
      "381  382           David Marshall   43   Other      Sales    9269   \n",
      "405  406            Heather Scott   57    Male      Sales    9505   \n",
      "442  443          Kimberly Sparks   26   Other      Sales    9146   \n",
      "491  492  Dr. Jacob Castaneda DVM   53   Other      Sales    9181   \n",
      "516  517           Christina Lowe   35  Female      Sales    9630   \n",
      "552  553          Amanda Griffith   26    Male      Sales    9704   \n",
      "591  592          Jonathan Rangel   49   Other      Sales    9323   \n",
      "594  595           Michelle Smith   35   Other      Sales    9906   \n",
      "629  630           Patricia Scott   52   Other      Sales    9364   \n",
      "742  743           Timothy Guzman   41  Female      Sales    9409   \n",
      "756  757              James James   38    Male      Sales    9666   \n",
      "758  759          Matthew Roberts   53    Male      Sales    9917   \n",
      "778  779             David Nelson   39   Other      Sales    9653   \n",
      "796  797            Jacob Shannon   35   Other      Sales    9926   \n",
      "844  845             Gerald Cooke   33   Other      Sales    9693   \n",
      "898  899           Tiffany Jordan   44    Male      Sales    9819   \n",
      "903  904             Leslie Mason   42   Other      Sales    9658   \n",
      "932  933             Kristin Cole   50    Male      Sales    9616   \n",
      "937  938            Gary Mitchell   52  Female      Sales    9963   \n",
      "976  977            Kimberly Ross   19    Male      Sales    9331   \n",
      "\n",
      "    Joining Date  Performance Score  Experience    Status     Location  \\\n",
      "8     2024-02-07                NaN           3  Inactive     New York   \n",
      "22    2015-12-16                4.0           4  Inactive     New York   \n",
      "29    2016-08-18                2.0          17  Inactive      Chicago   \n",
      "215   2019-10-16                NaN           3    Active  Los Angeles   \n",
      "228   2020-08-16                5.0           1    Active      Chicago   \n",
      "239   2018-01-02                3.0           3    Active      Chicago   \n",
      "250   2019-01-10                4.0          20  Inactive      Chicago   \n",
      "263   2023-11-19                1.0          14    Active  Los Angeles   \n",
      "275   2019-05-15                NaN           5    Active  Los Angeles   \n",
      "299   2022-12-23                NaN           2  Inactive     New York   \n",
      "379   2015-04-13                1.0           2  Inactive      Chicago   \n",
      "381   2018-10-05                2.0          13  Inactive  Los Angeles   \n",
      "405   2024-08-18                3.0           6  Inactive     New York   \n",
      "442   2024-07-29                3.0           3  Inactive     New York   \n",
      "491   2024-02-17                5.0           1  Inactive  Los Angeles   \n",
      "516   2018-07-03                NaN           1    Active  Los Angeles   \n",
      "552   2019-05-30                NaN           9    Active     New York   \n",
      "591   2021-01-19                NaN          18  Inactive      Chicago   \n",
      "594   2018-12-18                NaN           9    Active  Los Angeles   \n",
      "629   2019-11-05                NaN           5    Active     New York   \n",
      "742   2023-09-17                NaN          16  Inactive     New York   \n",
      "756   2016-04-14                NaN          15    Active  Los Angeles   \n",
      "758   2017-07-07                1.0          16    Active  Los Angeles   \n",
      "778   2021-08-08                NaN          19  Inactive     New York   \n",
      "796   2016-09-04                NaN           7    Active      Chicago   \n",
      "844   2017-08-29                NaN          17  Inactive     New York   \n",
      "898   2022-07-15                NaN          13    Active     New York   \n",
      "903   2019-10-31                1.0          14  Inactive     New York   \n",
      "932   2017-02-03                2.0          13  Inactive  Los Angeles   \n",
      "937   2016-09-22                5.0          20  Inactive  Los Angeles   \n",
      "976   2018-07-03                5.0          12    Active     New York   \n",
      "\n",
      "     Session  Years With Company  \n",
      "8      Night                   0  \n",
      "22     Night                   8  \n",
      "29     Night                   8  \n",
      "215  Morning                   5  \n",
      "228    Night                   4  \n",
      "239  Morning                   6  \n",
      "250    Night                   5  \n",
      "263  Morning                   1  \n",
      "275  Morning                   5  \n",
      "299  Morning                   1  \n",
      "379  Evening                   9  \n",
      "381  Evening                   6  \n",
      "405    Night                   0  \n",
      "442  Evening                   0  \n",
      "491  Morning                   0  \n",
      "516    Night                   6  \n",
      "552  Evening                   5  \n",
      "591  Evening                   3  \n",
      "594  Evening                   5  \n",
      "629  Evening                   5  \n",
      "742  Morning                   1  \n",
      "756  Morning                   8  \n",
      "758  Evening                   7  \n",
      "778  Morning                   3  \n",
      "796    Night                   8  \n",
      "844  Morning                   7  \n",
      "898  Morning                   2  \n",
      "903  Evening                   5  \n",
      "932    Night                   7  \n",
      "937  Morning                   8  \n",
      "976  Morning                   6  \n"
     ]
    }
   ],
   "source": [
    "# Retrieve rows where the employee belongs to \"Sales\" and has a Salary in the top 10% of all salaries.\n",
    "top10perc_salary = df['Salary'].quantile(0.9)\n",
    "\n",
    "high_paid_sales = df.loc[(df['Department'] == \"Sales\") & (df['Salary'] >= top10perc_salary)]\n",
    "\n",
    "print(high_paid_sales)"
   ]
  },
  {
   "cell_type": "code",
   "execution_count": 14,
   "id": "7d36d96a",
   "metadata": {
    "execution": {
     "iopub.execute_input": "2024-12-11T11:03:30.045172Z",
     "iopub.status.busy": "2024-12-11T11:03:30.044760Z",
     "iopub.status.idle": "2024-12-11T11:03:30.057430Z",
     "shell.execute_reply": "2024-12-11T11:03:30.056234Z"
    },
    "papermill": {
     "duration": 0.023709,
     "end_time": "2024-12-11T11:03:30.060121",
     "exception": false,
     "start_time": "2024-12-11T11:03:30.036412",
     "status": "completed"
    },
    "tags": []
   },
   "outputs": [
    {
     "name": "stdout",
     "output_type": "stream",
     "text": [
      "       ID                Name  Age  Gender Department  Salary Joining Date  \\\n",
      "0       1        Cory Escobar   48  Female         HR    5641   2015-05-03   \n",
      "1       2     Timothy Sanchez   25   Other      Sales    4249   2020-11-09   \n",
      "2       3        Chad Nichols   57   Other      Sales    3058   2019-02-12   \n",
      "3       4  Christine Williams   58  Female         IT    5895   2017-09-08   \n",
      "4       5        Amber Harris   35   Other         IT    4317   2020-02-15   \n",
      "..    ...                 ...  ...     ...        ...     ...          ...   \n",
      "995   996       Pamela Reeves   49  Female      Sales    7652   2024-06-23   \n",
      "996   997        Todd Johnson   29  Female      Sales    6754   2018-07-20   \n",
      "997   998     Michael Sanchez   18    Male      Sales    5278   2023-07-05   \n",
      "998   999       Ashley Taylor   51  Female         IT    5437   2022-02-18   \n",
      "999  1000         Shawn Scott   45    Male         IT    7364   2022-07-31   \n",
      "\n",
      "     Performance Score  Experience   Status     Location  Session  \\\n",
      "0                  2.0          16   Active     New York    Night   \n",
      "1                  2.0          11  Retired  Los Angeles  Evening   \n",
      "2                  NaN           1  Retired     New York  Morning   \n",
      "3                  2.0          13  Retired  Los Angeles  Evening   \n",
      "4                  5.0          16  Retired     New York  Evening   \n",
      "..                 ...         ...      ...          ...      ...   \n",
      "995                4.0           3   Active  Los Angeles  Evening   \n",
      "996                NaN          12  Retired     New York  Morning   \n",
      "997                5.0           3   Active     New York  Morning   \n",
      "998                4.0           9  Retired  Los Angeles  Evening   \n",
      "999                2.0           4   Active     New York  Morning   \n",
      "\n",
      "     Years With Company  \n",
      "0                     9  \n",
      "1                     4  \n",
      "2                     5  \n",
      "3                     7  \n",
      "4                     4  \n",
      "..                  ...  \n",
      "995                   0  \n",
      "996                   6  \n",
      "997                   1  \n",
      "998                   2  \n",
      "999                   2  \n",
      "\n",
      "[1000 rows x 13 columns]\n"
     ]
    }
   ],
   "source": [
    "# Replace all \"Inactive\" values in the Status column with \"Retired\".\n",
    "df['Status'] = df['Status'].replace('Inactive', 'Retired')\n",
    "\n",
    "print(df)"
   ]
  },
  {
   "cell_type": "code",
   "execution_count": 15,
   "id": "1af66b2c",
   "metadata": {
    "execution": {
     "iopub.execute_input": "2024-12-11T11:03:30.076409Z",
     "iopub.status.busy": "2024-12-11T11:03:30.076047Z",
     "iopub.status.idle": "2024-12-11T11:03:30.089443Z",
     "shell.execute_reply": "2024-12-11T11:03:30.088189Z"
    },
    "papermill": {
     "duration": 0.02433,
     "end_time": "2024-12-11T11:03:30.091810",
     "exception": false,
     "start_time": "2024-12-11T11:03:30.067480",
     "status": "completed"
    },
    "tags": []
   },
   "outputs": [
    {
     "name": "stdout",
     "output_type": "stream",
     "text": [
      "       ID                Name  Age  Gender Department  Salary Joining Date  \\\n",
      "0       1        Cory Escobar   48  Female         HR    5641   2015-05-03   \n",
      "1       2     Timothy Sanchez   25   Other      Sales    4249   2020-11-09   \n",
      "2       3        Chad Nichols   57   Other      Sales    3058   2019-02-12   \n",
      "3       4  Christine Williams   58  Female         IT    5895   2017-09-08   \n",
      "4       5        Amber Harris   35   Other         IT    4317   2020-02-15   \n",
      "..    ...                 ...  ...     ...        ...     ...          ...   \n",
      "995   996       Pamela Reeves   49  Female      Sales    7652   2024-06-23   \n",
      "996   997        Todd Johnson   29  Female      Sales    6754   2018-07-20   \n",
      "997   998     Michael Sanchez   18    Male      Sales    5278   2023-07-05   \n",
      "998   999       Ashley Taylor   51  Female         IT    5437   2022-02-18   \n",
      "999  1000         Shawn Scott   45    Male         IT    7364   2022-07-31   \n",
      "\n",
      "     Performance Score  Experience   Status     Location  Session  \\\n",
      "0                  2.0          16   Active     New York    Night   \n",
      "1                  2.0          11  Retired  Los Angeles  Evening   \n",
      "2                  NaN           1  Retired     New York  Morning   \n",
      "3                  2.0          13  Retired  Los Angeles  Evening   \n",
      "4                  5.0          16  Retired     New York  Evening   \n",
      "..                 ...         ...      ...          ...      ...   \n",
      "995                4.0           3   Active  Los Angeles  Evening   \n",
      "996                NaN          12  Retired     New York  Morning   \n",
      "997                5.0           3   Active     New York  Morning   \n",
      "998                4.0           9  Retired  Los Angeles  Evening   \n",
      "999                2.0           4   Active     New York  Morning   \n",
      "\n",
      "     Years With Company  Bonus  \n",
      "0                     9  564.1  \n",
      "1                     4  424.9  \n",
      "2                     5  305.8  \n",
      "3                     7  589.5  \n",
      "4                     4  431.7  \n",
      "..                  ...    ...  \n",
      "995                   0  765.2  \n",
      "996                   6  675.4  \n",
      "997                   1  527.8  \n",
      "998                   2  543.7  \n",
      "999                   2  736.4  \n",
      "\n",
      "[1000 rows x 14 columns]\n"
     ]
    }
   ],
   "source": [
    "#Add a new column Bonus where values are 10% of the Salary column.\n",
    "df['Bonus'] = df['Salary'] * 0.10\n",
    "print(df)"
   ]
  },
  {
   "cell_type": "code",
   "execution_count": 16,
   "id": "97aba395",
   "metadata": {
    "execution": {
     "iopub.execute_input": "2024-12-11T11:03:30.108854Z",
     "iopub.status.busy": "2024-12-11T11:03:30.108474Z",
     "iopub.status.idle": "2024-12-11T11:03:30.123171Z",
     "shell.execute_reply": "2024-12-11T11:03:30.121814Z"
    },
    "papermill": {
     "duration": 0.027163,
     "end_time": "2024-12-11T11:03:30.126449",
     "exception": false,
     "start_time": "2024-12-11T11:03:30.099286",
     "status": "completed"
    },
    "tags": []
   },
   "outputs": [
    {
     "name": "stdout",
     "output_type": "stream",
     "text": [
      "       ID                Name  Age  Gender Department  Salary Joining Date  \\\n",
      "0       1        Cory Escobar   48  Female         HR    5641   2015-05-03   \n",
      "1       2     Timothy Sanchez   25   Other      Sales    4249   2020-11-09   \n",
      "2       3        Chad Nichols   57   Other      Sales    3058   2019-02-12   \n",
      "3       4  Christine Williams   58  Female         IT    5895   2017-09-08   \n",
      "4       5        Amber Harris   35   Other         IT    4317   2020-02-15   \n",
      "..    ...                 ...  ...     ...        ...     ...          ...   \n",
      "995   996       Pamela Reeves   49  Female      Sales    7652   2024-06-23   \n",
      "996   997        Todd Johnson   29  Female      Sales    6754   2018-07-20   \n",
      "997   998     Michael Sanchez   18    Male      Sales    5278   2023-07-05   \n",
      "998   999       Ashley Taylor   51  Female         IT    5437   2022-02-18   \n",
      "999  1000         Shawn Scott   45    Male         IT    7364   2022-07-31   \n",
      "\n",
      "     Performance Score  Experience   Status     Location  Session  \\\n",
      "0                  2.0          16   Active     New York    Night   \n",
      "1                  2.0          11  Retired  Los Angeles  Evening   \n",
      "2                  NaN           1  Retired     New York  Morning   \n",
      "3                  2.0          13  Retired  Los Angeles  Evening   \n",
      "4                  5.0          16  Retired     New York  Evening   \n",
      "..                 ...         ...      ...          ...      ...   \n",
      "995                4.0           3   Active  Los Angeles  Evening   \n",
      "996                NaN          12  Retired     New York  Morning   \n",
      "997                5.0           3   Active     New York  Morning   \n",
      "998                4.0           9  Retired  Los Angeles  Evening   \n",
      "999                2.0           4   Active     New York  Morning   \n",
      "\n",
      "     Years With Company  Bonus  \n",
      "0                     9  564.1  \n",
      "1                     4  424.9  \n",
      "2                     5  305.8  \n",
      "3                     7  589.5  \n",
      "4                     4  431.7  \n",
      "..                  ...    ...  \n",
      "995                   0  765.2  \n",
      "996                   6  675.4  \n",
      "997                   1  527.8  \n",
      "998                   2  543.7  \n",
      "999                   2  736.4  \n",
      "\n",
      "[1000 rows x 14 columns]\n"
     ]
    }
   ],
   "source": [
    "#Update the Performance Score of employees in the \"IT\" department to 5 if it is NaN\n",
    "df.loc[(df['Department'] == 'IT') & (df['Performance Score'].isna()), 'Performance Score'] = 5\n",
    "\n",
    "print(df)"
   ]
  },
  {
   "cell_type": "code",
   "execution_count": 17,
   "id": "c3995e3e",
   "metadata": {
    "execution": {
     "iopub.execute_input": "2024-12-11T11:03:30.148197Z",
     "iopub.status.busy": "2024-12-11T11:03:30.147785Z",
     "iopub.status.idle": "2024-12-11T11:03:30.161121Z",
     "shell.execute_reply": "2024-12-11T11:03:30.159908Z"
    },
    "papermill": {
     "duration": 0.024858,
     "end_time": "2024-12-11T11:03:30.163244",
     "exception": false,
     "start_time": "2024-12-11T11:03:30.138386",
     "status": "completed"
    },
    "tags": []
   },
   "outputs": [
    {
     "name": "stdout",
     "output_type": "stream",
     "text": [
      "       ID                Name  Age  Gender Department  Salary Joining Date  \\\n",
      "0       1        Cory Escobar   48  Female         HR    5641   2015-05-03   \n",
      "1       2     Timothy Sanchez   25   Other      Sales    4249   2020-11-09   \n",
      "2       3        Chad Nichols   57   Other      Sales    3058   2019-02-12   \n",
      "3       4  Christine Williams   58  Female         IT    5895   2017-09-08   \n",
      "4       5        Amber Harris   35   Other         IT    4317   2020-02-15   \n",
      "..    ...                 ...  ...     ...        ...     ...          ...   \n",
      "995   996       Pamela Reeves   49  Female      Sales    7652   2024-06-23   \n",
      "996   997        Todd Johnson   29  Female      Sales    6754   2018-07-20   \n",
      "997   998     Michael Sanchez   18    Male      Sales    5278   2023-07-05   \n",
      "998   999       Ashley Taylor   51  Female         IT    5437   2022-02-18   \n",
      "999  1000         Shawn Scott   45    Male         IT    7364   2022-07-31   \n",
      "\n",
      "     Performance Score  Experience   Status     Location  Session  \\\n",
      "0                  2.0          16   Active     New York    Night   \n",
      "1                  2.0          11  Retired  Los Angeles  Evening   \n",
      "2                  NaN           2  Retired     New York  Morning   \n",
      "3                  2.0          13  Retired  Los Angeles  Evening   \n",
      "4                  5.0          16  Retired     New York  Evening   \n",
      "..                 ...         ...      ...          ...      ...   \n",
      "995                4.0           3   Active  Los Angeles  Evening   \n",
      "996                NaN          12  Retired     New York  Morning   \n",
      "997                5.0           3   Active     New York  Morning   \n",
      "998                4.0           9  Retired  Los Angeles  Evening   \n",
      "999                2.0           4   Active     New York  Morning   \n",
      "\n",
      "     Years With Company  Bonus  \n",
      "0                     9  564.1  \n",
      "1                     4  424.9  \n",
      "2                     5  305.8  \n",
      "3                     7  589.5  \n",
      "4                     4  431.7  \n",
      "..                  ...    ...  \n",
      "995                   0  765.2  \n",
      "996                   6  675.4  \n",
      "997                   1  527.8  \n",
      "998                   2  543.7  \n",
      "999                   2  736.4  \n",
      "\n",
      "[1000 rows x 14 columns]\n"
     ]
    }
   ],
   "source": [
    "# Modify the Experience of employees with less than 2 years to 2. \n",
    "\n",
    "df.loc[df['Experience'] < 2, 'Experience'] = 2\n",
    "\n",
    "print(df)"
   ]
  },
  {
   "cell_type": "code",
   "execution_count": 18,
   "id": "016d0ae9",
   "metadata": {
    "execution": {
     "iopub.execute_input": "2024-12-11T11:03:30.180278Z",
     "iopub.status.busy": "2024-12-11T11:03:30.179879Z",
     "iopub.status.idle": "2024-12-11T11:03:30.194387Z",
     "shell.execute_reply": "2024-12-11T11:03:30.193119Z"
    },
    "papermill": {
     "duration": 0.025849,
     "end_time": "2024-12-11T11:03:30.196704",
     "exception": false,
     "start_time": "2024-12-11T11:03:30.170855",
     "status": "completed"
    },
    "tags": []
   },
   "outputs": [
    {
     "name": "stdout",
     "output_type": "stream",
     "text": [
      "       ID                Name  Age  Gender Department  Salary Joining Date  \\\n",
      "0       1        Cory Escobar   48  Female         HR    5641   2015-05-03   \n",
      "1       2     Timothy Sanchez   25   Other      Sales    4249   2020-11-09   \n",
      "2       3        Chad Nichols   57   Other      Sales    3058   2019-02-12   \n",
      "3       4  Christine Williams   58  Female         IT    5895   2017-09-08   \n",
      "4       5        Amber Harris   35   Other         IT    4317   2020-02-15   \n",
      "..    ...                 ...  ...     ...        ...     ...          ...   \n",
      "995   996       Pamela Reeves   49  Female      Sales    7652   2024-06-23   \n",
      "996   997        Todd Johnson   29  Female      Sales    6754   2018-07-20   \n",
      "997   998     Michael Sanchez   18    Male      Sales    5278   2023-07-05   \n",
      "998   999       Ashley Taylor   51  Female         IT    5437   2022-02-18   \n",
      "999  1000         Shawn Scott   45    Male         IT    7364   2022-07-31   \n",
      "\n",
      "     Performance Score  Experience   Status     Location  Session  \\\n",
      "0                  2.0          16   Active     New York    Night   \n",
      "1                  2.0          11  Retired  Los Angeles  Evening   \n",
      "2                  NaN           2  Retired     New York  Morning   \n",
      "3                  2.0          13  Retired  Los Angeles  Evening   \n",
      "4                  5.0          16  Retired     New York  Evening   \n",
      "..                 ...         ...      ...          ...      ...   \n",
      "995                4.0           3   Active  Los Angeles  Evening   \n",
      "996                NaN          12  Retired     New York  Morning   \n",
      "997                5.0           3   Active     New York  Morning   \n",
      "998                4.0           9  Retired  Los Angeles  Evening   \n",
      "999                2.0           4   Active     New York  Morning   \n",
      "\n",
      "     Years With Company  Bonus  Normalized Salary  \n",
      "0                     9  564.1           0.454500  \n",
      "1                     4  424.9           0.280020  \n",
      "2                     5  305.8           0.130735  \n",
      "3                     7  589.5           0.486337  \n",
      "4                     4  431.7           0.288543  \n",
      "..                  ...    ...                ...  \n",
      "995                   0  765.2           0.706568  \n",
      "996                   6  675.4           0.594009  \n",
      "997                   1  527.8           0.409000  \n",
      "998                   2  543.7           0.428930  \n",
      "999                   2  736.4           0.670469  \n",
      "\n",
      "[1000 rows x 15 columns]\n"
     ]
    }
   ],
   "source": [
    "#Normalize the Salary column so that all values are between 0 and 1\n",
    "#perform normalization using salary-salary.min()//(salary.max()-salary.min()): feature scaling\n",
    "\n",
    "df['Normalized Salary'] = (df['Salary'] - df['Salary'].min()) / (df['Salary'].max() - df['Salary'].min())\n",
    "\n",
    "print(df)"
   ]
  },
  {
   "cell_type": "code",
   "execution_count": 19,
   "id": "5cee2516",
   "metadata": {
    "execution": {
     "iopub.execute_input": "2024-12-11T11:03:30.214508Z",
     "iopub.status.busy": "2024-12-11T11:03:30.214063Z",
     "iopub.status.idle": "2024-12-11T11:03:30.228475Z",
     "shell.execute_reply": "2024-12-11T11:03:30.227060Z"
    },
    "papermill": {
     "duration": 0.0269,
     "end_time": "2024-12-11T11:03:30.231259",
     "exception": false,
     "start_time": "2024-12-11T11:03:30.204359",
     "status": "completed"
    },
    "tags": []
   },
   "outputs": [
    {
     "name": "stdout",
     "output_type": "stream",
     "text": [
      "       ID                Name  Age  Gender Department  Salary Joining Date  \\\n",
      "0       1        Cory Escobar   48  Female         HR    5641   2015-05-03   \n",
      "1       2     Timothy Sanchez   25   Other      Sales    4249   2020-11-09   \n",
      "2       3        Chad Nichols   57   Other      Sales    3058   2019-02-12   \n",
      "3       4  Christine Williams   58  Female         IT    5895   2017-09-08   \n",
      "4       5        Amber Harris   35   Other         IT    4317   2020-02-15   \n",
      "..    ...                 ...  ...     ...        ...     ...          ...   \n",
      "995   996       Pamela Reeves   49  Female      Sales    7652   2024-06-23   \n",
      "996   997        Todd Johnson   29  Female      Sales    6754   2018-07-20   \n",
      "997   998     Michael Sanchez   18    Male      Sales    5278   2023-07-05   \n",
      "998   999       Ashley Taylor   51  Female         IT    5437   2022-02-18   \n",
      "999  1000         Shawn Scott   45    Male         IT    7364   2022-07-31   \n",
      "\n",
      "     Performance Score  Experience   Status     Location  Session  \\\n",
      "0                  2.0          16   Active       Remote    Night   \n",
      "1                  2.0          11  Retired       Remote  Evening   \n",
      "2                  NaN           2  Retired     New York  Morning   \n",
      "3                  2.0          13  Retired       Remote  Evening   \n",
      "4                  5.0          16  Retired     New York  Evening   \n",
      "..                 ...         ...      ...          ...      ...   \n",
      "995                4.0           3   Active  Los Angeles  Evening   \n",
      "996                NaN          12  Retired     New York  Morning   \n",
      "997                5.0           3   Active     New York  Morning   \n",
      "998                4.0           9  Retired  Los Angeles  Evening   \n",
      "999                2.0           4   Active       Remote  Morning   \n",
      "\n",
      "     Years With Company  Bonus  Normalized Salary  \n",
      "0                     9  564.1           0.454500  \n",
      "1                     4  424.9           0.280020  \n",
      "2                     5  305.8           0.130735  \n",
      "3                     7  589.5           0.486337  \n",
      "4                     4  431.7           0.288543  \n",
      "..                  ...    ...                ...  \n",
      "995                   0  765.2           0.706568  \n",
      "996                   6  675.4           0.594009  \n",
      "997                   1  527.8           0.409000  \n",
      "998                   2  543.7           0.428930  \n",
      "999                   2  736.4           0.670469  \n",
      "\n",
      "[1000 rows x 15 columns]\n"
     ]
    }
   ],
   "source": [
    "# Replace all Location values with \"Remote\" for employees with a Performance Score below 3.\n",
    "df.loc[df['Performance Score'] < 3, 'Location'] = 'Remote'\n",
    "\n",
    "print(df)"
   ]
  },
  {
   "cell_type": "code",
   "execution_count": 20,
   "id": "eae7de56",
   "metadata": {
    "execution": {
     "iopub.execute_input": "2024-12-11T11:03:30.249679Z",
     "iopub.status.busy": "2024-12-11T11:03:30.249283Z",
     "iopub.status.idle": "2024-12-11T11:03:30.267487Z",
     "shell.execute_reply": "2024-12-11T11:03:30.266280Z"
    },
    "papermill": {
     "duration": 0.030831,
     "end_time": "2024-12-11T11:03:30.270218",
     "exception": false,
     "start_time": "2024-12-11T11:03:30.239387",
     "status": "completed"
    },
    "tags": []
   },
   "outputs": [
    {
     "name": "stdout",
     "output_type": "stream",
     "text": [
      "       ID                Name  Age  Gender Department  Salary Joining Date  \\\n",
      "0       1        Cory Escobar   48  Female         HR    5641   2015-05-03   \n",
      "1       2     Timothy Sanchez   25   Other      Sales    4249   2020-11-09   \n",
      "2       3        Chad Nichols   57   Other      Sales    3058   2019-02-12   \n",
      "3       4  Christine Williams   58  Female         IT    5895   2017-09-08   \n",
      "4       5        Amber Harris   35   Other         IT    4317   2020-02-15   \n",
      "..    ...                 ...  ...     ...        ...     ...          ...   \n",
      "995   996       Pamela Reeves   49  Female      Sales    7652   2024-06-23   \n",
      "996   997        Todd Johnson   29  Female      Sales    6754   2018-07-20   \n",
      "997   998     Michael Sanchez   18    Male      Sales    5278   2023-07-05   \n",
      "998   999       Ashley Taylor   51  Female         IT    5437   2022-02-18   \n",
      "999  1000         Shawn Scott   45    Male         IT    7364   2022-07-31   \n",
      "\n",
      "     Performance Score  Experience    Status     Location  Session  \n",
      "0                  2.0          16    Active     New York    Night  \n",
      "1                  2.0          11  Inactive  Los Angeles  Evening  \n",
      "2                  NaN           1  Inactive     New York  Morning  \n",
      "3                  2.0          13  Inactive  Los Angeles  Evening  \n",
      "4                  5.0          16  Inactive     New York  Evening  \n",
      "..                 ...         ...       ...          ...      ...  \n",
      "995                4.0           3    Active  Los Angeles  Evening  \n",
      "996                NaN          12  Inactive     New York  Morning  \n",
      "997                5.0           3    Active     New York  Morning  \n",
      "998                4.0           9  Inactive  Los Angeles  Evening  \n",
      "999                2.0           4    Active     New York  Morning  \n",
      "\n",
      "[1000 rows x 12 columns]\n"
     ]
    }
   ],
   "source": [
    "#Original Dataset\n",
    "original = pd.read_csv('/kaggle/input/employee-performance-and-salary-dataset/Employe_Performance_dataset.csv')\n",
    "print(original)"
   ]
  },
  {
   "cell_type": "code",
   "execution_count": 21,
   "id": "85519926",
   "metadata": {
    "execution": {
     "iopub.execute_input": "2024-12-11T11:03:30.287880Z",
     "iopub.status.busy": "2024-12-11T11:03:30.287499Z",
     "iopub.status.idle": "2024-12-11T11:03:30.303232Z",
     "shell.execute_reply": "2024-12-11T11:03:30.302053Z"
    },
    "papermill": {
     "duration": 0.027037,
     "end_time": "2024-12-11T11:03:30.305383",
     "exception": false,
     "start_time": "2024-12-11T11:03:30.278346",
     "status": "completed"
    },
    "tags": []
   },
   "outputs": [
    {
     "name": "stdout",
     "output_type": "stream",
     "text": [
      "       ID                Name  Age  Gender Department  Salary Joining Date  \\\n",
      "0       1        Cory Escobar   48  Female         HR    5641   2015-05-03   \n",
      "1       2     Timothy Sanchez   25   Other      Sales    4249   2020-11-09   \n",
      "2       3        Chad Nichols   57   Other      Sales    3058   2019-02-12   \n",
      "3       4  Christine Williams   58  Female         IT    5895   2017-09-08   \n",
      "4       5        Amber Harris   35   Other         IT    4317   2020-02-15   \n",
      "..    ...                 ...  ...     ...        ...     ...          ...   \n",
      "995   996       Pamela Reeves   49  Female      Sales    7652   2024-06-23   \n",
      "996   997        Todd Johnson   29  Female      Sales    6754   2018-07-20   \n",
      "997   998     Michael Sanchez   18    Male      Sales    5278   2023-07-05   \n",
      "998   999       Ashley Taylor   51  Female         IT    5437   2022-02-18   \n",
      "999  1000         Shawn Scott   45    Male         IT    7364   2022-07-31   \n",
      "\n",
      "     Performance Score  Experience   Status     Location  Session  \\\n",
      "0                  2.0          16   Active       Remote    Night   \n",
      "1                  2.0          11  Retired       Remote  Evening   \n",
      "2                  NaN           2  Retired     New York  Morning   \n",
      "3                  2.0          13  Retired       Remote  Evening   \n",
      "4                  5.0          16  Retired     New York  Evening   \n",
      "..                 ...         ...      ...          ...      ...   \n",
      "995                4.0           3   Active  Los Angeles  Evening   \n",
      "996                NaN          12  Retired     New York  Morning   \n",
      "997                5.0           3   Active     New York  Morning   \n",
      "998                4.0           9  Retired  Los Angeles  Evening   \n",
      "999                2.0           4   Active       Remote  Morning   \n",
      "\n",
      "     Years With Company  Bonus  Normalized Salary Experience Level  \n",
      "0                     9  564.1           0.454500           Senior  \n",
      "1                     4  424.9           0.280020           Senior  \n",
      "2                     5  305.8           0.130735           Junior  \n",
      "3                     7  589.5           0.486337           Senior  \n",
      "4                     4  431.7           0.288543           Senior  \n",
      "..                  ...    ...                ...              ...  \n",
      "995                   0  765.2           0.706568           Junior  \n",
      "996                   6  675.4           0.594009           Senior  \n",
      "997                   1  527.8           0.409000           Junior  \n",
      "998                   2  543.7           0.428930              Mid  \n",
      "999                   2  736.4           0.670469           Junior  \n",
      "\n",
      "[1000 rows x 16 columns]\n"
     ]
    }
   ],
   "source": [
    "#. Create a new column Experience Level with values \"Junior\", \"Mid\", or \"Senior\" based on the \n",
    "#Experience.\n",
    "conditions = [\n",
    "    (df['Experience'] < 5),  \n",
    "    (df['Experience'] >= 5) & (df['Experience'] < 10), \n",
    "    (df['Experience'] >= 10)]\n",
    "\n",
    "experience_levels = ['Junior', 'Mid', 'Senior']\n",
    "\n",
    "df['Experience Level'] = np.select(conditions, experience_levels, default='Unknown')\n",
    "\n",
    "print(df)\n",
    "\n",
    "    "
   ]
  },
  {
   "cell_type": "code",
   "execution_count": 22,
   "id": "4f4770ec",
   "metadata": {
    "execution": {
     "iopub.execute_input": "2024-12-11T11:03:30.323515Z",
     "iopub.status.busy": "2024-12-11T11:03:30.323168Z",
     "iopub.status.idle": "2024-12-11T11:03:30.335374Z",
     "shell.execute_reply": "2024-12-11T11:03:30.333925Z"
    },
    "papermill": {
     "duration": 0.024772,
     "end_time": "2024-12-11T11:03:30.338196",
     "exception": false,
     "start_time": "2024-12-11T11:03:30.313424",
     "status": "completed"
    },
    "tags": []
   },
   "outputs": [
    {
     "name": "stdout",
     "output_type": "stream",
     "text": [
      "                Name Joining Date\n",
      "995    Pamela Reeves   2024-06-23\n",
      "996     Todd Johnson   2018-07-20\n",
      "997  Michael Sanchez   2023-07-05\n",
      "998    Ashley Taylor   2022-02-18\n",
      "999      Shawn Scott   2022-07-31\n"
     ]
    }
   ],
   "source": [
    "# Convert the 'Joining Date' column to datetime format\n",
    "df['Joining Date'] = pd.to_datetime(df['Joining Date'])\n",
    "\n",
    "# Reformat the 'Joining Date' column to 'YYYY-MM-DD' format\n",
    "df['Joining Date'] = df['Joining Date'].dt.strftime('%Y-%m-%d')\n",
    "\n",
    "print(df[['Name', 'Joining Date']].tail()) \n"
   ]
  },
  {
   "cell_type": "code",
   "execution_count": 23,
   "id": "946e56fc",
   "metadata": {
    "execution": {
     "iopub.execute_input": "2024-12-11T11:03:30.356522Z",
     "iopub.status.busy": "2024-12-11T11:03:30.355681Z",
     "iopub.status.idle": "2024-12-11T11:03:30.373957Z",
     "shell.execute_reply": "2024-12-11T11:03:30.372999Z"
    },
    "papermill": {
     "duration": 0.029839,
     "end_time": "2024-12-11T11:03:30.376224",
     "exception": false,
     "start_time": "2024-12-11T11:03:30.346385",
     "status": "completed"
    },
    "tags": []
   },
   "outputs": [
    {
     "name": "stdout",
     "output_type": "stream",
     "text": [
      "        ID                Name  Age  Gender Department  Salary Joining Date  \\\n",
      "0        1        Cory Escobar   48  Female         HR    5641   2015-05-03   \n",
      "1        2     Timothy Sanchez   25   Other      Sales    4249   2020-11-09   \n",
      "2        3        Chad Nichols   57   Other      Sales    3058   2019-02-12   \n",
      "3        4  Christine Williams   58  Female         IT    5895   2017-09-08   \n",
      "4        5        Amber Harris   35   Other         IT    4317   2020-02-15   \n",
      "...    ...                 ...  ...     ...        ...     ...          ...   \n",
      "996    997        Todd Johnson   29  Female      Sales    6754   2018-07-20   \n",
      "997    998     Michael Sanchez   18    Male      Sales    5278   2023-07-05   \n",
      "998    999       Ashley Taylor   51  Female         IT    5437   2022-02-18   \n",
      "999   1000         Shawn Scott   45    Male         IT    7364   2022-07-31   \n",
      "1000  1001       Nicole Otieno   28  Female         IT    5500   2024-12-11   \n",
      "\n",
      "      Performance Score  Experience   Status     Location  Session  \\\n",
      "0                   2.0          16   Active       Remote    Night   \n",
      "1                   2.0          11  Retired       Remote  Evening   \n",
      "2                   NaN           2  Retired     New York  Morning   \n",
      "3                   2.0          13  Retired       Remote  Evening   \n",
      "4                   5.0          16  Retired     New York  Evening   \n",
      "...                 ...         ...      ...          ...      ...   \n",
      "996                 NaN          12  Retired     New York  Morning   \n",
      "997                 5.0           3   Active     New York  Morning   \n",
      "998                 4.0           9  Retired  Los Angeles  Evening   \n",
      "999                 2.0           4   Active       Remote  Morning   \n",
      "1000                4.5           3   Active     New York    Night   \n",
      "\n",
      "      Years With Company  Bonus  Normalized Salary Experience Level  \n",
      "0                      9  564.1           0.454500           Senior  \n",
      "1                      4  424.9           0.280020           Senior  \n",
      "2                      5  305.8           0.130735           Junior  \n",
      "3                      7  589.5           0.486337           Senior  \n",
      "4                      4  431.7           0.288543           Senior  \n",
      "...                  ...    ...                ...              ...  \n",
      "996                    6  675.4           0.594009           Senior  \n",
      "997                    1  527.8           0.409000           Junior  \n",
      "998                    2  543.7           0.428930              Mid  \n",
      "999                    2  736.4           0.670469           Junior  \n",
      "1000                   1  550.0                NaN           Junior  \n",
      "\n",
      "[1001 rows x 16 columns]\n"
     ]
    }
   ],
   "source": [
    "# Add a new row with specific values using the append() method. \n",
    "#since the DataFrame object has no value append , I would use concatenation\n",
    "\n",
    "new_row = {\n",
    "    'ID': 1001,\n",
    "    'Name': 'Nicole Otieno',\n",
    "    'Age': 28,\n",
    "    'Gender': 'Female',\n",
    "    'Department': 'IT',\n",
    "    'Salary': 5500,\n",
    "    'Joining Date': '2024-12-11',\n",
    "    'Performance Score': 4.5,\n",
    "    'Experience': 3,\n",
    "    'Status': 'Active',\n",
    "    'Location': 'New York',\n",
    "    'Session': 'Night',\n",
    "    'Years With Company': 1,\n",
    "    'Bonus': 550.0,\n",
    "    'Experience Level': 'Junior'\n",
    "}\n",
    "\n",
    "new_row_df = pd.DataFrame([new_row])\n",
    "\n",
    "\n",
    "df = pd.concat([df, new_row_df], ignore_index=True)\n",
    "# To check the last rows after \n",
    "print(df)\n",
    "\n",
    "\n",
    "\n",
    "\n"
   ]
  },
  {
   "cell_type": "code",
   "execution_count": 24,
   "id": "ed6d04ea",
   "metadata": {
    "execution": {
     "iopub.execute_input": "2024-12-11T11:03:30.394576Z",
     "iopub.status.busy": "2024-12-11T11:03:30.394236Z",
     "iopub.status.idle": "2024-12-11T11:03:30.407446Z",
     "shell.execute_reply": "2024-12-11T11:03:30.406285Z"
    },
    "papermill": {
     "duration": 0.025202,
     "end_time": "2024-12-11T11:03:30.409756",
     "exception": false,
     "start_time": "2024-12-11T11:03:30.384554",
     "status": "completed"
    },
    "tags": []
   },
   "outputs": [
    {
     "name": "stdout",
     "output_type": "stream",
     "text": [
      "   ID                Name  Age  Gender Department  Salary Joining Date  \\\n",
      "0   1        Cory Escobar   48  Female         HR    5641   2015-05-03   \n",
      "1   2     Timothy Sanchez   25   Other      Sales    4249   2020-11-09   \n",
      "2   3        Chad Nichols   57   Other      Sales    3058   2019-02-12   \n",
      "3   4  Christine Williams   58  Female         IT    5895   2017-09-08   \n",
      "4   5        Amber Harris   35   Other         IT    4317   2020-02-15   \n",
      "\n",
      "   Performance Score  Experience   Status  Location  Years With Company  \\\n",
      "0                2.0          16   Active    Remote                   9   \n",
      "1                2.0          11  Retired    Remote                   4   \n",
      "2                NaN           2  Retired  New York                   5   \n",
      "3                2.0          13  Retired    Remote                   7   \n",
      "4                5.0          16  Retired  New York                   4   \n",
      "\n",
      "   Bonus  Normalized Salary Experience Level  \n",
      "0  564.1           0.454500           Senior  \n",
      "1  424.9           0.280020           Senior  \n",
      "2  305.8           0.130735           Junior  \n",
      "3  589.5           0.486337           Senior  \n",
      "4  431.7           0.288543           Senior  \n",
      "0      Night\n",
      "1    Evening\n",
      "2    Morning\n",
      "3    Evening\n",
      "4    Evening\n",
      "Name: Session, dtype: object\n"
     ]
    }
   ],
   "source": [
    "# Delete the column Session from the DataFrame.\n",
    "#First save the session data for easy retrieval.\n",
    "session_data = df['Session'].copy()\n",
    "df = df.drop(columns=['Session'])\n",
    "\n",
    "print(df.head())\n",
    "#check if the session copy has been saved.\n",
    "print(session_data.head())"
   ]
  },
  {
   "cell_type": "code",
   "execution_count": 25,
   "id": "0e1753dc",
   "metadata": {
    "execution": {
     "iopub.execute_input": "2024-12-11T11:03:30.427910Z",
     "iopub.status.busy": "2024-12-11T11:03:30.427538Z",
     "iopub.status.idle": "2024-12-11T11:03:30.442992Z",
     "shell.execute_reply": "2024-12-11T11:03:30.441366Z"
    },
    "papermill": {
     "duration": 0.027603,
     "end_time": "2024-12-11T11:03:30.445726",
     "exception": false,
     "start_time": "2024-12-11T11:03:30.418123",
     "status": "completed"
    },
    "tags": []
   },
   "outputs": [
    {
     "name": "stdout",
     "output_type": "stream",
     "text": [
      "        ID                Name  Age  Gender Department  Salary Joining Date  \\\n",
      "0        1        Cory Escobar   48  Female         HR    5641   2015-05-03   \n",
      "1        2     Timothy Sanchez   25   Other      Sales    4249   2020-11-09   \n",
      "2        3        Chad Nichols   57   Other      Sales    3058   2019-02-12   \n",
      "3        4  Christine Williams   58  Female         IT    5895   2017-09-08   \n",
      "4        5        Amber Harris   35   Other         IT    4317   2020-02-15   \n",
      "...    ...                 ...  ...     ...        ...     ...          ...   \n",
      "996    997        Todd Johnson   29  Female      Sales    6754   2018-07-20   \n",
      "997    998     Michael Sanchez   18    Male      Sales    5278   2023-07-05   \n",
      "998    999       Ashley Taylor   51  Female         IT    5437   2022-02-18   \n",
      "999   1000         Shawn Scott   45    Male         IT    7364   2022-07-31   \n",
      "1000  1001       Nicole Otieno   28  Female         IT    5500   2024-12-11   \n",
      "\n",
      "      Performance Score  Experience   Status     Location  Years With Company  \\\n",
      "0                   2.0          16   Active       Remote                   9   \n",
      "1                   2.0          11  Retired       Remote                   4   \n",
      "2                   NaN           2  Retired     New York                   5   \n",
      "3                   2.0          13  Retired       Remote                   7   \n",
      "4                   5.0          16  Retired     New York                   4   \n",
      "...                 ...         ...      ...          ...                 ...   \n",
      "996                 NaN          12  Retired     New York                   6   \n",
      "997                 5.0           3   Active     New York                   1   \n",
      "998                 4.0           9  Retired  Los Angeles                   2   \n",
      "999                 2.0           4   Active       Remote                   2   \n",
      "1000                4.5           3   Active     New York                   1   \n",
      "\n",
      "      Bonus  Normalized Salary Experience Level  \n",
      "0     564.1           0.454500           Senior  \n",
      "1     424.9           0.280020           Senior  \n",
      "2     305.8           0.130735           Junior  \n",
      "3     589.5           0.486337           Senior  \n",
      "4     431.7           0.288543           Senior  \n",
      "...     ...                ...              ...  \n",
      "996   675.4           0.594009           Senior  \n",
      "997   527.8           0.409000           Junior  \n",
      "998   543.7           0.428930              Mid  \n",
      "999   736.4           0.670469           Junior  \n",
      "1000  550.0                NaN           Junior  \n",
      "\n",
      "[894 rows x 15 columns]\n"
     ]
    }
   ],
   "source": [
    "# Delete rows where the Age is greater than 60.\n",
    "#Filter.\n",
    "df = df[df['Age'] <= 60]\n",
    "\n",
    "print(df)"
   ]
  },
  {
   "cell_type": "code",
   "execution_count": 26,
   "id": "32a72ccb",
   "metadata": {
    "execution": {
     "iopub.execute_input": "2024-12-11T11:03:30.465263Z",
     "iopub.status.busy": "2024-12-11T11:03:30.464862Z",
     "iopub.status.idle": "2024-12-11T11:03:30.481320Z",
     "shell.execute_reply": "2024-12-11T11:03:30.480274Z"
    },
    "papermill": {
     "duration": 0.028853,
     "end_time": "2024-12-11T11:03:30.483631",
     "exception": false,
     "start_time": "2024-12-11T11:03:30.454778",
     "status": "completed"
    },
    "tags": []
   },
   "outputs": [
    {
     "name": "stdout",
     "output_type": "stream",
     "text": [
      "        ID                Name  Age  Gender Department  Salary Joining Date  \\\n",
      "0        1        Cory Escobar   48  Female         HR    5641   2015-05-03   \n",
      "1        2     Timothy Sanchez   25   Other      Sales    4249   2020-11-09   \n",
      "2        3        Chad Nichols   57   Other      Sales    3058   2019-02-12   \n",
      "3        4  Christine Williams   58  Female         IT    5895   2017-09-08   \n",
      "4        5        Amber Harris   35   Other         IT    4317   2020-02-15   \n",
      "...    ...                 ...  ...     ...        ...     ...          ...   \n",
      "996    997        Todd Johnson   29  Female      Sales    6754   2018-07-20   \n",
      "997    998     Michael Sanchez   18    Male      Sales    5278   2023-07-05   \n",
      "998    999       Ashley Taylor   51  Female         IT    5437   2022-02-18   \n",
      "999   1000         Shawn Scott   45    Male         IT    7364   2022-07-31   \n",
      "1000  1001       Nicole Otieno   28  Female         IT    5500   2024-12-11   \n",
      "\n",
      "      Performance Score  Experience   Status     Location  Years With Company  \\\n",
      "0                   2.0          16   Active       Remote                   9   \n",
      "1                   2.0          11  Retired       Remote                   4   \n",
      "2                   NaN           2  Retired     New York                   5   \n",
      "3                   2.0          13  Retired       Remote                   7   \n",
      "4                   5.0          16  Retired     New York                   4   \n",
      "...                 ...         ...      ...          ...                 ...   \n",
      "996                 NaN          12  Retired     New York                   6   \n",
      "997                 5.0           3   Active     New York                   1   \n",
      "998                 4.0           9  Retired  Los Angeles                   2   \n",
      "999                 2.0           4   Active       Remote                   2   \n",
      "1000                4.5           3   Active     New York                   1   \n",
      "\n",
      "      Bonus  Normalized Salary Experience Level    Age Group  \n",
      "0     564.1           0.454500           Senior       Senior  \n",
      "1     424.9           0.280020           Senior        Young  \n",
      "2     305.8           0.130735           Junior       Senior  \n",
      "3     589.5           0.486337           Senior       Senior  \n",
      "4     431.7           0.288543           Senior  Middle-aged  \n",
      "...     ...                ...              ...          ...  \n",
      "996   675.4           0.594009           Senior        Young  \n",
      "997   527.8           0.409000           Junior        Young  \n",
      "998   543.7           0.428930              Mid       Senior  \n",
      "999   736.4           0.670469           Junior       Senior  \n",
      "1000  550.0                NaN           Junior        Young  \n",
      "\n",
      "[894 rows x 16 columns]\n"
     ]
    }
   ],
   "source": [
    " #Add a new column Age Group with values \"Young\", \"Middle-aged\", or \"Senior\" based on Age.\n",
    "conditions=[\n",
    "    (df['Age']<30),\n",
    "    (df['Age']>=30) & (df['Age']<45),\n",
    "    (df['Age']>=45)\n",
    "]\n",
    "age_group=['Young','Middle-aged','Senior']\n",
    "\n",
    "df['Age Group'] = np.select(conditions, age_group, default='Unknown')\n",
    "\n",
    "print(df)\n"
   ]
  },
  {
   "cell_type": "code",
   "execution_count": 27,
   "id": "6cfbe659",
   "metadata": {
    "execution": {
     "iopub.execute_input": "2024-12-11T11:03:30.502867Z",
     "iopub.status.busy": "2024-12-11T11:03:30.501881Z",
     "iopub.status.idle": "2024-12-11T11:03:30.509593Z",
     "shell.execute_reply": "2024-12-11T11:03:30.508570Z"
    },
    "papermill": {
     "duration": 0.019574,
     "end_time": "2024-12-11T11:03:30.511663",
     "exception": false,
     "start_time": "2024-12-11T11:03:30.492089",
     "status": "completed"
    },
    "tags": []
   },
   "outputs": [
    {
     "name": "stdout",
     "output_type": "stream",
     "text": [
      "['Performance Score', 'Normalized Salary']\n"
     ]
    }
   ],
   "source": [
    "# Identify all columns with missing values using the isna() method. \n",
    "missing_columns = df.isna().any()\n",
    "\n",
    "print(missing_columns[missing_columns == True].index.tolist())"
   ]
  },
  {
   "cell_type": "code",
   "execution_count": 28,
   "id": "31c6fe9a",
   "metadata": {
    "execution": {
     "iopub.execute_input": "2024-12-11T11:03:30.530070Z",
     "iopub.status.busy": "2024-12-11T11:03:30.529692Z",
     "iopub.status.idle": "2024-12-11T11:03:30.542594Z",
     "shell.execute_reply": "2024-12-11T11:03:30.541532Z"
    },
    "papermill": {
     "duration": 0.024716,
     "end_time": "2024-12-11T11:03:30.544795",
     "exception": false,
     "start_time": "2024-12-11T11:03:30.520079",
     "status": "completed"
    },
    "tags": []
   },
   "outputs": [
    {
     "name": "stdout",
     "output_type": "stream",
     "text": [
      "        ID                Name  Age  Gender Department  Salary Joining Date  \\\n",
      "0        1        Cory Escobar   48  Female         HR    5641   2015-05-03   \n",
      "1        2     Timothy Sanchez   25   Other      Sales    4249   2020-11-09   \n",
      "2        3        Chad Nichols   57   Other      Sales    3058   2019-02-12   \n",
      "3        4  Christine Williams   58  Female         IT    5895   2017-09-08   \n",
      "4        5        Amber Harris   35   Other         IT    4317   2020-02-15   \n",
      "...    ...                 ...  ...     ...        ...     ...          ...   \n",
      "996    997        Todd Johnson   29  Female      Sales    6754   2018-07-20   \n",
      "997    998     Michael Sanchez   18    Male      Sales    5278   2023-07-05   \n",
      "998    999       Ashley Taylor   51  Female         IT    5437   2022-02-18   \n",
      "999   1000         Shawn Scott   45    Male         IT    7364   2022-07-31   \n",
      "1000  1001       Nicole Otieno   28  Female         IT    5500   2024-12-11   \n",
      "\n",
      "      Performance Score  Experience   Status     Location  Years With Company  \\\n",
      "0              2.000000          16   Active       Remote                   9   \n",
      "1              2.000000          11  Retired       Remote                   4   \n",
      "2              3.443615           2  Retired     New York                   5   \n",
      "3              2.000000          13  Retired       Remote                   7   \n",
      "4              5.000000          16  Retired     New York                   4   \n",
      "...                 ...         ...      ...          ...                 ...   \n",
      "996            3.443615          12  Retired     New York                   6   \n",
      "997            5.000000           3   Active     New York                   1   \n",
      "998            4.000000           9  Retired  Los Angeles                   2   \n",
      "999            2.000000           4   Active       Remote                   2   \n",
      "1000           4.500000           3   Active     New York                   1   \n",
      "\n",
      "      Bonus  Normalized Salary Experience Level    Age Group  \n",
      "0     564.1           0.454500           Senior       Senior  \n",
      "1     424.9           0.280020           Senior        Young  \n",
      "2     305.8           0.130735           Junior       Senior  \n",
      "3     589.5           0.486337           Senior       Senior  \n",
      "4     431.7           0.288543           Senior  Middle-aged  \n",
      "...     ...                ...              ...          ...  \n",
      "996   675.4           0.594009           Senior        Young  \n",
      "997   527.8           0.409000           Junior        Young  \n",
      "998   543.7           0.428930              Mid       Senior  \n",
      "999   736.4           0.670469           Junior       Senior  \n",
      "1000  550.0                NaN           Junior        Young  \n",
      "\n",
      "[894 rows x 16 columns]\n"
     ]
    }
   ],
   "source": [
    "#Fill the missing values in Performance Score with the average score of that column.\n",
    "#Todd Johnson, index 996 had a missing value at Perfomence Score\n",
    "average_score = df['Performance Score'].mean()\n",
    "\n",
    "df['Performance Score'] = df['Performance Score'].fillna(average_score)\n",
    "\n",
    "print(df)\n"
   ]
  },
  {
   "cell_type": "code",
   "execution_count": 29,
   "id": "2b4d5bee",
   "metadata": {
    "execution": {
     "iopub.execute_input": "2024-12-11T11:03:30.564058Z",
     "iopub.status.busy": "2024-12-11T11:03:30.563371Z",
     "iopub.status.idle": "2024-12-11T11:03:30.578415Z",
     "shell.execute_reply": "2024-12-11T11:03:30.577079Z"
    },
    "papermill": {
     "duration": 0.027334,
     "end_time": "2024-12-11T11:03:30.580857",
     "exception": false,
     "start_time": "2024-12-11T11:03:30.553523",
     "status": "completed"
    },
    "tags": []
   },
   "outputs": [
    {
     "name": "stdout",
     "output_type": "stream",
     "text": [
      "       ID                Name  Age  Gender Department  Salary Joining Date  \\\n",
      "0       1        Cory Escobar   48  Female         HR    5641   2015-05-03   \n",
      "1       2     Timothy Sanchez   25   Other      Sales    4249   2020-11-09   \n",
      "2       3        Chad Nichols   57   Other      Sales    3058   2019-02-12   \n",
      "3       4  Christine Williams   58  Female         IT    5895   2017-09-08   \n",
      "4       5        Amber Harris   35   Other         IT    4317   2020-02-15   \n",
      "..    ...                 ...  ...     ...        ...     ...          ...   \n",
      "995   996       Pamela Reeves   49  Female      Sales    7652   2024-06-23   \n",
      "996   997        Todd Johnson   29  Female      Sales    6754   2018-07-20   \n",
      "997   998     Michael Sanchez   18    Male      Sales    5278   2023-07-05   \n",
      "998   999       Ashley Taylor   51  Female         IT    5437   2022-02-18   \n",
      "999  1000         Shawn Scott   45    Male         IT    7364   2022-07-31   \n",
      "\n",
      "     Performance Score  Experience   Status     Location  Years With Company  \\\n",
      "0             2.000000          16   Active       Remote                   9   \n",
      "1             2.000000          11  Retired       Remote                   4   \n",
      "2             3.443615           2  Retired     New York                   5   \n",
      "3             2.000000          13  Retired       Remote                   7   \n",
      "4             5.000000          16  Retired     New York                   4   \n",
      "..                 ...         ...      ...          ...                 ...   \n",
      "995           4.000000           3   Active  Los Angeles                   0   \n",
      "996           3.443615          12  Retired     New York                   6   \n",
      "997           5.000000           3   Active     New York                   1   \n",
      "998           4.000000           9  Retired  Los Angeles                   2   \n",
      "999           2.000000           4   Active       Remote                   2   \n",
      "\n",
      "     Bonus  Normalized Salary Experience Level    Age Group  \n",
      "0    564.1           0.454500           Senior       Senior  \n",
      "1    424.9           0.280020           Senior        Young  \n",
      "2    305.8           0.130735           Junior       Senior  \n",
      "3    589.5           0.486337           Senior       Senior  \n",
      "4    431.7           0.288543           Senior  Middle-aged  \n",
      "..     ...                ...              ...          ...  \n",
      "995  765.2           0.706568           Junior       Senior  \n",
      "996  675.4           0.594009           Senior        Young  \n",
      "997  527.8           0.409000           Junior        Young  \n",
      "998  543.7           0.428930              Mid       Senior  \n",
      "999  736.4           0.670469           Junior       Senior  \n",
      "\n",
      "[893 rows x 16 columns]\n"
     ]
    }
   ],
   "source": [
    "# Drop all rows with missing values using the dropna() method.\n",
    "#Nicole still has a missing value at Normalized salary hence will be dropped.\n",
    "#Drops rows with NaN but keeps the original dataframe intact.\n",
    "df_cleaned = df.dropna()\n",
    "\n",
    "print(df_cleaned)"
   ]
  },
  {
   "cell_type": "code",
   "execution_count": 30,
   "id": "bc633579",
   "metadata": {
    "execution": {
     "iopub.execute_input": "2024-12-11T11:03:30.599952Z",
     "iopub.status.busy": "2024-12-11T11:03:30.599579Z",
     "iopub.status.idle": "2024-12-11T11:03:30.604277Z",
     "shell.execute_reply": "2024-12-11T11:03:30.603264Z"
    },
    "papermill": {
     "duration": 0.016951,
     "end_time": "2024-12-11T11:03:30.606545",
     "exception": false,
     "start_time": "2024-12-11T11:03:30.589594",
     "status": "completed"
    },
    "tags": []
   },
   "outputs": [],
   "source": [
    "# Replace missing values in Performance Score with the median of the scores, grouped by Department.\n"
   ]
  }
 ],
 "metadata": {
  "kaggle": {
   "accelerator": "none",
   "dataSources": [
    {
     "datasetId": 6273583,
     "sourceId": 10160144,
     "sourceType": "datasetVersion"
    }
   ],
   "dockerImageVersionId": 30804,
   "isGpuEnabled": false,
   "isInternetEnabled": false,
   "language": "python",
   "sourceType": "notebook"
  },
  "kernelspec": {
   "display_name": "Python 3",
   "language": "python",
   "name": "python3"
  },
  "language_info": {
   "codemirror_mode": {
    "name": "ipython",
    "version": 3
   },
   "file_extension": ".py",
   "mimetype": "text/x-python",
   "name": "python",
   "nbconvert_exporter": "python",
   "pygments_lexer": "ipython3",
   "version": "3.10.14"
  },
  "papermill": {
   "default_parameters": {},
   "duration": 5.417426,
   "end_time": "2024-12-11T11:03:31.136726",
   "environment_variables": {},
   "exception": null,
   "input_path": "__notebook__.ipynb",
   "output_path": "__notebook__.ipynb",
   "parameters": {},
   "start_time": "2024-12-11T11:03:25.719300",
   "version": "2.6.0"
  }
 },
 "nbformat": 4,
 "nbformat_minor": 5
}
