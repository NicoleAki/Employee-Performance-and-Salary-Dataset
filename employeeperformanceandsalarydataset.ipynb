{
 "cells": [
  {
   "cell_type": "code",
   "execution_count": 1,
   "id": "1feb16c9",
   "metadata": {
    "_cell_guid": "b1076dfc-b9ad-4769-8c92-a6c4dae69d19",
    "_uuid": "8f2839f25d086af736a60e9eeb907d3b93b6e0e5",
    "execution": {
     "iopub.execute_input": "2024-12-23T18:00:49.988766Z",
     "iopub.status.busy": "2024-12-23T18:00:49.988218Z",
     "iopub.status.idle": "2024-12-23T18:00:51.086302Z",
     "shell.execute_reply": "2024-12-23T18:00:51.084961Z"
    },
    "papermill": {
     "duration": 1.112475,
     "end_time": "2024-12-23T18:00:51.089242",
     "exception": false,
     "start_time": "2024-12-23T18:00:49.976767",
     "status": "completed"
    },
    "tags": []
   },
   "outputs": [
    {
     "name": "stdout",
     "output_type": "stream",
     "text": [
      "/kaggle/input/employee-performance-and-salary-dataset/50_Tasks_to_perform_on_dataset.pdf\n",
      "/kaggle/input/employee-performance-and-salary-dataset/Employe_Performance_dataset.csv\n"
     ]
    }
   ],
   "source": [
    "# This Python 3 environment comes with many helpful analytics libraries installed\n",
    "# It is defined by the kaggle/python Docker image: https://github.com/kaggle/docker-python\n",
    "# For example, here's several helpful packages to load\n",
    "\n",
    "import numpy as np # linear algebra\n",
    "import pandas as pd # data processing, CSV file I/O (e.g. pd.read_csv)\n",
    "\n",
    "# Input data files are available in the read-only \"../input/\" directory\n",
    "# For example, running this (by clicking run or pressing Shift+Enter) will list all files under the input directory\n",
    "\n",
    "import os\n",
    "for dirname, _, filenames in os.walk('/kaggle/input'):\n",
    "    for filename in filenames:\n",
    "        print(os.path.join(dirname, filename))\n",
    "\n",
    "# You can write up to 20GB to the current directory (/kaggle/working/) that gets preserved as output when you create a version using \"Save & Run All\" \n",
    "# You can also write temporary files to /kaggle/temp/, but they won't be saved outside of the current session"
   ]
  },
  {
   "cell_type": "code",
   "execution_count": 2,
   "id": "7543e6b3",
   "metadata": {
    "execution": {
     "iopub.execute_input": "2024-12-23T18:00:51.122130Z",
     "iopub.status.busy": "2024-12-23T18:00:51.121595Z",
     "iopub.status.idle": "2024-12-23T18:00:51.162240Z",
     "shell.execute_reply": "2024-12-23T18:00:51.160657Z"
    },
    "papermill": {
     "duration": 0.058359,
     "end_time": "2024-12-23T18:00:51.165047",
     "exception": false,
     "start_time": "2024-12-23T18:00:51.106688",
     "status": "completed"
    },
    "tags": []
   },
   "outputs": [
    {
     "name": "stdout",
     "output_type": "stream",
     "text": [
      "   ID                Name  Age  Gender Department  Salary Joining Date  \\\n",
      "0   1        Cory Escobar   48  Female         HR    5641   2015-05-03   \n",
      "1   2     Timothy Sanchez   25   Other      Sales    4249   2020-11-09   \n",
      "2   3        Chad Nichols   57   Other      Sales    3058   2019-02-12   \n",
      "3   4  Christine Williams   58  Female         IT    5895   2017-09-08   \n",
      "4   5        Amber Harris   35   Other         IT    4317   2020-02-15   \n",
      "5   6         Ashley Howe   29  Female         HR    2591   2016-06-24   \n",
      "6   7         David Olson   39  Female      Sales    6826   2023-05-11   \n",
      "7   8        Amanda Baker   52   Other         HR    6285   2015-04-01   \n",
      "8   9       Jeremy Wright   63  Female      Sales    9862   2024-02-07   \n",
      "9  10      Brian Faulkner   30    Male         IT    8202   2018-05-26   \n",
      "\n",
      "   Performance Score  Experience    Status     Location  Session  \n",
      "0                2.0          16    Active     New York    Night  \n",
      "1                2.0          11  Inactive  Los Angeles  Evening  \n",
      "2                NaN           1  Inactive     New York  Morning  \n",
      "3                2.0          13  Inactive  Los Angeles  Evening  \n",
      "4                5.0          16  Inactive     New York  Evening  \n",
      "5                1.0           6    Active      Chicago  Evening  \n",
      "6                NaN           4    Active     New York    Night  \n",
      "7                NaN           8  Inactive      Chicago  Evening  \n",
      "8                NaN           3  Inactive     New York    Night  \n",
      "9                1.0           9    Active  Los Angeles  Morning  \n"
     ]
    }
   ],
   "source": [
    "#Load the dataset into a Pandas DataFrame and display the first 10 rows.\n",
    "df = pd.read_csv('/kaggle/input/employee-performance-and-salary-dataset/Employe_Performance_dataset.csv') \n",
    "print(df.head(10))"
   ]
  },
  {
   "cell_type": "code",
   "execution_count": 3,
   "id": "1b2e9d3b",
   "metadata": {
    "execution": {
     "iopub.execute_input": "2024-12-23T18:00:51.185508Z",
     "iopub.status.busy": "2024-12-23T18:00:51.184115Z",
     "iopub.status.idle": "2024-12-23T18:00:51.191963Z",
     "shell.execute_reply": "2024-12-23T18:00:51.190650Z"
    },
    "papermill": {
     "duration": 0.020115,
     "end_time": "2024-12-23T18:00:51.194224",
     "exception": false,
     "start_time": "2024-12-23T18:00:51.174109",
     "status": "completed"
    },
    "tags": []
   },
   "outputs": [
    {
     "name": "stdout",
     "output_type": "stream",
     "text": [
      "ID                     int64\n",
      "Name                  object\n",
      "Age                    int64\n",
      "Gender                object\n",
      "Department            object\n",
      "Salary                 int64\n",
      "Joining Date          object\n",
      "Performance Score    float64\n",
      "Experience             int64\n",
      "Status                object\n",
      "Location              object\n",
      "Session               object\n",
      "dtype: object\n"
     ]
    }
   ],
   "source": [
    "#What are the column names and their respective data types in the dataset?\n",
    "print(df.dtypes)"
   ]
  },
  {
   "cell_type": "code",
   "execution_count": 4,
   "id": "bb64d234",
   "metadata": {
    "execution": {
     "iopub.execute_input": "2024-12-23T18:00:51.214224Z",
     "iopub.status.busy": "2024-12-23T18:00:51.213811Z",
     "iopub.status.idle": "2024-12-23T18:00:51.220052Z",
     "shell.execute_reply": "2024-12-23T18:00:51.218816Z"
    },
    "papermill": {
     "duration": 0.01902,
     "end_time": "2024-12-23T18:00:51.222426",
     "exception": false,
     "start_time": "2024-12-23T18:00:51.203406",
     "status": "completed"
    },
    "tags": []
   },
   "outputs": [
    {
     "name": "stdout",
     "output_type": "stream",
     "text": [
      "The dataset has 1000 rows and 12 columns.\n"
     ]
    }
   ],
   "source": [
    "# How many rows and columns are there in the dataset?\n",
    "rows, columns = df.shape\n",
    "print(f\"The dataset has {rows} rows and {columns} columns.\")"
   ]
  },
  {
   "cell_type": "code",
   "execution_count": 5,
   "id": "7889c98b",
   "metadata": {
    "execution": {
     "iopub.execute_input": "2024-12-23T18:00:51.255366Z",
     "iopub.status.busy": "2024-12-23T18:00:51.254796Z",
     "iopub.status.idle": "2024-12-23T18:00:51.284182Z",
     "shell.execute_reply": "2024-12-23T18:00:51.282363Z"
    },
    "papermill": {
     "duration": 0.051834,
     "end_time": "2024-12-23T18:00:51.288851",
     "exception": false,
     "start_time": "2024-12-23T18:00:51.237017",
     "status": "completed"
    },
    "tags": []
   },
   "outputs": [
    {
     "name": "stdout",
     "output_type": "stream",
     "text": [
      "                   Name  Age  Salary\n",
      "0          Cory Escobar   48    5641\n",
      "1       Timothy Sanchez   25    4249\n",
      "2          Chad Nichols   57    3058\n",
      "3    Christine Williams   58    5895\n",
      "4          Amber Harris   35    4317\n",
      "..                  ...  ...     ...\n",
      "995       Pamela Reeves   49    7652\n",
      "996        Todd Johnson   29    6754\n",
      "997     Michael Sanchez   18    5278\n",
      "998       Ashley Taylor   51    5437\n",
      "999         Shawn Scott   45    7364\n",
      "\n",
      "[1000 rows x 3 columns]\n"
     ]
    }
   ],
   "source": [
    "#Select the Name, Age, and Salary columns using df[]. \n",
    "selected_columns = df[['Name', 'Age', 'Salary']]\n",
    "print(selected_columns)"
   ]
  },
  {
   "cell_type": "code",
   "execution_count": 6,
   "id": "cba9a935",
   "metadata": {
    "execution": {
     "iopub.execute_input": "2024-12-23T18:00:51.329349Z",
     "iopub.status.busy": "2024-12-23T18:00:51.328532Z",
     "iopub.status.idle": "2024-12-23T18:00:51.345715Z",
     "shell.execute_reply": "2024-12-23T18:00:51.344062Z"
    },
    "papermill": {
     "duration": 0.045697,
     "end_time": "2024-12-23T18:00:51.349566",
     "exception": false,
     "start_time": "2024-12-23T18:00:51.303869",
     "status": "completed"
    },
    "tags": []
   },
   "outputs": [
    {
     "name": "stdout",
     "output_type": "stream",
     "text": [
      "   ID                Name  Age  Gender Department  Salary Joining Date  \\\n",
      "0   1        Cory Escobar   48  Female         HR    5641   2015-05-03   \n",
      "1   2     Timothy Sanchez   25   Other      Sales    4249   2020-11-09   \n",
      "2   3        Chad Nichols   57   Other      Sales    3058   2019-02-12   \n",
      "3   4  Christine Williams   58  Female         IT    5895   2017-09-08   \n",
      "4   5        Amber Harris   35   Other         IT    4317   2020-02-15   \n",
      "\n",
      "   Performance Score  Experience    Status     Location  Session  \n",
      "0                2.0          16    Active     New York    Night  \n",
      "1                2.0          11  Inactive  Los Angeles  Evening  \n",
      "2                NaN           1  Inactive     New York  Morning  \n",
      "3                2.0          13  Inactive  Los Angeles  Evening  \n",
      "4                5.0          16  Inactive     New York  Evening  \n"
     ]
    }
   ],
   "source": [
    "# Select the first 5 rows of the DataFrame using the iloc method.\n",
    "#one can use the loc method as well that includes a range or the .head() or slicing.\n",
    "first_five_rows = df.iloc[:5]\n",
    "print(first_five_rows)"
   ]
  },
  {
   "cell_type": "code",
   "execution_count": 7,
   "id": "4287deaa",
   "metadata": {
    "execution": {
     "iopub.execute_input": "2024-12-23T18:00:51.388198Z",
     "iopub.status.busy": "2024-12-23T18:00:51.387108Z",
     "iopub.status.idle": "2024-12-23T18:00:51.400710Z",
     "shell.execute_reply": "2024-12-23T18:00:51.399482Z"
    },
    "papermill": {
     "duration": 0.03477,
     "end_time": "2024-12-23T18:00:51.403320",
     "exception": false,
     "start_time": "2024-12-23T18:00:51.368550",
     "status": "completed"
    },
    "tags": []
   },
   "outputs": [
    {
     "name": "stdout",
     "output_type": "stream",
     "text": [
      "      ID             Name  Age  Gender Department  Salary Joining Date  \\\n",
      "1      2  Timothy Sanchez   25   Other      Sales    4249   2020-11-09   \n",
      "2      3     Chad Nichols   57   Other      Sales    3058   2019-02-12   \n",
      "6      7      David Olson   39  Female      Sales    6826   2023-05-11   \n",
      "8      9    Jeremy Wright   63  Female      Sales    9862   2024-02-07   \n",
      "10    11      Nicole Bell   42  Female      Sales    5336   2015-01-28   \n",
      "..   ...              ...  ...     ...        ...     ...          ...   \n",
      "991  992  William Schultz   23   Other      Sales    4311   2019-08-17   \n",
      "992  993   Ashley Daniels   25   Other      Sales    5524   2022-11-24   \n",
      "995  996    Pamela Reeves   49  Female      Sales    7652   2024-06-23   \n",
      "996  997     Todd Johnson   29  Female      Sales    6754   2018-07-20   \n",
      "997  998  Michael Sanchez   18    Male      Sales    5278   2023-07-05   \n",
      "\n",
      "     Performance Score  Experience    Status     Location  Session  \n",
      "1                  2.0          11  Inactive  Los Angeles  Evening  \n",
      "2                  NaN           1  Inactive     New York  Morning  \n",
      "6                  NaN           4    Active     New York    Night  \n",
      "8                  NaN           3  Inactive     New York    Night  \n",
      "10                 3.0           7    Active  Los Angeles  Evening  \n",
      "..                 ...         ...       ...          ...      ...  \n",
      "991                NaN          10  Inactive  Los Angeles  Evening  \n",
      "992                NaN           8  Inactive     New York  Morning  \n",
      "995                4.0           3    Active  Los Angeles  Evening  \n",
      "996                NaN          12  Inactive     New York  Morning  \n",
      "997                5.0           3    Active     New York  Morning  \n",
      "\n",
      "[338 rows x 12 columns]\n"
     ]
    }
   ],
   "source": [
    "# Select all rows where the Department is \"Sales\" using the loc method. \n",
    "#otherwise you can use Boolean Masking or query method.\n",
    "sales_department = df.loc[df['Department'] == \"Sales\"]\n",
    "print(sales_department)"
   ]
  },
  {
   "cell_type": "code",
   "execution_count": 8,
   "id": "f4eba5a5",
   "metadata": {
    "execution": {
     "iopub.execute_input": "2024-12-23T18:00:51.424332Z",
     "iopub.status.busy": "2024-12-23T18:00:51.423903Z",
     "iopub.status.idle": "2024-12-23T18:00:51.437361Z",
     "shell.execute_reply": "2024-12-23T18:00:51.436030Z"
    },
    "papermill": {
     "duration": 0.02715,
     "end_time": "2024-12-23T18:00:51.439670",
     "exception": false,
     "start_time": "2024-12-23T18:00:51.412520",
     "status": "completed"
    },
    "tags": []
   },
   "outputs": [
    {
     "name": "stdout",
     "output_type": "stream",
     "text": [
      "      ID             Name  Age  Gender Department  Salary Joining Date  \\\n",
      "9     10   Brian Faulkner   30    Male         IT    8202   2018-05-26   \n",
      "24    25    Tracy Carlson   21    Male         HR    9275   2022-04-09   \n",
      "38    39     Jordan Scott   33   Other      Sales    8678   2016-05-15   \n",
      "39    40      Lisa Wagner   36    Male         HR    8870   2024-08-12   \n",
      "60    61   Andrew Shannon   51   Other      Sales    8544   2020-02-08   \n",
      "..   ...              ...  ...     ...        ...     ...          ...   \n",
      "976  977    Kimberly Ross   19    Male      Sales    9331   2018-07-03   \n",
      "982  983    Stephen Ponce   46   Other      Sales    8696   2022-10-14   \n",
      "986  987  Melissa Bradley   39  Female         IT    9618   2015-07-05   \n",
      "988  989   Hannah Hickman   36  Female         IT    9118   2022-07-02   \n",
      "989  990    Shannon Meyer   18   Other         HR    9985   2022-11-05   \n",
      "\n",
      "     Performance Score  Experience  Status     Location  Session  \n",
      "9                  1.0           9  Active  Los Angeles  Morning  \n",
      "24                 4.0          12  Active     New York  Morning  \n",
      "38                 5.0           9  Active  Los Angeles  Evening  \n",
      "39                 4.0          17  Active  Los Angeles  Evening  \n",
      "60                 NaN           6  Active     New York  Evening  \n",
      "..                 ...         ...     ...          ...      ...  \n",
      "976                5.0          12  Active     New York  Morning  \n",
      "982                4.0           1  Active     New York  Evening  \n",
      "986                1.0          13  Active     New York  Morning  \n",
      "988                5.0           5  Active     New York    Night  \n",
      "989                4.0          18  Active      Chicago    Night  \n",
      "\n",
      "[112 rows x 12 columns]\n"
     ]
    }
   ],
   "source": [
    "#Select rows where the Salary is greater than 8000 and Status is \"Active\".\n",
    "\n",
    "filtered_rows = df.loc[(df['Salary'] > 8000) & (df['Status'] == \"Active\")]\n",
    "print(filtered_rows)"
   ]
  },
  {
   "cell_type": "code",
   "execution_count": 9,
   "id": "4c037145",
   "metadata": {
    "execution": {
     "iopub.execute_input": "2024-12-23T18:00:51.467898Z",
     "iopub.status.busy": "2024-12-23T18:00:51.467271Z",
     "iopub.status.idle": "2024-12-23T18:00:51.486968Z",
     "shell.execute_reply": "2024-12-23T18:00:51.485548Z"
    },
    "papermill": {
     "duration": 0.035385,
     "end_time": "2024-12-23T18:00:51.489341",
     "exception": false,
     "start_time": "2024-12-23T18:00:51.453956",
     "status": "completed"
    },
    "tags": []
   },
   "outputs": [
    {
     "name": "stdout",
     "output_type": "stream",
     "text": [
      "      ID                Name  Age  Gender Department  Salary Joining Date  \\\n",
      "4      5        Amber Harris   35   Other         IT    4317   2020-02-15   \n",
      "11    12   Rodney Richardson   60   Other         HR    6908   2015-03-14   \n",
      "17    18  Jacqueline Randall   31  Female         HR    3519   2018-05-18   \n",
      "18    19      Nancy Stephens   38    Male         HR    9061   2017-07-16   \n",
      "24    25       Tracy Carlson   21    Male         HR    9275   2022-04-09   \n",
      "..   ...                 ...  ...     ...        ...     ...          ...   \n",
      "978  979         Michael Lee   18  Female         IT    6086   2019-05-30   \n",
      "989  990       Shannon Meyer   18   Other         HR    9985   2022-11-05   \n",
      "990  991        Amy Johnston   53  Female         HR    3991   2024-09-03   \n",
      "993  994       Brandon Bruce   31  Female         HR    3371   2018-09-25   \n",
      "998  999       Ashley Taylor   51  Female         IT    5437   2022-02-18   \n",
      "\n",
      "     Performance Score  Experience    Status     Location  Session  \n",
      "4                  5.0          16  Inactive     New York  Evening  \n",
      "11                 4.0          19    Active      Chicago    Night  \n",
      "17                 4.0           6    Active     New York  Morning  \n",
      "18                 5.0          16  Inactive      Chicago    Night  \n",
      "24                 4.0          12    Active     New York  Morning  \n",
      "..                 ...         ...       ...          ...      ...  \n",
      "978                4.0           7  Inactive  Los Angeles  Evening  \n",
      "989                4.0          18    Active      Chicago    Night  \n",
      "990                4.0           8    Active      Chicago  Morning  \n",
      "993                5.0          12  Inactive      Chicago    Night  \n",
      "998                4.0           9  Inactive  Los Angeles  Evening  \n",
      "\n",
      "[137 rows x 12 columns]\n"
     ]
    }
   ],
   "source": [
    "#Extract the rows where the employee has been with the company for more than 5 years and has a \n",
    "#Performance Score of at least 4.\n",
    "#if all employees started their experience journey at the company.\n",
    "filter_rows=df.loc[(df['Experience']>5) &(df['Performance Score']>=4.0)]\n",
    "print(filter_rows)"
   ]
  },
  {
   "cell_type": "code",
   "execution_count": 10,
   "id": "0d8c4de2",
   "metadata": {
    "execution": {
     "iopub.execute_input": "2024-12-23T18:00:51.512148Z",
     "iopub.status.busy": "2024-12-23T18:00:51.511075Z",
     "iopub.status.idle": "2024-12-23T18:00:51.535996Z",
     "shell.execute_reply": "2024-12-23T18:00:51.534219Z"
    },
    "papermill": {
     "duration": 0.040248,
     "end_time": "2024-12-23T18:00:51.539698",
     "exception": false,
     "start_time": "2024-12-23T18:00:51.499450",
     "status": "completed"
    },
    "tags": []
   },
   "outputs": [
    {
     "name": "stdout",
     "output_type": "stream",
     "text": [
      "      ID                Name  Age  Gender Department  Salary Joining Date  \\\n",
      "11    12   Rodney Richardson   60   Other         HR    6908   2015-03-14   \n",
      "17    18  Jacqueline Randall   31  Female         HR    3519   2018-05-18   \n",
      "18    19      Nancy Stephens   38    Male         HR    9061   2017-07-16   \n",
      "22    23        Bryce Carter   35  Female      Sales    9598   2015-12-16   \n",
      "34    35            Lisa Fry   51  Female         IT    9259   2017-09-26   \n",
      "..   ...                 ...  ...     ...        ...     ...          ...   \n",
      "918  919     Tammy Schneider   22   Other         IT    3625   2016-10-24   \n",
      "937  938       Gary Mitchell   52  Female      Sales    9963   2016-09-22   \n",
      "972  973       James Mendoza   23   Other      Sales    6871   2016-04-11   \n",
      "976  977       Kimberly Ross   19    Male      Sales    9331   2018-07-03   \n",
      "993  994       Brandon Bruce   31  Female         HR    3371   2018-09-25   \n",
      "\n",
      "     Performance Score  Experience    Status     Location  Session  \\\n",
      "11                 4.0          19    Active      Chicago    Night   \n",
      "17                 4.0           6    Active     New York  Morning   \n",
      "18                 5.0          16  Inactive      Chicago    Night   \n",
      "22                 4.0           4  Inactive     New York    Night   \n",
      "34                 4.0          17  Inactive  Los Angeles    Night   \n",
      "..                 ...         ...       ...          ...      ...   \n",
      "918                4.0          14    Active      Chicago  Morning   \n",
      "937                5.0          20  Inactive  Los Angeles  Morning   \n",
      "972                4.0          15  Inactive     New York  Morning   \n",
      "976                5.0          12    Active     New York  Morning   \n",
      "993                5.0          12  Inactive      Chicago    Night   \n",
      "\n",
      "     Years With Company  \n",
      "11                    9  \n",
      "17                    6  \n",
      "18                    7  \n",
      "22                    9  \n",
      "34                    7  \n",
      "..                  ...  \n",
      "918                   8  \n",
      "937                   8  \n",
      "972                   8  \n",
      "976                   6  \n",
      "993                   6  \n",
      "\n",
      "[69 rows x 13 columns]\n"
     ]
    }
   ],
   "source": [
    "#Calculate years of being with the company from the joining date till present.\n",
    "df['Joining Date'] = pd.to_datetime(df['Joining Date'])\n",
    "\n",
    "current_date = pd.Timestamp.now()\n",
    "df['Years With Company'] = (current_date - df['Joining Date']).dt.days // 365\n",
    "\n",
    "filtered_rows = df.loc[(df['Years With Company'] > 5) & (df['Performance Score'] >= 4)]\n",
    "\n",
    "print(filtered_rows)"
   ]
  },
  {
   "cell_type": "code",
   "execution_count": 11,
   "id": "ce30ef92",
   "metadata": {
    "execution": {
     "iopub.execute_input": "2024-12-23T18:00:51.563015Z",
     "iopub.status.busy": "2024-12-23T18:00:51.562442Z",
     "iopub.status.idle": "2024-12-23T18:00:51.576220Z",
     "shell.execute_reply": "2024-12-23T18:00:51.574834Z"
    },
    "papermill": {
     "duration": 0.027972,
     "end_time": "2024-12-23T18:00:51.578711",
     "exception": false,
     "start_time": "2024-12-23T18:00:51.550739",
     "status": "completed"
    },
    "tags": []
   },
   "outputs": [
    {
     "name": "stdout",
     "output_type": "stream",
     "text": [
      "      ID             Name  Age  Gender Department  Salary Joining Date  \\\n",
      "0      1     Cory Escobar   48  Female         HR    5641   2015-05-03   \n",
      "2      3     Chad Nichols   57   Other      Sales    3058   2019-02-12   \n",
      "4      5     Amber Harris   35   Other         IT    4317   2020-02-15   \n",
      "6      7      David Olson   39  Female      Sales    6826   2023-05-11   \n",
      "8      9    Jeremy Wright   63  Female      Sales    9862   2024-02-07   \n",
      "..   ...              ...  ...     ...        ...     ...          ...   \n",
      "990  991     Amy Johnston   53  Female         HR    3991   2024-09-03   \n",
      "992  993   Ashley Daniels   25   Other      Sales    5524   2022-11-24   \n",
      "994  995  Rachel Phillips   22    Male         IT    3096   2018-10-27   \n",
      "996  997     Todd Johnson   29  Female      Sales    6754   2018-07-20   \n",
      "998  999    Ashley Taylor   51  Female         IT    5437   2022-02-18   \n",
      "\n",
      "     Performance Score  Experience    Status     Location  Session  \\\n",
      "0                  2.0          16    Active     New York    Night   \n",
      "2                  NaN           1  Inactive     New York  Morning   \n",
      "4                  5.0          16  Inactive     New York  Evening   \n",
      "6                  NaN           4    Active     New York    Night   \n",
      "8                  NaN           3  Inactive     New York    Night   \n",
      "..                 ...         ...       ...          ...      ...   \n",
      "990                4.0           8    Active      Chicago  Morning   \n",
      "992                NaN           8  Inactive     New York  Morning   \n",
      "994                2.0           7  Inactive      Chicago  Evening   \n",
      "996                NaN          12  Inactive     New York  Morning   \n",
      "998                4.0           9  Inactive  Los Angeles  Evening   \n",
      "\n",
      "     Years With Company  \n",
      "0                     9  \n",
      "2                     5  \n",
      "4                     4  \n",
      "6                     1  \n",
      "8                     0  \n",
      "..                  ...  \n",
      "990                   0  \n",
      "992                   2  \n",
      "994                   6  \n",
      "996                   6  \n",
      "998                   2  \n",
      "\n",
      "[500 rows x 13 columns]\n"
     ]
    }
   ],
   "source": [
    "# Select every alternate row from the DataFrame using slicing with iloc. \n",
    "#starting from index 0, the sellecting every second row.\n",
    "alternate=df.iloc[::2]\n",
    "print(alternate)"
   ]
  },
  {
   "cell_type": "code",
   "execution_count": 12,
   "id": "1f35a531",
   "metadata": {
    "execution": {
     "iopub.execute_input": "2024-12-23T18:00:51.600447Z",
     "iopub.status.busy": "2024-12-23T18:00:51.599403Z",
     "iopub.status.idle": "2024-12-23T18:00:51.612416Z",
     "shell.execute_reply": "2024-12-23T18:00:51.611112Z"
    },
    "papermill": {
     "duration": 0.02639,
     "end_time": "2024-12-23T18:00:51.614881",
     "exception": false,
     "start_time": "2024-12-23T18:00:51.588491",
     "status": "completed"
    },
    "tags": []
   },
   "outputs": [
    {
     "name": "stdout",
     "output_type": "stream",
     "text": [
      "       ID                Name  Age  Gender Department  Salary Joining Date  \\\n",
      "1       2     Timothy Sanchez   25   Other      Sales    4249   2020-11-09   \n",
      "3       4  Christine Williams   58  Female         IT    5895   2017-09-08   \n",
      "5       6         Ashley Howe   29  Female         HR    2591   2016-06-24   \n",
      "7       8        Amanda Baker   52   Other         HR    6285   2015-04-01   \n",
      "9      10      Brian Faulkner   30    Male         IT    8202   2018-05-26   \n",
      "..    ...                 ...  ...     ...        ...     ...          ...   \n",
      "991   992     William Schultz   23   Other      Sales    4311   2019-08-17   \n",
      "993   994       Brandon Bruce   31  Female         HR    3371   2018-09-25   \n",
      "995   996       Pamela Reeves   49  Female      Sales    7652   2024-06-23   \n",
      "997   998     Michael Sanchez   18    Male      Sales    5278   2023-07-05   \n",
      "999  1000         Shawn Scott   45    Male         IT    7364   2022-07-31   \n",
      "\n",
      "     Performance Score  Experience    Status     Location  Session  \\\n",
      "1                  2.0          11  Inactive  Los Angeles  Evening   \n",
      "3                  2.0          13  Inactive  Los Angeles  Evening   \n",
      "5                  1.0           6    Active      Chicago  Evening   \n",
      "7                  NaN           8  Inactive      Chicago  Evening   \n",
      "9                  1.0           9    Active  Los Angeles  Morning   \n",
      "..                 ...         ...       ...          ...      ...   \n",
      "991                NaN          10  Inactive  Los Angeles  Evening   \n",
      "993                5.0          12  Inactive      Chicago    Night   \n",
      "995                4.0           3    Active  Los Angeles  Evening   \n",
      "997                5.0           3    Active     New York  Morning   \n",
      "999                2.0           4    Active     New York  Morning   \n",
      "\n",
      "     Years With Company  \n",
      "1                     4  \n",
      "3                     7  \n",
      "5                     8  \n",
      "7                     9  \n",
      "9                     6  \n",
      "..                  ...  \n",
      "991                   5  \n",
      "993                   6  \n",
      "995                   0  \n",
      "997                   1  \n",
      "999                   2  \n",
      "\n",
      "[500 rows x 13 columns]\n"
     ]
    }
   ],
   "source": [
    "# Select every alternate row from the DataFrame using slicing with iloc. \n",
    "#starting from index 1 instead of index 0.\n",
    "#can also be implemented for a specific range of alternates using df.iloc[1:99:2] (from index 1 to 99)\n",
    "alternate_rows_from_second = df.iloc[1::2]\n",
    "print(alternate_rows_from_second)"
   ]
  },
  {
   "cell_type": "code",
   "execution_count": 13,
   "id": "0ada648b",
   "metadata": {
    "execution": {
     "iopub.execute_input": "2024-12-23T18:00:51.637225Z",
     "iopub.status.busy": "2024-12-23T18:00:51.636824Z",
     "iopub.status.idle": "2024-12-23T18:00:51.655425Z",
     "shell.execute_reply": "2024-12-23T18:00:51.654028Z"
    },
    "papermill": {
     "duration": 0.034164,
     "end_time": "2024-12-23T18:00:51.659035",
     "exception": false,
     "start_time": "2024-12-23T18:00:51.624871",
     "status": "completed"
    },
    "tags": []
   },
   "outputs": [
    {
     "name": "stdout",
     "output_type": "stream",
     "text": [
      "      ID                     Name  Age  Gender Department  Salary  \\\n",
      "8      9            Jeremy Wright   63  Female      Sales    9862   \n",
      "22    23             Bryce Carter   35  Female      Sales    9598   \n",
      "29    30            Rachel Ramsey   22    Male      Sales    9661   \n",
      "215  216               Sara Jones   50  Female      Sales    9377   \n",
      "228  229          Christie Warren   51  Female      Sales    9139   \n",
      "239  240      Christina Gutierrez   37    Male      Sales    9356   \n",
      "250  251           Joshua Bullock   38    Male      Sales    9924   \n",
      "263  264          Gabriela Wilson   40   Other      Sales    9455   \n",
      "275  276          Harry Alexander   22    Male      Sales    9749   \n",
      "299  300              Terry Smith   38  Female      Sales    9375   \n",
      "379  380                Dustin Le   29    Male      Sales    9726   \n",
      "381  382           David Marshall   43   Other      Sales    9269   \n",
      "405  406            Heather Scott   57    Male      Sales    9505   \n",
      "442  443          Kimberly Sparks   26   Other      Sales    9146   \n",
      "491  492  Dr. Jacob Castaneda DVM   53   Other      Sales    9181   \n",
      "516  517           Christina Lowe   35  Female      Sales    9630   \n",
      "552  553          Amanda Griffith   26    Male      Sales    9704   \n",
      "591  592          Jonathan Rangel   49   Other      Sales    9323   \n",
      "594  595           Michelle Smith   35   Other      Sales    9906   \n",
      "629  630           Patricia Scott   52   Other      Sales    9364   \n",
      "742  743           Timothy Guzman   41  Female      Sales    9409   \n",
      "756  757              James James   38    Male      Sales    9666   \n",
      "758  759          Matthew Roberts   53    Male      Sales    9917   \n",
      "778  779             David Nelson   39   Other      Sales    9653   \n",
      "796  797            Jacob Shannon   35   Other      Sales    9926   \n",
      "844  845             Gerald Cooke   33   Other      Sales    9693   \n",
      "898  899           Tiffany Jordan   44    Male      Sales    9819   \n",
      "903  904             Leslie Mason   42   Other      Sales    9658   \n",
      "932  933             Kristin Cole   50    Male      Sales    9616   \n",
      "937  938            Gary Mitchell   52  Female      Sales    9963   \n",
      "976  977            Kimberly Ross   19    Male      Sales    9331   \n",
      "\n",
      "    Joining Date  Performance Score  Experience    Status     Location  \\\n",
      "8     2024-02-07                NaN           3  Inactive     New York   \n",
      "22    2015-12-16                4.0           4  Inactive     New York   \n",
      "29    2016-08-18                2.0          17  Inactive      Chicago   \n",
      "215   2019-10-16                NaN           3    Active  Los Angeles   \n",
      "228   2020-08-16                5.0           1    Active      Chicago   \n",
      "239   2018-01-02                3.0           3    Active      Chicago   \n",
      "250   2019-01-10                4.0          20  Inactive      Chicago   \n",
      "263   2023-11-19                1.0          14    Active  Los Angeles   \n",
      "275   2019-05-15                NaN           5    Active  Los Angeles   \n",
      "299   2022-12-23                NaN           2  Inactive     New York   \n",
      "379   2015-04-13                1.0           2  Inactive      Chicago   \n",
      "381   2018-10-05                2.0          13  Inactive  Los Angeles   \n",
      "405   2024-08-18                3.0           6  Inactive     New York   \n",
      "442   2024-07-29                3.0           3  Inactive     New York   \n",
      "491   2024-02-17                5.0           1  Inactive  Los Angeles   \n",
      "516   2018-07-03                NaN           1    Active  Los Angeles   \n",
      "552   2019-05-30                NaN           9    Active     New York   \n",
      "591   2021-01-19                NaN          18  Inactive      Chicago   \n",
      "594   2018-12-18                NaN           9    Active  Los Angeles   \n",
      "629   2019-11-05                NaN           5    Active     New York   \n",
      "742   2023-09-17                NaN          16  Inactive     New York   \n",
      "756   2016-04-14                NaN          15    Active  Los Angeles   \n",
      "758   2017-07-07                1.0          16    Active  Los Angeles   \n",
      "778   2021-08-08                NaN          19  Inactive     New York   \n",
      "796   2016-09-04                NaN           7    Active      Chicago   \n",
      "844   2017-08-29                NaN          17  Inactive     New York   \n",
      "898   2022-07-15                NaN          13    Active     New York   \n",
      "903   2019-10-31                1.0          14  Inactive     New York   \n",
      "932   2017-02-03                2.0          13  Inactive  Los Angeles   \n",
      "937   2016-09-22                5.0          20  Inactive  Los Angeles   \n",
      "976   2018-07-03                5.0          12    Active     New York   \n",
      "\n",
      "     Session  Years With Company  \n",
      "8      Night                   0  \n",
      "22     Night                   9  \n",
      "29     Night                   8  \n",
      "215  Morning                   5  \n",
      "228    Night                   4  \n",
      "239  Morning                   6  \n",
      "250    Night                   5  \n",
      "263  Morning                   1  \n",
      "275  Morning                   5  \n",
      "299  Morning                   2  \n",
      "379  Evening                   9  \n",
      "381  Evening                   6  \n",
      "405    Night                   0  \n",
      "442  Evening                   0  \n",
      "491  Morning                   0  \n",
      "516    Night                   6  \n",
      "552  Evening                   5  \n",
      "591  Evening                   3  \n",
      "594  Evening                   6  \n",
      "629  Evening                   5  \n",
      "742  Morning                   1  \n",
      "756  Morning                   8  \n",
      "758  Evening                   7  \n",
      "778  Morning                   3  \n",
      "796    Night                   8  \n",
      "844  Morning                   7  \n",
      "898  Morning                   2  \n",
      "903  Evening                   5  \n",
      "932    Night                   7  \n",
      "937  Morning                   8  \n",
      "976  Morning                   6  \n"
     ]
    }
   ],
   "source": [
    "# Retrieve rows where the employee belongs to \"Sales\" and has a Salary in the top 10% of all salaries.\n",
    "top10perc_salary = df['Salary'].quantile(0.9)\n",
    "\n",
    "high_paid_sales = df.loc[(df['Department'] == \"Sales\") & (df['Salary'] >= top10perc_salary)]\n",
    "\n",
    "print(high_paid_sales)"
   ]
  },
  {
   "cell_type": "code",
   "execution_count": 14,
   "id": "4f6df273",
   "metadata": {
    "execution": {
     "iopub.execute_input": "2024-12-23T18:00:51.682880Z",
     "iopub.status.busy": "2024-12-23T18:00:51.682444Z",
     "iopub.status.idle": "2024-12-23T18:00:51.696840Z",
     "shell.execute_reply": "2024-12-23T18:00:51.695489Z"
    },
    "papermill": {
     "duration": 0.030147,
     "end_time": "2024-12-23T18:00:51.700564",
     "exception": false,
     "start_time": "2024-12-23T18:00:51.670417",
     "status": "completed"
    },
    "tags": []
   },
   "outputs": [
    {
     "name": "stdout",
     "output_type": "stream",
     "text": [
      "       ID                Name  Age  Gender Department  Salary Joining Date  \\\n",
      "0       1        Cory Escobar   48  Female         HR    5641   2015-05-03   \n",
      "1       2     Timothy Sanchez   25   Other      Sales    4249   2020-11-09   \n",
      "2       3        Chad Nichols   57   Other      Sales    3058   2019-02-12   \n",
      "3       4  Christine Williams   58  Female         IT    5895   2017-09-08   \n",
      "4       5        Amber Harris   35   Other         IT    4317   2020-02-15   \n",
      "..    ...                 ...  ...     ...        ...     ...          ...   \n",
      "995   996       Pamela Reeves   49  Female      Sales    7652   2024-06-23   \n",
      "996   997        Todd Johnson   29  Female      Sales    6754   2018-07-20   \n",
      "997   998     Michael Sanchez   18    Male      Sales    5278   2023-07-05   \n",
      "998   999       Ashley Taylor   51  Female         IT    5437   2022-02-18   \n",
      "999  1000         Shawn Scott   45    Male         IT    7364   2022-07-31   \n",
      "\n",
      "     Performance Score  Experience   Status     Location  Session  \\\n",
      "0                  2.0          16   Active     New York    Night   \n",
      "1                  2.0          11  Retired  Los Angeles  Evening   \n",
      "2                  NaN           1  Retired     New York  Morning   \n",
      "3                  2.0          13  Retired  Los Angeles  Evening   \n",
      "4                  5.0          16  Retired     New York  Evening   \n",
      "..                 ...         ...      ...          ...      ...   \n",
      "995                4.0           3   Active  Los Angeles  Evening   \n",
      "996                NaN          12  Retired     New York  Morning   \n",
      "997                5.0           3   Active     New York  Morning   \n",
      "998                4.0           9  Retired  Los Angeles  Evening   \n",
      "999                2.0           4   Active     New York  Morning   \n",
      "\n",
      "     Years With Company  \n",
      "0                     9  \n",
      "1                     4  \n",
      "2                     5  \n",
      "3                     7  \n",
      "4                     4  \n",
      "..                  ...  \n",
      "995                   0  \n",
      "996                   6  \n",
      "997                   1  \n",
      "998                   2  \n",
      "999                   2  \n",
      "\n",
      "[1000 rows x 13 columns]\n"
     ]
    }
   ],
   "source": [
    "# Replace all \"Inactive\" values in the Status column with \"Retired\".\n",
    "df['Status'] = df['Status'].replace('Inactive', 'Retired')\n",
    "\n",
    "print(df)"
   ]
  },
  {
   "cell_type": "code",
   "execution_count": 15,
   "id": "f15e90ba",
   "metadata": {
    "execution": {
     "iopub.execute_input": "2024-12-23T18:00:51.723248Z",
     "iopub.status.busy": "2024-12-23T18:00:51.722876Z",
     "iopub.status.idle": "2024-12-23T18:00:51.739685Z",
     "shell.execute_reply": "2024-12-23T18:00:51.738019Z"
    },
    "papermill": {
     "duration": 0.032151,
     "end_time": "2024-12-23T18:00:51.743224",
     "exception": false,
     "start_time": "2024-12-23T18:00:51.711073",
     "status": "completed"
    },
    "tags": []
   },
   "outputs": [
    {
     "name": "stdout",
     "output_type": "stream",
     "text": [
      "       ID                Name  Age  Gender Department  Salary Joining Date  \\\n",
      "0       1        Cory Escobar   48  Female         HR    5641   2015-05-03   \n",
      "1       2     Timothy Sanchez   25   Other      Sales    4249   2020-11-09   \n",
      "2       3        Chad Nichols   57   Other      Sales    3058   2019-02-12   \n",
      "3       4  Christine Williams   58  Female         IT    5895   2017-09-08   \n",
      "4       5        Amber Harris   35   Other         IT    4317   2020-02-15   \n",
      "..    ...                 ...  ...     ...        ...     ...          ...   \n",
      "995   996       Pamela Reeves   49  Female      Sales    7652   2024-06-23   \n",
      "996   997        Todd Johnson   29  Female      Sales    6754   2018-07-20   \n",
      "997   998     Michael Sanchez   18    Male      Sales    5278   2023-07-05   \n",
      "998   999       Ashley Taylor   51  Female         IT    5437   2022-02-18   \n",
      "999  1000         Shawn Scott   45    Male         IT    7364   2022-07-31   \n",
      "\n",
      "     Performance Score  Experience   Status     Location  Session  \\\n",
      "0                  2.0          16   Active     New York    Night   \n",
      "1                  2.0          11  Retired  Los Angeles  Evening   \n",
      "2                  NaN           1  Retired     New York  Morning   \n",
      "3                  2.0          13  Retired  Los Angeles  Evening   \n",
      "4                  5.0          16  Retired     New York  Evening   \n",
      "..                 ...         ...      ...          ...      ...   \n",
      "995                4.0           3   Active  Los Angeles  Evening   \n",
      "996                NaN          12  Retired     New York  Morning   \n",
      "997                5.0           3   Active     New York  Morning   \n",
      "998                4.0           9  Retired  Los Angeles  Evening   \n",
      "999                2.0           4   Active     New York  Morning   \n",
      "\n",
      "     Years With Company  Bonus  \n",
      "0                     9  564.1  \n",
      "1                     4  424.9  \n",
      "2                     5  305.8  \n",
      "3                     7  589.5  \n",
      "4                     4  431.7  \n",
      "..                  ...    ...  \n",
      "995                   0  765.2  \n",
      "996                   6  675.4  \n",
      "997                   1  527.8  \n",
      "998                   2  543.7  \n",
      "999                   2  736.4  \n",
      "\n",
      "[1000 rows x 14 columns]\n"
     ]
    }
   ],
   "source": [
    "#Add a new column Bonus where values are 10% of the Salary column.\n",
    "df['Bonus'] = df['Salary'] * 0.10\n",
    "print(df)"
   ]
  },
  {
   "cell_type": "code",
   "execution_count": 16,
   "id": "e90444fa",
   "metadata": {
    "execution": {
     "iopub.execute_input": "2024-12-23T18:00:51.768458Z",
     "iopub.status.busy": "2024-12-23T18:00:51.768028Z",
     "iopub.status.idle": "2024-12-23T18:00:51.784998Z",
     "shell.execute_reply": "2024-12-23T18:00:51.782748Z"
    },
    "papermill": {
     "duration": 0.033053,
     "end_time": "2024-12-23T18:00:51.787903",
     "exception": false,
     "start_time": "2024-12-23T18:00:51.754850",
     "status": "completed"
    },
    "tags": []
   },
   "outputs": [
    {
     "name": "stdout",
     "output_type": "stream",
     "text": [
      "       ID                Name  Age  Gender Department  Salary Joining Date  \\\n",
      "0       1        Cory Escobar   48  Female         HR    5641   2015-05-03   \n",
      "1       2     Timothy Sanchez   25   Other      Sales    4249   2020-11-09   \n",
      "2       3        Chad Nichols   57   Other      Sales    3058   2019-02-12   \n",
      "3       4  Christine Williams   58  Female         IT    5895   2017-09-08   \n",
      "4       5        Amber Harris   35   Other         IT    4317   2020-02-15   \n",
      "..    ...                 ...  ...     ...        ...     ...          ...   \n",
      "995   996       Pamela Reeves   49  Female      Sales    7652   2024-06-23   \n",
      "996   997        Todd Johnson   29  Female      Sales    6754   2018-07-20   \n",
      "997   998     Michael Sanchez   18    Male      Sales    5278   2023-07-05   \n",
      "998   999       Ashley Taylor   51  Female         IT    5437   2022-02-18   \n",
      "999  1000         Shawn Scott   45    Male         IT    7364   2022-07-31   \n",
      "\n",
      "     Performance Score  Experience   Status     Location  Session  \\\n",
      "0                  2.0          16   Active     New York    Night   \n",
      "1                  2.0          11  Retired  Los Angeles  Evening   \n",
      "2                  NaN           1  Retired     New York  Morning   \n",
      "3                  2.0          13  Retired  Los Angeles  Evening   \n",
      "4                  5.0          16  Retired     New York  Evening   \n",
      "..                 ...         ...      ...          ...      ...   \n",
      "995                4.0           3   Active  Los Angeles  Evening   \n",
      "996                NaN          12  Retired     New York  Morning   \n",
      "997                5.0           3   Active     New York  Morning   \n",
      "998                4.0           9  Retired  Los Angeles  Evening   \n",
      "999                2.0           4   Active     New York  Morning   \n",
      "\n",
      "     Years With Company  Bonus  \n",
      "0                     9  564.1  \n",
      "1                     4  424.9  \n",
      "2                     5  305.8  \n",
      "3                     7  589.5  \n",
      "4                     4  431.7  \n",
      "..                  ...    ...  \n",
      "995                   0  765.2  \n",
      "996                   6  675.4  \n",
      "997                   1  527.8  \n",
      "998                   2  543.7  \n",
      "999                   2  736.4  \n",
      "\n",
      "[1000 rows x 14 columns]\n"
     ]
    }
   ],
   "source": [
    "#Update the Performance Score of employees in the \"IT\" department to 5 if it is NaN\n",
    "df.loc[(df['Department'] == 'IT') & (df['Performance Score'].isna()), 'Performance Score'] = 5\n",
    "\n",
    "print(df)"
   ]
  },
  {
   "cell_type": "code",
   "execution_count": 17,
   "id": "22f32f77",
   "metadata": {
    "execution": {
     "iopub.execute_input": "2024-12-23T18:00:51.811377Z",
     "iopub.status.busy": "2024-12-23T18:00:51.810936Z",
     "iopub.status.idle": "2024-12-23T18:00:51.828023Z",
     "shell.execute_reply": "2024-12-23T18:00:51.826513Z"
    },
    "papermill": {
     "duration": 0.032447,
     "end_time": "2024-12-23T18:00:51.830725",
     "exception": false,
     "start_time": "2024-12-23T18:00:51.798278",
     "status": "completed"
    },
    "tags": []
   },
   "outputs": [
    {
     "name": "stdout",
     "output_type": "stream",
     "text": [
      "       ID                Name  Age  Gender Department  Salary Joining Date  \\\n",
      "0       1        Cory Escobar   48  Female         HR    5641   2015-05-03   \n",
      "1       2     Timothy Sanchez   25   Other      Sales    4249   2020-11-09   \n",
      "2       3        Chad Nichols   57   Other      Sales    3058   2019-02-12   \n",
      "3       4  Christine Williams   58  Female         IT    5895   2017-09-08   \n",
      "4       5        Amber Harris   35   Other         IT    4317   2020-02-15   \n",
      "..    ...                 ...  ...     ...        ...     ...          ...   \n",
      "995   996       Pamela Reeves   49  Female      Sales    7652   2024-06-23   \n",
      "996   997        Todd Johnson   29  Female      Sales    6754   2018-07-20   \n",
      "997   998     Michael Sanchez   18    Male      Sales    5278   2023-07-05   \n",
      "998   999       Ashley Taylor   51  Female         IT    5437   2022-02-18   \n",
      "999  1000         Shawn Scott   45    Male         IT    7364   2022-07-31   \n",
      "\n",
      "     Performance Score  Experience   Status     Location  Session  \\\n",
      "0                  2.0          16   Active     New York    Night   \n",
      "1                  2.0          11  Retired  Los Angeles  Evening   \n",
      "2                  NaN           2  Retired     New York  Morning   \n",
      "3                  2.0          13  Retired  Los Angeles  Evening   \n",
      "4                  5.0          16  Retired     New York  Evening   \n",
      "..                 ...         ...      ...          ...      ...   \n",
      "995                4.0           3   Active  Los Angeles  Evening   \n",
      "996                NaN          12  Retired     New York  Morning   \n",
      "997                5.0           3   Active     New York  Morning   \n",
      "998                4.0           9  Retired  Los Angeles  Evening   \n",
      "999                2.0           4   Active     New York  Morning   \n",
      "\n",
      "     Years With Company  Bonus  \n",
      "0                     9  564.1  \n",
      "1                     4  424.9  \n",
      "2                     5  305.8  \n",
      "3                     7  589.5  \n",
      "4                     4  431.7  \n",
      "..                  ...    ...  \n",
      "995                   0  765.2  \n",
      "996                   6  675.4  \n",
      "997                   1  527.8  \n",
      "998                   2  543.7  \n",
      "999                   2  736.4  \n",
      "\n",
      "[1000 rows x 14 columns]\n"
     ]
    }
   ],
   "source": [
    "# Modify the Experience of employees with less than 2 years to 2. \n",
    "\n",
    "df.loc[df['Experience'] < 2, 'Experience'] = 2\n",
    "\n",
    "print(df)"
   ]
  },
  {
   "cell_type": "code",
   "execution_count": 18,
   "id": "034b4706",
   "metadata": {
    "execution": {
     "iopub.execute_input": "2024-12-23T18:00:51.853930Z",
     "iopub.status.busy": "2024-12-23T18:00:51.853412Z",
     "iopub.status.idle": "2024-12-23T18:00:51.870026Z",
     "shell.execute_reply": "2024-12-23T18:00:51.868459Z"
    },
    "papermill": {
     "duration": 0.031571,
     "end_time": "2024-12-23T18:00:51.872471",
     "exception": false,
     "start_time": "2024-12-23T18:00:51.840900",
     "status": "completed"
    },
    "tags": []
   },
   "outputs": [
    {
     "name": "stdout",
     "output_type": "stream",
     "text": [
      "       ID                Name  Age  Gender Department  Salary Joining Date  \\\n",
      "0       1        Cory Escobar   48  Female         HR    5641   2015-05-03   \n",
      "1       2     Timothy Sanchez   25   Other      Sales    4249   2020-11-09   \n",
      "2       3        Chad Nichols   57   Other      Sales    3058   2019-02-12   \n",
      "3       4  Christine Williams   58  Female         IT    5895   2017-09-08   \n",
      "4       5        Amber Harris   35   Other         IT    4317   2020-02-15   \n",
      "..    ...                 ...  ...     ...        ...     ...          ...   \n",
      "995   996       Pamela Reeves   49  Female      Sales    7652   2024-06-23   \n",
      "996   997        Todd Johnson   29  Female      Sales    6754   2018-07-20   \n",
      "997   998     Michael Sanchez   18    Male      Sales    5278   2023-07-05   \n",
      "998   999       Ashley Taylor   51  Female         IT    5437   2022-02-18   \n",
      "999  1000         Shawn Scott   45    Male         IT    7364   2022-07-31   \n",
      "\n",
      "     Performance Score  Experience   Status     Location  Session  \\\n",
      "0                  2.0          16   Active     New York    Night   \n",
      "1                  2.0          11  Retired  Los Angeles  Evening   \n",
      "2                  NaN           2  Retired     New York  Morning   \n",
      "3                  2.0          13  Retired  Los Angeles  Evening   \n",
      "4                  5.0          16  Retired     New York  Evening   \n",
      "..                 ...         ...      ...          ...      ...   \n",
      "995                4.0           3   Active  Los Angeles  Evening   \n",
      "996                NaN          12  Retired     New York  Morning   \n",
      "997                5.0           3   Active     New York  Morning   \n",
      "998                4.0           9  Retired  Los Angeles  Evening   \n",
      "999                2.0           4   Active     New York  Morning   \n",
      "\n",
      "     Years With Company  Bonus  Normalized Salary  \n",
      "0                     9  564.1           0.454500  \n",
      "1                     4  424.9           0.280020  \n",
      "2                     5  305.8           0.130735  \n",
      "3                     7  589.5           0.486337  \n",
      "4                     4  431.7           0.288543  \n",
      "..                  ...    ...                ...  \n",
      "995                   0  765.2           0.706568  \n",
      "996                   6  675.4           0.594009  \n",
      "997                   1  527.8           0.409000  \n",
      "998                   2  543.7           0.428930  \n",
      "999                   2  736.4           0.670469  \n",
      "\n",
      "[1000 rows x 15 columns]\n"
     ]
    }
   ],
   "source": [
    "#Normalize the Salary column so that all values are between 0 and 1\n",
    "#perform normalization using salary-salary.min()//(salary.max()-salary.min()): feature scaling\n",
    "\n",
    "df['Normalized Salary'] = (df['Salary'] - df['Salary'].min()) / (df['Salary'].max() - df['Salary'].min())\n",
    "\n",
    "print(df)"
   ]
  },
  {
   "cell_type": "code",
   "execution_count": 19,
   "id": "08a5b393",
   "metadata": {
    "execution": {
     "iopub.execute_input": "2024-12-23T18:00:51.895122Z",
     "iopub.status.busy": "2024-12-23T18:00:51.894738Z",
     "iopub.status.idle": "2024-12-23T18:00:51.910275Z",
     "shell.execute_reply": "2024-12-23T18:00:51.908812Z"
    },
    "papermill": {
     "duration": 0.030196,
     "end_time": "2024-12-23T18:00:51.913010",
     "exception": false,
     "start_time": "2024-12-23T18:00:51.882814",
     "status": "completed"
    },
    "tags": []
   },
   "outputs": [
    {
     "name": "stdout",
     "output_type": "stream",
     "text": [
      "       ID                Name  Age  Gender Department  Salary Joining Date  \\\n",
      "0       1        Cory Escobar   48  Female         HR    5641   2015-05-03   \n",
      "1       2     Timothy Sanchez   25   Other      Sales    4249   2020-11-09   \n",
      "2       3        Chad Nichols   57   Other      Sales    3058   2019-02-12   \n",
      "3       4  Christine Williams   58  Female         IT    5895   2017-09-08   \n",
      "4       5        Amber Harris   35   Other         IT    4317   2020-02-15   \n",
      "..    ...                 ...  ...     ...        ...     ...          ...   \n",
      "995   996       Pamela Reeves   49  Female      Sales    7652   2024-06-23   \n",
      "996   997        Todd Johnson   29  Female      Sales    6754   2018-07-20   \n",
      "997   998     Michael Sanchez   18    Male      Sales    5278   2023-07-05   \n",
      "998   999       Ashley Taylor   51  Female         IT    5437   2022-02-18   \n",
      "999  1000         Shawn Scott   45    Male         IT    7364   2022-07-31   \n",
      "\n",
      "     Performance Score  Experience   Status     Location  Session  \\\n",
      "0                  2.0          16   Active       Remote    Night   \n",
      "1                  2.0          11  Retired       Remote  Evening   \n",
      "2                  NaN           2  Retired     New York  Morning   \n",
      "3                  2.0          13  Retired       Remote  Evening   \n",
      "4                  5.0          16  Retired     New York  Evening   \n",
      "..                 ...         ...      ...          ...      ...   \n",
      "995                4.0           3   Active  Los Angeles  Evening   \n",
      "996                NaN          12  Retired     New York  Morning   \n",
      "997                5.0           3   Active     New York  Morning   \n",
      "998                4.0           9  Retired  Los Angeles  Evening   \n",
      "999                2.0           4   Active       Remote  Morning   \n",
      "\n",
      "     Years With Company  Bonus  Normalized Salary  \n",
      "0                     9  564.1           0.454500  \n",
      "1                     4  424.9           0.280020  \n",
      "2                     5  305.8           0.130735  \n",
      "3                     7  589.5           0.486337  \n",
      "4                     4  431.7           0.288543  \n",
      "..                  ...    ...                ...  \n",
      "995                   0  765.2           0.706568  \n",
      "996                   6  675.4           0.594009  \n",
      "997                   1  527.8           0.409000  \n",
      "998                   2  543.7           0.428930  \n",
      "999                   2  736.4           0.670469  \n",
      "\n",
      "[1000 rows x 15 columns]\n"
     ]
    }
   ],
   "source": [
    "# Replace all Location values with \"Remote\" for employees with a Performance Score below 3.\n",
    "df.loc[df['Performance Score'] < 3, 'Location'] = 'Remote'\n",
    "\n",
    "print(df)"
   ]
  },
  {
   "cell_type": "code",
   "execution_count": 20,
   "id": "a20d1cd9",
   "metadata": {
    "execution": {
     "iopub.execute_input": "2024-12-23T18:00:51.936153Z",
     "iopub.status.busy": "2024-12-23T18:00:51.935751Z",
     "iopub.status.idle": "2024-12-23T18:00:51.953445Z",
     "shell.execute_reply": "2024-12-23T18:00:51.952352Z"
    },
    "papermill": {
     "duration": 0.032187,
     "end_time": "2024-12-23T18:00:51.955889",
     "exception": false,
     "start_time": "2024-12-23T18:00:51.923702",
     "status": "completed"
    },
    "tags": []
   },
   "outputs": [
    {
     "name": "stdout",
     "output_type": "stream",
     "text": [
      "       ID                Name  Age  Gender Department  Salary Joining Date  \\\n",
      "0       1        Cory Escobar   48  Female         HR    5641   2015-05-03   \n",
      "1       2     Timothy Sanchez   25   Other      Sales    4249   2020-11-09   \n",
      "2       3        Chad Nichols   57   Other      Sales    3058   2019-02-12   \n",
      "3       4  Christine Williams   58  Female         IT    5895   2017-09-08   \n",
      "4       5        Amber Harris   35   Other         IT    4317   2020-02-15   \n",
      "..    ...                 ...  ...     ...        ...     ...          ...   \n",
      "995   996       Pamela Reeves   49  Female      Sales    7652   2024-06-23   \n",
      "996   997        Todd Johnson   29  Female      Sales    6754   2018-07-20   \n",
      "997   998     Michael Sanchez   18    Male      Sales    5278   2023-07-05   \n",
      "998   999       Ashley Taylor   51  Female         IT    5437   2022-02-18   \n",
      "999  1000         Shawn Scott   45    Male         IT    7364   2022-07-31   \n",
      "\n",
      "     Performance Score  Experience    Status     Location  Session  \n",
      "0                  2.0          16    Active     New York    Night  \n",
      "1                  2.0          11  Inactive  Los Angeles  Evening  \n",
      "2                  NaN           1  Inactive     New York  Morning  \n",
      "3                  2.0          13  Inactive  Los Angeles  Evening  \n",
      "4                  5.0          16  Inactive     New York  Evening  \n",
      "..                 ...         ...       ...          ...      ...  \n",
      "995                4.0           3    Active  Los Angeles  Evening  \n",
      "996                NaN          12  Inactive     New York  Morning  \n",
      "997                5.0           3    Active     New York  Morning  \n",
      "998                4.0           9  Inactive  Los Angeles  Evening  \n",
      "999                2.0           4    Active     New York  Morning  \n",
      "\n",
      "[1000 rows x 12 columns]\n"
     ]
    }
   ],
   "source": [
    "#Original Dataset\n",
    "original = pd.read_csv('/kaggle/input/employee-performance-and-salary-dataset/Employe_Performance_dataset.csv')\n",
    "print(original)"
   ]
  },
  {
   "cell_type": "code",
   "execution_count": 21,
   "id": "676abee5",
   "metadata": {
    "execution": {
     "iopub.execute_input": "2024-12-23T18:00:51.979383Z",
     "iopub.status.busy": "2024-12-23T18:00:51.978964Z",
     "iopub.status.idle": "2024-12-23T18:00:51.995728Z",
     "shell.execute_reply": "2024-12-23T18:00:51.994331Z"
    },
    "papermill": {
     "duration": 0.030875,
     "end_time": "2024-12-23T18:00:51.997985",
     "exception": false,
     "start_time": "2024-12-23T18:00:51.967110",
     "status": "completed"
    },
    "tags": []
   },
   "outputs": [
    {
     "name": "stdout",
     "output_type": "stream",
     "text": [
      "       ID                Name  Age  Gender Department  Salary Joining Date  \\\n",
      "0       1        Cory Escobar   48  Female         HR    5641   2015-05-03   \n",
      "1       2     Timothy Sanchez   25   Other      Sales    4249   2020-11-09   \n",
      "2       3        Chad Nichols   57   Other      Sales    3058   2019-02-12   \n",
      "3       4  Christine Williams   58  Female         IT    5895   2017-09-08   \n",
      "4       5        Amber Harris   35   Other         IT    4317   2020-02-15   \n",
      "..    ...                 ...  ...     ...        ...     ...          ...   \n",
      "995   996       Pamela Reeves   49  Female      Sales    7652   2024-06-23   \n",
      "996   997        Todd Johnson   29  Female      Sales    6754   2018-07-20   \n",
      "997   998     Michael Sanchez   18    Male      Sales    5278   2023-07-05   \n",
      "998   999       Ashley Taylor   51  Female         IT    5437   2022-02-18   \n",
      "999  1000         Shawn Scott   45    Male         IT    7364   2022-07-31   \n",
      "\n",
      "     Performance Score  Experience   Status     Location  Session  \\\n",
      "0                  2.0          16   Active       Remote    Night   \n",
      "1                  2.0          11  Retired       Remote  Evening   \n",
      "2                  NaN           2  Retired     New York  Morning   \n",
      "3                  2.0          13  Retired       Remote  Evening   \n",
      "4                  5.0          16  Retired     New York  Evening   \n",
      "..                 ...         ...      ...          ...      ...   \n",
      "995                4.0           3   Active  Los Angeles  Evening   \n",
      "996                NaN          12  Retired     New York  Morning   \n",
      "997                5.0           3   Active     New York  Morning   \n",
      "998                4.0           9  Retired  Los Angeles  Evening   \n",
      "999                2.0           4   Active       Remote  Morning   \n",
      "\n",
      "     Years With Company  Bonus  Normalized Salary Experience Level  \n",
      "0                     9  564.1           0.454500           Senior  \n",
      "1                     4  424.9           0.280020           Senior  \n",
      "2                     5  305.8           0.130735           Junior  \n",
      "3                     7  589.5           0.486337           Senior  \n",
      "4                     4  431.7           0.288543           Senior  \n",
      "..                  ...    ...                ...              ...  \n",
      "995                   0  765.2           0.706568           Junior  \n",
      "996                   6  675.4           0.594009           Senior  \n",
      "997                   1  527.8           0.409000           Junior  \n",
      "998                   2  543.7           0.428930              Mid  \n",
      "999                   2  736.4           0.670469           Junior  \n",
      "\n",
      "[1000 rows x 16 columns]\n"
     ]
    }
   ],
   "source": [
    "#. Create a new column Experience Level with values \"Junior\", \"Mid\", or \"Senior\" based on the \n",
    "#Experience.\n",
    "conditions = [\n",
    "    (df['Experience'] < 5),  \n",
    "    (df['Experience'] >= 5) & (df['Experience'] < 10), \n",
    "    (df['Experience'] >= 10)]\n",
    "\n",
    "experience_levels = ['Junior', 'Mid', 'Senior']\n",
    "\n",
    "df['Experience Level'] = np.select(conditions, experience_levels, default='Unknown')\n",
    "\n",
    "print(df)\n",
    "\n",
    "    "
   ]
  },
  {
   "cell_type": "code",
   "execution_count": 22,
   "id": "ff116d6b",
   "metadata": {
    "execution": {
     "iopub.execute_input": "2024-12-23T18:00:52.021651Z",
     "iopub.status.busy": "2024-12-23T18:00:52.020733Z",
     "iopub.status.idle": "2024-12-23T18:00:52.034769Z",
     "shell.execute_reply": "2024-12-23T18:00:52.033014Z"
    },
    "papermill": {
     "duration": 0.028371,
     "end_time": "2024-12-23T18:00:52.037228",
     "exception": false,
     "start_time": "2024-12-23T18:00:52.008857",
     "status": "completed"
    },
    "tags": []
   },
   "outputs": [
    {
     "name": "stdout",
     "output_type": "stream",
     "text": [
      "                Name Joining Date\n",
      "995    Pamela Reeves   2024-06-23\n",
      "996     Todd Johnson   2018-07-20\n",
      "997  Michael Sanchez   2023-07-05\n",
      "998    Ashley Taylor   2022-02-18\n",
      "999      Shawn Scott   2022-07-31\n"
     ]
    }
   ],
   "source": [
    "# Convert the 'Joining Date' column to datetime format\n",
    "df['Joining Date'] = pd.to_datetime(df['Joining Date'])\n",
    "\n",
    "# Reformat the 'Joining Date' column to 'YYYY-MM-DD' format\n",
    "df['Joining Date'] = df['Joining Date'].dt.strftime('%Y-%m-%d')\n",
    "\n",
    "print(df[['Name', 'Joining Date']].tail()) \n"
   ]
  },
  {
   "cell_type": "code",
   "execution_count": 23,
   "id": "dfeea21f",
   "metadata": {
    "execution": {
     "iopub.execute_input": "2024-12-23T18:00:52.060411Z",
     "iopub.status.busy": "2024-12-23T18:00:52.059964Z",
     "iopub.status.idle": "2024-12-23T18:00:52.078360Z",
     "shell.execute_reply": "2024-12-23T18:00:52.077071Z"
    },
    "papermill": {
     "duration": 0.032938,
     "end_time": "2024-12-23T18:00:52.080964",
     "exception": false,
     "start_time": "2024-12-23T18:00:52.048026",
     "status": "completed"
    },
    "tags": []
   },
   "outputs": [
    {
     "name": "stdout",
     "output_type": "stream",
     "text": [
      "        ID                Name  Age  Gender Department  Salary Joining Date  \\\n",
      "0        1        Cory Escobar   48  Female         HR    5641   2015-05-03   \n",
      "1        2     Timothy Sanchez   25   Other      Sales    4249   2020-11-09   \n",
      "2        3        Chad Nichols   57   Other      Sales    3058   2019-02-12   \n",
      "3        4  Christine Williams   58  Female         IT    5895   2017-09-08   \n",
      "4        5        Amber Harris   35   Other         IT    4317   2020-02-15   \n",
      "...    ...                 ...  ...     ...        ...     ...          ...   \n",
      "996    997        Todd Johnson   29  Female      Sales    6754   2018-07-20   \n",
      "997    998     Michael Sanchez   18    Male      Sales    5278   2023-07-05   \n",
      "998    999       Ashley Taylor   51  Female         IT    5437   2022-02-18   \n",
      "999   1000         Shawn Scott   45    Male         IT    7364   2022-07-31   \n",
      "1000  1001       Nicole Otieno   28  Female         IT    5500   2024-12-11   \n",
      "\n",
      "      Performance Score  Experience   Status     Location  Session  \\\n",
      "0                   2.0          16   Active       Remote    Night   \n",
      "1                   2.0          11  Retired       Remote  Evening   \n",
      "2                   NaN           2  Retired     New York  Morning   \n",
      "3                   2.0          13  Retired       Remote  Evening   \n",
      "4                   5.0          16  Retired     New York  Evening   \n",
      "...                 ...         ...      ...          ...      ...   \n",
      "996                 NaN          12  Retired     New York  Morning   \n",
      "997                 5.0           3   Active     New York  Morning   \n",
      "998                 4.0           9  Retired  Los Angeles  Evening   \n",
      "999                 2.0           4   Active       Remote  Morning   \n",
      "1000                4.5           3   Active     New York    Night   \n",
      "\n",
      "      Years With Company  Bonus  Normalized Salary Experience Level  \n",
      "0                      9  564.1           0.454500           Senior  \n",
      "1                      4  424.9           0.280020           Senior  \n",
      "2                      5  305.8           0.130735           Junior  \n",
      "3                      7  589.5           0.486337           Senior  \n",
      "4                      4  431.7           0.288543           Senior  \n",
      "...                  ...    ...                ...              ...  \n",
      "996                    6  675.4           0.594009           Senior  \n",
      "997                    1  527.8           0.409000           Junior  \n",
      "998                    2  543.7           0.428930              Mid  \n",
      "999                    2  736.4           0.670469           Junior  \n",
      "1000                   1  550.0                NaN           Junior  \n",
      "\n",
      "[1001 rows x 16 columns]\n"
     ]
    }
   ],
   "source": [
    "# Add a new row with specific values using the append() method. \n",
    "#since the DataFrame object has no value append , I would use concatenation\n",
    "\n",
    "new_row = {\n",
    "    'ID': 1001,\n",
    "    'Name': 'Nicole Otieno',\n",
    "    'Age': 28,\n",
    "    'Gender': 'Female',\n",
    "    'Department': 'IT',\n",
    "    'Salary': 5500,\n",
    "    'Joining Date': '2024-12-11',\n",
    "    'Performance Score': 4.5,\n",
    "    'Experience': 3,\n",
    "    'Status': 'Active',\n",
    "    'Location': 'New York',\n",
    "    'Session': 'Night',\n",
    "    'Years With Company': 1,\n",
    "    'Bonus': 550.0,\n",
    "    'Experience Level': 'Junior'\n",
    "}\n",
    "\n",
    "new_row_df = pd.DataFrame([new_row])\n",
    "\n",
    "\n",
    "df = pd.concat([df, new_row_df], ignore_index=True)\n",
    "# To check the last rows after \n",
    "print(df)\n",
    "\n",
    "\n",
    "\n",
    "\n"
   ]
  },
  {
   "cell_type": "code",
   "execution_count": 24,
   "id": "1e4b74bb",
   "metadata": {
    "execution": {
     "iopub.execute_input": "2024-12-23T18:00:52.105806Z",
     "iopub.status.busy": "2024-12-23T18:00:52.105412Z",
     "iopub.status.idle": "2024-12-23T18:00:52.122390Z",
     "shell.execute_reply": "2024-12-23T18:00:52.120790Z"
    },
    "papermill": {
     "duration": 0.033028,
     "end_time": "2024-12-23T18:00:52.125011",
     "exception": false,
     "start_time": "2024-12-23T18:00:52.091983",
     "status": "completed"
    },
    "tags": []
   },
   "outputs": [
    {
     "name": "stdout",
     "output_type": "stream",
     "text": [
      "   ID                Name  Age  Gender Department  Salary Joining Date  \\\n",
      "0   1        Cory Escobar   48  Female         HR    5641   2015-05-03   \n",
      "1   2     Timothy Sanchez   25   Other      Sales    4249   2020-11-09   \n",
      "2   3        Chad Nichols   57   Other      Sales    3058   2019-02-12   \n",
      "3   4  Christine Williams   58  Female         IT    5895   2017-09-08   \n",
      "4   5        Amber Harris   35   Other         IT    4317   2020-02-15   \n",
      "\n",
      "   Performance Score  Experience   Status  Location  Years With Company  \\\n",
      "0                2.0          16   Active    Remote                   9   \n",
      "1                2.0          11  Retired    Remote                   4   \n",
      "2                NaN           2  Retired  New York                   5   \n",
      "3                2.0          13  Retired    Remote                   7   \n",
      "4                5.0          16  Retired  New York                   4   \n",
      "\n",
      "   Bonus  Normalized Salary Experience Level  \n",
      "0  564.1           0.454500           Senior  \n",
      "1  424.9           0.280020           Senior  \n",
      "2  305.8           0.130735           Junior  \n",
      "3  589.5           0.486337           Senior  \n",
      "4  431.7           0.288543           Senior  \n",
      "0      Night\n",
      "1    Evening\n",
      "2    Morning\n",
      "3    Evening\n",
      "4    Evening\n",
      "Name: Session, dtype: object\n"
     ]
    }
   ],
   "source": [
    "# Delete the column Session from the DataFrame.\n",
    "#First save the session data for easy retrieval.\n",
    "session_data = df['Session'].copy()\n",
    "df = df.drop(columns=['Session'])\n",
    "\n",
    "print(df.head())\n",
    "#check if the session copy has been saved.\n",
    "print(session_data.head())"
   ]
  },
  {
   "cell_type": "code",
   "execution_count": 25,
   "id": "55c09622",
   "metadata": {
    "execution": {
     "iopub.execute_input": "2024-12-23T18:00:52.150650Z",
     "iopub.status.busy": "2024-12-23T18:00:52.150219Z",
     "iopub.status.idle": "2024-12-23T18:00:52.167132Z",
     "shell.execute_reply": "2024-12-23T18:00:52.165810Z"
    },
    "papermill": {
     "duration": 0.032822,
     "end_time": "2024-12-23T18:00:52.169960",
     "exception": false,
     "start_time": "2024-12-23T18:00:52.137138",
     "status": "completed"
    },
    "tags": []
   },
   "outputs": [
    {
     "name": "stdout",
     "output_type": "stream",
     "text": [
      "        ID                Name  Age  Gender Department  Salary Joining Date  \\\n",
      "0        1        Cory Escobar   48  Female         HR    5641   2015-05-03   \n",
      "1        2     Timothy Sanchez   25   Other      Sales    4249   2020-11-09   \n",
      "2        3        Chad Nichols   57   Other      Sales    3058   2019-02-12   \n",
      "3        4  Christine Williams   58  Female         IT    5895   2017-09-08   \n",
      "4        5        Amber Harris   35   Other         IT    4317   2020-02-15   \n",
      "...    ...                 ...  ...     ...        ...     ...          ...   \n",
      "996    997        Todd Johnson   29  Female      Sales    6754   2018-07-20   \n",
      "997    998     Michael Sanchez   18    Male      Sales    5278   2023-07-05   \n",
      "998    999       Ashley Taylor   51  Female         IT    5437   2022-02-18   \n",
      "999   1000         Shawn Scott   45    Male         IT    7364   2022-07-31   \n",
      "1000  1001       Nicole Otieno   28  Female         IT    5500   2024-12-11   \n",
      "\n",
      "      Performance Score  Experience   Status     Location  Years With Company  \\\n",
      "0                   2.0          16   Active       Remote                   9   \n",
      "1                   2.0          11  Retired       Remote                   4   \n",
      "2                   NaN           2  Retired     New York                   5   \n",
      "3                   2.0          13  Retired       Remote                   7   \n",
      "4                   5.0          16  Retired     New York                   4   \n",
      "...                 ...         ...      ...          ...                 ...   \n",
      "996                 NaN          12  Retired     New York                   6   \n",
      "997                 5.0           3   Active     New York                   1   \n",
      "998                 4.0           9  Retired  Los Angeles                   2   \n",
      "999                 2.0           4   Active       Remote                   2   \n",
      "1000                4.5           3   Active     New York                   1   \n",
      "\n",
      "      Bonus  Normalized Salary Experience Level  \n",
      "0     564.1           0.454500           Senior  \n",
      "1     424.9           0.280020           Senior  \n",
      "2     305.8           0.130735           Junior  \n",
      "3     589.5           0.486337           Senior  \n",
      "4     431.7           0.288543           Senior  \n",
      "...     ...                ...              ...  \n",
      "996   675.4           0.594009           Senior  \n",
      "997   527.8           0.409000           Junior  \n",
      "998   543.7           0.428930              Mid  \n",
      "999   736.4           0.670469           Junior  \n",
      "1000  550.0                NaN           Junior  \n",
      "\n",
      "[894 rows x 15 columns]\n"
     ]
    }
   ],
   "source": [
    "# Delete rows where the Age is greater than 60.\n",
    "#Filter.\n",
    "df = df[df['Age'] <= 60]\n",
    "\n",
    "print(df)"
   ]
  },
  {
   "cell_type": "code",
   "execution_count": 26,
   "id": "b3cfbf45",
   "metadata": {
    "execution": {
     "iopub.execute_input": "2024-12-23T18:00:52.194792Z",
     "iopub.status.busy": "2024-12-23T18:00:52.194371Z",
     "iopub.status.idle": "2024-12-23T18:00:52.210417Z",
     "shell.execute_reply": "2024-12-23T18:00:52.209146Z"
    },
    "papermill": {
     "duration": 0.032032,
     "end_time": "2024-12-23T18:00:52.213383",
     "exception": false,
     "start_time": "2024-12-23T18:00:52.181351",
     "status": "completed"
    },
    "tags": []
   },
   "outputs": [
    {
     "name": "stdout",
     "output_type": "stream",
     "text": [
      "        ID                Name  Age  Gender Department  Salary Joining Date  \\\n",
      "0        1        Cory Escobar   48  Female         HR    5641   2015-05-03   \n",
      "1        2     Timothy Sanchez   25   Other      Sales    4249   2020-11-09   \n",
      "2        3        Chad Nichols   57   Other      Sales    3058   2019-02-12   \n",
      "3        4  Christine Williams   58  Female         IT    5895   2017-09-08   \n",
      "4        5        Amber Harris   35   Other         IT    4317   2020-02-15   \n",
      "...    ...                 ...  ...     ...        ...     ...          ...   \n",
      "996    997        Todd Johnson   29  Female      Sales    6754   2018-07-20   \n",
      "997    998     Michael Sanchez   18    Male      Sales    5278   2023-07-05   \n",
      "998    999       Ashley Taylor   51  Female         IT    5437   2022-02-18   \n",
      "999   1000         Shawn Scott   45    Male         IT    7364   2022-07-31   \n",
      "1000  1001       Nicole Otieno   28  Female         IT    5500   2024-12-11   \n",
      "\n",
      "      Performance Score  Experience   Status     Location  Years With Company  \\\n",
      "0                   2.0          16   Active       Remote                   9   \n",
      "1                   2.0          11  Retired       Remote                   4   \n",
      "2                   NaN           2  Retired     New York                   5   \n",
      "3                   2.0          13  Retired       Remote                   7   \n",
      "4                   5.0          16  Retired     New York                   4   \n",
      "...                 ...         ...      ...          ...                 ...   \n",
      "996                 NaN          12  Retired     New York                   6   \n",
      "997                 5.0           3   Active     New York                   1   \n",
      "998                 4.0           9  Retired  Los Angeles                   2   \n",
      "999                 2.0           4   Active       Remote                   2   \n",
      "1000                4.5           3   Active     New York                   1   \n",
      "\n",
      "      Bonus  Normalized Salary Experience Level    Age Group  \n",
      "0     564.1           0.454500           Senior       Senior  \n",
      "1     424.9           0.280020           Senior        Young  \n",
      "2     305.8           0.130735           Junior       Senior  \n",
      "3     589.5           0.486337           Senior       Senior  \n",
      "4     431.7           0.288543           Senior  Middle-aged  \n",
      "...     ...                ...              ...          ...  \n",
      "996   675.4           0.594009           Senior        Young  \n",
      "997   527.8           0.409000           Junior        Young  \n",
      "998   543.7           0.428930              Mid       Senior  \n",
      "999   736.4           0.670469           Junior       Senior  \n",
      "1000  550.0                NaN           Junior        Young  \n",
      "\n",
      "[894 rows x 16 columns]\n"
     ]
    }
   ],
   "source": [
    " #Add a new column Age Group with values \"Young\", \"Middle-aged\", or \"Senior\" based on Age.\n",
    "conditions=[\n",
    "    (df['Age']<30),\n",
    "    (df['Age']>=30) & (df['Age']<45),\n",
    "    (df['Age']>=45)\n",
    "]\n",
    "age_group=['Young','Middle-aged','Senior']\n",
    "\n",
    "df['Age Group'] = np.select(conditions, age_group, default='Unknown')\n",
    "\n",
    "print(df)\n"
   ]
  },
  {
   "cell_type": "code",
   "execution_count": 27,
   "id": "b2433daa",
   "metadata": {
    "execution": {
     "iopub.execute_input": "2024-12-23T18:00:52.238227Z",
     "iopub.status.busy": "2024-12-23T18:00:52.237818Z",
     "iopub.status.idle": "2024-12-23T18:00:52.247050Z",
     "shell.execute_reply": "2024-12-23T18:00:52.245754Z"
    },
    "papermill": {
     "duration": 0.024596,
     "end_time": "2024-12-23T18:00:52.249487",
     "exception": false,
     "start_time": "2024-12-23T18:00:52.224891",
     "status": "completed"
    },
    "tags": []
   },
   "outputs": [
    {
     "name": "stdout",
     "output_type": "stream",
     "text": [
      "['Performance Score', 'Normalized Salary']\n"
     ]
    }
   ],
   "source": [
    "# Identify all columns with missing values using the isna() method. \n",
    "missing_columns = df.isna().any()\n",
    "\n",
    "print(missing_columns[missing_columns == True].index.tolist())"
   ]
  },
  {
   "cell_type": "code",
   "execution_count": 28,
   "id": "173df44d",
   "metadata": {
    "execution": {
     "iopub.execute_input": "2024-12-23T18:00:52.275835Z",
     "iopub.status.busy": "2024-12-23T18:00:52.275429Z",
     "iopub.status.idle": "2024-12-23T18:00:52.292972Z",
     "shell.execute_reply": "2024-12-23T18:00:52.291486Z"
    },
    "papermill": {
     "duration": 0.034591,
     "end_time": "2024-12-23T18:00:52.295366",
     "exception": false,
     "start_time": "2024-12-23T18:00:52.260775",
     "status": "completed"
    },
    "tags": []
   },
   "outputs": [
    {
     "name": "stdout",
     "output_type": "stream",
     "text": [
      "        ID                Name  Age  Gender Department  Salary Joining Date  \\\n",
      "0        1        Cory Escobar   48  Female         HR    5641   2015-05-03   \n",
      "1        2     Timothy Sanchez   25   Other      Sales    4249   2020-11-09   \n",
      "2        3        Chad Nichols   57   Other      Sales    3058   2019-02-12   \n",
      "3        4  Christine Williams   58  Female         IT    5895   2017-09-08   \n",
      "4        5        Amber Harris   35   Other         IT    4317   2020-02-15   \n",
      "...    ...                 ...  ...     ...        ...     ...          ...   \n",
      "996    997        Todd Johnson   29  Female      Sales    6754   2018-07-20   \n",
      "997    998     Michael Sanchez   18    Male      Sales    5278   2023-07-05   \n",
      "998    999       Ashley Taylor   51  Female         IT    5437   2022-02-18   \n",
      "999   1000         Shawn Scott   45    Male         IT    7364   2022-07-31   \n",
      "1000  1001       Nicole Otieno   28  Female         IT    5500   2024-12-11   \n",
      "\n",
      "      Performance Score  Experience   Status     Location  Years With Company  \\\n",
      "0              2.000000          16   Active       Remote                   9   \n",
      "1              2.000000          11  Retired       Remote                   4   \n",
      "2              3.443615           2  Retired     New York                   5   \n",
      "3              2.000000          13  Retired       Remote                   7   \n",
      "4              5.000000          16  Retired     New York                   4   \n",
      "...                 ...         ...      ...          ...                 ...   \n",
      "996            3.443615          12  Retired     New York                   6   \n",
      "997            5.000000           3   Active     New York                   1   \n",
      "998            4.000000           9  Retired  Los Angeles                   2   \n",
      "999            2.000000           4   Active       Remote                   2   \n",
      "1000           4.500000           3   Active     New York                   1   \n",
      "\n",
      "      Bonus  Normalized Salary Experience Level    Age Group  \n",
      "0     564.1           0.454500           Senior       Senior  \n",
      "1     424.9           0.280020           Senior        Young  \n",
      "2     305.8           0.130735           Junior       Senior  \n",
      "3     589.5           0.486337           Senior       Senior  \n",
      "4     431.7           0.288543           Senior  Middle-aged  \n",
      "...     ...                ...              ...          ...  \n",
      "996   675.4           0.594009           Senior        Young  \n",
      "997   527.8           0.409000           Junior        Young  \n",
      "998   543.7           0.428930              Mid       Senior  \n",
      "999   736.4           0.670469           Junior       Senior  \n",
      "1000  550.0                NaN           Junior        Young  \n",
      "\n",
      "[894 rows x 16 columns]\n"
     ]
    }
   ],
   "source": [
    "#Fill the missing values in Performance Score with the average score of that column.\n",
    "#Todd Johnson, index 996 had a missing value at Perfomence Score\n",
    "average_score = df['Performance Score'].mean()\n",
    "\n",
    "df['Performance Score'] = df['Performance Score'].fillna(average_score)\n",
    "\n",
    "print(df)\n"
   ]
  },
  {
   "cell_type": "code",
   "execution_count": 29,
   "id": "1a5c8c6b",
   "metadata": {
    "execution": {
     "iopub.execute_input": "2024-12-23T18:00:52.322297Z",
     "iopub.status.busy": "2024-12-23T18:00:52.321910Z",
     "iopub.status.idle": "2024-12-23T18:00:52.338762Z",
     "shell.execute_reply": "2024-12-23T18:00:52.337413Z"
    },
    "papermill": {
     "duration": 0.03404,
     "end_time": "2024-12-23T18:00:52.341501",
     "exception": false,
     "start_time": "2024-12-23T18:00:52.307461",
     "status": "completed"
    },
    "tags": []
   },
   "outputs": [
    {
     "name": "stdout",
     "output_type": "stream",
     "text": [
      "       ID                Name  Age  Gender Department  Salary Joining Date  \\\n",
      "0       1        Cory Escobar   48  Female         HR    5641   2015-05-03   \n",
      "1       2     Timothy Sanchez   25   Other      Sales    4249   2020-11-09   \n",
      "2       3        Chad Nichols   57   Other      Sales    3058   2019-02-12   \n",
      "3       4  Christine Williams   58  Female         IT    5895   2017-09-08   \n",
      "4       5        Amber Harris   35   Other         IT    4317   2020-02-15   \n",
      "..    ...                 ...  ...     ...        ...     ...          ...   \n",
      "995   996       Pamela Reeves   49  Female      Sales    7652   2024-06-23   \n",
      "996   997        Todd Johnson   29  Female      Sales    6754   2018-07-20   \n",
      "997   998     Michael Sanchez   18    Male      Sales    5278   2023-07-05   \n",
      "998   999       Ashley Taylor   51  Female         IT    5437   2022-02-18   \n",
      "999  1000         Shawn Scott   45    Male         IT    7364   2022-07-31   \n",
      "\n",
      "     Performance Score  Experience   Status     Location  Years With Company  \\\n",
      "0             2.000000          16   Active       Remote                   9   \n",
      "1             2.000000          11  Retired       Remote                   4   \n",
      "2             3.443615           2  Retired     New York                   5   \n",
      "3             2.000000          13  Retired       Remote                   7   \n",
      "4             5.000000          16  Retired     New York                   4   \n",
      "..                 ...         ...      ...          ...                 ...   \n",
      "995           4.000000           3   Active  Los Angeles                   0   \n",
      "996           3.443615          12  Retired     New York                   6   \n",
      "997           5.000000           3   Active     New York                   1   \n",
      "998           4.000000           9  Retired  Los Angeles                   2   \n",
      "999           2.000000           4   Active       Remote                   2   \n",
      "\n",
      "     Bonus  Normalized Salary Experience Level    Age Group  \n",
      "0    564.1           0.454500           Senior       Senior  \n",
      "1    424.9           0.280020           Senior        Young  \n",
      "2    305.8           0.130735           Junior       Senior  \n",
      "3    589.5           0.486337           Senior       Senior  \n",
      "4    431.7           0.288543           Senior  Middle-aged  \n",
      "..     ...                ...              ...          ...  \n",
      "995  765.2           0.706568           Junior       Senior  \n",
      "996  675.4           0.594009           Senior        Young  \n",
      "997  527.8           0.409000           Junior        Young  \n",
      "998  543.7           0.428930              Mid       Senior  \n",
      "999  736.4           0.670469           Junior       Senior  \n",
      "\n",
      "[893 rows x 16 columns]\n"
     ]
    }
   ],
   "source": [
    "# Drop all rows with missing values using the dropna() method.\n",
    "#Nicole still has a missing value at Normalized salary hence will be dropped.\n",
    "#Drops rows with NaN but keeps the original dataframe intact.\n",
    "df_cleaned = df.dropna()\n",
    "\n",
    "print(df_cleaned)"
   ]
  },
  {
   "cell_type": "code",
   "execution_count": 30,
   "id": "267e66d0",
   "metadata": {
    "execution": {
     "iopub.execute_input": "2024-12-23T18:00:52.367212Z",
     "iopub.status.busy": "2024-12-23T18:00:52.366499Z",
     "iopub.status.idle": "2024-12-23T18:00:52.409326Z",
     "shell.execute_reply": "2024-12-23T18:00:52.408204Z"
    },
    "papermill": {
     "duration": 0.058935,
     "end_time": "2024-12-23T18:00:52.412002",
     "exception": false,
     "start_time": "2024-12-23T18:00:52.353067",
     "status": "completed"
    },
    "tags": []
   },
   "outputs": [
    {
     "name": "stdout",
     "output_type": "stream",
     "text": [
      "Rows that had missing values and were re-manipulated:\n",
      "Empty DataFrame\n",
      "Columns: [ID, Name, Age, Gender, Department, Salary, Joining Date, Performance Score, Experience, Status, Location, Years With Company, Bonus, Normalized Salary, Experience Level, Age Group]\n",
      "Index: []\n",
      "\n",
      "Updated DataFrame:\n",
      "         ID                Name  Age  Gender Department  Salary Joining Date  \\\n",
      "0        1        Cory Escobar   48  Female         HR    5641   2015-05-03   \n",
      "1        2     Timothy Sanchez   25   Other      Sales    4249   2020-11-09   \n",
      "2        3        Chad Nichols   57   Other      Sales    3058   2019-02-12   \n",
      "3        4  Christine Williams   58  Female         IT    5895   2017-09-08   \n",
      "4        5        Amber Harris   35   Other         IT    4317   2020-02-15   \n",
      "...    ...                 ...  ...     ...        ...     ...          ...   \n",
      "996    997        Todd Johnson   29  Female      Sales    6754   2018-07-20   \n",
      "997    998     Michael Sanchez   18    Male      Sales    5278   2023-07-05   \n",
      "998    999       Ashley Taylor   51  Female         IT    5437   2022-02-18   \n",
      "999   1000         Shawn Scott   45    Male         IT    7364   2022-07-31   \n",
      "1000  1001       Nicole Otieno   28  Female         IT    5500   2024-12-11   \n",
      "\n",
      "      Performance Score  Experience   Status     Location  Years With Company  \\\n",
      "0              2.000000          16   Active       Remote                   9   \n",
      "1              2.000000          11  Retired       Remote                   4   \n",
      "2              3.443615           2  Retired     New York                   5   \n",
      "3              2.000000          13  Retired       Remote                   7   \n",
      "4              5.000000          16  Retired     New York                   4   \n",
      "...                 ...         ...      ...          ...                 ...   \n",
      "996            3.443615          12  Retired     New York                   6   \n",
      "997            5.000000           3   Active     New York                   1   \n",
      "998            4.000000           9  Retired  Los Angeles                   2   \n",
      "999            2.000000           4   Active       Remote                   2   \n",
      "1000           4.500000           3   Active     New York                   1   \n",
      "\n",
      "      Bonus  Normalized Salary Experience Level    Age Group  \n",
      "0     564.1           0.454500           Senior       Senior  \n",
      "1     424.9           0.280020           Senior        Young  \n",
      "2     305.8           0.130735           Junior       Senior  \n",
      "3     589.5           0.486337           Senior       Senior  \n",
      "4     431.7           0.288543           Senior  Middle-aged  \n",
      "...     ...                ...              ...          ...  \n",
      "996   675.4           0.594009           Senior        Young  \n",
      "997   527.8           0.409000           Junior        Young  \n",
      "998   543.7           0.428930              Mid       Senior  \n",
      "999   736.4           0.670469           Junior       Senior  \n",
      "1000  550.0                NaN           Junior        Young  \n",
      "\n",
      "[894 rows x 16 columns]\n"
     ]
    }
   ],
   "source": [
    "# Replace missing values in Performance Score with the median of the scores, grouped by Department.\n",
    "missing_rows_before = df[df['Performance Score'].isna()]\n",
    "median_scores = df.groupby('Department')['Performance Score'].median()\n",
    "# Step 3: Replace missing values with the department's median\n",
    "df['Performance Score'] = df.apply(\n",
    "    lambda row: median_scores[row['Department']] if pd.isna(row['Performance Score']) else row['Performance Score'], \n",
    "    axis=1\n",
    ")\n",
    "\n",
    "# Step 4: Identify rows that were previously missing and are now filled\n",
    "missing_rows_after = df[df.index.isin(missing_rows_before.index)]\n",
    "\n",
    "print(f\"Rows that had missing values and were re-manipulated:\\n{missing_rows_after}\")\n",
    "print(\"\\nUpdated DataFrame:\\n\", df)\n"
   ]
  },
  {
   "cell_type": "code",
   "execution_count": 31,
   "id": "53a4d153",
   "metadata": {
    "execution": {
     "iopub.execute_input": "2024-12-23T18:00:52.439334Z",
     "iopub.status.busy": "2024-12-23T18:00:52.438902Z",
     "iopub.status.idle": "2024-12-23T18:00:52.459219Z",
     "shell.execute_reply": "2024-12-23T18:00:52.457767Z"
    },
    "papermill": {
     "duration": 0.03728,
     "end_time": "2024-12-23T18:00:52.462405",
     "exception": false,
     "start_time": "2024-12-23T18:00:52.425125",
     "status": "completed"
    },
    "tags": []
   },
   "outputs": [
    {
     "name": "stdout",
     "output_type": "stream",
     "text": [
      "       ID                Name  Age  Gender Department  Salary Joining Date  \\\n",
      "3       4  Christine Williams   58  Female         IT    5895   2017-09-08   \n",
      "33     34    Mr. Brian Nelson   42  Female         IT    5207   2017-08-17   \n",
      "34     35            Lisa Fry   51  Female         IT    9259   2017-09-26   \n",
      "41     42      Charles Mccall   58   Other         IT    9512   2024-11-10   \n",
      "47     48        Jake Johnson   48   Other         IT    5848   2017-02-03   \n",
      "..    ...                 ...  ...     ...        ...     ...          ...   \n",
      "979   980    Crystal Espinoza   55  Female         IT    4952   2023-09-04   \n",
      "984   985        Jeffrey Hall   41   Other         IT    8768   2018-08-27   \n",
      "986   987     Melissa Bradley   39  Female         IT    9618   2015-07-05   \n",
      "998   999       Ashley Taylor   51  Female         IT    5437   2022-02-18   \n",
      "999  1000         Shawn Scott   45    Male         IT    7364   2022-07-31   \n",
      "\n",
      "     Performance Score  Experience   Status     Location  Years With Company  \\\n",
      "3                  2.0          13  Retired       Remote                   7   \n",
      "33                 1.0           4   Active       Remote                   7   \n",
      "34                 4.0          17  Retired  Los Angeles                   7   \n",
      "41                 5.0           8  Retired  Los Angeles                   0   \n",
      "47                 3.0           2   Active  Los Angeles                   7   \n",
      "..                 ...         ...      ...          ...                 ...   \n",
      "979                2.0           5   Active       Remote                   1   \n",
      "984                3.0          16  Retired  Los Angeles                   6   \n",
      "986                1.0          13   Active       Remote                   9   \n",
      "998                4.0           9  Retired  Los Angeles                   2   \n",
      "999                2.0           4   Active       Remote                   2   \n",
      "\n",
      "     Bonus  Normalized Salary Experience Level    Age Group  \n",
      "3    589.5           0.486337           Senior       Senior  \n",
      "33   520.7           0.400100           Junior  Middle-aged  \n",
      "34   925.9           0.907997           Senior       Senior  \n",
      "41   951.2           0.939709              Mid       Senior  \n",
      "47   584.8           0.480446           Junior       Senior  \n",
      "..     ...                ...              ...          ...  \n",
      "979  495.2           0.368137              Mid       Senior  \n",
      "984  876.8           0.846453           Senior  Middle-aged  \n",
      "986  961.8           0.952996           Senior  Middle-aged  \n",
      "998  543.7           0.428930              Mid       Senior  \n",
      "999  736.4           0.670469           Junior       Senior  \n",
      "\n",
      "[150 rows x 16 columns]\n"
     ]
    }
   ],
   "source": [
    "#26 Identify rows where the employee is in the \"IT\" department and their Age is above the average Age \n",
    "#of \"IT\" employees\n",
    "average_age_it = df[df['Department'] == 'IT']['Age'].mean()\n",
    "it_dept_above_average_age= df[(df['Department']=='IT') & (df['Age'] >average_age_it)]\n",
    "print(it_dept_above_average_age)"
   ]
  },
  {
   "cell_type": "code",
   "execution_count": 32,
   "id": "1952ecb3",
   "metadata": {
    "execution": {
     "iopub.execute_input": "2024-12-23T18:00:52.490476Z",
     "iopub.status.busy": "2024-12-23T18:00:52.490057Z",
     "iopub.status.idle": "2024-12-23T18:00:52.510004Z",
     "shell.execute_reply": "2024-12-23T18:00:52.508630Z"
    },
    "papermill": {
     "duration": 0.037973,
     "end_time": "2024-12-23T18:00:52.512559",
     "exception": false,
     "start_time": "2024-12-23T18:00:52.474586",
     "status": "completed"
    },
    "tags": []
   },
   "outputs": [
    {
     "name": "stdout",
     "output_type": "stream",
     "text": [
      "       ID                Name  Age  Gender Department  Salary Joining Date  \\\n",
      "0       1        Cory Escobar   48  Female         HR    5641   2015-05-03   \n",
      "1       2     Timothy Sanchez   25   Other      Sales    4249   2020-11-09   \n",
      "2       3        Chad Nichols   57   Other      Sales    3058   2019-02-12   \n",
      "3       4  Christine Williams   58  Female         IT    5895   2017-09-08   \n",
      "4       5        Amber Harris   35   Other         IT    4317   2020-02-15   \n",
      "..    ...                 ...  ...     ...        ...     ...          ...   \n",
      "890   998     Michael Sanchez   18    Male      Sales    5278   2023-07-05   \n",
      "891   999       Ashley Taylor   51  Female         IT    5437   2022-02-18   \n",
      "892  1000         Shawn Scott   45    Male         IT    7364   2022-07-31   \n",
      "893  1001       Nicole Otieno   28  Female         IT    5500   2024-12-11   \n",
      "894  1001       Nicole Otieno   28  Female         IT    5500   2024-12-11   \n",
      "\n",
      "     Performance Score  Experience   Status     Location  Years With Company  \\\n",
      "0             2.000000          16   Active       Remote                   9   \n",
      "1             2.000000          11  Retired       Remote                   4   \n",
      "2             3.443615           2  Retired     New York                   5   \n",
      "3             2.000000          13  Retired       Remote                   7   \n",
      "4             5.000000          16  Retired     New York                   4   \n",
      "..                 ...         ...      ...          ...                 ...   \n",
      "890           5.000000           3   Active     New York                   1   \n",
      "891           4.000000           9  Retired  Los Angeles                   2   \n",
      "892           2.000000           4   Active       Remote                   2   \n",
      "893           4.500000           3   Active     New York                   1   \n",
      "894           4.500000           3   Active     New York                   1   \n",
      "\n",
      "     Bonus  Normalized Salary Experience Level    Age Group Session  \n",
      "0    564.1           0.454500           Senior       Senior     NaN  \n",
      "1    424.9           0.280020           Senior        Young     NaN  \n",
      "2    305.8           0.130735           Junior       Senior     NaN  \n",
      "3    589.5           0.486337           Senior       Senior     NaN  \n",
      "4    431.7           0.288543           Senior  Middle-aged     NaN  \n",
      "..     ...                ...              ...          ...     ...  \n",
      "890  527.8           0.409000           Junior        Young     NaN  \n",
      "891  543.7           0.428930              Mid       Senior     NaN  \n",
      "892  736.4           0.670469           Junior       Senior     NaN  \n",
      "893  550.0                NaN           Junior        Young     NaN  \n",
      "894  550.0                NaN           Junior          NaN   Night  \n",
      "\n",
      "[895 rows x 17 columns]\n"
     ]
    }
   ],
   "source": [
    "# add a duplicate row\n",
    "new_row = {\n",
    "    'ID': 1001,\n",
    "    'Name': 'Nicole Otieno',\n",
    "    'Age': 28,\n",
    "    'Gender': 'Female',\n",
    "    'Department': 'IT',\n",
    "    'Salary': 5500,\n",
    "    'Joining Date': '2024-12-11',\n",
    "    'Performance Score': 4.5,\n",
    "    'Experience': 3,\n",
    "    'Status': 'Active',\n",
    "    'Location': 'New York',\n",
    "    'Session': 'Night',\n",
    "    'Years With Company': 1,\n",
    "    'Bonus': 550.0,\n",
    "    'Experience Level': 'Junior'\n",
    "}\n",
    "\n",
    "new_row_df = pd.DataFrame([new_row])\n",
    "\n",
    "\n",
    "df = pd.concat([df, new_row_df], ignore_index=True)\n",
    "# To check the last rows after \n",
    "print(df)"
   ]
  },
  {
   "cell_type": "code",
   "execution_count": 33,
   "id": "b258bbe3",
   "metadata": {
    "execution": {
     "iopub.execute_input": "2024-12-23T18:00:52.540937Z",
     "iopub.status.busy": "2024-12-23T18:00:52.540551Z",
     "iopub.status.idle": "2024-12-23T18:00:52.559538Z",
     "shell.execute_reply": "2024-12-23T18:00:52.558110Z"
    },
    "papermill": {
     "duration": 0.037911,
     "end_time": "2024-12-23T18:00:52.563158",
     "exception": false,
     "start_time": "2024-12-23T18:00:52.525247",
     "status": "completed"
    },
    "tags": []
   },
   "outputs": [
    {
     "name": "stdout",
     "output_type": "stream",
     "text": [
      "Duplicate rows:\n",
      "       ID           Name  Age  Gender Department  Salary Joining Date  \\\n",
      "893  1001  Nicole Otieno   28  Female         IT    5500   2024-12-11   \n",
      "894  1001  Nicole Otieno   28  Female         IT    5500   2024-12-11   \n",
      "\n",
      "     Performance Score  Experience  Status  Location  Years With Company  \\\n",
      "893                4.5           3  Active  New York                   1   \n",
      "894                4.5           3  Active  New York                   1   \n",
      "\n",
      "     Bonus  Normalized Salary Experience Level Age Group Session  \n",
      "893  550.0                NaN           Junior     Young     NaN  \n",
      "894  550.0                NaN           Junior       NaN   Night  \n"
     ]
    }
   ],
   "source": [
    "#27 . Identify rows with duplicate Name and Joining Date combinations, and remove duplicates. \n",
    "#a)step 1: identify duplicatees there is a duplicate because I added another row with Nicole, initially it was an empty dataframe.\n",
    "duplicates = df[df.duplicated(subset=['Name', 'Joining Date'], keep=False)]\n",
    "\n",
    "print(\"Duplicate rows:\")\n",
    "print(duplicates)"
   ]
  },
  {
   "cell_type": "code",
   "execution_count": 34,
   "id": "0ace83af",
   "metadata": {
    "execution": {
     "iopub.execute_input": "2024-12-23T18:00:52.591243Z",
     "iopub.status.busy": "2024-12-23T18:00:52.590831Z",
     "iopub.status.idle": "2024-12-23T18:00:52.606691Z",
     "shell.execute_reply": "2024-12-23T18:00:52.605125Z"
    },
    "papermill": {
     "duration": 0.032694,
     "end_time": "2024-12-23T18:00:52.609459",
     "exception": false,
     "start_time": "2024-12-23T18:00:52.576765",
     "status": "completed"
    },
    "tags": []
   },
   "outputs": [
    {
     "name": "stdout",
     "output_type": "stream",
     "text": [
      "       ID                Name  Age  Gender Department  Salary Joining Date  \\\n",
      "0       1        Cory Escobar   48  Female         HR    5641   2015-05-03   \n",
      "1       2     Timothy Sanchez   25   Other      Sales    4249   2020-11-09   \n",
      "2       3        Chad Nichols   57   Other      Sales    3058   2019-02-12   \n",
      "3       4  Christine Williams   58  Female         IT    5895   2017-09-08   \n",
      "4       5        Amber Harris   35   Other         IT    4317   2020-02-15   \n",
      "..    ...                 ...  ...     ...        ...     ...          ...   \n",
      "889   997        Todd Johnson   29  Female      Sales    6754   2018-07-20   \n",
      "890   998     Michael Sanchez   18    Male      Sales    5278   2023-07-05   \n",
      "891   999       Ashley Taylor   51  Female         IT    5437   2022-02-18   \n",
      "892  1000         Shawn Scott   45    Male         IT    7364   2022-07-31   \n",
      "893  1001       Nicole Otieno   28  Female         IT    5500   2024-12-11   \n",
      "\n",
      "     Performance Score  Experience   Status     Location  Years With Company  \\\n",
      "0             2.000000          16   Active       Remote                   9   \n",
      "1             2.000000          11  Retired       Remote                   4   \n",
      "2             3.443615           2  Retired     New York                   5   \n",
      "3             2.000000          13  Retired       Remote                   7   \n",
      "4             5.000000          16  Retired     New York                   4   \n",
      "..                 ...         ...      ...          ...                 ...   \n",
      "889           3.443615          12  Retired     New York                   6   \n",
      "890           5.000000           3   Active     New York                   1   \n",
      "891           4.000000           9  Retired  Los Angeles                   2   \n",
      "892           2.000000           4   Active       Remote                   2   \n",
      "893           4.500000           3   Active     New York                   1   \n",
      "\n",
      "     Bonus  Normalized Salary Experience Level    Age Group Session  \n",
      "0    564.1           0.454500           Senior       Senior     NaN  \n",
      "1    424.9           0.280020           Senior        Young     NaN  \n",
      "2    305.8           0.130735           Junior       Senior     NaN  \n",
      "3    589.5           0.486337           Senior       Senior     NaN  \n",
      "4    431.7           0.288543           Senior  Middle-aged     NaN  \n",
      "..     ...                ...              ...          ...     ...  \n",
      "889  675.4           0.594009           Senior        Young     NaN  \n",
      "890  527.8           0.409000           Junior        Young     NaN  \n",
      "891  543.7           0.428930              Mid       Senior     NaN  \n",
      "892  736.4           0.670469           Junior       Senior     NaN  \n",
      "893  550.0                NaN           Junior        Young     NaN  \n",
      "\n",
      "[894 rows x 17 columns]\n"
     ]
    }
   ],
   "source": [
    "#b)Remove duplicates.\n",
    "df_cleaned = df.drop_duplicates(subset=['Name', 'Joining Date'], keep='first')\n",
    "print(df_cleaned)"
   ]
  },
  {
   "cell_type": "code",
   "execution_count": 35,
   "id": "9af0a6f4",
   "metadata": {
    "execution": {
     "iopub.execute_input": "2024-12-23T18:00:52.636653Z",
     "iopub.status.busy": "2024-12-23T18:00:52.636250Z",
     "iopub.status.idle": "2024-12-23T18:00:52.662915Z",
     "shell.execute_reply": "2024-12-23T18:00:52.660927Z"
    },
    "papermill": {
     "duration": 0.043387,
     "end_time": "2024-12-23T18:00:52.665329",
     "exception": false,
     "start_time": "2024-12-23T18:00:52.621942",
     "status": "completed"
    },
    "tags": []
   },
   "outputs": [
    {
     "name": "stdout",
     "output_type": "stream",
     "text": [
      "      ID                Name  Age  Gender Department  Salary Joining Date  \\\n",
      "1      2     Timothy Sanchez   25   Other      Sales    4249   2020-11-09   \n",
      "12    15  Matthew Collins MD   31  Female      Sales    8568   2020-06-01   \n",
      "20    25       Tracy Carlson   21    Male         HR    9275   2022-04-09   \n",
      "22    27         Austin Long   20  Female         IT    4899   2024-05-01   \n",
      "24    30       Rachel Ramsey   22    Male      Sales    9661   2016-08-18   \n",
      "..   ...                 ...  ...     ...        ...     ...          ...   \n",
      "884  992     William Schultz   23   Other      Sales    4311   2019-08-17   \n",
      "885  993      Ashley Daniels   25   Other      Sales    5524   2022-11-24   \n",
      "887  995     Rachel Phillips   22    Male         IT    3096   2018-10-27   \n",
      "889  997        Todd Johnson   29  Female      Sales    6754   2018-07-20   \n",
      "890  998     Michael Sanchez   18    Male      Sales    5278   2023-07-05   \n",
      "\n",
      "     Performance Score  Experience   Status     Location  Years With Company  \\\n",
      "1             2.000000          11  Retired       Remote                   4   \n",
      "12            3.443615          20  Retired  Los Angeles                   4   \n",
      "20            4.000000          12   Active     New York                   2   \n",
      "22            5.000000           8  Retired      Chicago                   0   \n",
      "24            2.000000          17  Retired       Remote                   8   \n",
      "..                 ...         ...      ...          ...                 ...   \n",
      "884           3.443615          10  Retired  Los Angeles                   5   \n",
      "885           3.443615           8  Retired     New York                   2   \n",
      "887           2.000000           7  Retired       Remote                   6   \n",
      "889           3.443615          12  Retired     New York                   6   \n",
      "890           5.000000           3   Active     New York                   1   \n",
      "\n",
      "     Bonus  Normalized Salary Experience Level    Age Group Session  \n",
      "1    424.9           0.280020           Senior        Young     NaN  \n",
      "12   856.8           0.821384           Senior  Middle-aged     NaN  \n",
      "20   927.5           0.910003           Senior        Young     NaN  \n",
      "22   489.9           0.361494              Mid        Young     NaN  \n",
      "24   966.1           0.958386           Senior        Young     NaN  \n",
      "..     ...                ...              ...          ...     ...  \n",
      "884  431.1           0.287791           Senior        Young     NaN  \n",
      "885  552.4           0.439835              Mid        Young     NaN  \n",
      "887  309.6           0.135498              Mid        Young     NaN  \n",
      "889  675.4           0.594009           Senior        Young     NaN  \n",
      "890  527.8           0.409000           Junior        Young     NaN  \n",
      "\n",
      "[234 rows x 17 columns]\n",
      "       ID                Name  Age  Gender Department  Salary Joining Date  \\\n",
      "0       1        Cory Escobar   48  Female         HR    5641   2015-05-03   \n",
      "2       3        Chad Nichols   57   Other      Sales    3058   2019-02-12   \n",
      "3       4  Christine Williams   58  Female         IT    5895   2017-09-08   \n",
      "4       5        Amber Harris   35   Other         IT    4317   2020-02-15   \n",
      "5       6         Ashley Howe   29  Female         HR    2591   2016-06-24   \n",
      "..    ...                 ...  ...     ...        ...     ...          ...   \n",
      "888   996       Pamela Reeves   49  Female      Sales    7652   2024-06-23   \n",
      "891   999       Ashley Taylor   51  Female         IT    5437   2022-02-18   \n",
      "892  1000         Shawn Scott   45    Male         IT    7364   2022-07-31   \n",
      "893  1001       Nicole Otieno   28  Female         IT    5500   2024-12-11   \n",
      "894  1001       Nicole Otieno   28  Female         IT    5500   2024-12-11   \n",
      "\n",
      "     Performance Score  Experience   Status     Location  Years With Company  \\\n",
      "0             2.000000          16   Active       Remote                   9   \n",
      "2             3.443615           2  Retired     New York                   5   \n",
      "3             2.000000          13  Retired       Remote                   7   \n",
      "4             5.000000          16  Retired     New York                   4   \n",
      "5             1.000000           6   Active       Remote                   8   \n",
      "..                 ...         ...      ...          ...                 ...   \n",
      "888           4.000000           3   Active  Los Angeles                   0   \n",
      "891           4.000000           9  Retired  Los Angeles                   2   \n",
      "892           2.000000           4   Active       Remote                   2   \n",
      "893           4.500000           3   Active     New York                   1   \n",
      "894           4.500000           3   Active     New York                   1   \n",
      "\n",
      "     Bonus  Normalized Salary Experience Level    Age Group Session  \n",
      "0    564.1           0.454500           Senior       Senior     NaN  \n",
      "2    305.8           0.130735           Junior       Senior     NaN  \n",
      "3    589.5           0.486337           Senior       Senior     NaN  \n",
      "4    431.7           0.288543           Senior  Middle-aged     NaN  \n",
      "5    259.1           0.072199              Mid        Young     NaN  \n",
      "..     ...                ...              ...          ...     ...  \n",
      "888  765.2           0.706568           Junior       Senior     NaN  \n",
      "891  543.7           0.428930              Mid       Senior     NaN  \n",
      "892  736.4           0.670469           Junior       Senior     NaN  \n",
      "893  550.0                NaN           Junior        Young     NaN  \n",
      "894  550.0                NaN           Junior          NaN   Night  \n",
      "\n",
      "[661 rows x 17 columns]\n"
     ]
    }
   ],
   "source": [
    "#. Remove rows where the Experience value is inconsistent with the Age (e.g., Experience > Age - 18). \n",
    "#a)find inconsistent rows\n",
    "inconsistent_condition = df['Experience'] > (df['Age'] - 18)\n",
    "inconsistent_rows = df[inconsistent_condition]\n",
    "print(inconsistent_rows)\n",
    "\n",
    "#b)remove inconsistent rows\n",
    "df_cleaned1 = df[~inconsistent_condition] #dataframe excluding inconsistent rows\n",
    "print(df_cleaned1 )\n"
   ]
  },
  {
   "cell_type": "code",
   "execution_count": 36,
   "id": "c516b514",
   "metadata": {
    "execution": {
     "iopub.execute_input": "2024-12-23T18:00:52.691463Z",
     "iopub.status.busy": "2024-12-23T18:00:52.691029Z",
     "iopub.status.idle": "2024-12-23T18:00:52.708821Z",
     "shell.execute_reply": "2024-12-23T18:00:52.707055Z"
    },
    "papermill": {
     "duration": 0.033869,
     "end_time": "2024-12-23T18:00:52.711445",
     "exception": false,
     "start_time": "2024-12-23T18:00:52.677576",
     "status": "completed"
    },
    "tags": []
   },
   "outputs": [
    {
     "name": "stdout",
     "output_type": "stream",
     "text": [
      "      ID                Name  Age  Gender Department  Salary Joining Date  \\\n",
      "721  812        Jesse Miller   52    Male         HR    9993   2020-11-27   \n",
      "471  532  Jeffrey Williamson   54   Other         IT    9988   2015-12-08   \n",
      "882  990       Shannon Meyer   18   Other         HR    9985   2022-11-05   \n",
      "837  938       Gary Mitchell   52  Female      Sales    9963   2016-09-22   \n",
      "811  909       Sara Martinez   34   Other         HR    9951   2024-02-18   \n",
      "..   ...                 ...  ...     ...        ...     ...          ...   \n",
      "379  427      Patricia Scott   52    Male         HR    2041   2022-11-22   \n",
      "786  883      Jaclyn Collins   47    Male         IT    2029   2019-12-05   \n",
      "64    77       Victor Nelson   47  Female      Sales    2025   2015-05-14   \n",
      "420  474        David Potter   56    Male         IT    2016   2020-07-13   \n",
      "809  907   Christina Carlson   42  Female      Sales    2015   2020-05-08   \n",
      "\n",
      "     Performance Score  Experience   Status     Location  Years With Company  \\\n",
      "721           3.443615          12   Active      Chicago                   4   \n",
      "471           5.000000          16  Retired      Chicago                   9   \n",
      "882           4.000000          18   Active      Chicago                   2   \n",
      "837           5.000000          20  Retired  Los Angeles                   8   \n",
      "811           3.443615           6  Retired     New York                   0   \n",
      "..                 ...         ...      ...          ...                 ...   \n",
      "379           1.000000           8  Retired       Remote                   2   \n",
      "786           5.000000          17   Active  Los Angeles                   5   \n",
      "64            1.000000           5   Active       Remote                   9   \n",
      "420           5.000000          18   Active     New York                   4   \n",
      "809           1.000000          14  Retired       Remote                   4   \n",
      "\n",
      "     Bonus  Normalized Salary Experience Level    Age Group Session  \n",
      "721  999.3           1.000000           Senior       Senior     NaN  \n",
      "471  998.8           0.999373           Senior       Senior     NaN  \n",
      "882  998.5           0.998997           Senior        Young     NaN  \n",
      "837  996.3           0.996240           Senior       Senior     NaN  \n",
      "811  995.1           0.994736              Mid  Middle-aged     NaN  \n",
      "..     ...                ...              ...          ...     ...  \n",
      "379  204.1           0.003259              Mid       Senior     NaN  \n",
      "786  202.9           0.001755           Senior       Senior     NaN  \n",
      "64   202.5           0.001253              Mid       Senior     NaN  \n",
      "420  201.6           0.000125           Senior       Senior     NaN  \n",
      "809  201.5           0.000000           Senior  Middle-aged     NaN  \n",
      "\n",
      "[895 rows x 17 columns]\n"
     ]
    }
   ],
   "source": [
    "#29 Sort the DataFrame by Salary in descending order. \n",
    "df_sorted = df.sort_values(by='Salary', ascending=False) # to sort in ascending set ascending to True.\n",
    "print(df_sorted)"
   ]
  },
  {
   "cell_type": "code",
   "execution_count": 37,
   "id": "a420a5c6",
   "metadata": {
    "execution": {
     "iopub.execute_input": "2024-12-23T18:00:52.739243Z",
     "iopub.status.busy": "2024-12-23T18:00:52.738247Z",
     "iopub.status.idle": "2024-12-23T18:00:52.754829Z",
     "shell.execute_reply": "2024-12-23T18:00:52.753390Z"
    },
    "papermill": {
     "duration": 0.033188,
     "end_time": "2024-12-23T18:00:52.757449",
     "exception": false,
     "start_time": "2024-12-23T18:00:52.724261",
     "status": "completed"
    },
    "tags": []
   },
   "outputs": [
    {
     "name": "stdout",
     "output_type": "stream",
     "text": [
      "      ID               Name  Age  Gender Department  Salary Joining Date  \\\n",
      "425  480          Jay Scott   28   Other         HR    5496   2015-01-21   \n",
      "157  181   Sharon Patterson   33    Male         HR    6833   2015-02-04   \n",
      "263  296   Jennifer Nichols   21   Other         HR    4009   2015-02-22   \n",
      "454  515  Taylor Williamson   48    Male         HR    9293   2015-03-10   \n",
      "764  861     Jennifer Smith   23   Other         HR    7176   2015-03-13   \n",
      "..   ...                ...  ...     ...        ...     ...          ...   \n",
      "727  820         Amber Ward   54  Female      Sales    7880   2024-09-19   \n",
      "246  278        Sheryl Gray   22   Other      Sales    4226   2024-10-01   \n",
      "120  142  Matthew Gutierrez   38   Other      Sales    5883   2024-10-22   \n",
      "423  478         Mary Arias   19    Male      Sales    8893   2024-11-14   \n",
      "147  170      George Bowers   24   Other      Sales    6041   2024-12-07   \n",
      "\n",
      "     Performance Score  Experience   Status     Location  Years With Company  \\\n",
      "425           3.443615          18   Active      Chicago                   9   \n",
      "157           3.443615          16   Active     New York                   9   \n",
      "263           2.000000          13  Retired       Remote                   9   \n",
      "454           3.443615          17  Retired      Chicago                   9   \n",
      "764           4.000000           6   Active  Los Angeles                   9   \n",
      "..                 ...         ...      ...          ...                 ...   \n",
      "727           3.000000           6   Active     New York                   0   \n",
      "246           3.443615           8   Active      Chicago                   0   \n",
      "120           4.000000          14  Retired      Chicago                   0   \n",
      "423           3.443615           7   Active      Chicago                   0   \n",
      "147           2.000000           4   Active       Remote                   0   \n",
      "\n",
      "     Bonus  Normalized Salary Experience Level    Age Group Session  \n",
      "425  549.6           0.436325           Senior        Young     NaN  \n",
      "157  683.3           0.603911           Senior  Middle-aged     NaN  \n",
      "263  400.9           0.249937           Senior        Young     NaN  \n",
      "454  929.3           0.912259           Senior       Senior     NaN  \n",
      "764  717.6           0.646904              Mid        Young     NaN  \n",
      "..     ...                ...              ...          ...     ...  \n",
      "727  788.0           0.735147              Mid       Senior     NaN  \n",
      "246  422.6           0.277137              Mid        Young     NaN  \n",
      "120  588.3           0.484833           Senior  Middle-aged     NaN  \n",
      "423  889.3           0.862121              Mid        Young     NaN  \n",
      "147  604.1           0.504638           Junior        Young     NaN  \n",
      "\n",
      "[895 rows x 17 columns]\n"
     ]
    }
   ],
   "source": [
    "#30.  Sort the DataFrame by Department and then by Joining Date in ascending order.\n",
    "\n",
    "df_sorted = df.sort_values(by=['Department', 'Joining Date'], ascending=[True, True])\n",
    "print(df_sorted)"
   ]
  },
  {
   "cell_type": "code",
   "execution_count": 38,
   "id": "a61c87c4",
   "metadata": {
    "execution": {
     "iopub.execute_input": "2024-12-23T18:00:52.785469Z",
     "iopub.status.busy": "2024-12-23T18:00:52.785038Z",
     "iopub.status.idle": "2024-12-23T18:00:52.810117Z",
     "shell.execute_reply": "2024-12-23T18:00:52.808419Z"
    },
    "papermill": {
     "duration": 0.04309,
     "end_time": "2024-12-23T18:00:52.812999",
     "exception": false,
     "start_time": "2024-12-23T18:00:52.769909",
     "status": "completed"
    },
    "tags": []
   },
   "outputs": [
    {
     "name": "stdout",
     "output_type": "stream",
     "text": [
      "       ID                Name  Age  Gender Department  Salary Joining Date  \\\n",
      "0       1        Cory Escobar   48  Female         HR    5641   2015-05-03   \n",
      "1       2     Timothy Sanchez   25   Other      Sales    4249   2020-11-09   \n",
      "2       3        Chad Nichols   57   Other      Sales    3058   2019-02-12   \n",
      "3       4  Christine Williams   58  Female         IT    5895   2017-09-08   \n",
      "4       5        Amber Harris   35   Other         IT    4317   2020-02-15   \n",
      "..    ...                 ...  ...     ...        ...     ...          ...   \n",
      "890   998     Michael Sanchez   18    Male      Sales    5278   2023-07-05   \n",
      "891   999       Ashley Taylor   51  Female         IT    5437   2022-02-18   \n",
      "892  1000         Shawn Scott   45    Male         IT    7364   2022-07-31   \n",
      "893  1001       Nicole Otieno   28  Female         IT    5500   2024-12-11   \n",
      "894  1001       Nicole Otieno   28  Female         IT    5500   2024-12-11   \n",
      "\n",
      "     Performance Score  Experience   Status     Location  Years With Company  \\\n",
      "0             2.000000          16   Active       Remote                   9   \n",
      "1             2.000000          11  Retired       Remote                   4   \n",
      "2             3.443615           2  Retired     New York                   5   \n",
      "3             2.000000          13  Retired       Remote                   7   \n",
      "4             5.000000          16  Retired     New York                   4   \n",
      "..                 ...         ...      ...          ...                 ...   \n",
      "890           5.000000           3   Active     New York                   1   \n",
      "891           4.000000           9  Retired  Los Angeles                   2   \n",
      "892           2.000000           4   Active       Remote                   2   \n",
      "893           4.500000           3   Active     New York                   1   \n",
      "894           4.500000           3   Active     New York                   1   \n",
      "\n",
      "     Bonus  Normalized Salary Experience Level    Age Group Session  \\\n",
      "0    564.1           0.454500           Senior       Senior     NaN   \n",
      "1    424.9           0.280020           Senior        Young     NaN   \n",
      "2    305.8           0.130735           Junior       Senior     NaN   \n",
      "3    589.5           0.486337           Senior       Senior     NaN   \n",
      "4    431.7           0.288543           Senior  Middle-aged     NaN   \n",
      "..     ...                ...              ...          ...     ...   \n",
      "890  527.8           0.409000           Junior        Young     NaN   \n",
      "891  543.7           0.428930              Mid       Senior     NaN   \n",
      "892  736.4           0.670469           Junior       Senior     NaN   \n",
      "893  550.0                NaN           Junior        Young     NaN   \n",
      "894  550.0                NaN           Junior          NaN   Night   \n",
      "\n",
      "     Salary Rank  \n",
      "0          164.0  \n",
      "1          201.0  \n",
      "2          252.0  \n",
      "3          148.0  \n",
      "4          209.0  \n",
      "..           ...  \n",
      "890        159.0  \n",
      "891        167.0  \n",
      "892        108.0  \n",
      "893        161.0  \n",
      "894        161.0  \n",
      "\n",
      "[895 rows x 18 columns]\n"
     ]
    }
   ],
   "source": [
    "# 31. Rank all employees by Salary within their Department and add the rank as a new column.\n",
    "df['Salary Rank'] = df.groupby('Department')['Salary'].rank(ascending=False, method='dense') # dense assigns ranks in a consecutive manner without gaps.\n",
    "print(df)"
   ]
  },
  {
   "cell_type": "code",
   "execution_count": 39,
   "id": "a9a6cd53",
   "metadata": {
    "execution": {
     "iopub.execute_input": "2024-12-23T18:00:52.841679Z",
     "iopub.status.busy": "2024-12-23T18:00:52.840663Z",
     "iopub.status.idle": "2024-12-23T18:00:52.858823Z",
     "shell.execute_reply": "2024-12-23T18:00:52.857567Z"
    },
    "papermill": {
     "duration": 0.035873,
     "end_time": "2024-12-23T18:00:52.862068",
     "exception": false,
     "start_time": "2024-12-23T18:00:52.826195",
     "status": "completed"
    },
    "tags": []
   },
   "outputs": [
    {
     "name": "stdout",
     "output_type": "stream",
     "text": [
      "      ID            Name  Age  Gender Department  Salary Joining Date  \\\n",
      "318  356  Laura Castillo   41    Male         IT    2392   2024-03-15   \n",
      "344  388     Corey Smith   27   Other      Sales    2593   2017-07-27   \n",
      "357  403   Briana Martin   59    Male      Sales    4496   2023-05-22   \n",
      "477  539  Brandon Church   38    Male         HR    8388   2021-08-02   \n",
      "735  829  Michael Snyder   55   Other      Sales    7497   2024-02-03   \n",
      "..   ...             ...  ...     ...        ...     ...          ...   \n",
      "650  733       Jay Evans   21    Male         HR    8147   2022-03-29   \n",
      "709  798   Melanie Casey   44   Other         HR    4713   2017-10-09   \n",
      "715  804   Jacob Aguilar   23    Male         IT    2372   2020-06-01   \n",
      "783  880    Sarah Thomas   54    Male         IT    6185   2016-10-29   \n",
      "880  988  Danielle Brown   31  Female         IT    5605   2024-06-28   \n",
      "\n",
      "     Performance Score  Experience   Status  Location  Years With Company  \\\n",
      "318                1.0          20  Retired    Remote                   0   \n",
      "344                1.0          20   Active    Remote                   7   \n",
      "357                1.0          20  Retired    Remote                   1   \n",
      "477                1.0          20  Retired    Remote                   3   \n",
      "735                1.0          20  Retired    Remote                   0   \n",
      "..                 ...         ...      ...       ...                 ...   \n",
      "650                5.0           2  Retired   Chicago                   2   \n",
      "709                5.0           2   Active  New York                   7   \n",
      "715                5.0           2  Retired   Chicago                   4   \n",
      "783                5.0           2   Active  New York                   8   \n",
      "880                5.0           2   Active   Chicago                   0   \n",
      "\n",
      "     Bonus  Normalized Salary Experience Level    Age Group Session  \\\n",
      "318  239.2           0.047255           Senior  Middle-aged     NaN   \n",
      "344  259.3           0.072449           Senior        Young     NaN   \n",
      "357  449.6           0.310980           Senior       Senior     NaN   \n",
      "477  838.8           0.798822           Senior  Middle-aged     NaN   \n",
      "735  749.7           0.687140           Senior       Senior     NaN   \n",
      "..     ...                ...              ...          ...     ...   \n",
      "650  814.7           0.768614           Junior        Young     NaN   \n",
      "709  471.3           0.338180           Junior  Middle-aged     NaN   \n",
      "715  237.2           0.044748           Junior        Young     NaN   \n",
      "783  618.5           0.522687           Junior       Senior     NaN   \n",
      "880  560.5           0.449987           Junior  Middle-aged     NaN   \n",
      "\n",
      "     Salary Rank  \n",
      "318        284.0  \n",
      "344        269.0  \n",
      "357        192.0  \n",
      "477         44.0  \n",
      "735         90.0  \n",
      "..           ...  \n",
      "650         59.0  \n",
      "709        188.0  \n",
      "715        286.0  \n",
      "783        136.0  \n",
      "880        156.0  \n",
      "\n",
      "[895 rows x 18 columns]\n"
     ]
    }
   ],
   "source": [
    "#32. Sort the dataset by Experience in descending order, but break ties using Performance Score in \n",
    "#ascending order. \n",
    "df_sorted = df.sort_values(by=['Experience', 'Performance Score'], ascending=[False, True])\n",
    "print(df_sorted)"
   ]
  },
  {
   "cell_type": "code",
   "execution_count": 40,
   "id": "60bfc10c",
   "metadata": {
    "execution": {
     "iopub.execute_input": "2024-12-23T18:00:52.890270Z",
     "iopub.status.busy": "2024-12-23T18:00:52.889926Z",
     "iopub.status.idle": "2024-12-23T18:00:52.905525Z",
     "shell.execute_reply": "2024-12-23T18:00:52.904392Z"
    },
    "papermill": {
     "duration": 0.033121,
     "end_time": "2024-12-23T18:00:52.908510",
     "exception": false,
     "start_time": "2024-12-23T18:00:52.875389",
     "status": "completed"
    },
    "tags": []
   },
   "outputs": [
    {
     "name": "stdout",
     "output_type": "stream",
     "text": [
      "      ID               Name  Age  Gender Department  Salary Joining Date  \\\n",
      "0      1       Cory Escobar   48  Female         HR    5641   2015-05-03   \n",
      "7      8       Amanda Baker   52   Other         HR    6285   2015-04-01   \n",
      "10    12  Rodney Richardson   60   Other         HR    6908   2015-03-14   \n",
      "13    17     Jonathan Perez   59    Male         HR    6586   2019-02-19   \n",
      "15    19     Nancy Stephens   38    Male         HR    9061   2017-07-16   \n",
      "..   ...                ...  ...     ...        ...     ...          ...   \n",
      "844  945     Mary Armstrong   29  Female         HR    9402   2017-12-13   \n",
      "852  954       Ruth Osborne   53    Male         HR    5616   2022-07-31   \n",
      "857  959     Morgan Coleman   51  Female         HR    6415   2022-03-20   \n",
      "877  984        David Moody   43    Male         HR    8830   2021-09-10   \n",
      "882  990      Shannon Meyer   18   Other         HR    9985   2022-11-05   \n",
      "\n",
      "     Performance Score  Experience   Status     Location  Years With Company  \\\n",
      "0             2.000000          16   Active       Remote                   9   \n",
      "7             3.443615           8  Retired      Chicago                   9   \n",
      "10            4.000000          19   Active      Chicago                   9   \n",
      "13            3.000000           7  Retired  Los Angeles                   5   \n",
      "15            5.000000          16  Retired      Chicago                   7   \n",
      "..                 ...         ...      ...          ...                 ...   \n",
      "844           3.443615           2   Active     New York                   7   \n",
      "852           4.000000          16   Active  Los Angeles                   2   \n",
      "857           1.000000           8  Retired       Remote                   2   \n",
      "877           3.443615          19  Retired      Chicago                   3   \n",
      "882           4.000000          18   Active      Chicago                   2   \n",
      "\n",
      "     Bonus  Normalized Salary Experience Level    Age Group Session  \\\n",
      "0    564.1           0.454500           Senior       Senior     NaN   \n",
      "7    628.5           0.535222              Mid       Senior     NaN   \n",
      "10   690.8           0.613312           Senior       Senior     NaN   \n",
      "13   658.6           0.572951              Mid       Senior     NaN   \n",
      "15   906.1           0.883179           Senior  Middle-aged     NaN   \n",
      "..     ...                ...              ...          ...     ...   \n",
      "844  940.2           0.925921           Junior        Young     NaN   \n",
      "852  561.6           0.451366           Senior       Senior     NaN   \n",
      "857  641.5           0.551517              Mid       Senior     NaN   \n",
      "877  883.0           0.854224           Senior  Middle-aged     NaN   \n",
      "882  998.5           0.998997           Senior        Young     NaN   \n",
      "\n",
      "     Salary Rank  \n",
      "0          164.0  \n",
      "7          146.0  \n",
      "10         113.0  \n",
      "13         134.0  \n",
      "15          26.0  \n",
      "..           ...  \n",
      "844         14.0  \n",
      "852        165.0  \n",
      "857        142.0  \n",
      "877         33.0  \n",
      "882          2.0  \n",
      "\n",
      "[184 rows x 18 columns]\n"
     ]
    }
   ],
   "source": [
    "#33.  Create a new DataFrame containing only employees in \"HR\" with a Salary above 5000.\n",
    "hr_salary_above= df[(df['Department']=='HR') & (df['Salary']>5000)]\n",
    "print(hr_salary_above)"
   ]
  },
  {
   "cell_type": "code",
   "execution_count": 41,
   "id": "b30606a7",
   "metadata": {
    "execution": {
     "iopub.execute_input": "2024-12-23T18:00:52.938724Z",
     "iopub.status.busy": "2024-12-23T18:00:52.938314Z",
     "iopub.status.idle": "2024-12-23T18:00:52.953845Z",
     "shell.execute_reply": "2024-12-23T18:00:52.952684Z"
    },
    "papermill": {
     "duration": 0.034678,
     "end_time": "2024-12-23T18:00:52.956514",
     "exception": false,
     "start_time": "2024-12-23T18:00:52.921836",
     "status": "completed"
    },
    "tags": []
   },
   "outputs": [
    {
     "name": "stdout",
     "output_type": "stream",
     "text": [
      "       ID                Name  Age  Gender Department  Salary Joining Date  \\\n",
      "0       1        Cory Escobar   48  Female         HR    5641   2015-05-03   \n",
      "1       2     Timothy Sanchez   25   Other      Sales    4249   2020-11-09   \n",
      "2       3        Chad Nichols   57   Other      Sales    3058   2019-02-12   \n",
      "3       4  Christine Williams   58  Female         IT    5895   2017-09-08   \n",
      "4       5        Amber Harris   35   Other         IT    4317   2020-02-15   \n",
      "..    ...                 ...  ...     ...        ...     ...          ...   \n",
      "890   998     Michael Sanchez   18    Male      Sales    5278   2023-07-05   \n",
      "891   999       Ashley Taylor   51  Female         IT    5437   2022-02-18   \n",
      "892  1000         Shawn Scott   45    Male         IT    7364   2022-07-31   \n",
      "893  1001       Nicole Otieno   28  Female         IT    5500   2024-12-11   \n",
      "894  1001       Nicole Otieno   28  Female         IT    5500   2024-12-11   \n",
      "\n",
      "     Performance Score  Experience   Status     Location  Years With Company  \\\n",
      "0             2.000000          16   Active       Remote                   9   \n",
      "1             2.000000          11  Retired       Remote                   4   \n",
      "2             3.443615           2  Retired     New York                   5   \n",
      "3             2.000000          13  Retired       Remote                   7   \n",
      "4             5.000000          16  Retired     New York                   4   \n",
      "..                 ...         ...      ...          ...                 ...   \n",
      "890           5.000000           3   Active     New York                   1   \n",
      "891           4.000000           9  Retired  Los Angeles                   2   \n",
      "892           2.000000           4   Active       Remote                   2   \n",
      "893           4.500000           3   Active     New York                   1   \n",
      "894           4.500000           3   Active     New York                   1   \n",
      "\n",
      "     Bonus  Normalized Salary Experience Level    Age Group Session  \\\n",
      "0    564.1           0.454500           Senior       Senior     NaN   \n",
      "1    424.9           0.280020           Senior        Young     NaN   \n",
      "2    305.8           0.130735           Junior       Senior     NaN   \n",
      "3    589.5           0.486337           Senior       Senior     NaN   \n",
      "4    431.7           0.288543           Senior  Middle-aged     NaN   \n",
      "..     ...                ...              ...          ...     ...   \n",
      "890  527.8           0.409000           Junior        Young     NaN   \n",
      "891  543.7           0.428930              Mid       Senior     NaN   \n",
      "892  736.4           0.670469           Junior       Senior     NaN   \n",
      "893  550.0                NaN           Junior        Young     NaN   \n",
      "894  550.0                NaN           Junior          NaN   Night   \n",
      "\n",
      "     Salary Rank  \n",
      "0          164.0  \n",
      "1          201.0  \n",
      "2          252.0  \n",
      "3          148.0  \n",
      "4          209.0  \n",
      "..           ...  \n",
      "890        159.0  \n",
      "891        167.0  \n",
      "892        108.0  \n",
      "893        161.0  \n",
      "894        161.0  \n",
      "\n",
      "[661 rows x 18 columns]\n"
     ]
    }
   ],
   "source": [
    "#34. . Filter out all rows where the Location is \"Chicago\". \n",
    "df_filtered = df[~df['Location'].isin(['Chicago'])] #negate isin()\n",
    "print(df_filtered)"
   ]
  },
  {
   "cell_type": "code",
   "execution_count": 42,
   "id": "8db36610",
   "metadata": {
    "execution": {
     "iopub.execute_input": "2024-12-23T18:00:52.985155Z",
     "iopub.status.busy": "2024-12-23T18:00:52.984111Z",
     "iopub.status.idle": "2024-12-23T18:00:53.001103Z",
     "shell.execute_reply": "2024-12-23T18:00:52.999829Z"
    },
    "papermill": {
     "duration": 0.034295,
     "end_time": "2024-12-23T18:00:53.004001",
     "exception": false,
     "start_time": "2024-12-23T18:00:52.969706",
     "status": "completed"
    },
    "tags": []
   },
   "outputs": [
    {
     "name": "stdout",
     "output_type": "stream",
     "text": [
      "       ID                Name  Age  Gender Department  Salary Joining Date  \\\n",
      "0       1        Cory Escobar   48  Female         HR    5641   2015-05-03   \n",
      "1       2     Timothy Sanchez   25   Other      Sales    4249   2020-11-09   \n",
      "2       3        Chad Nichols   57   Other      Sales    3058   2019-02-12   \n",
      "3       4  Christine Williams   58  Female         IT    5895   2017-09-08   \n",
      "4       5        Amber Harris   35   Other         IT    4317   2020-02-15   \n",
      "..    ...                 ...  ...     ...        ...     ...          ...   \n",
      "890   998     Michael Sanchez   18    Male      Sales    5278   2023-07-05   \n",
      "891   999       Ashley Taylor   51  Female         IT    5437   2022-02-18   \n",
      "892  1000         Shawn Scott   45    Male         IT    7364   2022-07-31   \n",
      "893  1001       Nicole Otieno   28  Female         IT    5500   2024-12-11   \n",
      "894  1001       Nicole Otieno   28  Female         IT    5500   2024-12-11   \n",
      "\n",
      "     Performance Score  Experience   Status     Location  Years With Company  \\\n",
      "0             2.000000          16   Active       Remote                   9   \n",
      "1             2.000000          11  Retired       Remote                   4   \n",
      "2             3.443615           2  Retired     New York                   5   \n",
      "3             2.000000          13  Retired       Remote                   7   \n",
      "4             5.000000          16  Retired     New York                   4   \n",
      "..                 ...         ...      ...          ...                 ...   \n",
      "890           5.000000           3   Active     New York                   1   \n",
      "891           4.000000           9  Retired  Los Angeles                   2   \n",
      "892           2.000000           4   Active       Remote                   2   \n",
      "893           4.500000           3   Active     New York                   1   \n",
      "894           4.500000           3   Active     New York                   1   \n",
      "\n",
      "     Bonus  Normalized Salary Experience Level    Age Group Session  \\\n",
      "0    564.1           0.454500           Senior       Senior     NaN   \n",
      "1    424.9           0.280020           Senior        Young     NaN   \n",
      "2    305.8           0.130735           Junior       Senior     NaN   \n",
      "3    589.5           0.486337           Senior       Senior     NaN   \n",
      "4    431.7           0.288543           Senior  Middle-aged     NaN   \n",
      "..     ...                ...              ...          ...     ...   \n",
      "890  527.8           0.409000           Junior        Young     NaN   \n",
      "891  543.7           0.428930              Mid       Senior     NaN   \n",
      "892  736.4           0.670469           Junior       Senior     NaN   \n",
      "893  550.0                NaN           Junior        Young     NaN   \n",
      "894  550.0                NaN           Junior          NaN   Night   \n",
      "\n",
      "     Salary Rank  \n",
      "0          164.0  \n",
      "1          201.0  \n",
      "2          252.0  \n",
      "3          148.0  \n",
      "4          209.0  \n",
      "..           ...  \n",
      "890        159.0  \n",
      "891        167.0  \n",
      "892        108.0  \n",
      "893        161.0  \n",
      "894        161.0  \n",
      "\n",
      "[800 rows x 18 columns]\n"
     ]
    }
   ],
   "source": [
    "#35. . Delete all rows where the Performance Score is below 2. \n",
    "df_filtered = df[df['Performance Score'] >= 2]\n",
    "print(df_filtered)"
   ]
  },
  {
   "cell_type": "code",
   "execution_count": 43,
   "id": "9023c699",
   "metadata": {
    "execution": {
     "iopub.execute_input": "2024-12-23T18:00:53.032185Z",
     "iopub.status.busy": "2024-12-23T18:00:53.031790Z",
     "iopub.status.idle": "2024-12-23T18:00:53.041908Z",
     "shell.execute_reply": "2024-12-23T18:00:53.040669Z"
    },
    "papermill": {
     "duration": 0.027308,
     "end_time": "2024-12-23T18:00:53.044378",
     "exception": false,
     "start_time": "2024-12-23T18:00:53.017070",
     "status": "completed"
    },
    "tags": []
   },
   "outputs": [
    {
     "name": "stdout",
     "output_type": "stream",
     "text": [
      "Department\n",
      "HR       5979.931507\n",
      "IT       5970.266234\n",
      "Sales    5820.688136\n",
      "Name: Salary, dtype: float64\n"
     ]
    }
   ],
   "source": [
    "#36.  Find the average Salary for each Department.\n",
    "df_average_by_dept= df.groupby('Department')['Salary'].mean()\n",
    "print(df_average_by_dept)"
   ]
  },
  {
   "cell_type": "code",
   "execution_count": 44,
   "id": "11f0410d",
   "metadata": {
    "execution": {
     "iopub.execute_input": "2024-12-23T18:00:53.074050Z",
     "iopub.status.busy": "2024-12-23T18:00:53.072941Z",
     "iopub.status.idle": "2024-12-23T18:00:53.085255Z",
     "shell.execute_reply": "2024-12-23T18:00:53.083831Z"
    },
    "papermill": {
     "duration": 0.029435,
     "end_time": "2024-12-23T18:00:53.087816",
     "exception": false,
     "start_time": "2024-12-23T18:00:53.058381",
     "status": "completed"
    },
    "tags": []
   },
   "outputs": [
    {
     "name": "stdout",
     "output_type": "stream",
     "text": [
      "Status\n",
      "Active     2578104\n",
      "Retired    2723981\n",
      "Name: Salary, dtype: int64\n"
     ]
    }
   ],
   "source": [
    "#37.  Calculate the total Salary of all employees grouped by Status. \n",
    "df_total_salary_by_status = df.groupby('Status')['Salary'].sum()\n",
    "print(df_total_salary_by_status)\n"
   ]
  },
  {
   "cell_type": "code",
   "execution_count": 45,
   "id": "7890d2e5",
   "metadata": {
    "execution": {
     "iopub.execute_input": "2024-12-23T18:00:53.119097Z",
     "iopub.status.busy": "2024-12-23T18:00:53.118716Z",
     "iopub.status.idle": "2024-12-23T18:00:53.130600Z",
     "shell.execute_reply": "2024-12-23T18:00:53.129106Z"
    },
    "papermill": {
     "duration": 0.031715,
     "end_time": "2024-12-23T18:00:53.133406",
     "exception": false,
     "start_time": "2024-12-23T18:00:53.101691",
     "status": "completed"
    },
    "tags": []
   },
   "outputs": [
    {
     "name": "stdout",
     "output_type": "stream",
     "text": [
      "Location\n",
      "Chicago        5.0\n",
      "Los Angeles    5.0\n",
      "New York       5.0\n",
      "Remote         2.0\n",
      "Name: Performance Score, dtype: float64\n"
     ]
    }
   ],
   "source": [
    "#38.  Find the maximum Performance Score for employees in each Location. \n",
    "df_maximum_by_location = df.groupby('Location')['Performance Score'].max()\n",
    "print(df_maximum_by_location)"
   ]
  },
  {
   "cell_type": "code",
   "execution_count": 46,
   "id": "f381327f",
   "metadata": {
    "execution": {
     "iopub.execute_input": "2024-12-23T18:00:53.164178Z",
     "iopub.status.busy": "2024-12-23T18:00:53.163143Z",
     "iopub.status.idle": "2024-12-23T18:00:53.173715Z",
     "shell.execute_reply": "2024-12-23T18:00:53.172496Z"
    },
    "papermill": {
     "duration": 0.028797,
     "end_time": "2024-12-23T18:00:53.176469",
     "exception": false,
     "start_time": "2024-12-23T18:00:53.147672",
     "status": "completed"
    },
    "tags": []
   },
   "outputs": [
    {
     "name": "stdout",
     "output_type": "stream",
     "text": [
      "Joining Year\n",
      "2014     22480\n",
      "2015    427283\n",
      "2016    585839\n",
      "2017    496484\n",
      "2018    548329\n",
      "2019    511319\n",
      "2020    584179\n",
      "2021    597338\n",
      "2022    461868\n",
      "2023    574651\n",
      "2024    492315\n",
      "Name: Salary, dtype: int64\n"
     ]
    }
   ],
   "source": [
    "#39. . Calculate the total Salary paid to employees who joined in each year. \n",
    "#find the year of joining\n",
    "#convert joining date to datetime , in form of year, month then day\n",
    "df['Joining Date'] = pd.to_datetime(df['Joining Date'])\n",
    "df['Joining Year'] = df['Joining Date'].dt.year\n",
    "df_tt_salarypaid= df.groupby('Joining Year')['Salary'].sum()\n",
    "print(df_tt_salarypaid)"
   ]
  }
 ],
 "metadata": {
  "kaggle": {
   "accelerator": "none",
   "dataSources": [
    {
     "datasetId": 6273583,
     "sourceId": 10160144,
     "sourceType": "datasetVersion"
    }
   ],
   "dockerImageVersionId": 30804,
   "isGpuEnabled": false,
   "isInternetEnabled": false,
   "language": "python",
   "sourceType": "notebook"
  },
  "kernelspec": {
   "display_name": "Python 3",
   "language": "python",
   "name": "python3"
  },
  "language_info": {
   "codemirror_mode": {
    "name": "ipython",
    "version": 3
   },
   "file_extension": ".py",
   "mimetype": "text/x-python",
   "name": "python",
   "nbconvert_exporter": "python",
   "pygments_lexer": "ipython3",
   "version": "3.10.14"
  },
  "papermill": {
   "default_parameters": {},
   "duration": 7.390672,
   "end_time": "2024-12-23T18:00:53.712518",
   "environment_variables": {},
   "exception": null,
   "input_path": "__notebook__.ipynb",
   "output_path": "__notebook__.ipynb",
   "parameters": {},
   "start_time": "2024-12-23T18:00:46.321846",
   "version": "2.6.0"
  }
 },
 "nbformat": 4,
 "nbformat_minor": 5
}
